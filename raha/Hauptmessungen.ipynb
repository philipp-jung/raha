{
 "cells": [
  {
   "cell_type": "markdown",
   "metadata": {},
   "source": [
    "# Baran Experiment"
   ]
  },
  {
   "cell_type": "code",
   "execution_count": 1,
   "metadata": {},
   "outputs": [],
   "source": [
    "%load_ext autoreload\n",
    "%autoreload 2"
   ]
  },
  {
   "cell_type": "code",
   "execution_count": 2,
   "metadata": {},
   "outputs": [],
   "source": [
    "import pandas\n",
    "import IPython.display\n",
    "\n",
    "import raha\n",
    "import datetime\n",
    "from ruska import Ruska"
   ]
  },
  {
   "cell_type": "code",
   "execution_count": 3,
   "metadata": {},
   "outputs": [],
   "source": [
    "def run_baran(c: dict):\n",
    "    rate_formatted = str(c['error_fraction']).split('.')[1]\n",
    "    data_dict = {\"name\": c['dataset'],\n",
    "                 \"path\": f\"../datasets/{c['dataset']}/{c['sampling']}/dirty_{rate_formatted}.csv\",\n",
    "                 \"clean_path\": f\"../datasets/{c['dataset']}/clean.csv\"}\n",
    "\n",
    "    data = raha.Dataset(data_dict, n_rows=c['n_rows'])\n",
    "    data.detected_cells = dict(data.get_actual_errors_dictionary())\n",
    "    app = raha.Correction()\n",
    "    app.LABELING_BUDGET = c['labeling_budget']\n",
    "    app.VERBOSE = False\n",
    "    app.FEATURE_GENERATORS = c['feature_generators']\n",
    "    app.CLASSIFICATION_MODEL = c['classification_model']\n",
    "    app.VICINITY_ORDERS = c['vicinity_orders']\n",
    "    app.VICINITY_FEATURE_GENERATOR = c['vicinity_feature_generator']\n",
    "    app.N_BEST_PDEPS = c['n_best_pdeps']\n",
    "    app.PDEP_SCORE_STRATEGY = c['score_strategy']\n",
    "\n",
    "    d = app.initialize_dataset(data)\n",
    "    app.initialize_models(d)\n",
    "    while len(d.labeled_tuples) < app.LABELING_BUDGET:\n",
    "        app.sample_tuple(d, random_seed=None)\n",
    "        app.label_with_ground_truth(d)\n",
    "        app.update_models(d)\n",
    "        app.generate_features(d, synchronous=True)\n",
    "        app.predict_corrections(d, random_seed=None)\n",
    "\n",
    "        p, r, f = d.get_data_cleaning_evaluation(d.corrected_cells)[-3:]\n",
    "    return {'result': {'precision': p, 'recall': r, 'f1': f,},\n",
    "            'config': c}"
   ]
  },
  {
   "cell_type": "code",
   "execution_count": 6,
   "metadata": {},
   "outputs": [],
   "source": [
    "rsk = Ruska(name='20220610-breast-cancer-parallel',\n",
    "             description='''A test if parallel computation works.''',\n",
    "             commit='test',\n",
    "             config={'dataset': 'breast-cancer',\n",
    "                     'sampling': 'MCAR',\n",
    "                     'error_fraction': .1,\n",
    "                     'labeling_budget': 20,\n",
    "                     'feature_generators': ['value', 'domain', 'vicinity'],\n",
    "                     'classification_model': 'ABC',\n",
    "                     'vicinity_orders': [1, 2],\n",
    "                     'vicinity_feature_generator': 'pdep',\n",
    "                     'n_best_pdeps': 5,\n",
    "                     'score_strategy': 'multiply',\n",
    "                     'n_rows': None,\n",
    "                     },\n",
    "             ranges={\n",
    "                     'error_fraction': [.1, .2, .3, .4, .5, .6, .7, .8, .9, .99],\n",
    "                     },\n",
    "             runs=3,\n",
    "             save_path='/Users/philipp/code/experimente/2022W23-parallel-ruska'\n",
    "            )"
   ]
  },
  {
   "cell_type": "code",
   "execution_count": 7,
   "metadata": {},
   "outputs": [
    {
     "name": "stdout",
     "output_type": "stream",
     "text": [
      "Measurement finished\n"
     ]
    }
   ],
   "source": [
    "rsk.run(experiment=run_baran, parallel=True)"
   ]
  },
  {
   "cell_type": "code",
   "execution_count": 4,
   "metadata": {},
   "outputs": [],
   "source": [
    "rsk_naive = Ruska(name='20220610-breast-cancer-naive-parallel',\n",
    "             description='''A test if parallel computation works.''',\n",
    "             commit='test',\n",
    "             config={'dataset': 'breast-cancer',\n",
    "                     'sampling': 'MCAR',\n",
    "                     'error_fraction': .1,\n",
    "                     'labeling_budget': 20,\n",
    "                     'feature_generators': ['value', 'domain', 'vicinity'],\n",
    "                     'classification_model': 'ABC',\n",
    "                     'vicinity_orders': [1],\n",
    "                     'vicinity_feature_generator': 'naive',\n",
    "                     'n_best_pdeps': 5,\n",
    "                     'score_strategy': 'multiply',\n",
    "                      'n_rows': None,\n",
    "                     },\n",
    "             ranges={\n",
    "                     'error_fraction': [.1, .2, .3, .4, .5, .6, .7, .8, .9, .99],\n",
    "                     },\n",
    "             runs=3,\n",
    "             save_path='/Users/philipp/code/experimente/2022W23-parallel-ruska'\n",
    "            )"
   ]
  },
  {
   "cell_type": "code",
   "execution_count": 5,
   "metadata": {
    "tags": []
   },
   "outputs": [
    {
     "name": "stdout",
     "output_type": "stream",
     "text": [
      "Measurement finished\n"
     ]
    }
   ],
   "source": [
    "rsk_naive.run(experiment=run_baran, parallel=True)"
   ]
  }
 ],
 "metadata": {
  "kernelspec": {
   "display_name": "Python 3 (ipykernel)",
   "language": "python",
   "name": "python3"
  },
  "language_info": {
   "codemirror_mode": {
    "name": "ipython",
    "version": 3
   },
   "file_extension": ".py",
   "mimetype": "text/x-python",
   "name": "python",
   "nbconvert_exporter": "python",
   "pygments_lexer": "ipython3",
   "version": "3.7.10"
  }
 },
 "nbformat": 4,
 "nbformat_minor": 4
}
