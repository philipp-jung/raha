{
 "cells": [
  {
   "cell_type": "markdown",
   "metadata": {},
   "source": [
    "# Baran Experiment"
   ]
  },
  {
   "cell_type": "code",
   "execution_count": 1,
   "metadata": {},
   "outputs": [],
   "source": [
    "%load_ext autoreload\n",
    "%autoreload 2"
   ]
  },
  {
   "cell_type": "code",
   "execution_count": 2,
   "metadata": {},
   "outputs": [],
   "source": [
    "import pandas\n",
    "import IPython.display\n",
    "\n",
    "import raha\n",
    "import datetime\n",
    "from ruska import Ruska"
   ]
  },
  {
   "cell_type": "code",
   "execution_count": 3,
   "metadata": {},
   "outputs": [],
   "source": [
    "def run_baran(dataset, sampling, error_fraction, labeling_budget, feature_generators, classification_model, vicinity_orders, vicinity_feature_generator, n_best_pdeps, score_strategy, run):\n",
    "    rate_formatted = str(error_fraction).split('.')[1]\n",
    "    data_dict = {\"name\": dataset,\n",
    "                 \"path\": f\"../datasets/{dataset}/{sampling}/dirty_{rate_formatted}.csv\",\n",
    "                 \"clean_path\": f\"../datasets/{dataset}/clean.csv\"}\n",
    "\n",
    "    data = raha.Dataset(data_dict)\n",
    "    data.detected_cells = dict(data.get_actual_errors_dictionary())\n",
    "    app = raha.Correction()\n",
    "    app.LABELING_BUDGET = labeling_budget\n",
    "    app.VERBOSE = False\n",
    "    app.FEATURE_GENERATORS = feature_generators\n",
    "    app.CLASSIFICATION_MODEL = classification_model\n",
    "    app.VICINITY_ORDERS = vicinity_orders\n",
    "    app.VICINITY_FEATURE_GENERATOR = vicinity_feature_generator\n",
    "    app.N_BEST_PDEPS = n_best_pdeps\n",
    "    app.PDEP_SCORE_STRATEGY = score_strategy\n",
    "\n",
    "    d = app.initialize_dataset(data)\n",
    "    app.initialize_models(d)\n",
    "    while len(d.labeled_tuples) < app.LABELING_BUDGET:\n",
    "        app.sample_tuple(d, random_seed=None)\n",
    "        app.label_with_ground_truth(d)\n",
    "        app.update_models(d)\n",
    "        app.generate_features(d, synchronous=True)\n",
    "        app.predict_corrections(d, random_seed=None)\n",
    "\n",
    "        p, r, f = d.get_data_cleaning_evaluation(d.corrected_cells)[-3:]\n",
    "    return {'precision': p, 'recall': r, 'f1': f}"
   ]
  },
  {
   "cell_type": "code",
   "execution_count": 3,
   "metadata": {},
   "outputs": [],
   "source": [
    "rsk = Ruska(name='2022-06-03-nursery-more-errors',\n",
    "             description='''Ich wiederhole die Messung auf dem Datensatz mit\n",
    "             einer größeren Reihe an Fehlerraten.''',\n",
    "             commit='496289e5d86d213786d60f66dda3230b2e8b4d90',\n",
    "             config={'dataset': 'nursery',\n",
    "                     'sampling': 'MCAR',\n",
    "                     'error_fraction': .1,\n",
    "                     'labeling_budget': 20,\n",
    "                     'feature_generators': ['value', 'domain', 'vicinity'],\n",
    "                     'classification_model': 'ABC',\n",
    "                     'vicinity_orders': [1, 2],\n",
    "                     'vicinity_feature_generator': 'pdep',\n",
    "                     'n_best_pdeps': 5,\n",
    "                     'score_strategy': 'multiply',\n",
    "                     },\n",
    "             ranges={\n",
    "                     'error_fraction': [.1, .2, .3, .4, .5, .6, .7, .8, .9, .99],\n",
    "                     },\n",
    "             runs=3,\n",
    "             save_path='/Users/philipp/code/experimente/2022W22-Konsolidierung/'\n",
    "            )"
   ]
  },
  {
   "cell_type": "code",
   "execution_count": 5,
   "metadata": {
    "tags": []
   },
   "outputs": [
    {
     "name": "stdout",
     "output_type": "stream",
     "text": [
      "Run 1/30. 1m 3s per run, estimate 29m 46s to finish\n",
      "Run 2/30. 1m 2s per run, estimate 27m 55s to finish\n",
      "Run 3/30. 1m 0s per run, estimate 26m 22s to finish\n",
      "Run 4/30. 1m 4s per run, estimate 26m 51s to finish\n",
      "Run 5/30. 1m 6s per run, estimate 26m 31s to finish\n",
      "Run 6/30. 1m 6s per run, estimate 25m 38s to finish\n",
      "Run 7/30. 1m 4s per run, estimate 23m 33s to finish\n",
      "Run 8/30. 1m 2s per run, estimate 21m 55s to finish\n",
      "Run 9/30. 1m 1s per run, estimate 20m 28s to finish\n",
      "Run 10/30. 1m 4s per run, estimate 20m 17s to finish\n",
      "Run 11/30. 1m 6s per run, estimate 19m 50s to finish\n",
      "Run 12/30. 1m 7s per run, estimate 19m 11s to finish\n",
      "Run 13/30. 1m 9s per run, estimate 18m 37s to finish\n",
      "Run 14/30. 1m 11s per run, estimate 17m 57s to finish\n",
      "Run 15/30. 1m 13s per run, estimate 17m 13s to finish\n",
      "Run 16/30. 1m 14s per run, estimate 16m 10s to finish\n",
      "Run 17/30. 1m 15s per run, estimate 15m 6s to finish\n",
      "Run 18/30. 1m 16s per run, estimate 13m 59s to finish\n",
      "Run 19/30. 1m 17s per run, estimate 12m 51s to finish\n",
      "Run 20/30. 1m 17s per run, estimate 11m 41s to finish\n",
      "Run 21/30. 1m 18s per run, estimate 10m 28s to finish\n",
      "Run 22/30. 1m 21s per run, estimate 9m 28s to finish\n",
      "Run 23/30. 1m 23s per run, estimate 8m 20s to finish\n",
      "Run 24/30. 1m 25s per run, estimate 7m 7s to finish\n",
      "Run 25/30. 1m 25s per run, estimate 5m 40s to finish\n",
      "Run 26/30. 1m 24s per run, estimate 4m 14s to finish\n",
      "Run 27/30. 1m 24s per run, estimate 2m 49s to finish\n",
      "Run 28/30. 1m 26s per run, estimate 1m 26s to finish\n",
      "Run 29/30. 1m 28s per run, estimate 0s to finish\n",
      "Run 30/30. 1m 30s per run, estimate 58m 29s to finish\n",
      "Measurement finished\n"
     ]
    }
   ],
   "source": [
    "rsk.run(experiment=run_baran)"
   ]
  },
  {
   "cell_type": "markdown",
   "metadata": {},
   "source": [
    "# ruska naive"
   ]
  },
  {
   "cell_type": "code",
   "execution_count": 4,
   "metadata": {},
   "outputs": [],
   "source": [
    "rsk_naive = Ruska(name='2022-06-03-nursery-more-errors-naive',\n",
    "             description='''Ich wiederhole die Messung auf dem Datensatz mit\n",
    "             einer größeren Reihe an Fehlerraten.''',\n",
    "             commit='496289e5d86d213786d60f66dda3230b2e8b4d90',\n",
    "             config={'dataset': 'nursery',\n",
    "                     'sampling': 'MCAR',\n",
    "                     'error_fraction': .1,\n",
    "                     'labeling_budget': 20,\n",
    "                     'feature_generators': ['value', 'domain', 'vicinity'],\n",
    "                     'classification_model': 'ABC',\n",
    "                     'vicinity_orders': [1],\n",
    "                     'vicinity_feature_generator': 'naive',\n",
    "                     'n_best_pdeps': 5,\n",
    "                     'score_strategy': 'multiply',\n",
    "                     },\n",
    "             ranges={\n",
    "                     'error_fraction': [.1, .2, .3, .4, .5, .6, .7, .8, .9, .99],\n",
    "                     },\n",
    "             runs=3,\n",
    "             save_path='/Users/philipp/code/experimente/2022W22-Konsolidierung/'\n",
    "            )"
   ]
  },
  {
   "cell_type": "code",
   "execution_count": 5,
   "metadata": {},
   "outputs": [
    {
     "name": "stdout",
     "output_type": "stream",
     "text": [
      "Run 1/30. 12s per run, estimate 5m 37s to finish\n",
      "Run 2/30. 11s per run, estimate 5m 16s to finish\n",
      "Run 3/30. 11s per run, estimate 5m 3s to finish\n",
      "Run 4/30. 13s per run, estimate 5m 48s to finish\n",
      "Run 5/30. 15s per run, estimate 6m 11s to finish\n",
      "Run 6/30. 16s per run, estimate 6m 21s to finish\n",
      "Run 7/30. 14s per run, estimate 5m 19s to finish\n",
      "Run 8/30. 12s per run, estimate 4m 31s to finish\n",
      "Run 9/30. 11s per run, estimate 3m 54s to finish\n",
      "Run 10/30. 14s per run, estimate 4m 29s to finish\n",
      "Run 11/30. 16s per run, estimate 4m 49s to finish\n",
      "Run 12/30. 17s per run, estimate 5m 1s to finish\n",
      "Run 13/30. 19s per run, estimate 5m 17s to finish\n",
      "Run 14/30. 21s per run, estimate 5m 29s to finish\n",
      "Run 15/30. 23s per run, estimate 5m 30s to finish\n",
      "Run 16/30. 24s per run, estimate 5m 21s to finish\n",
      "Run 17/30. 25s per run, estimate 5m 9s to finish\n",
      "Run 18/30. 26s per run, estimate 4m 52s to finish\n",
      "Run 19/30. 27s per run, estimate 4m 35s to finish\n",
      "Run 20/30. 28s per run, estimate 4m 16s to finish\n",
      "Run 21/30. 29s per run, estimate 3m 53s to finish\n",
      "Run 22/30. 31s per run, estimate 3m 40s to finish\n",
      "Run 23/30. 33s per run, estimate 3m 22s to finish\n",
      "Run 24/30. 35s per run, estimate 2m 58s to finish\n",
      "Run 25/30. 35s per run, estimate 2m 21s to finish\n",
      "Run 26/30. 35s per run, estimate 1m 45s to finish\n",
      "Run 27/30. 34s per run, estimate 1m 9s to finish\n",
      "Run 28/30. 36s per run, estimate 36s to finish\n",
      "Run 29/30. 38s per run, estimate 0s to finish\n",
      "Run 30/30. 40s per run, estimate 59m 19s to finish\n",
      "Measurement finished\n"
     ]
    }
   ],
   "source": [
    "rsk_naive.run(experiment=run_baran)"
   ]
  }
 ],
 "metadata": {
  "kernelspec": {
   "display_name": "Python 3 (ipykernel)",
   "language": "python",
   "name": "python3"
  },
  "language_info": {
   "codemirror_mode": {
    "name": "ipython",
    "version": 3
   },
   "file_extension": ".py",
   "mimetype": "text/x-python",
   "name": "python",
   "nbconvert_exporter": "python",
   "pygments_lexer": "ipython3",
   "version": "3.7.10"
  }
 },
 "nbformat": 4,
 "nbformat_minor": 4
}
