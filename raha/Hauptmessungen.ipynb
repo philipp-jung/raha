{
 "cells": [
  {
   "cell_type": "markdown",
   "metadata": {},
   "source": [
    "# Baran Experiment"
   ]
  },
  {
   "cell_type": "code",
   "execution_count": 1,
   "metadata": {},
   "outputs": [],
   "source": [
    "%load_ext autoreload\n",
    "%autoreload 2"
   ]
  },
  {
   "cell_type": "code",
   "execution_count": 11,
   "metadata": {},
   "outputs": [],
   "source": [
    "import pandas\n",
    "import IPython.display\n",
    "\n",
    "import raha\n",
    "import datetime\n",
    "from ruska import Ruska"
   ]
  },
  {
   "cell_type": "code",
   "execution_count": 14,
   "metadata": {},
   "outputs": [
    {
     "ename": "TypeError",
     "evalue": "__init__() missing 7 required positional arguments: 'name', 'description', 'commit', 'config', 'ranges', 'runs', and 'save_path'",
     "output_type": "error",
     "traceback": [
      "\u001b[0;31m---------------------------------------------------------------------------\u001b[0m",
      "\u001b[0;31mTypeError\u001b[0m                                 Traceback (most recent call last)",
      "\u001b[0;32m/var/folders/hf/v_gw8jb14hl89x0x8g88y9pr0000gn/T/ipykernel_48035/4068951571.py\u001b[0m in \u001b[0;36m<module>\u001b[0;34m\u001b[0m\n\u001b[0;32m----> 1\u001b[0;31m \u001b[0mrksa\u001b[0m \u001b[0;34m=\u001b[0m \u001b[0mRuska\u001b[0m\u001b[0;34m(\u001b[0m\u001b[0;34m)\u001b[0m\u001b[0;34m\u001b[0m\u001b[0;34m\u001b[0m\u001b[0m\n\u001b[0m",
      "\u001b[0;31mTypeError\u001b[0m: __init__() missing 7 required positional arguments: 'name', 'description', 'commit', 'config', 'ranges', 'runs', and 'save_path'"
     ]
    }
   ],
   "source": [
    "rksa = Ruska(name='2022-05-30-adult-jenga-diligent',\n",
    "             description='''In der letzten Messung auf dem Letter-Datensatz hat sich abgezeichnet, dass MCAR\n",
    "             auf einem Datensatz mit komplexen FDs zu besseren Cleaning-Ergebnissen führt, als die naive Strategie.\n",
    "             Das möchte ich in dieser Messung bestätigen.''',\n",
    "             commit=)"
   ]
  },
  {
   "cell_type": "code",
   "execution_count": 3,
   "metadata": {
    "tags": []
   },
   "outputs": [],
   "source": [
    "def format_delta(delta: datetime.timedelta):\n",
    "    hours, remainder = divmod(delta.total_seconds(), 3600)\n",
    "    minutes, seconds = divmod(remainder, 60)\n",
    "    \n",
    "    h = f'{int(hours)}h ' if hours > 0 else ''\n",
    "    m = f'{int(minutes)}m ' if minutes > 0 else ''\n",
    "    s = f'{int(seconds)}s'\n",
    "    \n",
    "    return h+m+s\n",
    "\n",
    "def estimate_time_to_finish(times: list, current_run_i: int, total_runs: int):\n",
    "    deltas = []\n",
    "    i = 1\n",
    "    \n",
    "    while i+1 <= len(times):\n",
    "        deltas.append(times[i] - times[i-1])\n",
    "        i += 1\n",
    "        \n",
    "    avg = sum(deltas, datetime.timedelta())/len(deltas)\n",
    "    return f'Run {current_run_i}/{total_runs}. {format_delta(avg)} per run, estimate {format_delta(avg*(total_runs - current_run_i))} to finish'"
   ]
  },
  {
   "cell_type": "code",
   "execution_count": 7,
   "metadata": {
    "tags": []
   },
   "outputs": [
    {
     "name": "stdout",
     "output_type": "stream",
     "text": [
      "Run 1/27. 2m 1s per run, estimate 52m 44s to finish\n",
      "Run 2/27. 2m 1s per run, estimate 50m 31s to finish\n",
      "Run 3/27. 2m 1s per run, estimate 48m 38s to finish\n",
      "Run 4/27. 2m 6s per run, estimate 48m 40s to finish\n",
      "Run 5/27. 2m 9s per run, estimate 47m 37s to finish\n",
      "Run 6/27. 2m 11s per run, estimate 46m 9s to finish\n",
      "Run 7/27. 2m 22s per run, estimate 47m 26s to finish\n",
      "Run 8/27. 2m 30s per run, estimate 47m 34s to finish\n",
      "Run 9/27. 6m 50s per run, estimate 2h 3m 13s to finish\n",
      "Run 10/27. 6m 27s per run, estimate 1h 49m 53s to finish\n",
      "Run 11/27. 6m 8s per run, estimate 1h 38m 19s to finish\n",
      "Run 12/27. 5m 52s per run, estimate 1h 28m 9s to finish\n",
      "Run 13/27. 5m 44s per run, estimate 1h 20m 27s to finish\n",
      "Run 14/27. 5m 38s per run, estimate 1h 13m 15s to finish\n",
      "Run 15/27. 5m 32s per run, estimate 1h 6m 28s to finish\n",
      "Run 16/27. 5m 30s per run, estimate 1h 34s to finish\n",
      "Run 17/27. 5m 24s per run, estimate 54m 0s to finish\n",
      "Run 18/27. 5m 18s per run, estimate 47m 43s to finish\n",
      "Run 19/27. 5m 6s per run, estimate 40m 54s to finish\n",
      "Run 20/27. 4m 56s per run, estimate 34m 33s to finish\n",
      "Run 21/27. 4m 46s per run, estimate 28m 40s to finish\n",
      "Run 22/27. 4m 41s per run, estimate 23m 29s to finish\n",
      "Run 23/27. 4m 37s per run, estimate 18m 31s to finish\n",
      "Run 24/27. 4m 33s per run, estimate 13m 40s to finish\n",
      "Run 25/27. 4m 30s per run, estimate 9m 1s to finish\n",
      "Run 26/27. 4m 28s per run, estimate 4m 28s to finish\n",
      "Run 27/27. 4m 25s per run, estimate 0s to finish\n"
     ]
    }
   ],
   "source": [
    "results = []\n",
    "\n",
    "samplings = ['MCAR', 'MAR', 'MNAR']\n",
    "error_fractions = [.03, .05, .1, .2 .3, .4, .5]\n",
    "runs = range(3)\n",
    "\n",
    "duration_experiment = len(runs) * len(samplings) * len(error_fractions)\n",
    "times = [datetime.datetime.now()]\n",
    "i = 1\n",
    "\n",
    "dataset = 'letter'\n",
    "score_strategy = 'multiply'\n",
    "\n",
    "for sampling in samplings:\n",
    "    for error_fraction in error_fractions:\n",
    "        for run in range(3):\n",
    "            rate_formatted = str(error_fraction).split('.')[1]\n",
    "            data_dict = {\"name\": dataset,\n",
    "                         \"path\": f\"../datasets/{dataset}/{sampling}/dirty_{rate_formatted}.csv\",\n",
    "                         \"clean_path\": f\"../datasets/{dataset}/clean.csv\"}\n",
    "\n",
    "            data = raha.Dataset(data_dict)\n",
    "            data.detected_cells = dict(data.get_actual_errors_dictionary())\n",
    "            app = raha.Correction()\n",
    "            app.LABELING_BUDGET = 20\n",
    "            app.VERBOSE = False\n",
    "            app.FEATURE_GENERATORS = ['domain', 'value', 'vicinity']\n",
    "            app.CLASSIFICATION_MODEL = \"ABC\"\n",
    "            app.VICINITY_ORDERS = [1]\n",
    "            app.VICINITY_FEATURE_GENERATOR = 'naive'\n",
    "            app.N_BEST_PDEPS = 5\n",
    "            app.PDEP_SCORE_STRATEGY = score_strategy\n",
    "\n",
    "            d = app.initialize_dataset(data)\n",
    "            app.initialize_models(d)\n",
    "            while len(d.labeled_tuples) < app.LABELING_BUDGET:\n",
    "                app.sample_tuple(d, random_seed=None)\n",
    "                app.label_with_ground_truth(d)\n",
    "                app.update_models(d)\n",
    "                app.generate_features(d, synchronous=True)\n",
    "                app.predict_corrections(d, random_seed=None)\n",
    "\n",
    "                p, r, f = d.get_data_cleaning_evaluation(d.corrected_cells)[-3:]\n",
    "            result = {'dataset': dataset,\n",
    "                      'run': run,\n",
    "                      'sampling_strategy': sampling,\n",
    "                      'error_fraction': error_fraction,\n",
    "                      'pdep_score_strategy': score_strategy,\n",
    "                      'precision': p, 'recall': r, 'f1': f}                    \n",
    "            results.append(result)\n",
    "\n",
    "            # time estimates for the measurement\n",
    "            times.append(datetime.datetime.now())\n",
    "            print(estimate_time_to_finish(times, i, duration_experiment))\n",
    "            i += 1"
   ]
  },
  {
   "cell_type": "markdown",
   "metadata": {},
   "source": [
    "## result pdep"
   ]
  },
  {
   "cell_type": "code",
   "execution_count": 6,
   "metadata": {},
   "outputs": [
    {
     "name": "stdout",
     "output_type": "stream",
     "text": [
      "[{'dataset': 'letter', 'run': 0, 'sampling_strategy': 'MCAR', 'error_fraction': 0.3, 'pdep_score_strategy': 'multiply', 'precision': 0.8643590259609579, 'recall': 0.8643590259609579, 'f1': 0.8643590259609579}, {'dataset': 'letter', 'run': 1, 'sampling_strategy': 'MCAR', 'error_fraction': 0.3, 'pdep_score_strategy': 'multiply', 'precision': 0.952304286576776, 'recall': 0.952304286576776, 'f1': 0.952304286576776}, {'dataset': 'letter', 'run': 2, 'sampling_strategy': 'MCAR', 'error_fraction': 0.3, 'pdep_score_strategy': 'multiply', 'precision': 0.999798752264037, 'recall': 0.999798752264037, 'f1': 0.999798752264037}, {'dataset': 'letter', 'run': 0, 'sampling_strategy': 'MCAR', 'error_fraction': 0.4, 'pdep_score_strategy': 'multiply', 'precision': 1.0, 'recall': 1.0, 'f1': 1.0}, {'dataset': 'letter', 'run': 1, 'sampling_strategy': 'MCAR', 'error_fraction': 0.4, 'pdep_score_strategy': 'multiply', 'precision': 0.8748492159227985, 'recall': 0.8748492159227985, 'f1': 0.8748492159227986}, {'dataset': 'letter', 'run': 2, 'sampling_strategy': 'MCAR', 'error_fraction': 0.4, 'pdep_score_strategy': 'multiply', 'precision': 0.9962303980699638, 'recall': 0.9962303980699638, 'f1': 0.9962303980699638}, {'dataset': 'letter', 'run': 0, 'sampling_strategy': 'MCAR', 'error_fraction': 0.5, 'pdep_score_strategy': 'multiply', 'precision': 1.0, 'recall': 1.0, 'f1': 1.0}, {'dataset': 'letter', 'run': 1, 'sampling_strategy': 'MCAR', 'error_fraction': 0.5, 'pdep_score_strategy': 'multiply', 'precision': 1.0, 'recall': 1.0, 'f1': 1.0}, {'dataset': 'letter', 'run': 2, 'sampling_strategy': 'MCAR', 'error_fraction': 0.5, 'pdep_score_strategy': 'multiply', 'precision': 0.9416897649112, 'recall': 0.9416897649112, 'f1': 0.9416897649112}, {'dataset': 'letter', 'run': 0, 'sampling_strategy': 'MAR', 'error_fraction': 0.3, 'pdep_score_strategy': 'multiply', 'precision': 0.5181193086786843, 'recall': 0.5181193086786843, 'f1': 0.5181193086786843}, {'dataset': 'letter', 'run': 1, 'sampling_strategy': 'MAR', 'error_fraction': 0.3, 'pdep_score_strategy': 'multiply', 'precision': 0.6751533172272812, 'recall': 0.6751533172272812, 'f1': 0.6751533172272812}, {'dataset': 'letter', 'run': 2, 'sampling_strategy': 'MAR', 'error_fraction': 0.3, 'pdep_score_strategy': 'multiply', 'precision': 0.9542835904107043, 'recall': 0.9542835904107043, 'f1': 0.9542835904107043}, {'dataset': 'letter', 'run': 0, 'sampling_strategy': 'MAR', 'error_fraction': 0.4, 'pdep_score_strategy': 'multiply', 'precision': 0.609875, 'recall': 0.609875, 'f1': 0.609875}, {'dataset': 'letter', 'run': 1, 'sampling_strategy': 'MAR', 'error_fraction': 0.4, 'pdep_score_strategy': 'multiply', 'precision': 0.7145, 'recall': 0.7145, 'f1': 0.7145}, {'dataset': 'letter', 'run': 2, 'sampling_strategy': 'MAR', 'error_fraction': 0.4, 'pdep_score_strategy': 'multiply', 'precision': 0.834, 'recall': 0.834, 'f1': 0.834}, {'dataset': 'letter', 'run': 0, 'sampling_strategy': 'MAR', 'error_fraction': 0.5, 'pdep_score_strategy': 'multiply', 'precision': 0.7909221606079277, 'recall': 0.7909221606079277, 'f1': 0.7909221606079277}, {'dataset': 'letter', 'run': 1, 'sampling_strategy': 'MAR', 'error_fraction': 0.5, 'pdep_score_strategy': 'multiply', 'precision': 1.0, 'recall': 1.0, 'f1': 1.0}, {'dataset': 'letter', 'run': 2, 'sampling_strategy': 'MAR', 'error_fraction': 0.5, 'pdep_score_strategy': 'multiply', 'precision': 1.0, 'recall': 1.0, 'f1': 1.0}, {'dataset': 'letter', 'run': 0, 'sampling_strategy': 'MNAR', 'error_fraction': 0.3, 'pdep_score_strategy': 'multiply', 'precision': 0.6641666666666667, 'recall': 0.6641666666666667, 'f1': 0.6641666666666667}, {'dataset': 'letter', 'run': 1, 'sampling_strategy': 'MNAR', 'error_fraction': 0.3, 'pdep_score_strategy': 'multiply', 'precision': 1.0, 'recall': 1.0, 'f1': 1.0}, {'dataset': 'letter', 'run': 2, 'sampling_strategy': 'MNAR', 'error_fraction': 0.3, 'pdep_score_strategy': 'multiply', 'precision': 0.6298333333333334, 'recall': 0.6298333333333334, 'f1': 0.6298333333333334}, {'dataset': 'letter', 'run': 0, 'sampling_strategy': 'MNAR', 'error_fraction': 0.4, 'pdep_score_strategy': 'multiply', 'precision': 1.0, 'recall': 1.0, 'f1': 1.0}, {'dataset': 'letter', 'run': 1, 'sampling_strategy': 'MNAR', 'error_fraction': 0.4, 'pdep_score_strategy': 'multiply', 'precision': 1.0, 'recall': 1.0, 'f1': 1.0}, {'dataset': 'letter', 'run': 2, 'sampling_strategy': 'MNAR', 'error_fraction': 0.4, 'pdep_score_strategy': 'multiply', 'precision': 1.0, 'recall': 1.0, 'f1': 1.0}, {'dataset': 'letter', 'run': 0, 'sampling_strategy': 'MNAR', 'error_fraction': 0.5, 'pdep_score_strategy': 'multiply', 'precision': 1.0, 'recall': 1.0, 'f1': 1.0}, {'dataset': 'letter', 'run': 1, 'sampling_strategy': 'MNAR', 'error_fraction': 0.5, 'pdep_score_strategy': 'multiply', 'precision': 1.0, 'recall': 1.0, 'f1': 1.0}, {'dataset': 'letter', 'run': 2, 'sampling_strategy': 'MNAR', 'error_fraction': 0.5, 'pdep_score_strategy': 'multiply', 'precision': 1.0, 'recall': 1.0, 'f1': 1.0}]\n"
     ]
    }
   ],
   "source": [
    "print(results)"
   ]
  },
  {
   "cell_type": "markdown",
   "metadata": {},
   "source": [
    "## result naive"
   ]
  },
  {
   "cell_type": "code",
   "execution_count": 9,
   "metadata": {},
   "outputs": [
    {
     "name": "stdout",
     "output_type": "stream",
     "text": [
      "[{'dataset': 'letter', 'run': 0, 'sampling_strategy': 'MCAR', 'error_fraction': 0.3, 'pdep_score_strategy': 'multiply', 'precision': 0.6015294827933185, 'recall': 0.6015294827933185, 'f1': 0.6015294827933185}, {'dataset': 'letter', 'run': 1, 'sampling_strategy': 'MCAR', 'error_fraction': 0.3, 'pdep_score_strategy': 'multiply', 'precision': 0.7585027168444355, 'recall': 0.7585027168444355, 'f1': 0.7585027168444355}, {'dataset': 'letter', 'run': 2, 'sampling_strategy': 'MCAR', 'error_fraction': 0.3, 'pdep_score_strategy': 'multiply', 'precision': 0.8088146508351781, 'recall': 0.8088146508351781, 'f1': 0.8088146508351781}, {'dataset': 'letter', 'run': 0, 'sampling_strategy': 'MCAR', 'error_fraction': 0.4, 'pdep_score_strategy': 'multiply', 'precision': 0.9473763570566948, 'recall': 0.9473763570566948, 'f1': 0.9473763570566948}, {'dataset': 'letter', 'run': 1, 'sampling_strategy': 'MCAR', 'error_fraction': 0.4, 'pdep_score_strategy': 'multiply', 'precision': 0.7264776839565742, 'recall': 0.7264776839565742, 'f1': 0.7264776839565742}, {'dataset': 'letter', 'run': 2, 'sampling_strategy': 'MCAR', 'error_fraction': 0.4, 'pdep_score_strategy': 'multiply', 'precision': 0.7567852834740652, 'recall': 0.7567852834740652, 'f1': 0.7567852834740652}, {'dataset': 'letter', 'run': 0, 'sampling_strategy': 'MCAR', 'error_fraction': 0.5, 'pdep_score_strategy': 'multiply', 'precision': 0.7612154809567806, 'recall': 0.7612154809567806, 'f1': 0.7612154809567807}, {'dataset': 'letter', 'run': 1, 'sampling_strategy': 'MCAR', 'error_fraction': 0.5, 'pdep_score_strategy': 'multiply', 'precision': 0.6810389077096808, 'recall': 0.6810389077096808, 'f1': 0.6810389077096808}, {'dataset': 'letter', 'run': 2, 'sampling_strategy': 'MCAR', 'error_fraction': 0.5, 'pdep_score_strategy': 'multiply', 'precision': 0.6897649112000821, 'recall': 0.6897649112000821, 'f1': 0.6897649112000821}, {'dataset': 'letter', 'run': 0, 'sampling_strategy': 'MAR', 'error_fraction': 0.3, 'pdep_score_strategy': 'multiply', 'precision': 0.9996283218732578, 'recall': 0.9996283218732578, 'f1': 0.9996283218732578}, {'dataset': 'letter', 'run': 1, 'sampling_strategy': 'MAR', 'error_fraction': 0.3, 'pdep_score_strategy': 'multiply', 'precision': 0.9998141609366289, 'recall': 0.9998141609366289, 'f1': 0.9998141609366289}, {'dataset': 'letter', 'run': 2, 'sampling_strategy': 'MAR', 'error_fraction': 0.3, 'pdep_score_strategy': 'multiply', 'precision': 0.8061698569039212, 'recall': 0.8061698569039212, 'f1': 0.8061698569039212}, {'dataset': 'letter', 'run': 0, 'sampling_strategy': 'MAR', 'error_fraction': 0.4, 'pdep_score_strategy': 'multiply', 'precision': 0.997375, 'recall': 0.997375, 'f1': 0.997375}, {'dataset': 'letter', 'run': 1, 'sampling_strategy': 'MAR', 'error_fraction': 0.4, 'pdep_score_strategy': 'multiply', 'precision': 0.73925, 'recall': 0.73925, 'f1': 0.73925}, {'dataset': 'letter', 'run': 2, 'sampling_strategy': 'MAR', 'error_fraction': 0.4, 'pdep_score_strategy': 'multiply', 'precision': 0.834, 'recall': 0.834, 'f1': 0.834}, {'dataset': 'letter', 'run': 0, 'sampling_strategy': 'MAR', 'error_fraction': 0.5, 'pdep_score_strategy': 'multiply', 'precision': 0.743992606284658, 'recall': 0.743992606284658, 'f1': 0.743992606284658}, {'dataset': 'letter', 'run': 1, 'sampling_strategy': 'MAR', 'error_fraction': 0.5, 'pdep_score_strategy': 'multiply', 'precision': 0.8038611624563565, 'recall': 0.8038611624563565, 'f1': 0.8038611624563565}, {'dataset': 'letter', 'run': 2, 'sampling_strategy': 'MAR', 'error_fraction': 0.5, 'pdep_score_strategy': 'multiply', 'precision': 0.6995276237420415, 'recall': 0.6995276237420415, 'f1': 0.6995276237420415}, {'dataset': 'letter', 'run': 0, 'sampling_strategy': 'MNAR', 'error_fraction': 0.3, 'pdep_score_strategy': 'multiply', 'precision': 0.818, 'recall': 0.818, 'f1': 0.818}, {'dataset': 'letter', 'run': 1, 'sampling_strategy': 'MNAR', 'error_fraction': 0.3, 'pdep_score_strategy': 'multiply', 'precision': 0.7745, 'recall': 0.7745, 'f1': 0.7745}, {'dataset': 'letter', 'run': 2, 'sampling_strategy': 'MNAR', 'error_fraction': 0.3, 'pdep_score_strategy': 'multiply', 'precision': 0.8213333333333334, 'recall': 0.8213333333333334, 'f1': 0.8213333333333332}, {'dataset': 'letter', 'run': 0, 'sampling_strategy': 'MNAR', 'error_fraction': 0.4, 'pdep_score_strategy': 'multiply', 'precision': 1.0, 'recall': 1.0, 'f1': 1.0}, {'dataset': 'letter', 'run': 1, 'sampling_strategy': 'MNAR', 'error_fraction': 0.4, 'pdep_score_strategy': 'multiply', 'precision': 1.0, 'recall': 1.0, 'f1': 1.0}, {'dataset': 'letter', 'run': 2, 'sampling_strategy': 'MNAR', 'error_fraction': 0.4, 'pdep_score_strategy': 'multiply', 'precision': 1.0, 'recall': 1.0, 'f1': 1.0}, {'dataset': 'letter', 'run': 0, 'sampling_strategy': 'MNAR', 'error_fraction': 0.5, 'pdep_score_strategy': 'multiply', 'precision': 1.0, 'recall': 1.0, 'f1': 1.0}, {'dataset': 'letter', 'run': 1, 'sampling_strategy': 'MNAR', 'error_fraction': 0.5, 'pdep_score_strategy': 'multiply', 'precision': 1.0, 'recall': 1.0, 'f1': 1.0}, {'dataset': 'letter', 'run': 2, 'sampling_strategy': 'MNAR', 'error_fraction': 0.5, 'pdep_score_strategy': 'multiply', 'precision': 0.9105, 'recall': 0.9105, 'f1': 0.9105}]\n"
     ]
    }
   ],
   "source": [
    "print(results)"
   ]
  },
  {
   "cell_type": "code",
   "execution_count": null,
   "metadata": {},
   "outputs": [],
   "source": []
  }
 ],
 "metadata": {
  "kernelspec": {
   "display_name": "Python 3 (ipykernel)",
   "language": "python",
   "name": "python3"
  },
  "language_info": {
   "codemirror_mode": {
    "name": "ipython",
    "version": 3
   },
   "file_extension": ".py",
   "mimetype": "text/x-python",
   "name": "python",
   "nbconvert_exporter": "python",
   "pygments_lexer": "ipython3",
   "version": "3.7.10"
  }
 },
 "nbformat": 4,
 "nbformat_minor": 4
}
