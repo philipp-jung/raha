{
 "cells": [
  {
   "cell_type": "markdown",
   "metadata": {},
   "source": [
    "# Baran Experiment"
   ]
  },
  {
   "cell_type": "code",
   "execution_count": 1,
   "metadata": {},
   "outputs": [],
   "source": [
    "%load_ext autoreload\n",
    "%autoreload 2"
   ]
  },
  {
   "cell_type": "code",
   "execution_count": 2,
   "metadata": {},
   "outputs": [],
   "source": [
    "import pandas\n",
    "import IPython.display\n",
    "\n",
    "import raha\n",
    "import datetime\n",
    "from ruska import Ruska"
   ]
  },
  {
   "cell_type": "code",
   "execution_count": 13,
   "metadata": {},
   "outputs": [],
   "source": [
    "rsk = Ruska(name='2022-06-01-breast-cancer-simple-mcar',\n",
    "             description='''Jenga ist auf dem breast-cancer-Datensatz buggy. Ich habe das jetzt selbst\n",
    "             implementiert im ruska-repo. Mit dem Datensatz messe ich jetzt.''',\n",
    "             commit='0db424cd4d6092689b0f220569160a1109ac83dd',\n",
    "             config={'dataset': 'breast-cancer',\n",
    "                     'sampling': 'MCAR',\n",
    "                     'error_fraction': .03,\n",
    "                     'labeling_budget': 20,\n",
    "                     'feature_generators': ['value', 'domain', 'vicinity'],\n",
    "                     'classification_model': 'ABC',\n",
    "                     'vicinity_orders': [1, 2],\n",
    "                     'vicinity_feature_generator': 'pdep',\n",
    "                     'n_best_pdeps': 5,\n",
    "                     'score_strategy': 'multiply',\n",
    "                     },\n",
    "             ranges={\n",
    "                     'error_fraction': [.03, .05, .1, .2, .3, .4, .5],\n",
    "                     },\n",
    "             runs=3,\n",
    "             save_path='/Users/philipp/code/experimente/2022W21-Jenga-Structured-Approach/'\n",
    "            )"
   ]
  },
  {
   "cell_type": "code",
   "execution_count": 14,
   "metadata": {},
   "outputs": [],
   "source": [
    "def run_baran(dataset, sampling, error_fraction, labeling_budget, feature_generators, classification_model, vicinity_orders, vicinity_feature_generator, n_best_pdeps, score_strategy, run):\n",
    "    rate_formatted = str(error_fraction).split('.')[1]\n",
    "    data_dict = {\"name\": dataset,\n",
    "                 \"path\": f\"../datasets/{dataset}/{sampling}/dirty_{rate_formatted}.csv\",\n",
    "                 \"clean_path\": f\"../datasets/{dataset}/clean.csv\"}\n",
    "\n",
    "    data = raha.Dataset(data_dict)\n",
    "    data.detected_cells = dict(data.get_actual_errors_dictionary())\n",
    "    app = raha.Correction()\n",
    "    app.LABELING_BUDGET = labeling_budget\n",
    "    app.VERBOSE = False\n",
    "    app.FEATURE_GENERATORS = feature_generators\n",
    "    app.CLASSIFICATION_MODEL = classification_model\n",
    "    app.VICINITY_ORDERS = vicinity_orders\n",
    "    app.VICINITY_FEATURE_GENERATOR = vicinity_feature_generator\n",
    "    app.N_BEST_PDEPS = n_best_pdeps\n",
    "    app.PDEP_SCORE_STRATEGY = score_strategy\n",
    "\n",
    "    d = app.initialize_dataset(data)\n",
    "    app.initialize_models(d)\n",
    "    while len(d.labeled_tuples) < app.LABELING_BUDGET:\n",
    "        app.sample_tuple(d, random_seed=None)\n",
    "        app.label_with_ground_truth(d)\n",
    "        app.update_models(d)\n",
    "        app.generate_features(d, synchronous=True)\n",
    "        app.predict_corrections(d, random_seed=None)\n",
    "\n",
    "        p, r, f = d.get_data_cleaning_evaluation(d.corrected_cells)[-3:]\n",
    "    return {'precision': p, 'recall': r, 'f1': f}"
   ]
  },
  {
   "cell_type": "code",
   "execution_count": 15,
   "metadata": {
    "tags": []
   },
   "outputs": [
    {
     "name": "stdout",
     "output_type": "stream",
     "text": [
      "Run 1/21. 14s per run, estimate 4m 44s to finish\n",
      "Run 2/21. 12s per run, estimate 3m 45s to finish\n",
      "Run 3/21. 12s per run, estimate 3m 33s to finish\n",
      "Run 4/21. 13s per run, estimate 3m 30s to finish\n",
      "Run 5/21. 13s per run, estimate 3m 20s to finish\n",
      "Run 6/21. 13s per run, estimate 3m 3s to finish\n",
      "Run 7/21. 14s per run, estimate 3m 7s to finish\n",
      "Run 8/21. 15s per run, estimate 3m 0s to finish\n",
      "Run 9/21. 15s per run, estimate 2m 50s to finish\n",
      "Run 10/21. 17s per run, estimate 2m 51s to finish\n",
      "Run 11/21. 18s per run, estimate 2m 46s to finish\n",
      "Run 12/21. 19s per run, estimate 2m 35s to finish\n",
      "Run 13/21. 20s per run, estimate 2m 25s to finish\n",
      "Run 14/21. 21s per run, estimate 2m 7s to finish\n",
      "Run 15/21. 21s per run, estimate 1m 48s to finish\n",
      "Run 16/21. 22s per run, estimate 1m 30s to finish\n",
      "Run 17/21. 23s per run, estimate 1m 10s to finish\n",
      "Run 18/21. 24s per run, estimate 48s to finish\n",
      "Run 19/21. 25s per run, estimate 25s to finish\n",
      "Run 20/21. 26s per run, estimate 0s to finish\n",
      "Run 21/21. 26s per run, estimate 59m 33s to finish\n",
      "Measurement finished\n"
     ]
    }
   ],
   "source": [
    "rsk.run(experiment=run_baran)"
   ]
  },
  {
   "cell_type": "markdown",
   "metadata": {},
   "source": [
    "# ruska naive"
   ]
  },
  {
   "cell_type": "code",
   "execution_count": 16,
   "metadata": {},
   "outputs": [],
   "source": [
    "rsk_naive = Ruska(name='2022-06-01-breast-cancer-simple-mcar-naive',\n",
    "             description='''Jenga ist auf dem breast-cancer-Datensatz buggy. Ich habe das jetzt selbst\n",
    "             implementiert im ruska-repo. Mit dem Datensatz messe ich jetzt.''',\n",
    "             commit='0db424cd4d6092689b0f220569160a1109ac83dd',\n",
    "             config={'dataset': 'breast-cancer',\n",
    "                     'sampling': 'MCAR',\n",
    "                     'error_fraction': .03,\n",
    "                     'labeling_budget': 20,\n",
    "                     'feature_generators': ['value', 'domain', 'vicinity'],\n",
    "                     'classification_model': 'ABC',\n",
    "                     'vicinity_orders': [1],\n",
    "                     'vicinity_feature_generator': 'naive',\n",
    "                     'n_best_pdeps': 5,\n",
    "                     'score_strategy': 'multiply',\n",
    "                     },\n",
    "             ranges={\n",
    "                     'error_fraction': [.03, .05, .1, .2, .3, .4, .5],\n",
    "                     },\n",
    "             runs=3,\n",
    "             save_path='/Users/philipp/code/experimente/2022W21-Jenga-Structured-Approach/'\n",
    "            )"
   ]
  },
  {
   "cell_type": "code",
   "execution_count": 17,
   "metadata": {},
   "outputs": [
    {
     "name": "stdout",
     "output_type": "stream",
     "text": [
      "Run 1/21. 3s per run, estimate 1m 11s to finish\n",
      "Run 2/21. 2s per run, estimate 48s to finish\n",
      "Run 3/21. 3s per run, estimate 57s to finish\n",
      "Run 4/21. 4s per run, estimate 1m 13s to finish\n",
      "Run 5/21. 5s per run, estimate 1m 18s to finish\n",
      "Run 6/21. 5s per run, estimate 1m 18s to finish\n",
      "Run 7/21. 6s per run, estimate 1m 23s to finish\n",
      "Run 8/21. 6s per run, estimate 1m 13s to finish\n",
      "Run 9/21. 5s per run, estimate 1m 5s to finish\n",
      "Run 10/21. 7s per run, estimate 1m 11s to finish\n",
      "Run 11/21. 8s per run, estimate 1m 14s to finish\n",
      "Run 12/21. 9s per run, estimate 1m 13s to finish\n",
      "Run 13/21. 9s per run, estimate 1m 8s to finish\n",
      "Run 14/21. 10s per run, estimate 1m 3s to finish\n",
      "Run 15/21. 11s per run, estimate 55s to finish\n",
      "Run 16/21. 11s per run, estimate 46s to finish\n",
      "Run 17/21. 12s per run, estimate 37s to finish\n",
      "Run 18/21. 13s per run, estimate 26s to finish\n",
      "Run 19/21. 13s per run, estimate 13s to finish\n",
      "Run 20/21. 14s per run, estimate 0s to finish\n",
      "Run 21/21. 15s per run, estimate 59m 44s to finish\n",
      "Measurement finished\n"
     ]
    }
   ],
   "source": [
    "rsk_naive.run(experiment=run_baran)"
   ]
  },
  {
   "cell_type": "code",
   "execution_count": null,
   "metadata": {},
   "outputs": [],
   "source": []
  }
 ],
 "metadata": {
  "kernelspec": {
   "display_name": "Python 3 (ipykernel)",
   "language": "python",
   "name": "python3"
  },
  "language_info": {
   "codemirror_mode": {
    "name": "ipython",
    "version": 3
   },
   "file_extension": ".py",
   "mimetype": "text/x-python",
   "name": "python",
   "nbconvert_exporter": "python",
   "pygments_lexer": "ipython3",
   "version": "3.7.10"
  }
 },
 "nbformat": 4,
 "nbformat_minor": 4
}
