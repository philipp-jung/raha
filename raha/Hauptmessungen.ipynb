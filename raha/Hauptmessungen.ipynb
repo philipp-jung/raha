{
 "cells": [
  {
   "cell_type": "markdown",
   "metadata": {},
   "source": [
    "# Baran Experiment"
   ]
  },
  {
   "cell_type": "code",
   "execution_count": 1,
   "metadata": {},
   "outputs": [],
   "source": [
    "%load_ext autoreload\n",
    "%autoreload 2"
   ]
  },
  {
   "cell_type": "code",
   "execution_count": 1,
   "metadata": {},
   "outputs": [],
   "source": [
    "import pandas\n",
    "import IPython.display\n",
    "\n",
    "import raha\n",
    "import datetime"
   ]
  },
  {
   "cell_type": "code",
   "execution_count": 2,
   "metadata": {
    "tags": []
   },
   "outputs": [],
   "source": [
    "def format_delta(delta: datetime.timedelta):\n",
    "    hours, remainder = divmod(delta.total_seconds(), 3600)\n",
    "    minutes, seconds = divmod(remainder, 60)\n",
    "    \n",
    "    h = f'{int(hours)}h ' if hours > 0 else ''\n",
    "    m = f'{int(minutes)}m ' if minutes > 0 else ''\n",
    "    s = f'{int(seconds)}s'\n",
    "    \n",
    "    return h+m+s\n",
    "\n",
    "def estimate_time_to_finish(times: list, current_run_i: int, total_runs: int):\n",
    "    deltas = []\n",
    "    i = 1\n",
    "    \n",
    "    while i+1 <= len(times):\n",
    "        deltas.append(times[i] - times[i-1])\n",
    "        i += 1\n",
    "        \n",
    "    avg = sum(deltas, datetime.timedelta())/len(deltas)\n",
    "    return f'Run {current_run_i}/{total_runs}. {format_delta(avg)} per run, estimate {format_delta(avg*(total_runs - current_run_i))} to finish'"
   ]
  },
  {
   "cell_type": "code",
   "execution_count": 3,
   "metadata": {},
   "outputs": [],
   "source": [
    "letter = {\"name\": \"letter\",\n",
    "         \"path\": \"../datasets/letter/dirty.csv\",\n",
    "         \"clean_path\": \"../datasets/letter/clean.csv\"}\n",
    "\n",
    "adult = {\n",
    "    \"name\": \"adult\",\n",
    "    \"path\": \"../datasets/adult/dirty.csv\",\n",
    "    \"clean_path\": \"../datasets/adult/clean.csv\"\n",
    "}\n",
    "beers = {\n",
    "    \"name\": \"beers\",\n",
    "    \"path\": \"../datasets/beers/dirty.csv\",\n",
    "    \"clean_path\": \"../datasets/beers/clean.csv\"\n",
    "}\n",
    "flights = {\n",
    "    \"name\": \"flights\",\n",
    "    \"path\": \"../datasets/flights/dirty.csv\",\n",
    "    \"clean_path\": \"../datasets/flights/clean.csv\"\n",
    "}\n",
    "movies = {\n",
    "    \"name\": \"movies\",\n",
    "    \"path\": \"../datasets/movies_1/dirty.csv\",\n",
    "    \"clean_path\": \"../datasets/movies_1/clean.csv\"\n",
    "}\n",
    "rayyan = {\n",
    "    \"name\": \"rayyan\",\n",
    "    \"path\": \"../datasets/rayyan/dirty.csv\",\n",
    "    \"clean_path\": \"../datasets/rayyan/clean.csv\"\n",
    "}\n",
    "tax = {\n",
    "    \"name\": \"tax\",\n",
    "    \"path\": \"../datasets/tax/dirty.csv\",\n",
    "    \"clean_path\": \"../datasets/tax/clean.csv\"\n",
    "}\n",
    "toy = {\n",
    "    \"name\": \"toy\",\n",
    "    \"path\": \"../datasets/toy/dirty.csv\",\n",
    "    \"clean_path\": \"../datasets/toy/clean.csv\"\n",
    "}\n",
    "hospital = {\n",
    "    \"name\": \"hospital\",\n",
    "    \"path\": \"../datasets/hospital/dirty.csv\",\n",
    "    \"clean_path\": \"../datasets/hospital/clean.csv\"\n",
    "}"
   ]
  },
  {
   "cell_type": "code",
   "execution_count": 5,
   "metadata": {},
   "outputs": [
    {
     "name": "stdout",
     "output_type": "stream",
     "text": [
      "{'dataset': 'hospital', 'n_pdep': None, 'vicinity_order': [1], 'precision': 0.975, 'recall': 0.8428290766208252, 'f1': 0.9041095890410958}\n",
      "{'dataset': 'hospital', 'n_pdep': None, 'vicinity_order': [1], 'precision': 0.8783783783783784, 'recall': 0.2554027504911591, 'f1': 0.39573820395738196}\n",
      "{'dataset': 'hospital', 'n_pdep': None, 'vicinity_order': [1], 'precision': 0.9316037735849056, 'recall': 0.7760314341846758, 'f1': 0.8467309753483387}\n",
      "{'dataset': 'hospital', 'n_pdep': None, 'vicinity_order': [1], 'precision': 0.8952702702702703, 'recall': 0.5206286836935167, 'f1': 0.6583850931677018}\n",
      "{'dataset': 'hospital', 'n_pdep': None, 'vicinity_order': [1], 'precision': 0.9517102615694165, 'recall': 0.9292730844793713, 'f1': 0.9403578528827037}\n"
     ]
    }
   ],
   "source": [
    "datasets = [hospital]\n",
    "results_no_update = []\n",
    "n_pdeps = [4]\n",
    "vicinity_orders = [[1]]\n",
    "\n",
    "for run in range(5):\n",
    "    dataset_dictionary = hospital\n",
    "    data = raha.Dataset(dataset_dictionary)\n",
    "    data.detected_cells = dict(data.get_actual_errors_dictionary())\n",
    "    app_2 = raha.Correction()\n",
    "    app_2.LABELING_BUDGET = 20\n",
    "    app_2.VERBOSE = False\n",
    "    app_2.CLASSIFICATION_MODEL = \"ABC\"\n",
    "    app_2.VICINITY_ONLY = False\n",
    "    app_2.IMPUTER_FEATURE_GENERATOR = False\n",
    "    app_2.VICINITY_ORDERS = [1]\n",
    "    app_2.VICINITY_FEATURE_GENERATOR = 'naive'\n",
    "    app_2.N_BEST_PDEPS = None\n",
    "\n",
    "    d = app_2.initialize_dataset(data)\n",
    "    app_2.initialize_models(d)\n",
    "\n",
    "    while len(d.labeled_tuples) < app_2.LABELING_BUDGET:\n",
    "        app_2.sample_tuple(d, random_seed=run)\n",
    "        app_2.label_with_ground_truth(d)\n",
    "        app_2.update_models(d)\n",
    "        app_2.generate_features(d, synchronous=False)\n",
    "        app_2.predict_corrections(d, random_seed=run)\n",
    "\n",
    "    p, r, f = d.get_data_cleaning_evaluation(d.corrected_cells)[-3:]\n",
    "    result = {'dataset': d.name, 'n_pdep': None, 'vicinity_order': [1], 'precision': p, 'recall': r, 'f1': f}\n",
    "    results_no_update.append(result)\n",
    "    print(result)"
   ]
  },
  {
   "cell_type": "code",
   "execution_count": 26,
   "metadata": {},
   "outputs": [
    {
     "name": "stdout",
     "output_type": "stream",
     "text": [
      "400\n"
     ]
    }
   ],
   "source": [
    "print(len(d.labeled_cells))"
   ]
  },
  {
   "cell_type": "code",
   "execution_count": 36,
   "metadata": {},
   "outputs": [
    {
     "data": {
      "text/plain": [
       "28"
      ]
     },
     "execution_count": 36,
     "metadata": {},
     "output_type": "execute_result"
    }
   ],
   "source": [
    "len(d.pair_features[(13,1)]['10018'])"
   ]
  },
  {
   "cell_type": "code",
   "execution_count": 33,
   "metadata": {},
   "outputs": [
    {
     "data": {
      "text/plain": [
       "29"
      ]
     },
     "execution_count": 33,
     "metadata": {},
     "output_type": "execute_result"
    }
   ],
   "source": [
    "len(d.pair_features[(13,1)]['10018'])"
   ]
  },
  {
   "cell_type": "code",
   "execution_count": 34,
   "metadata": {},
   "outputs": [
    {
     "data": {
      "text/plain": [
       "28"
      ]
     },
     "execution_count": 34,
     "metadata": {},
     "output_type": "execute_result"
    }
   ],
   "source": [
    "import numpy as np\n",
    "len(np.array([0.        , 0.        , 0.        , 0.        , 0.        ,\n",
    "        0.        , 0.        , 0.        , 0.02569373, 0.        ,\n",
    "        0.        , 0.        , 0.        , 0.        , 0.25      ,\n",
    "        0.        , 0.        , 0.03022975, 0.02671756, 0.15337423,\n",
    "        0.02639916, 0.02601457, 0.02520161, 0.02520161, 0.02631579,\n",
    "        0.02631579, 0.02702703, 0.        ]))"
   ]
  },
  {
   "cell_type": "code",
   "execution_count": 5,
   "metadata": {},
   "outputs": [
    {
     "name": "stdout",
     "output_type": "stream",
     "text": [
      "{'dataset': 'letter', 'n_pdep': 4, 'vicinity_order': [1], 'precision': 0.38482035413443355, 'recall': 0.27300445149094454, 'f1': 0.31940926764884237}\n",
      "{'dataset': 'letter', 'n_pdep': 4, 'vicinity_order': [2], 'precision': 0.47416413373860183, 'recall': 0.31392158058418196, 'f1': 0.37775168770179046}\n",
      "{'dataset': 'letter', 'n_pdep': 4, 'vicinity_order': [1, 2], 'precision': 0.4801023308698124, 'recall': 0.3089822550155497, 'f1': 0.3759878306682002}\n"
     ]
    }
   ],
   "source": [
    "datasets = [letter]\n",
    "results_no_update = []\n",
    "n_pdeps = [4]\n",
    "vicinity_orders = [[1], [2], [1,2]]\n",
    "\n",
    "for dataset_dictionary in datasets:\n",
    "    for vicinity_order in vicinity_orders:\n",
    "        for n_pdep in n_pdeps:\n",
    "            data = raha.Dataset(dataset_dictionary)\n",
    "            data.detected_cells = dict(data.get_actual_errors_dictionary())\n",
    "            app_2 = raha.Correction()\n",
    "            app_2.LABELING_BUDGET = 20\n",
    "            app_2.VERBOSE = False\n",
    "            app_2.CLASSIFICATION_MODEL = \"ABC\"\n",
    "            app_2.VICINITY_ONLY = False\n",
    "            app_2.VICINITY_ORDERS = vicinity_order\n",
    "            app_2.VICINITY_FEATURE_GENERATOR = 'pdep'\n",
    "            app_2.N_BEST_PDEPS = n_pdep\n",
    "\n",
    "            d = app_2.initialize_dataset(data)\n",
    "            app_2.initialize_models(d)\n",
    "\n",
    "            while len(d.labeled_tuples) < app_2.LABELING_BUDGET:\n",
    "                app_2.sample_tuple(d, random_seed=0)\n",
    "                if d.has_ground_truth:\n",
    "                    app_2.label_with_ground_truth(d)\n",
    "            app_2.update_models(d)\n",
    "            app_2.generate_features(d, synchronous=False)\n",
    "            app_2.predict_corrections(d, random_seed=0)\n",
    "\n",
    "            p, r, f = d.get_data_cleaning_evaluation(d.corrected_cells)[-3:]\n",
    "            result = {'dataset': d.name, 'n_pdep': n_pdep, 'vicinity_order': vicinity_order, 'precision': p, 'recall': r, 'f1': f}\n",
    "            results_no_update.append(result)\n",
    "            print(result)"
   ]
  },
  {
   "cell_type": "code",
   "execution_count": 6,
   "metadata": {},
   "outputs": [
    {
     "name": "stdout",
     "output_type": "stream",
     "text": [
      "[{'dataset': 'letter', 'n_pdep': 4, 'vicinity_order': [1], 'precision': 0.38482035413443355, 'recall': 0.27300445149094454, 'f1': 0.31940926764884237}, {'dataset': 'letter', 'n_pdep': 4, 'vicinity_order': [2], 'precision': 0.47416413373860183, 'recall': 0.31392158058418196, 'f1': 0.37775168770179046}, {'dataset': 'letter', 'n_pdep': 4, 'vicinity_order': [1, 2], 'precision': 0.4801023308698124, 'recall': 0.3089822550155497, 'f1': 0.3759878306682002}]\n"
     ]
    }
   ],
   "source": [
    "print(results_no_update)"
   ]
  },
  {
   "cell_type": "code",
   "execution_count": 7,
   "metadata": {},
   "outputs": [
    {
     "name": "stdout",
     "output_type": "stream",
     "text": [
      "{'dataset': 'letter', 'n_pdep': None, 'vicinity_order': [1], 'precision': 0.28730077992539843, 'recall': 0.20665894261845236, 'f1': 0.24039723355204823}\n",
      "{'dataset': 'letter', 'n_pdep': None, 'vicinity_order': [2], 'precision': 0.26977143470329434, 'recall': 0.15330203061162265, 'f1': 0.19550509370868652}\n",
      "{'dataset': 'letter', 'n_pdep': None, 'vicinity_order': [1, 2], 'precision': 0.2943998081304713, 'recall': 0.14970425025916215, 'f1': 0.19848007114560595}\n"
     ]
    }
   ],
   "source": [
    "datasets = [letter]\n",
    "results_no_update = []\n",
    "#n_pdeps = [1, 2, 3, 4, 5]\n",
    "n_pdeps = [None]\n",
    "vicinity_orders = [[1], [2], [1,2]]\n",
    "\n",
    "for dataset_dictionary in datasets:\n",
    "    for vicinity_order in vicinity_orders:\n",
    "        for n_pdep in n_pdeps:\n",
    "            data = raha.Dataset(dataset_dictionary)\n",
    "            data.detected_cells = dict(data.get_actual_errors_dictionary())\n",
    "            app_2 = raha.Correction()\n",
    "            app_2.LABELING_BUDGET = 20\n",
    "            app_2.VERBOSE = False\n",
    "            app_2.CLASSIFICATION_MODEL = \"ABC\"\n",
    "            app_2.VICINITY_ONLY = False\n",
    "            app_2.VICINITY_ORDERS = vicinity_order\n",
    "            app_2.VICINITY_FEATURE_GENERATOR = 'naive'\n",
    "            app_2.N_BEST_PDEPS = n_pdep\n",
    "\n",
    "            d = app_2.initialize_dataset(data)\n",
    "            app_2.initialize_models(d)\n",
    "\n",
    "            while len(d.labeled_tuples) < app_2.LABELING_BUDGET:\n",
    "                app_2.sample_tuple(d, random_seed=0)\n",
    "                if d.has_ground_truth:\n",
    "                    app_2.label_with_ground_truth(d)\n",
    "            app_2.update_models(d)\n",
    "            app_2.generate_features(d, synchronous=False)\n",
    "            app_2.predict_corrections(d, random_seed=0)\n",
    "\n",
    "            p, r, f = d.get_data_cleaning_evaluation(d.corrected_cells)[-3:]\n",
    "            result = {'dataset': d.name, 'n_pdep': n_pdep, 'vicinity_order': vicinity_order, 'precision': p, 'recall': r, 'f1': f}\n",
    "            results_no_update.append(result)\n",
    "            print(result)"
   ]
  },
  {
   "cell_type": "code",
   "execution_count": 8,
   "metadata": {},
   "outputs": [
    {
     "name": "stdout",
     "output_type": "stream",
     "text": [
      "[{'dataset': 'letter', 'n_pdep': None, 'vicinity_order': [1], 'precision': 0.28730077992539843, 'recall': 0.20665894261845236, 'f1': 0.24039723355204823}, {'dataset': 'letter', 'n_pdep': None, 'vicinity_order': [2], 'precision': 0.26977143470329434, 'recall': 0.15330203061162265, 'f1': 0.19550509370868652}, {'dataset': 'letter', 'n_pdep': None, 'vicinity_order': [1, 2], 'precision': 0.2943998081304713, 'recall': 0.14970425025916215, 'f1': 0.19848007114560595}]\n"
     ]
    }
   ],
   "source": [
    "print(results_no_update)"
   ]
  },
  {
   "cell_type": "markdown",
   "metadata": {},
   "source": [
    "# validate"
   ]
  },
  {
   "cell_type": "code",
   "execution_count": 6,
   "metadata": {},
   "outputs": [
    {
     "name": "stdout",
     "output_type": "stream",
     "text": [
      "{'dataset': 'rayyan', 'precision': 0.31949685534591193, 'recall': 0.2679324894514768, 'f1': 0.291451520367183}\n"
     ]
    }
   ],
   "source": [
    "dataset_name = 'rayyan'\n",
    "dataset_dictionary = {\n",
    "    \"name\": dataset_name,\n",
    "    \"path\": f\"../datasets/{dataset_name}/dirty.csv\",\n",
    "    \"clean_path\": f\"../datasets/{dataset_name}/clean.csv\",\n",
    "    }\n",
    "d = raha.dataset.Dataset(dataset_dictionary)\n",
    "d.detected_cells = dict(d.get_actual_errors_dictionary())\n",
    "app = raha.Correction()\n",
    "\n",
    "app.VICINITY_ONLY = False\n",
    "app.VICINITY_ORDERS = [1]\n",
    "app.VICINITY_FEATURE_GENERATOR = 'naive'\n",
    "app.N_BEST_PDEPS = None\n",
    "\n",
    "d = app.initialize_dataset(d)\n",
    "app.initialize_models(d)\n",
    "while len(d.labeled_tuples) < app.LABELING_BUDGET:\n",
    "    app.sample_tuple(d, random_seed=None)\n",
    "    if d.has_ground_truth:\n",
    "        app.label_with_ground_truth(d)\n",
    "    app.update_models(d)\n",
    "    app.generate_features(d)\n",
    "    app.predict_corrections(d, random_seed=None)\n",
    "p, r, f = d.get_data_cleaning_evaluation(d.corrected_cells)[-3:]\n",
    "print({'dataset': d.name, 'precision': p, 'recall': r, 'f1': f})"
   ]
  },
  {
   "cell_type": "code",
   "execution_count": null,
   "metadata": {},
   "outputs": [],
   "source": []
  }
 ],
 "metadata": {
  "kernelspec": {
   "display_name": "Python 3 (ipykernel)",
   "language": "python",
   "name": "python3"
  },
  "language_info": {
   "codemirror_mode": {
    "name": "ipython",
    "version": 3
   },
   "file_extension": ".py",
   "mimetype": "text/x-python",
   "name": "python",
   "nbconvert_exporter": "python",
   "pygments_lexer": "ipython3",
   "version": "3.7.10"
  }
 },
 "nbformat": 4,
 "nbformat_minor": 4
}
