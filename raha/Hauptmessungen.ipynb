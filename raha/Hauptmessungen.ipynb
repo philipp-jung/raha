{
 "cells": [
  {
   "cell_type": "markdown",
   "metadata": {},
   "source": [
    "# Baran Experiment"
   ]
  },
  {
   "cell_type": "code",
   "execution_count": 1,
   "metadata": {},
   "outputs": [],
   "source": [
    "%load_ext autoreload\n",
    "%autoreload 2"
   ]
  },
  {
   "cell_type": "code",
   "execution_count": 2,
   "metadata": {},
   "outputs": [],
   "source": [
    "import pandas\n",
    "import IPython.display\n",
    "\n",
    "import raha\n",
    "import datetime\n",
    "from ruska import Ruska"
   ]
  },
  {
   "cell_type": "code",
   "execution_count": 3,
   "metadata": {},
   "outputs": [],
   "source": [
    "rsk = Ruska(name='2022-05-31-breast-cancer-jenga-diligent',\n",
    "             description='''Die Messung auf dem Adult-Datensatz war etwas enttäuschend. Ich habe in der \n",
    "             pdep-Thesis nach Ergebnissen geschaut. Auf Seite 46 findet sich eine Tabelle, aus der man die\n",
    "             durchschnittliche Größe der LHS ablesen kann. Dort ist der breast-cancer Datensatz mit durchschnittlicher\n",
    "             LHS-Größe von 3.9 Attributen aufgeführt.''',\n",
    "             commit='d266b15168d58c1adf7503c1409b380aac885fe3',\n",
    "             config={'dataset': 'breast-cancer',\n",
    "                     'sampling': 'MCAR',\n",
    "                     'error_fraction': .03,\n",
    "                     'labeling_budget': 20,\n",
    "                     'feature_generators': ['value', 'domain', 'vicinity'],\n",
    "                     'classification_model': 'ABC',\n",
    "                     'vicinity_orders': [1, 2],\n",
    "                     'vicinity_feature_generator': 'pdep',\n",
    "                     'n_best_pdeps': 5,\n",
    "                     'score_strategy': 'multiply',\n",
    "                     },\n",
    "             ranges={'sampling': ['MCAR', 'MAR', 'MNAR'],\n",
    "                     'error_fraction': [.03, .05, .1, .2, .3, .4, .5],\n",
    "                     },\n",
    "             runs=3,\n",
    "             save_path='/Users/philipp/code/experimente/2022W21-Jenga-Structured-Approach/'\n",
    "            )"
   ]
  },
  {
   "cell_type": "code",
   "execution_count": 4,
   "metadata": {},
   "outputs": [],
   "source": [
    "def run_baran(dataset, sampling, error_fraction, labeling_budget, feature_generators, classification_model, vicinity_orders, vicinity_feature_generator, n_best_pdeps, score_strategy, run):\n",
    "    rate_formatted = str(error_fraction).split('.')[1]\n",
    "    data_dict = {\"name\": dataset,\n",
    "                 \"path\": f\"../datasets/{dataset}/{sampling}/dirty_{rate_formatted}.csv\",\n",
    "                 \"clean_path\": f\"../datasets/{dataset}/clean.csv\"}\n",
    "\n",
    "    data = raha.Dataset(data_dict)\n",
    "    data.detected_cells = dict(data.get_actual_errors_dictionary())\n",
    "    app = raha.Correction()\n",
    "    app.LABELING_BUDGET = labeling_budget\n",
    "    app.VERBOSE = False\n",
    "    app.FEATURE_GENERATORS = feature_generators\n",
    "    app.CLASSIFICATION_MODEL = classification_model\n",
    "    app.VICINITY_ORDERS = vicinity_orders\n",
    "    app.VICINITY_FEATURE_GENERATOR = vicinity_feature_generator\n",
    "    app.N_BEST_PDEPS = n_best_pdeps\n",
    "    app.PDEP_SCORE_STRATEGY = score_strategy\n",
    "\n",
    "    d = app.initialize_dataset(data)\n",
    "    app.initialize_models(d)\n",
    "    while len(d.labeled_tuples) < app.LABELING_BUDGET:\n",
    "        app.sample_tuple(d, random_seed=None)\n",
    "        app.label_with_ground_truth(d)\n",
    "        app.update_models(d)\n",
    "        app.generate_features(d, synchronous=True)\n",
    "        app.predict_corrections(d, random_seed=None)\n",
    "\n",
    "        p, r, f = d.get_data_cleaning_evaluation(d.corrected_cells)[-3:]\n",
    "    return {'precision': p, 'recall': r, 'f1': f}"
   ]
  },
  {
   "cell_type": "code",
   "execution_count": 5,
   "metadata": {
    "collapsed": true,
    "jupyter": {
     "outputs_hidden": true
    },
    "tags": []
   },
   "outputs": [
    {
     "name": "stdout",
     "output_type": "stream",
     "text": [
      "Run 1/63. 5s per run, estimate 6m 5s to finish\n",
      "Run 2/63. 5s per run, estimate 5m 56s to finish\n",
      "Run 3/63. 5s per run, estimate 5m 48s to finish\n",
      "Run 4/63. 5s per run, estimate 5m 44s to finish\n",
      "Run 5/63. 5s per run, estimate 5m 38s to finish\n",
      "Run 6/63. 5s per run, estimate 5m 33s to finish\n",
      "Run 7/63. 5s per run, estimate 5m 29s to finish\n",
      "Run 8/63. 5s per run, estimate 5m 23s to finish\n",
      "Run 9/63. 6s per run, estimate 5m 18s to finish\n",
      "Run 10/63. 5s per run, estimate 5m 11s to finish\n",
      "Run 11/63. 5s per run, estimate 5m 5s to finish\n",
      "Run 12/63. 5s per run, estimate 4m 59s to finish\n",
      "Run 13/63. 5s per run, estimate 4m 52s to finish\n",
      "Run 14/63. 5s per run, estimate 4m 46s to finish\n",
      "Run 15/63. 5s per run, estimate 4m 40s to finish\n",
      "Run 16/63. 6s per run, estimate 4m 36s to finish\n",
      "Run 17/63. 6s per run, estimate 4m 32s to finish\n",
      "Run 18/63. 6s per run, estimate 4m 28s to finish\n",
      "Run 19/63. 6s per run, estimate 4m 21s to finish\n",
      "Run 20/63. 6s per run, estimate 4m 15s to finish\n",
      "Run 21/63. 6s per run, estimate 4m 9s to finish\n",
      "Run 22/63. 6s per run, estimate 4m 2s to finish\n",
      "Run 23/63. 6s per run, estimate 3m 56s to finish\n",
      "Run 24/63. 6s per run, estimate 3m 50s to finish\n",
      "Run 25/63. 6s per run, estimate 3m 43s to finish\n",
      "Run 26/63. 6s per run, estimate 3m 37s to finish\n",
      "Run 27/63. 6s per run, estimate 3m 31s to finish\n",
      "Run 28/63. 6s per run, estimate 3m 25s to finish\n",
      "Run 29/63. 6s per run, estimate 3m 18s to finish\n",
      "Run 30/63. 6s per run, estimate 3m 12s to finish\n",
      "Run 31/63. 6s per run, estimate 3m 6s to finish\n",
      "Run 32/63. 6s per run, estimate 3m 0s to finish\n",
      "Run 33/63. 6s per run, estimate 2m 54s to finish\n",
      "Run 34/63. 6s per run, estimate 2m 48s to finish\n",
      "Run 35/63. 6s per run, estimate 2m 42s to finish\n",
      "Run 36/63. 6s per run, estimate 2m 36s to finish\n",
      "Run 37/63. 5s per run, estimate 2m 29s to finish\n",
      "Run 38/63. 5s per run, estimate 2m 23s to finish\n",
      "Run 39/63. 5s per run, estimate 2m 17s to finish\n",
      "Run 40/63. 6s per run, estimate 2m 12s to finish\n",
      "Run 41/63. 6s per run, estimate 2m 6s to finish\n",
      "Run 42/63. 6s per run, estimate 2m 0s to finish\n",
      "Run 43/63. 6s per run, estimate 1m 54s to finish\n",
      "Run 44/63. 6s per run, estimate 1m 48s to finish\n",
      "Run 45/63. 6s per run, estimate 1m 42s to finish\n",
      "Run 46/63. 6s per run, estimate 1m 36s to finish\n",
      "Run 47/63. 6s per run, estimate 1m 30s to finish\n",
      "Run 48/63. 6s per run, estimate 1m 24s to finish\n",
      "Run 49/63. 6s per run, estimate 1m 18s to finish\n",
      "Run 50/63. 6s per run, estimate 1m 12s to finish\n",
      "Run 51/63. 6s per run, estimate 1m 6s to finish\n",
      "Run 52/63. 6s per run, estimate 1m 0s to finish\n",
      "Run 53/63. 6s per run, estimate 54s to finish\n",
      "Run 54/63. 6s per run, estimate 48s to finish\n",
      "Run 55/63. 6s per run, estimate 42s to finish\n",
      "Run 56/63. 6s per run, estimate 36s to finish\n",
      "Run 57/63. 6s per run, estimate 30s to finish\n",
      "Run 58/63. 6s per run, estimate 24s to finish\n",
      "Run 59/63. 6s per run, estimate 18s to finish\n",
      "Run 60/63. 6s per run, estimate 12s to finish\n",
      "Run 61/63. 6s per run, estimate 6s to finish\n",
      "Run 62/63. 6s per run, estimate 0s to finish\n",
      "Run 63/63. 6s per run, estimate 59m 53s to finish\n",
      "Measurement finished\n"
     ]
    }
   ],
   "source": [
    "rsk.run(experiment=run_baran)"
   ]
  },
  {
   "cell_type": "markdown",
   "metadata": {},
   "source": [
    "# ruska naive"
   ]
  },
  {
   "cell_type": "code",
   "execution_count": 6,
   "metadata": {},
   "outputs": [],
   "source": [
    "rsk_naive = Ruska(name='2022-05-31-breast-cancer-jenga-diligent-naive',\n",
    "             description='''Die Messung auf dem Adult-Datensatz war etwas enttäuschend. Ich habe in der \n",
    "             pdep-Thesis nach Ergebnissen geschaut. Auf Seite 46 findet sich eine Tabelle, aus der man die\n",
    "             durchschnittliche Größe der LHS ablesen kann. Dort ist der breast-cancer Datensatz mit durchschnittlicher\n",
    "             LHS-Größe von 3.9 Attributen aufgeführt.''',\n",
    "             commit='ca6f5e8a4904fdaa2f7c862590cda9a7b09dfb84',\n",
    "             config={'dataset': 'breast-cancer',\n",
    "                     'sampling': 'MCAR',\n",
    "                     'error_fraction': .03,\n",
    "                     'labeling_budget': 20,\n",
    "                     'feature_generators': ['value', 'domain', 'vicinity'],\n",
    "                     'classification_model': 'ABC',\n",
    "                     'vicinity_orders': [1],\n",
    "                     'vicinity_feature_generator': 'naive',\n",
    "                     'n_best_pdeps': 5,\n",
    "                     'score_strategy': 'multiply',\n",
    "                     },\n",
    "             ranges={'sampling': ['MCAR', 'MAR', 'MNAR'],\n",
    "                     'error_fraction': [.03, .05, .1, .2, .3, .4, .5],\n",
    "                     },\n",
    "             runs=3,\n",
    "             save_path='/Users/philipp/code/experimente/2022W21-Jenga-Structured-Approach/'\n",
    "            )"
   ]
  },
  {
   "cell_type": "code",
   "execution_count": 7,
   "metadata": {},
   "outputs": [
    {
     "name": "stdout",
     "output_type": "stream",
     "text": [
      "Run 1/63. 0s per run, estimate 8s to finish\n",
      "Run 2/63. 0s per run, estimate 7s to finish\n",
      "Run 3/63. 0s per run, estimate 7s to finish\n",
      "Run 4/63. 0s per run, estimate 8s to finish\n",
      "Run 5/63. 0s per run, estimate 9s to finish\n",
      "Run 6/63. 0s per run, estimate 9s to finish\n",
      "Run 7/63. 0s per run, estimate 10s to finish\n",
      "Run 8/63. 0s per run, estimate 11s to finish\n",
      "Run 9/63. 0s per run, estimate 12s to finish\n",
      "Run 10/63. 0s per run, estimate 12s to finish\n",
      "Run 11/63. 0s per run, estimate 11s to finish\n",
      "Run 12/63. 0s per run, estimate 11s to finish\n",
      "Run 13/63. 0s per run, estimate 10s to finish\n",
      "Run 14/63. 0s per run, estimate 10s to finish\n",
      "Run 15/63. 0s per run, estimate 9s to finish\n",
      "Run 16/63. 0s per run, estimate 11s to finish\n",
      "Run 17/63. 0s per run, estimate 12s to finish\n",
      "Run 18/63. 0s per run, estimate 13s to finish\n",
      "Run 19/63. 0s per run, estimate 13s to finish\n",
      "Run 20/63. 0s per run, estimate 12s to finish\n",
      "Run 21/63. 0s per run, estimate 11s to finish\n",
      "Run 22/63. 0s per run, estimate 11s to finish\n",
      "Run 23/63. 0s per run, estimate 10s to finish\n",
      "Run 24/63. 0s per run, estimate 10s to finish\n",
      "Run 25/63. 0s per run, estimate 9s to finish\n",
      "Run 26/63. 0s per run, estimate 9s to finish\n",
      "Run 27/63. 0s per run, estimate 8s to finish\n",
      "Run 28/63. 0s per run, estimate 8s to finish\n",
      "Run 29/63. 0s per run, estimate 7s to finish\n",
      "Run 30/63. 0s per run, estimate 7s to finish\n",
      "Run 31/63. 0s per run, estimate 7s to finish\n",
      "Run 32/63. 0s per run, estimate 6s to finish\n",
      "Run 33/63. 0s per run, estimate 6s to finish\n",
      "Run 34/63. 0s per run, estimate 6s to finish\n",
      "Run 35/63. 0s per run, estimate 6s to finish\n",
      "Run 36/63. 0s per run, estimate 5s to finish\n",
      "Run 37/63. 0s per run, estimate 5s to finish\n",
      "Run 38/63. 0s per run, estimate 5s to finish\n",
      "Run 39/63. 0s per run, estimate 4s to finish\n",
      "Run 40/63. 0s per run, estimate 5s to finish\n",
      "Run 41/63. 0s per run, estimate 5s to finish\n",
      "Run 42/63. 0s per run, estimate 5s to finish\n",
      "Run 43/63. 0s per run, estimate 5s to finish\n",
      "Run 44/63. 0s per run, estimate 4s to finish\n",
      "Run 45/63. 0s per run, estimate 4s to finish\n",
      "Run 46/63. 0s per run, estimate 4s to finish\n",
      "Run 47/63. 0s per run, estimate 4s to finish\n",
      "Run 48/63. 0s per run, estimate 3s to finish\n",
      "Run 49/63. 0s per run, estimate 3s to finish\n",
      "Run 50/63. 0s per run, estimate 3s to finish\n",
      "Run 51/63. 0s per run, estimate 2s to finish\n",
      "Run 52/63. 0s per run, estimate 2s to finish\n",
      "Run 53/63. 0s per run, estimate 2s to finish\n",
      "Run 54/63. 0s per run, estimate 2s to finish\n",
      "Run 55/63. 0s per run, estimate 1s to finish\n",
      "Run 56/63. 0s per run, estimate 1s to finish\n",
      "Run 57/63. 0s per run, estimate 1s to finish\n",
      "Run 58/63. 0s per run, estimate 1s to finish\n",
      "Run 59/63. 0s per run, estimate 0s to finish\n",
      "Run 60/63. 0s per run, estimate 0s to finish\n",
      "Run 61/63. 0s per run, estimate 0s to finish\n",
      "Run 62/63. 0s per run, estimate 0s to finish\n",
      "Run 63/63. 0s per run, estimate 59m 59s to finish\n",
      "Measurement finished\n"
     ]
    }
   ],
   "source": [
    "rsk_naive.run(experiment=run_baran)"
   ]
  }
 ],
 "metadata": {
  "kernelspec": {
   "display_name": "Python 3 (ipykernel)",
   "language": "python",
   "name": "python3"
  },
  "language_info": {
   "codemirror_mode": {
    "name": "ipython",
    "version": 3
   },
   "file_extension": ".py",
   "mimetype": "text/x-python",
   "name": "python",
   "nbconvert_exporter": "python",
   "pygments_lexer": "ipython3",
   "version": "3.7.10"
  }
 },
 "nbformat": 4,
 "nbformat_minor": 4
}
