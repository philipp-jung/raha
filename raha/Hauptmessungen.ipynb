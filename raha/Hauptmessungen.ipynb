{
 "cells": [
  {
   "cell_type": "markdown",
   "metadata": {},
   "source": [
    "# Baran Experiment"
   ]
  },
  {
   "cell_type": "code",
   "execution_count": 1,
   "metadata": {},
   "outputs": [],
   "source": [
    "%load_ext autoreload\n",
    "%autoreload 2"
   ]
  },
  {
   "cell_type": "code",
   "execution_count": 1,
   "metadata": {},
   "outputs": [],
   "source": [
    "import pandas\n",
    "import IPython.display\n",
    "\n",
    "import raha\n",
    "import datetime"
   ]
  },
  {
   "cell_type": "code",
   "execution_count": 3,
   "metadata": {
    "tags": []
   },
   "outputs": [],
   "source": [
    "def format_delta(delta: datetime.timedelta):\n",
    "    hours, remainder = divmod(delta.total_seconds(), 3600)\n",
    "    minutes, seconds = divmod(remainder, 60)\n",
    "    \n",
    "    h = f'{int(hours)}h ' if hours > 0 else ''\n",
    "    m = f'{int(minutes)}m ' if minutes > 0 else ''\n",
    "    s = f'{int(seconds)}s'\n",
    "    \n",
    "    return h+m+s\n",
    "\n",
    "def estimate_time_to_finish(times: list, current_run_i: int, total_runs: int):\n",
    "    deltas = []\n",
    "    i = 1\n",
    "    \n",
    "    while i+1 <= len(times):\n",
    "        deltas.append(times[i] - times[i-1])\n",
    "        i += 1\n",
    "        \n",
    "    avg = sum(deltas, datetime.timedelta())/len(deltas)\n",
    "    return f'Run {current_run_i}/{total_runs}. {format_delta(avg)} per run, estimate {format_delta(avg*(total_runs - current_run_i))} to finish'"
   ]
  },
  {
   "cell_type": "code",
   "execution_count": 4,
   "metadata": {
    "tags": []
   },
   "outputs": [],
   "source": [
    "letter = {\"name\": \"letter\",\n",
    "         \"path\": \"../datasets/letter/dirty.csv\",\n",
    "         \"clean_path\": \"../datasets/letter/clean.csv\"}\n",
    "\n",
    "adult = {\n",
    "    \"name\": \"adult\",\n",
    "    \"path\": \"../datasets/adult/dirty.csv\",\n",
    "    \"clean_path\": \"../datasets/adult/clean.csv\"\n",
    "}\n",
    "beers = {\n",
    "    \"name\": \"beers\",\n",
    "    \"path\": \"../datasets/beers/dirty.csv\",\n",
    "    \"clean_path\": \"../datasets/beers/clean.csv\"\n",
    "}\n",
    "flights = {\n",
    "    \"name\": \"flights\",\n",
    "    \"path\": \"../datasets/flights/dirty.csv\",\n",
    "    \"clean_path\": \"../datasets/flights/clean.csv\"\n",
    "}\n",
    "movies = {\n",
    "    \"name\": \"movies\",\n",
    "    \"path\": \"../datasets/movies_1/dirty.csv\",\n",
    "    \"clean_path\": \"../datasets/movies_1/clean.csv\"\n",
    "}\n",
    "rayyan = {\n",
    "    \"name\": \"rayyan\",\n",
    "    \"path\": \"../datasets/rayyan/dirty.csv\",\n",
    "    \"clean_path\": \"../datasets/rayyan/clean.csv\"\n",
    "}\n",
    "tax = {\n",
    "    \"name\": \"tax\",\n",
    "    \"path\": \"../datasets/tax/dirty.csv\",\n",
    "    \"clean_path\": \"../datasets/tax/clean.csv\"\n",
    "}\n",
    "toy = {\n",
    "    \"name\": \"toy\",\n",
    "    \"path\": \"../datasets/toy/dirty.csv\",\n",
    "    \"clean_path\": \"../datasets/toy/clean.csv\"\n",
    "}\n",
    "hospital = {\n",
    "    \"name\": \"hospital\",\n",
    "    \"path\": \"../datasets/hospital/dirty.csv\",\n",
    "    \"clean_path\": \"../datasets/hospital/clean.csv\"\n",
    "}"
   ]
  },
  {
   "cell_type": "code",
   "execution_count": 6,
   "metadata": {
    "tags": []
   },
   "outputs": [
    {
     "name": "stdout",
     "output_type": "stream",
     "text": [
      "{'dataset': 'beers', 'run': 0, 'feature_generator': 'pdep', 'precision': 0.9529845586540677, 'recall': 0.9479596515359927, 'f1': 0.9504654637398001}\n",
      "{'dataset': 'beers', 'run': 1, 'feature_generator': 'pdep', 'precision': 0.8616874135546335, 'recall': 0.8569463548830811, 'f1': 0.8593103448275863}\n",
      "{'dataset': 'beers', 'run': 2, 'feature_generator': 'pdep', 'precision': 0.9741876008296843, 'recall': 0.969050894085282, 'f1': 0.9716124583381219}\n",
      "{'dataset': 'beers', 'run': 3, 'feature_generator': 'pdep', 'precision': 0.8959849729983564, 'recall': 0.874828060522696, 'f1': 0.885280129915323}\n",
      "{'dataset': 'beers', 'run': 4, 'feature_generator': 'pdep', 'precision': 0.981468449448745, 'recall': 0.9591930307198533, 'f1': 0.9702028985507247}\n",
      "{'dataset': 'beers', 'run': 5, 'feature_generator': 'pdep', 'precision': 0.9699741965751818, 'recall': 0.9479596515359927, 'f1': 0.958840579710145}\n",
      "{'dataset': 'beers', 'run': 6, 'feature_generator': 'pdep', 'precision': 0.8232311592532842, 'recall': 0.8188904172397983, 'f1': 0.8210550511435467}\n",
      "{'dataset': 'beers', 'run': 7, 'feature_generator': 'pdep', 'precision': 0.8972554539057002, 'recall': 0.8768913342503438, 'f1': 0.8869565217391304}\n",
      "{'dataset': 'beers', 'run': 8, 'feature_generator': 'pdep', 'precision': 0.8869665513264129, 'recall': 0.8814763869784502, 'f1': 0.8842129469932162}\n",
      "{'dataset': 'beers', 'run': 9, 'feature_generator': 'pdep', 'precision': 0.8924630194881428, 'recall': 0.8713892709766162, 'f1': 0.8818002551908132}\n",
      "{'dataset': 'beers', 'run': 0, 'feature_generator': 'naive', 'precision': 0.9601566098572086, 'recall': 0.9557542411737735, 'f1': 0.9579503676470589}\n",
      "{'dataset': 'beers', 'run': 1, 'feature_generator': 'naive', 'precision': 0.9665083135391924, 'recall': 0.9328289775332417, 'f1': 0.9493700419972002}\n",
      "{'dataset': 'beers', 'run': 2, 'feature_generator': 'naive', 'precision': 0.9738717339667459, 'recall': 0.9399358092618065, 'f1': 0.9566028931404573}\n",
      "{'dataset': 'beers', 'run': 3, 'feature_generator': 'naive', 'precision': 0.8555964993090741, 'recall': 0.8516735442457588, 'f1': 0.8536305147058824}\n",
      "{'dataset': 'beers', 'run': 4, 'feature_generator': 'naive', 'precision': 0.9625555815586239, 'recall': 0.9429160935350757, 'f1': 0.9526346265199768}\n",
      "{'dataset': 'beers', 'run': 5, 'feature_generator': 'naive', 'precision': 0.9166270783847981, 'recall': 0.8846859238881247, 'f1': 0.9003733084461036}\n",
      "{'dataset': 'beers', 'run': 6, 'feature_generator': 'naive', 'precision': 0.9579979879275654, 'recall': 0.8732232920678588, 'f1': 0.9136483569201247}\n",
      "{'dataset': 'beers', 'run': 7, 'feature_generator': 'naive', 'precision': 0.9757122839794489, 'recall': 0.9578175149014214, 'f1': 0.966682091624248}\n",
      "{'dataset': 'beers', 'run': 8, 'feature_generator': 'naive', 'precision': 0.9622032726434663, 'recall': 0.9571297569922054, 'f1': 0.9596598092173314}\n",
      "{'dataset': 'beers', 'run': 9, 'feature_generator': 'naive', 'precision': 0.9731433909388136, 'recall': 0.9552957359009628, 'f1': 0.9641369736233225}\n",
      "{'dataset': 'hospital', 'run': 0, 'feature_generator': 'pdep', 'precision': 0.9729119638826185, 'recall': 0.8467583497053045, 'f1': 0.9054621848739495}\n",
      "{'dataset': 'hospital', 'run': 1, 'feature_generator': 'pdep', 'precision': 0.9456521739130435, 'recall': 0.8546168958742633, 'f1': 0.8978328173374613}\n",
      "{'dataset': 'hospital', 'run': 2, 'feature_generator': 'pdep', 'precision': 0.9166666666666666, 'recall': 0.7996070726915521, 'f1': 0.8541448058761805}\n",
      "{'dataset': 'hospital', 'run': 3, 'feature_generator': 'pdep', 'precision': 0.9434782608695652, 'recall': 0.8526522593320236, 'f1': 0.8957688338493293}\n",
      "{'dataset': 'hospital', 'run': 4, 'feature_generator': 'pdep', 'precision': 0.9617117117117117, 'recall': 0.8388998035363457, 'f1': 0.8961175236096537}\n",
      "{'dataset': 'hospital', 'run': 5, 'feature_generator': 'pdep', 'precision': 0.9369369369369369, 'recall': 0.8172888015717092, 'f1': 0.8730325288562434}\n",
      "{'dataset': 'hospital', 'run': 6, 'feature_generator': 'pdep', 'precision': 0.9774774774774775, 'recall': 0.8526522593320236, 'f1': 0.9108079748163694}\n",
      "{'dataset': 'hospital', 'run': 7, 'feature_generator': 'pdep', 'precision': 0.9436936936936937, 'recall': 0.8231827111984283, 'f1': 0.8793284365162645}\n",
      "{'dataset': 'hospital', 'run': 8, 'feature_generator': 'pdep', 'precision': 0.9166666666666666, 'recall': 0.7996070726915521, 'f1': 0.8541448058761805}\n",
      "{'dataset': 'hospital', 'run': 9, 'feature_generator': 'pdep', 'precision': 0.972972972972973, 'recall': 0.8487229862475442, 'f1': 0.906610703043022}\n",
      "{'dataset': 'hospital', 'run': 0, 'feature_generator': 'naive', 'precision': 0.9364035087719298, 'recall': 0.8388998035363457, 'f1': 0.8849740932642486}\n",
      "{'dataset': 'hospital', 'run': 1, 'feature_generator': 'naive', 'precision': 0.8801742919389978, 'recall': 0.793713163064833, 'f1': 0.8347107438016528}\n",
      "{'dataset': 'hospital', 'run': 2, 'feature_generator': 'naive', 'precision': 0.8820960698689956, 'recall': 0.793713163064833, 'f1': 0.8355739400206825}\n",
      "{'dataset': 'hospital', 'run': 3, 'feature_generator': 'naive', 'precision': 0.9617117117117117, 'recall': 0.8388998035363457, 'f1': 0.8961175236096537}\n",
      "{'dataset': 'hospital', 'run': 4, 'feature_generator': 'naive', 'precision': 0.9192139737991266, 'recall': 0.8271119842829077, 'f1': 0.8707342295760083}\n",
      "{'dataset': 'hospital', 'run': 5, 'feature_generator': 'naive', 'precision': 0.9797297297297297, 'recall': 0.8546168958742633, 'f1': 0.9129066107030429}\n",
      "{'dataset': 'hospital', 'run': 6, 'feature_generator': 'naive', 'precision': 0.9478260869565217, 'recall': 0.8565815324165029, 'f1': 0.8998968008255933}\n",
      "{'dataset': 'hospital', 'run': 7, 'feature_generator': 'naive', 'precision': 0.9065217391304348, 'recall': 0.8192534381139489, 'f1': 0.8606811145510836}\n",
      "{'dataset': 'hospital', 'run': 8, 'feature_generator': 'naive', 'precision': 0.9452954048140044, 'recall': 0.8487229862475442, 'f1': 0.8944099378881987}\n",
      "{'dataset': 'hospital', 'run': 9, 'feature_generator': 'naive', 'precision': 0.941304347826087, 'recall': 0.8506876227897839, 'f1': 0.8937048503611971}\n",
      "{'dataset': 'rayyan', 'run': 0, 'feature_generator': 'pdep', 'precision': 0.5606060606060606, 'recall': 0.2732067510548523, 'f1': 0.36737588652482267}\n",
      "{'dataset': 'rayyan', 'run': 1, 'feature_generator': 'pdep', 'precision': 0.3225806451612903, 'recall': 0.26371308016877637, 'f1': 0.2901915264074289}\n",
      "{'dataset': 'rayyan', 'run': 2, 'feature_generator': 'pdep', 'precision': 0.31592689295039167, 'recall': 0.2552742616033755, 'f1': 0.2823803967327888}\n",
      "{'dataset': 'rayyan', 'run': 3, 'feature_generator': 'pdep', 'precision': 0.5627802690582959, 'recall': 0.26476793248945146, 'f1': 0.3601147776183644}\n",
      "{'dataset': 'rayyan', 'run': 4, 'feature_generator': 'pdep', 'precision': 0.328, 'recall': 0.25949367088607594, 'f1': 0.28975265017667845}\n",
      "{'dataset': 'rayyan', 'run': 5, 'feature_generator': 'pdep', 'precision': 0.3116219667943806, 'recall': 0.25738396624472576, 'f1': 0.28191796649335643}\n",
      "{'dataset': 'rayyan', 'run': 6, 'feature_generator': 'pdep', 'precision': 0.34296977660972405, 'recall': 0.27531645569620256, 'f1': 0.30544177881802226}\n",
      "{'dataset': 'rayyan', 'run': 7, 'feature_generator': 'pdep', 'precision': 0.31402831402831405, 'recall': 0.25738396624472576, 'f1': 0.2828985507246377}\n",
      "{'dataset': 'rayyan', 'run': 8, 'feature_generator': 'pdep', 'precision': 0.3166023166023166, 'recall': 0.25949367088607594, 'f1': 0.2852173913043478}\n",
      "{'dataset': 'rayyan', 'run': 9, 'feature_generator': 'pdep', 'precision': 0.5442477876106194, 'recall': 0.25949367088607594, 'f1': 0.3514285714285715}\n",
      "{'dataset': 'rayyan', 'run': 0, 'feature_generator': 'naive', 'precision': 0.49016100178890876, 'recall': 0.2890295358649789, 'f1': 0.36363636363636365}\n",
      "{'dataset': 'rayyan', 'run': 1, 'feature_generator': 'naive', 'precision': 0.49016100178890876, 'recall': 0.2890295358649789, 'f1': 0.36363636363636365}\n",
      "{'dataset': 'rayyan', 'run': 2, 'feature_generator': 'naive', 'precision': 0.8838709677419355, 'recall': 0.2890295358649789, 'f1': 0.43561208267090623}\n",
      "{'dataset': 'rayyan', 'run': 3, 'feature_generator': 'naive', 'precision': 0.36147757255936674, 'recall': 0.2890295358649789, 'f1': 0.3212192262602579}\n",
      "{'dataset': 'rayyan', 'run': 4, 'feature_generator': 'naive', 'precision': 0.45993031358885017, 'recall': 0.27848101265822783, 'f1': 0.34691195795006574}\n",
      "{'dataset': 'rayyan', 'run': 5, 'feature_generator': 'naive', 'precision': 0.8698412698412699, 'recall': 0.2890295358649789, 'f1': 0.4338875692794934}\n",
      "{'dataset': 'rayyan', 'run': 6, 'feature_generator': 'naive', 'precision': 0.8548387096774194, 'recall': 0.2795358649789029, 'f1': 0.4213036565977742}\n",
      "{'dataset': 'rayyan', 'run': 7, 'feature_generator': 'naive', 'precision': 0.34987277353689566, 'recall': 0.290084388185654, 'f1': 0.31718569780853517}\n",
      "{'dataset': 'rayyan', 'run': 8, 'feature_generator': 'naive', 'precision': 0.8509316770186336, 'recall': 0.2890295358649789, 'f1': 0.431496062992126}\n",
      "{'dataset': 'rayyan', 'run': 9, 'feature_generator': 'naive', 'precision': 0.8589341692789969, 'recall': 0.2890295358649789, 'f1': 0.43251775848460927}\n",
      "{'dataset': 'flights', 'run': 0, 'feature_generator': 'pdep', 'precision': 0.9827919982791998, 'recall': 0.9286585365853659, 'f1': 0.9549587208694744}\n",
      "{'dataset': 'flights', 'run': 1, 'feature_generator': 'pdep', 'precision': 0.9832149774047773, 'recall': 0.9286585365853659, 'f1': 0.9551583568516776}\n",
      "{'dataset': 'flights', 'run': 2, 'feature_generator': 'pdep', 'precision': 0.9857111928988959, 'recall': 0.9254065040650407, 'f1': 0.9546074011950939}\n",
      "{'dataset': 'flights', 'run': 3, 'feature_generator': 'pdep', 'precision': 0.9853353461289627, 'recall': 0.9286585365853659, 'f1': 0.9561577901014963}\n",
      "{'dataset': 'flights', 'run': 4, 'feature_generator': 'pdep', 'precision': 0.9917516822227046, 'recall': 0.9286585365853659, 'f1': 0.9591686784927049}\n",
      "{'dataset': 'flights', 'run': 5, 'feature_generator': 'pdep', 'precision': 0.973487278169767, 'recall': 0.9254065040650407, 'f1': 0.9488381785974784}\n",
      "{'dataset': 'flights', 'run': 6, 'feature_generator': 'pdep', 'precision': 0.9891751461355272, 'recall': 0.9286585365853659, 'f1': 0.9579620505294056}\n",
      "{'dataset': 'flights', 'run': 7, 'feature_generator': 'pdep', 'precision': 0.9806825499034127, 'recall': 0.9286585365853659, 'f1': 0.9539617914187285}\n",
      "{'dataset': 'flights', 'run': 8, 'feature_generator': 'pdep', 'precision': 0.9853353461289627, 'recall': 0.9286585365853659, 'f1': 0.9561577901014963}\n",
      "{'dataset': 'flights', 'run': 9, 'feature_generator': 'pdep', 'precision': 0.9917516822227046, 'recall': 0.9286585365853659, 'f1': 0.9591686784927049}\n",
      "{'dataset': 'flights', 'run': 0, 'feature_generator': 'naive', 'precision': 0.9789292625241883, 'recall': 0.9254065040650407, 'f1': 0.9514157350329118}\n",
      "{'dataset': 'flights', 'run': 1, 'feature_generator': 'naive', 'precision': 0.988278706316475, 'recall': 0.9254065040650407, 'f1': 0.9558098037157552}\n",
      "{'dataset': 'flights', 'run': 2, 'feature_generator': 'naive', 'precision': 0.9789292625241883, 'recall': 0.9254065040650407, 'f1': 0.9514157350329118}\n",
      "{'dataset': 'flights', 'run': 3, 'feature_generator': 'naive', 'precision': 0.996498139636682, 'recall': 0.9254065040650407, 'f1': 0.9596374749710191}\n",
      "{'dataset': 'flights', 'run': 4, 'feature_generator': 'naive', 'precision': 1.0, 'recall': 0.9286585365853659, 'f1': 0.9630098008220045}\n",
      "{'dataset': 'flights', 'run': 5, 'feature_generator': 'naive', 'precision': 0.9932608695652174, 'recall': 0.9286585365853659, 'f1': 0.959873949579832}\n",
      "{'dataset': 'flights', 'run': 6, 'feature_generator': 'naive', 'precision': 0.9893778452200304, 'recall': 0.9276422764227642, 'f1': 0.9575159970628344}\n",
      "{'dataset': 'flights', 'run': 7, 'feature_generator': 'naive', 'precision': 0.9897826086956522, 'recall': 0.9254065040650407, 'f1': 0.9565126050420167}\n",
      "{'dataset': 'flights', 'run': 8, 'feature_generator': 'naive', 'precision': 0.996498139636682, 'recall': 0.9254065040650407, 'f1': 0.9596374749710191}\n",
      "{'dataset': 'flights', 'run': 9, 'feature_generator': 'naive', 'precision': 0.9851228978007762, 'recall': 0.9286585365853659, 'f1': 0.9560577526679223}\n"
     ]
    }
   ],
   "source": [
    "datasets = [beers, hospital, rayyan, flights]\n",
    "results = []\n",
    "n_pdeps = 4\n",
    "vicinity_order = [1]\n",
    "feature_generators = ['pdep', 'naive']\n",
    "generator_setups = [[\"value\", \"domain\", \"vicinity\"]]\n",
    "\n",
    "\n",
    "for dataset_dictionary in datasets:\n",
    "    for feat in feature_generators:\n",
    "        for run in range(10):\n",
    "            data = raha.Dataset(dataset_dictionary)\n",
    "            data.detected_cells = dict(data.get_actual_errors_dictionary())\n",
    "            app = raha.Correction()\n",
    "            app.LABELING_BUDGET = 20\n",
    "            app.VERBOSE = False\n",
    "            app.FEATURE_GENERATORS = [\"value\", \"domain\", \"vicinity\"]\n",
    "            app.CLASSIFICATION_MODEL = \"ABC\"\n",
    "            app.VICINITY_ORDERS = vicinity_order\n",
    "            app.VICINITY_FEATURE_GENERATOR = feat\n",
    "            app.N_BEST_PDEPS = n_pdeps\n",
    "\n",
    "            d = app.initialize_dataset(data)\n",
    "            app.initialize_models(d)\n",
    "\n",
    "            while len(d.labeled_tuples) < app.LABELING_BUDGET:\n",
    "                app.sample_tuple(d, random_seed=None)\n",
    "                app.label_with_ground_truth(d)\n",
    "                app.update_models(d)\n",
    "                app.generate_features(d, synchronous=False)\n",
    "                app.predict_corrections(d, random_seed=None)\n",
    "\n",
    "            p, r, f = d.get_data_cleaning_evaluation(d.corrected_cells)[-3:]\n",
    "            result = {'dataset': d.name, \n",
    "                      'run': run,\n",
    "                      'feature_generator': feat, \n",
    "                      'precision': p, 'recall': r, 'f1': f, 'run': run}\n",
    "            results.append(result)\n",
    "            print(result)"
   ]
  },
  {
   "cell_type": "code",
   "execution_count": 7,
   "metadata": {
    "collapsed": true,
    "jupyter": {
     "outputs_hidden": true
    },
    "tags": []
   },
   "outputs": [
    {
     "name": "stdout",
     "output_type": "stream",
     "text": [
      "[{'dataset': 'beers', 'run': 0, 'feature_generator': 'pdep', 'precision': 0.9529845586540677, 'recall': 0.9479596515359927, 'f1': 0.9504654637398001}, {'dataset': 'beers', 'run': 1, 'feature_generator': 'pdep', 'precision': 0.8616874135546335, 'recall': 0.8569463548830811, 'f1': 0.8593103448275863}, {'dataset': 'beers', 'run': 2, 'feature_generator': 'pdep', 'precision': 0.9741876008296843, 'recall': 0.969050894085282, 'f1': 0.9716124583381219}, {'dataset': 'beers', 'run': 3, 'feature_generator': 'pdep', 'precision': 0.8959849729983564, 'recall': 0.874828060522696, 'f1': 0.885280129915323}, {'dataset': 'beers', 'run': 4, 'feature_generator': 'pdep', 'precision': 0.981468449448745, 'recall': 0.9591930307198533, 'f1': 0.9702028985507247}, {'dataset': 'beers', 'run': 5, 'feature_generator': 'pdep', 'precision': 0.9699741965751818, 'recall': 0.9479596515359927, 'f1': 0.958840579710145}, {'dataset': 'beers', 'run': 6, 'feature_generator': 'pdep', 'precision': 0.8232311592532842, 'recall': 0.8188904172397983, 'f1': 0.8210550511435467}, {'dataset': 'beers', 'run': 7, 'feature_generator': 'pdep', 'precision': 0.8972554539057002, 'recall': 0.8768913342503438, 'f1': 0.8869565217391304}, {'dataset': 'beers', 'run': 8, 'feature_generator': 'pdep', 'precision': 0.8869665513264129, 'recall': 0.8814763869784502, 'f1': 0.8842129469932162}, {'dataset': 'beers', 'run': 9, 'feature_generator': 'pdep', 'precision': 0.8924630194881428, 'recall': 0.8713892709766162, 'f1': 0.8818002551908132}, {'dataset': 'beers', 'run': 0, 'feature_generator': 'naive', 'precision': 0.9601566098572086, 'recall': 0.9557542411737735, 'f1': 0.9579503676470589}, {'dataset': 'beers', 'run': 1, 'feature_generator': 'naive', 'precision': 0.9665083135391924, 'recall': 0.9328289775332417, 'f1': 0.9493700419972002}, {'dataset': 'beers', 'run': 2, 'feature_generator': 'naive', 'precision': 0.9738717339667459, 'recall': 0.9399358092618065, 'f1': 0.9566028931404573}, {'dataset': 'beers', 'run': 3, 'feature_generator': 'naive', 'precision': 0.8555964993090741, 'recall': 0.8516735442457588, 'f1': 0.8536305147058824}, {'dataset': 'beers', 'run': 4, 'feature_generator': 'naive', 'precision': 0.9625555815586239, 'recall': 0.9429160935350757, 'f1': 0.9526346265199768}, {'dataset': 'beers', 'run': 5, 'feature_generator': 'naive', 'precision': 0.9166270783847981, 'recall': 0.8846859238881247, 'f1': 0.9003733084461036}, {'dataset': 'beers', 'run': 6, 'feature_generator': 'naive', 'precision': 0.9579979879275654, 'recall': 0.8732232920678588, 'f1': 0.9136483569201247}, {'dataset': 'beers', 'run': 7, 'feature_generator': 'naive', 'precision': 0.9757122839794489, 'recall': 0.9578175149014214, 'f1': 0.966682091624248}, {'dataset': 'beers', 'run': 8, 'feature_generator': 'naive', 'precision': 0.9622032726434663, 'recall': 0.9571297569922054, 'f1': 0.9596598092173314}, {'dataset': 'beers', 'run': 9, 'feature_generator': 'naive', 'precision': 0.9731433909388136, 'recall': 0.9552957359009628, 'f1': 0.9641369736233225}, {'dataset': 'hospital', 'run': 0, 'feature_generator': 'pdep', 'precision': 0.9729119638826185, 'recall': 0.8467583497053045, 'f1': 0.9054621848739495}, {'dataset': 'hospital', 'run': 1, 'feature_generator': 'pdep', 'precision': 0.9456521739130435, 'recall': 0.8546168958742633, 'f1': 0.8978328173374613}, {'dataset': 'hospital', 'run': 2, 'feature_generator': 'pdep', 'precision': 0.9166666666666666, 'recall': 0.7996070726915521, 'f1': 0.8541448058761805}, {'dataset': 'hospital', 'run': 3, 'feature_generator': 'pdep', 'precision': 0.9434782608695652, 'recall': 0.8526522593320236, 'f1': 0.8957688338493293}, {'dataset': 'hospital', 'run': 4, 'feature_generator': 'pdep', 'precision': 0.9617117117117117, 'recall': 0.8388998035363457, 'f1': 0.8961175236096537}, {'dataset': 'hospital', 'run': 5, 'feature_generator': 'pdep', 'precision': 0.9369369369369369, 'recall': 0.8172888015717092, 'f1': 0.8730325288562434}, {'dataset': 'hospital', 'run': 6, 'feature_generator': 'pdep', 'precision': 0.9774774774774775, 'recall': 0.8526522593320236, 'f1': 0.9108079748163694}, {'dataset': 'hospital', 'run': 7, 'feature_generator': 'pdep', 'precision': 0.9436936936936937, 'recall': 0.8231827111984283, 'f1': 0.8793284365162645}, {'dataset': 'hospital', 'run': 8, 'feature_generator': 'pdep', 'precision': 0.9166666666666666, 'recall': 0.7996070726915521, 'f1': 0.8541448058761805}, {'dataset': 'hospital', 'run': 9, 'feature_generator': 'pdep', 'precision': 0.972972972972973, 'recall': 0.8487229862475442, 'f1': 0.906610703043022}, {'dataset': 'hospital', 'run': 0, 'feature_generator': 'naive', 'precision': 0.9364035087719298, 'recall': 0.8388998035363457, 'f1': 0.8849740932642486}, {'dataset': 'hospital', 'run': 1, 'feature_generator': 'naive', 'precision': 0.8801742919389978, 'recall': 0.793713163064833, 'f1': 0.8347107438016528}, {'dataset': 'hospital', 'run': 2, 'feature_generator': 'naive', 'precision': 0.8820960698689956, 'recall': 0.793713163064833, 'f1': 0.8355739400206825}, {'dataset': 'hospital', 'run': 3, 'feature_generator': 'naive', 'precision': 0.9617117117117117, 'recall': 0.8388998035363457, 'f1': 0.8961175236096537}, {'dataset': 'hospital', 'run': 4, 'feature_generator': 'naive', 'precision': 0.9192139737991266, 'recall': 0.8271119842829077, 'f1': 0.8707342295760083}, {'dataset': 'hospital', 'run': 5, 'feature_generator': 'naive', 'precision': 0.9797297297297297, 'recall': 0.8546168958742633, 'f1': 0.9129066107030429}, {'dataset': 'hospital', 'run': 6, 'feature_generator': 'naive', 'precision': 0.9478260869565217, 'recall': 0.8565815324165029, 'f1': 0.8998968008255933}, {'dataset': 'hospital', 'run': 7, 'feature_generator': 'naive', 'precision': 0.9065217391304348, 'recall': 0.8192534381139489, 'f1': 0.8606811145510836}, {'dataset': 'hospital', 'run': 8, 'feature_generator': 'naive', 'precision': 0.9452954048140044, 'recall': 0.8487229862475442, 'f1': 0.8944099378881987}, {'dataset': 'hospital', 'run': 9, 'feature_generator': 'naive', 'precision': 0.941304347826087, 'recall': 0.8506876227897839, 'f1': 0.8937048503611971}, {'dataset': 'rayyan', 'run': 0, 'feature_generator': 'pdep', 'precision': 0.5606060606060606, 'recall': 0.2732067510548523, 'f1': 0.36737588652482267}, {'dataset': 'rayyan', 'run': 1, 'feature_generator': 'pdep', 'precision': 0.3225806451612903, 'recall': 0.26371308016877637, 'f1': 0.2901915264074289}, {'dataset': 'rayyan', 'run': 2, 'feature_generator': 'pdep', 'precision': 0.31592689295039167, 'recall': 0.2552742616033755, 'f1': 0.2823803967327888}, {'dataset': 'rayyan', 'run': 3, 'feature_generator': 'pdep', 'precision': 0.5627802690582959, 'recall': 0.26476793248945146, 'f1': 0.3601147776183644}, {'dataset': 'rayyan', 'run': 4, 'feature_generator': 'pdep', 'precision': 0.328, 'recall': 0.25949367088607594, 'f1': 0.28975265017667845}, {'dataset': 'rayyan', 'run': 5, 'feature_generator': 'pdep', 'precision': 0.3116219667943806, 'recall': 0.25738396624472576, 'f1': 0.28191796649335643}, {'dataset': 'rayyan', 'run': 6, 'feature_generator': 'pdep', 'precision': 0.34296977660972405, 'recall': 0.27531645569620256, 'f1': 0.30544177881802226}, {'dataset': 'rayyan', 'run': 7, 'feature_generator': 'pdep', 'precision': 0.31402831402831405, 'recall': 0.25738396624472576, 'f1': 0.2828985507246377}, {'dataset': 'rayyan', 'run': 8, 'feature_generator': 'pdep', 'precision': 0.3166023166023166, 'recall': 0.25949367088607594, 'f1': 0.2852173913043478}, {'dataset': 'rayyan', 'run': 9, 'feature_generator': 'pdep', 'precision': 0.5442477876106194, 'recall': 0.25949367088607594, 'f1': 0.3514285714285715}, {'dataset': 'rayyan', 'run': 0, 'feature_generator': 'naive', 'precision': 0.49016100178890876, 'recall': 0.2890295358649789, 'f1': 0.36363636363636365}, {'dataset': 'rayyan', 'run': 1, 'feature_generator': 'naive', 'precision': 0.49016100178890876, 'recall': 0.2890295358649789, 'f1': 0.36363636363636365}, {'dataset': 'rayyan', 'run': 2, 'feature_generator': 'naive', 'precision': 0.8838709677419355, 'recall': 0.2890295358649789, 'f1': 0.43561208267090623}, {'dataset': 'rayyan', 'run': 3, 'feature_generator': 'naive', 'precision': 0.36147757255936674, 'recall': 0.2890295358649789, 'f1': 0.3212192262602579}, {'dataset': 'rayyan', 'run': 4, 'feature_generator': 'naive', 'precision': 0.45993031358885017, 'recall': 0.27848101265822783, 'f1': 0.34691195795006574}, {'dataset': 'rayyan', 'run': 5, 'feature_generator': 'naive', 'precision': 0.8698412698412699, 'recall': 0.2890295358649789, 'f1': 0.4338875692794934}, {'dataset': 'rayyan', 'run': 6, 'feature_generator': 'naive', 'precision': 0.8548387096774194, 'recall': 0.2795358649789029, 'f1': 0.4213036565977742}, {'dataset': 'rayyan', 'run': 7, 'feature_generator': 'naive', 'precision': 0.34987277353689566, 'recall': 0.290084388185654, 'f1': 0.31718569780853517}, {'dataset': 'rayyan', 'run': 8, 'feature_generator': 'naive', 'precision': 0.8509316770186336, 'recall': 0.2890295358649789, 'f1': 0.431496062992126}, {'dataset': 'rayyan', 'run': 9, 'feature_generator': 'naive', 'precision': 0.8589341692789969, 'recall': 0.2890295358649789, 'f1': 0.43251775848460927}, {'dataset': 'flights', 'run': 0, 'feature_generator': 'pdep', 'precision': 0.9827919982791998, 'recall': 0.9286585365853659, 'f1': 0.9549587208694744}, {'dataset': 'flights', 'run': 1, 'feature_generator': 'pdep', 'precision': 0.9832149774047773, 'recall': 0.9286585365853659, 'f1': 0.9551583568516776}, {'dataset': 'flights', 'run': 2, 'feature_generator': 'pdep', 'precision': 0.9857111928988959, 'recall': 0.9254065040650407, 'f1': 0.9546074011950939}, {'dataset': 'flights', 'run': 3, 'feature_generator': 'pdep', 'precision': 0.9853353461289627, 'recall': 0.9286585365853659, 'f1': 0.9561577901014963}, {'dataset': 'flights', 'run': 4, 'feature_generator': 'pdep', 'precision': 0.9917516822227046, 'recall': 0.9286585365853659, 'f1': 0.9591686784927049}, {'dataset': 'flights', 'run': 5, 'feature_generator': 'pdep', 'precision': 0.973487278169767, 'recall': 0.9254065040650407, 'f1': 0.9488381785974784}, {'dataset': 'flights', 'run': 6, 'feature_generator': 'pdep', 'precision': 0.9891751461355272, 'recall': 0.9286585365853659, 'f1': 0.9579620505294056}, {'dataset': 'flights', 'run': 7, 'feature_generator': 'pdep', 'precision': 0.9806825499034127, 'recall': 0.9286585365853659, 'f1': 0.9539617914187285}, {'dataset': 'flights', 'run': 8, 'feature_generator': 'pdep', 'precision': 0.9853353461289627, 'recall': 0.9286585365853659, 'f1': 0.9561577901014963}, {'dataset': 'flights', 'run': 9, 'feature_generator': 'pdep', 'precision': 0.9917516822227046, 'recall': 0.9286585365853659, 'f1': 0.9591686784927049}, {'dataset': 'flights', 'run': 0, 'feature_generator': 'naive', 'precision': 0.9789292625241883, 'recall': 0.9254065040650407, 'f1': 0.9514157350329118}, {'dataset': 'flights', 'run': 1, 'feature_generator': 'naive', 'precision': 0.988278706316475, 'recall': 0.9254065040650407, 'f1': 0.9558098037157552}, {'dataset': 'flights', 'run': 2, 'feature_generator': 'naive', 'precision': 0.9789292625241883, 'recall': 0.9254065040650407, 'f1': 0.9514157350329118}, {'dataset': 'flights', 'run': 3, 'feature_generator': 'naive', 'precision': 0.996498139636682, 'recall': 0.9254065040650407, 'f1': 0.9596374749710191}, {'dataset': 'flights', 'run': 4, 'feature_generator': 'naive', 'precision': 1.0, 'recall': 0.9286585365853659, 'f1': 0.9630098008220045}, {'dataset': 'flights', 'run': 5, 'feature_generator': 'naive', 'precision': 0.9932608695652174, 'recall': 0.9286585365853659, 'f1': 0.959873949579832}, {'dataset': 'flights', 'run': 6, 'feature_generator': 'naive', 'precision': 0.9893778452200304, 'recall': 0.9276422764227642, 'f1': 0.9575159970628344}, {'dataset': 'flights', 'run': 7, 'feature_generator': 'naive', 'precision': 0.9897826086956522, 'recall': 0.9254065040650407, 'f1': 0.9565126050420167}, {'dataset': 'flights', 'run': 8, 'feature_generator': 'naive', 'precision': 0.996498139636682, 'recall': 0.9254065040650407, 'f1': 0.9596374749710191}, {'dataset': 'flights', 'run': 9, 'feature_generator': 'naive', 'precision': 0.9851228978007762, 'recall': 0.9286585365853659, 'f1': 0.9560577526679223}]\n"
     ]
    }
   ],
   "source": [
    "print(results)"
   ]
  }
 ],
 "metadata": {
  "kernelspec": {
   "display_name": "Python 3 (ipykernel)",
   "language": "python",
   "name": "python3"
  },
  "language_info": {
   "codemirror_mode": {
    "name": "ipython",
    "version": 3
   },
   "file_extension": ".py",
   "mimetype": "text/x-python",
   "name": "python",
   "nbconvert_exporter": "python",
   "pygments_lexer": "ipython3",
   "version": "3.7.10"
  }
 },
 "nbformat": 4,
 "nbformat_minor": 4
}
