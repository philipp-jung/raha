{
 "cells": [
  {
   "cell_type": "markdown",
   "metadata": {},
   "source": [
    "# Baran Experiment"
   ]
  },
  {
   "cell_type": "code",
   "execution_count": 1,
   "metadata": {},
   "outputs": [],
   "source": [
    "%load_ext autoreload\n",
    "%autoreload 2"
   ]
  },
  {
   "cell_type": "code",
   "execution_count": 2,
   "metadata": {},
   "outputs": [],
   "source": [
    "import pandas\n",
    "import IPython.display\n",
    "\n",
    "import raha\n",
    "import datetime\n",
    "from ruska import Ruska"
   ]
  },
  {
   "cell_type": "code",
   "execution_count": 3,
   "metadata": {},
   "outputs": [],
   "source": [
    "def run_baran(dataset, sampling, error_fraction, labeling_budget, feature_generators, classification_model, vicinity_orders, vicinity_feature_generator, n_best_pdeps, score_strategy, n_rows, run):\n",
    "    rate_formatted = str(error_fraction).split('.')[1]\n",
    "    data_dict = {\"name\": dataset,\n",
    "                 \"path\": f\"../datasets/{dataset}/{sampling}/dirty_{rate_formatted}.csv\",\n",
    "                 \"clean_path\": f\"../datasets/{dataset}/clean.csv\"}\n",
    "\n",
    "    data = raha.Dataset(data_dict, n_rows=n_rows)\n",
    "    data.detected_cells = dict(data.get_actual_errors_dictionary())\n",
    "    app = raha.Correction()\n",
    "    app.LABELING_BUDGET = labeling_budget\n",
    "    app.VERBOSE = False\n",
    "    app.FEATURE_GENERATORS = feature_generators\n",
    "    app.CLASSIFICATION_MODEL = classification_model\n",
    "    app.VICINITY_ORDERS = vicinity_orders\n",
    "    app.VICINITY_FEATURE_GENERATOR = vicinity_feature_generator\n",
    "    app.N_BEST_PDEPS = n_best_pdeps\n",
    "    app.PDEP_SCORE_STRATEGY = score_strategy\n",
    "\n",
    "    d = app.initialize_dataset(data)\n",
    "    app.initialize_models(d)\n",
    "    while len(d.labeled_tuples) < app.LABELING_BUDGET:\n",
    "        app.sample_tuple(d, random_seed=None)\n",
    "        app.label_with_ground_truth(d)\n",
    "        app.update_models(d)\n",
    "        app.generate_features(d, synchronous=True)\n",
    "        app.predict_corrections(d, random_seed=None)\n",
    "\n",
    "        p, r, f = d.get_data_cleaning_evaluation(d.corrected_cells)[-3:]\n",
    "    return {'precision': p, 'recall': r, 'f1': f}"
   ]
  },
  {
   "cell_type": "code",
   "execution_count": 4,
   "metadata": {},
   "outputs": [],
   "source": [
    "rsk = Ruska(name='2022-06-05-nursery-simple-mcar',\n",
    "             description='''Ich wiederhole die Messung auf dem Datensatz mit\n",
    "             Corruptors simple_mcar Korruption.''',\n",
    "             commit='ac5596853f8d581640cbd3eced08e98e42eb07a3',\n",
    "             config={'dataset': 'nursery',\n",
    "                     'sampling': 'MCAR',\n",
    "                     'error_fraction': .1,\n",
    "                     'labeling_budget': 20,\n",
    "                     'feature_generators': ['value', 'domain', 'vicinity'],\n",
    "                     'classification_model': 'ABC',\n",
    "                     'vicinity_orders': [1, 2],\n",
    "                     'vicinity_feature_generator': 'pdep',\n",
    "                     'n_best_pdeps': 5,\n",
    "                     'score_strategy': 'multiply',\n",
    "                     'n_rows': None,\n",
    "                     },\n",
    "             ranges={\n",
    "                     'error_fraction': [.1, .2, .3, .4, .5, .6, .7, .8, .9, .99],\n",
    "                     },\n",
    "             runs=3,\n",
    "             save_path='/Users/philipp/code/experimente/2022W22-Konsolidierung/'\n",
    "            )"
   ]
  },
  {
   "cell_type": "code",
   "execution_count": 5,
   "metadata": {
    "tags": []
   },
   "outputs": [
    {
     "name": "stdout",
     "output_type": "stream",
     "text": [
      "Run 1/30. 3m 59s per run, estimate 1h 55m 48s to finish.\n",
      "Run 2/30. 3m 52s per run, estimate 1h 48m 32s to finish.\n",
      "Run 3/30. 3m 59s per run, estimate 1h 47m 43s to finish.\n",
      "Run 4/30. 4m 42s per run, estimate 2h 2m 17s to finish.\n",
      "Run 5/30. 5m 8s per run, estimate 2h 8m 33s to finish.\n",
      "Run 6/30. 5m 28s per run, estimate 2h 11m 27s to finish.\n",
      "Run 7/30. 6m 21s per run, estimate 2h 26m 3s to finish.\n",
      "Run 8/30. 7m 5s per run, estimate 2h 36m 7s to finish.\n",
      "Run 9/30. 7m 39s per run, estimate 2h 40m 46s to finish.\n",
      "Run 10/30. 8m 30s per run, estimate 2h 50m 8s to finish.\n",
      "Run 11/30. 9m 22s per run, estimate 2h 58m 10s to finish.\n",
      "Run 12/30. 10m 0s per run, estimate 3h 14s to finish.\n",
      "Run 13/30. 10m 58s per run, estimate 3h 6m 41s to finish.\n",
      "Run 14/30. 11m 53s per run, estimate 3h 10m 12s to finish.\n",
      "Run 15/30. 12m 26s per run, estimate 3h 6m 40s to finish.\n",
      "Run 16/30. 13m 8s per run, estimate 3h 3m 54s to finish.\n",
      "Run 17/30. 13m 36s per run, estimate 2h 56m 50s to finish.\n",
      "Run 18/30. 14m 5s per run, estimate 2h 49m 2s to finish.\n",
      "Run 19/30. 14m 53s per run, estimate 2h 43m 45s to finish.\n",
      "Run 20/30. 15m 31s per run, estimate 2h 35m 14s to finish.\n",
      "Run 21/30. 16m 5s per run, estimate 2h 24m 45s to finish.\n",
      "Run 22/30. 16m 44s per run, estimate 2h 13m 55s to finish.\n",
      "Run 23/30. 17m 24s per run, estimate 2h 1m 48s to finish.\n",
      "Run 24/30. 18m 1s per run, estimate 1h 48m 7s to finish.\n",
      "Run 25/30. 18m 34s per run, estimate 1h 32m 50s to finish.\n",
      "Run 26/30. 19m 13s per run, estimate 1h 16m 55s to finish.\n",
      "Run 27/30. 19m 48s per run, estimate 59m 26s to finish.\n",
      "Run 28/30. 20m 31s per run, estimate 41m 2s to finish.\n",
      "Run 29/30. 21m 10s per run, estimate 21m 10s to finish.\n",
      "Run 30/30. 21m 47s per run, estimate 0s to finish.\n",
      "Measurement finished\n"
     ]
    }
   ],
   "source": [
    "rsk.run(experiment=run_baran)"
   ]
  },
  {
   "cell_type": "markdown",
   "metadata": {},
   "source": [
    "# ruska naive"
   ]
  },
  {
   "cell_type": "code",
   "execution_count": 6,
   "metadata": {},
   "outputs": [],
   "source": [
    "rsk_naive = Ruska(name='2022-06-05-nursery-simple-mcar-naive',\n",
    "             description='''Ich wiederhole die Messung auf dem Datensatz mit\n",
    "             Corruptors simple_mcar Korruption.''',\n",
    "             commit='ac5596853f8d581640cbd3eced08e98e42eb07a3',\n",
    "             config={'dataset': 'nursery',\n",
    "                     'sampling': 'MCAR',\n",
    "                     'error_fraction': .1,\n",
    "                     'labeling_budget': 20,\n",
    "                     'feature_generators': ['value', 'domain', 'vicinity'],\n",
    "                     'classification_model': 'ABC',\n",
    "                     'vicinity_orders': [1],\n",
    "                     'vicinity_feature_generator': 'naive',\n",
    "                     'n_best_pdeps': 5,\n",
    "                     'score_strategy': 'multiply',\n",
    "                      'n_rows': None,\n",
    "                     },\n",
    "             ranges={\n",
    "                     'error_fraction': [.1, .2, .3, .4, .5, .6, .7, .8, .9, .99],\n",
    "                     },\n",
    "             runs=3,\n",
    "             save_path='/Users/philipp/code/experimente/2022W22-Konsolidierung/'\n",
    "            )"
   ]
  },
  {
   "cell_type": "code",
   "execution_count": 7,
   "metadata": {
    "tags": []
   },
   "outputs": [
    {
     "name": "stdout",
     "output_type": "stream",
     "text": [
      "Run 1/30. 2m 37s per run, estimate 1h 15m 57s to finish.\n",
      "Run 2/30. 2m 35s per run, estimate 1h 12m 44s to finish.\n",
      "Run 3/30. 2m 36s per run, estimate 1h 10m 37s to finish.\n",
      "Run 4/30. 3m 23s per run, estimate 1h 28m 14s to finish.\n",
      "Run 5/30. 3m 52s per run, estimate 1h 36m 57s to finish.\n",
      "Run 6/30. 4m 15s per run, estimate 1h 42m 17s to finish.\n",
      "Run 7/30. 4m 51s per run, estimate 1h 51m 49s to finish.\n",
      "Run 8/30. 5m 24s per run, estimate 1h 59m 6s to finish.\n",
      "Run 9/30. 5m 46s per run, estimate 2h 1m 26s to finish.\n",
      "Run 10/30. 6m 29s per run, estimate 2h 9m 41s to finish.\n",
      "Run 11/30. 6m 59s per run, estimate 2h 12m 49s to finish.\n",
      "Run 12/30. 7m 25s per run, estimate 2h 13m 46s to finish.\n",
      "Run 13/30. 8m 6s per run, estimate 2h 17m 42s to finish.\n",
      "Run 14/30. 8m 42s per run, estimate 2h 19m 26s to finish.\n",
      "Run 15/30. 9m 8s per run, estimate 2h 17m 3s to finish.\n",
      "Run 16/30. 9m 44s per run, estimate 2h 16m 17s to finish.\n",
      "Run 17/30. 10m 19s per run, estimate 2h 14m 17s to finish.\n",
      "Run 18/30. 10m 48s per run, estimate 2h 9m 39s to finish.\n",
      "Run 19/30. 11m 27s per run, estimate 2h 6m 3s to finish.\n",
      "Run 20/30. 11m 59s per run, estimate 1h 59m 53s to finish.\n",
      "Run 21/30. 12m 27s per run, estimate 1h 52m 5s to finish.\n",
      "Run 22/30. 13m 2s per run, estimate 1h 44m 23s to finish.\n",
      "Run 23/30. 13m 35s per run, estimate 1h 35m 7s to finish.\n",
      "Run 24/30. 14m 6s per run, estimate 1h 24m 37s to finish.\n",
      "Run 25/30. 14m 42s per run, estimate 1h 13m 32s to finish.\n",
      "Run 26/30. 15m 14s per run, estimate 1h 58s to finish.\n",
      "Run 27/30. 15m 44s per run, estimate 47m 12s to finish.\n",
      "Run 28/30. 16m 19s per run, estimate 32m 38s to finish.\n",
      "Run 29/30. 16m 52s per run, estimate 16m 52s to finish.\n",
      "Run 30/30. 17m 27s per run, estimate 0s to finish.\n",
      "Measurement finished\n"
     ]
    }
   ],
   "source": [
    "rsk_naive.run(experiment=run_baran)"
   ]
  }
 ],
 "metadata": {
  "kernelspec": {
   "display_name": "Python 3 (ipykernel)",
   "language": "python",
   "name": "python3"
  },
  "language_info": {
   "codemirror_mode": {
    "name": "ipython",
    "version": 3
   },
   "file_extension": ".py",
   "mimetype": "text/x-python",
   "name": "python",
   "nbconvert_exporter": "python",
   "pygments_lexer": "ipython3",
   "version": "3.7.10"
  }
 },
 "nbformat": 4,
 "nbformat_minor": 4
}
