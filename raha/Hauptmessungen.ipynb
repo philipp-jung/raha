{
 "cells": [
  {
   "cell_type": "markdown",
   "metadata": {},
   "source": [
    "# Baran Experiment"
   ]
  },
  {
   "cell_type": "code",
   "execution_count": 6,
   "metadata": {},
   "outputs": [
    {
     "name": "stdout",
     "output_type": "stream",
     "text": [
      "The autoreload extension is already loaded. To reload it, use:\n",
      "  %reload_ext autoreload\n"
     ]
    }
   ],
   "source": [
    "%load_ext autoreload\n",
    "%autoreload 2"
   ]
  },
  {
   "cell_type": "code",
   "execution_count": 7,
   "metadata": {},
   "outputs": [],
   "source": [
    "import pandas\n",
    "import IPython.display\n",
    "\n",
    "import raha\n",
    "import datetime\n",
    "from ruska import Ruska"
   ]
  },
  {
   "cell_type": "code",
   "execution_count": 8,
   "metadata": {},
   "outputs": [],
   "source": [
    "def run_baran(dataset, sampling, error_fraction, labeling_budget, feature_generators, classification_model, vicinity_orders, vicinity_feature_generator, n_best_pdeps, score_strategy, run):\n",
    "    rate_formatted = str(error_fraction).split('.')[1]\n",
    "    data_dict = {\"name\": dataset,\n",
    "                 \"path\": f\"../datasets/{dataset}/{sampling}/dirty_{rate_formatted}.csv\",\n",
    "                 \"clean_path\": f\"../datasets/{dataset}/clean.csv\"}\n",
    "\n",
    "    data = raha.Dataset(data_dict)\n",
    "    data.detected_cells = dict(data.get_actual_errors_dictionary())\n",
    "    app = raha.Correction()\n",
    "    app.LABELING_BUDGET = labeling_budget\n",
    "    app.VERBOSE = False\n",
    "    app.FEATURE_GENERATORS = feature_generators\n",
    "    app.CLASSIFICATION_MODEL = classification_model\n",
    "    app.VICINITY_ORDERS = vicinity_orders\n",
    "    app.VICINITY_FEATURE_GENERATOR = vicinity_feature_generator\n",
    "    app.N_BEST_PDEPS = n_best_pdeps\n",
    "    app.PDEP_SCORE_STRATEGY = score_strategy\n",
    "\n",
    "    d = app.initialize_dataset(data)\n",
    "    app.initialize_models(d)\n",
    "    while len(d.labeled_tuples) < app.LABELING_BUDGET:\n",
    "        app.sample_tuple(d, random_seed=None)\n",
    "        app.label_with_ground_truth(d)\n",
    "        app.update_models(d)\n",
    "        app.generate_features(d, synchronous=True)\n",
    "        app.predict_corrections(d, random_seed=None)\n",
    "\n",
    "        p, r, f = d.get_data_cleaning_evaluation(d.corrected_cells)[-3:]\n",
    "    return {'precision': p, 'recall': r, 'f1': f}"
   ]
  },
  {
   "cell_type": "code",
   "execution_count": 9,
   "metadata": {},
   "outputs": [],
   "source": [
    "rsk = Ruska(name='2022-06-04-nursery-corrected-jenga',\n",
    "             description='''Ich wiederhole die Messung auf dem Datensatz mit\n",
    "             korrigierten Jenga-Corruptions.''',\n",
    "             commit='67a7297aa37d923159417ca04b2a5d7228081096',\n",
    "             config={'dataset': 'nursery',\n",
    "                     'sampling': 'MCAR',\n",
    "                     'error_fraction': .1,\n",
    "                     'labeling_budget': 20,\n",
    "                     'feature_generators': ['value', 'domain', 'vicinity'],\n",
    "                     'classification_model': 'ABC',\n",
    "                     'vicinity_orders': [1, 2],\n",
    "                     'vicinity_feature_generator': 'pdep',\n",
    "                     'n_best_pdeps': 5,\n",
    "                     'score_strategy': 'multiply',\n",
    "                     },\n",
    "             ranges={\n",
    "                     'error_fraction': [.1, .2, .3, .4, .5, .6, .7, .8, .9, .99],\n",
    "                     },\n",
    "             runs=3,\n",
    "             save_path='/Users/philipp/code/experimente/2022W22-Konsolidierung/'\n",
    "            )"
   ]
  },
  {
   "cell_type": "code",
   "execution_count": 10,
   "metadata": {
    "tags": []
   },
   "outputs": [
    {
     "name": "stdout",
     "output_type": "stream",
     "text": [
      "Run 1/30. 2m 4s per run, estimate 58m 14s to finish\n",
      "Run 2/30. 2m 5s per run, estimate 56m 36s to finish\n",
      "Run 3/30. 2m 4s per run, estimate 54m 4s to finish\n",
      "Run 4/30. 2m 24s per run, estimate 1h 10s to finish\n",
      "Run 5/30. 2m 34s per run, estimate 1h 1m 58s to finish\n",
      "Run 6/30. 2m 42s per run, estimate 1h 2m 15s to finish\n",
      "Run 7/30. 2m 48s per run, estimate 1h 1m 51s to finish\n",
      "Run 8/30. 2m 53s per run, estimate 1h 44s to finish\n",
      "Run 9/30. 2m 56s per run, estimate 58m 56s to finish\n",
      "Run 10/30. 3m 6s per run, estimate 59m 11s to finish\n",
      "Run 11/30. 3m 14s per run, estimate 58m 26s to finish\n",
      "Run 12/30. 3m 20s per run, estimate 56m 52s to finish\n",
      "Run 13/30. 3m 29s per run, estimate 55m 49s to finish\n",
      "Run 14/30. 3m 36s per run, estimate 54m 11s to finish\n",
      "Run 15/30. 3m 43s per run, estimate 52m 5s to finish\n",
      "Run 16/30. 3m 54s per run, estimate 50m 52s to finish\n",
      "Run 17/30. 4m 4s per run, estimate 48m 54s to finish\n",
      "Run 18/30. 4m 13s per run, estimate 46m 28s to finish\n",
      "Run 19/30. 4m 24s per run, estimate 44m 9s to finish\n",
      "Run 20/30. 4m 34s per run, estimate 41m 13s to finish\n",
      "Run 21/30. 4m 44s per run, estimate 37m 52s to finish\n",
      "Run 22/30. 4m 54s per run, estimate 34m 18s to finish\n",
      "Run 23/30. 5m 3s per run, estimate 30m 18s to finish\n",
      "Run 24/30. 5m 11s per run, estimate 25m 57s to finish\n",
      "Run 25/30. 5m 17s per run, estimate 21m 10s to finish\n",
      "Run 26/30. 5m 23s per run, estimate 16m 9s to finish\n",
      "Run 27/30. 5m 28s per run, estimate 10m 57s to finish\n",
      "Run 28/30. 5m 36s per run, estimate 5m 36s to finish\n",
      "Run 29/30. 5m 44s per run, estimate 0s to finish\n",
      "Run 30/30. 5m 51s per run, estimate 54m 8s to finish\n",
      "Measurement finished\n"
     ]
    }
   ],
   "source": [
    "rsk.run(experiment=run_baran)"
   ]
  },
  {
   "cell_type": "markdown",
   "metadata": {},
   "source": [
    "# ruska naive"
   ]
  },
  {
   "cell_type": "code",
   "execution_count": 11,
   "metadata": {},
   "outputs": [],
   "source": [
    "rsk_naive = Ruska(name='2022-06-04-nursery-corrected-jenga-naive',\n",
    "             description='''Ich wiederhole die Messung auf dem Datensatz mit\n",
    "             korrigierten Jenga-Corruptions.''',\n",
    "             commit='67a7297aa37d923159417ca04b2a5d7228081096',\n",
    "             config={'dataset': 'nursery',\n",
    "                     'sampling': 'MCAR',\n",
    "                     'error_fraction': .1,\n",
    "                     'labeling_budget': 20,\n",
    "                     'feature_generators': ['value', 'domain', 'vicinity'],\n",
    "                     'classification_model': 'ABC',\n",
    "                     'vicinity_orders': [1],\n",
    "                     'vicinity_feature_generator': 'naive',\n",
    "                     'n_best_pdeps': 5,\n",
    "                     'score_strategy': 'multiply',\n",
    "                     },\n",
    "             ranges={\n",
    "                     'error_fraction': [.1, .2, .3, .4, .5, .6, .7, .8, .9, .99],\n",
    "                     },\n",
    "             runs=3,\n",
    "             save_path='/Users/philipp/code/experimente/2022W22-Konsolidierung/'\n",
    "            )"
   ]
  },
  {
   "cell_type": "code",
   "execution_count": 12,
   "metadata": {},
   "outputs": [
    {
     "name": "stdout",
     "output_type": "stream",
     "text": [
      "Run 1/30. 1m 5s per run, estimate 30m 33s to finish\n",
      "Run 2/30. 1m 4s per run, estimate 28m 53s to finish\n",
      "Run 3/30. 1m 5s per run, estimate 28m 17s to finish\n",
      "Run 4/30. 1m 22s per run, estimate 34m 31s to finish\n",
      "Run 5/30. 1m 34s per run, estimate 37m 42s to finish\n",
      "Run 6/30. 1m 41s per run, estimate 38m 55s to finish\n",
      "Run 7/30. 1m 48s per run, estimate 39m 40s to finish\n",
      "Run 8/30. 1m 53s per run, estimate 39m 43s to finish\n",
      "Run 9/30. 1m 57s per run, estimate 39m 11s to finish\n",
      "Run 10/30. 2m 7s per run, estimate 40m 18s to finish\n",
      "Run 11/30. 2m 14s per run, estimate 40m 28s to finish\n",
      "Run 12/30. 2m 22s per run, estimate 40m 17s to finish\n",
      "Run 13/30. 2m 31s per run, estimate 40m 19s to finish\n",
      "Run 14/30. 2m 38s per run, estimate 39m 44s to finish\n",
      "Run 15/30. 2m 45s per run, estimate 38m 43s to finish\n",
      "Run 16/30. 2m 58s per run, estimate 38m 42s to finish\n",
      "Run 17/30. 3m 10s per run, estimate 38m 4s to finish\n",
      "Run 18/30. 3m 19s per run, estimate 36m 37s to finish\n",
      "Run 19/30. 3m 30s per run, estimate 35m 7s to finish\n",
      "Run 20/30. 3m 39s per run, estimate 32m 59s to finish\n",
      "Run 21/30. 3m 49s per run, estimate 30m 35s to finish\n",
      "Run 22/30. 3m 59s per run, estimate 27m 54s to finish\n",
      "Run 23/30. 4m 8s per run, estimate 24m 48s to finish\n",
      "Run 24/30. 4m 16s per run, estimate 21m 21s to finish\n",
      "Run 25/30. 4m 22s per run, estimate 17m 30s to finish\n",
      "Run 26/30. 4m 28s per run, estimate 13m 24s to finish\n",
      "Run 27/30. 4m 33s per run, estimate 9m 7s to finish\n",
      "Run 28/30. 4m 41s per run, estimate 4m 41s to finish\n",
      "Run 29/30. 4m 48s per run, estimate 0s to finish\n",
      "Run 30/30. 4m 54s per run, estimate 55m 5s to finish\n",
      "Measurement finished\n"
     ]
    }
   ],
   "source": [
    "rsk_naive.run(experiment=run_baran)"
   ]
  },
  {
   "cell_type": "markdown",
   "metadata": {},
   "source": [
    "## adult"
   ]
  },
  {
   "cell_type": "code",
   "execution_count": 13,
   "metadata": {},
   "outputs": [],
   "source": [
    "rsk = Ruska(name='2022-06-04-adult-corrected-jenga',\n",
    "             description='''Ich wiederhole die Messung auf dem Datensatz mit\n",
    "             korrigierten Jenga-Corruptions.''',\n",
    "             commit='67a7297aa37d923159417ca04b2a5d7228081096',\n",
    "             config={'dataset': 'adult',\n",
    "                     'sampling': 'MCAR',\n",
    "                     'error_fraction': .1,\n",
    "                     'labeling_budget': 20,\n",
    "                     'feature_generators': ['value', 'domain', 'vicinity'],\n",
    "                     'classification_model': 'ABC',\n",
    "                     'vicinity_orders': [1, 2],\n",
    "                     'vicinity_feature_generator': 'pdep',\n",
    "                     'n_best_pdeps': 5,\n",
    "                     'score_strategy': 'multiply',\n",
    "                     },\n",
    "             ranges={\n",
    "                     'error_fraction': [.1, .2, .3, .4, .5, .6, .7, .8, .9, .99],\n",
    "                     },\n",
    "             runs=3,\n",
    "             save_path='/Users/philipp/code/experimente/2022W22-Konsolidierung/'\n",
    "            )"
   ]
  },
  {
   "cell_type": "code",
   "execution_count": 14,
   "metadata": {
    "collapsed": true,
    "jupyter": {
     "outputs_hidden": true
    },
    "tags": []
   },
   "outputs": [
    {
     "name": "stdout",
     "output_type": "stream",
     "text": [
      "Run 1/30. 3h 45m 19s per run, estimate 105h 9m 16s to finish\n"
     ]
    },
    {
     "ename": "KeyboardInterrupt",
     "evalue": "",
     "output_type": "error",
     "traceback": [
      "\u001b[0;31m---------------------------------------------------------------------------\u001b[0m",
      "\u001b[0;31mKeyboardInterrupt\u001b[0m                         Traceback (most recent call last)",
      "\u001b[0;32m/var/folders/hf/v_gw8jb14hl89x0x8g88y9pr0000gn/T/ipykernel_63626/3466844772.py\u001b[0m in \u001b[0;36m<module>\u001b[0;34m\u001b[0m\n\u001b[0;32m----> 1\u001b[0;31m \u001b[0mrsk\u001b[0m\u001b[0;34m.\u001b[0m\u001b[0mrun\u001b[0m\u001b[0;34m(\u001b[0m\u001b[0mexperiment\u001b[0m\u001b[0;34m=\u001b[0m\u001b[0mrun_baran\u001b[0m\u001b[0;34m)\u001b[0m\u001b[0;34m\u001b[0m\u001b[0;34m\u001b[0m\u001b[0m\n\u001b[0m",
      "\u001b[0;32m~/code/raha/raha/ruska.py\u001b[0m in \u001b[0;36mrun\u001b[0;34m(self, experiment)\u001b[0m\n\u001b[1;32m     96\u001b[0m         \u001b[0;32mfor\u001b[0m \u001b[0mparameter_combination\u001b[0m \u001b[0;32min\u001b[0m \u001b[0mself\u001b[0m\u001b[0;34m.\u001b[0m\u001b[0mrange_combinations\u001b[0m\u001b[0;34m:\u001b[0m\u001b[0;34m\u001b[0m\u001b[0;34m\u001b[0m\u001b[0m\n\u001b[1;32m     97\u001b[0m             \u001b[0mconfig\u001b[0m \u001b[0;34m=\u001b[0m \u001b[0;34m{\u001b[0m\u001b[0;34m**\u001b[0m\u001b[0mself\u001b[0m\u001b[0;34m.\u001b[0m\u001b[0mconfig\u001b[0m\u001b[0;34m,\u001b[0m \u001b[0;34m**\u001b[0m\u001b[0mparameter_combination\u001b[0m\u001b[0;34m}\u001b[0m\u001b[0;34m\u001b[0m\u001b[0;34m\u001b[0m\u001b[0m\n\u001b[0;32m---> 98\u001b[0;31m             \u001b[0mresult\u001b[0m \u001b[0;34m=\u001b[0m \u001b[0mexperiment\u001b[0m\u001b[0;34m(\u001b[0m\u001b[0;34m**\u001b[0m\u001b[0mconfig\u001b[0m\u001b[0;34m)\u001b[0m\u001b[0;34m\u001b[0m\u001b[0;34m\u001b[0m\u001b[0m\n\u001b[0m\u001b[1;32m     99\u001b[0m             \u001b[0mresults\u001b[0m\u001b[0;34m.\u001b[0m\u001b[0mappend\u001b[0m\u001b[0;34m(\u001b[0m\u001b[0;34m{\u001b[0m\u001b[0;34m'result'\u001b[0m\u001b[0;34m:\u001b[0m \u001b[0mresult\u001b[0m\u001b[0;34m,\u001b[0m \u001b[0;34m'config'\u001b[0m\u001b[0;34m:\u001b[0m \u001b[0mconfig\u001b[0m\u001b[0;34m}\u001b[0m\u001b[0;34m)\u001b[0m\u001b[0;34m\u001b[0m\u001b[0;34m\u001b[0m\u001b[0m\n\u001b[1;32m    100\u001b[0m             \u001b[0mself\u001b[0m\u001b[0;34m.\u001b[0m\u001b[0mtimes\u001b[0m\u001b[0;34m.\u001b[0m\u001b[0mappend\u001b[0m\u001b[0;34m(\u001b[0m\u001b[0mdatetime\u001b[0m\u001b[0;34m.\u001b[0m\u001b[0mdatetime\u001b[0m\u001b[0;34m.\u001b[0m\u001b[0mnow\u001b[0m\u001b[0;34m(\u001b[0m\u001b[0;34m)\u001b[0m\u001b[0;34m)\u001b[0m\u001b[0;34m\u001b[0m\u001b[0;34m\u001b[0m\u001b[0m\n",
      "\u001b[0;32m/var/folders/hf/v_gw8jb14hl89x0x8g88y9pr0000gn/T/ipykernel_63626/512890119.py\u001b[0m in \u001b[0;36mrun_baran\u001b[0;34m(dataset, sampling, error_fraction, labeling_budget, feature_generators, classification_model, vicinity_orders, vicinity_feature_generator, n_best_pdeps, score_strategy, run)\u001b[0m\n\u001b[1;32m     23\u001b[0m         \u001b[0mapp\u001b[0m\u001b[0;34m.\u001b[0m\u001b[0mlabel_with_ground_truth\u001b[0m\u001b[0;34m(\u001b[0m\u001b[0md\u001b[0m\u001b[0;34m)\u001b[0m\u001b[0;34m\u001b[0m\u001b[0;34m\u001b[0m\u001b[0m\n\u001b[1;32m     24\u001b[0m         \u001b[0mapp\u001b[0m\u001b[0;34m.\u001b[0m\u001b[0mupdate_models\u001b[0m\u001b[0;34m(\u001b[0m\u001b[0md\u001b[0m\u001b[0;34m)\u001b[0m\u001b[0;34m\u001b[0m\u001b[0;34m\u001b[0m\u001b[0m\n\u001b[0;32m---> 25\u001b[0;31m         \u001b[0mapp\u001b[0m\u001b[0;34m.\u001b[0m\u001b[0mgenerate_features\u001b[0m\u001b[0;34m(\u001b[0m\u001b[0md\u001b[0m\u001b[0;34m,\u001b[0m \u001b[0msynchronous\u001b[0m\u001b[0;34m=\u001b[0m\u001b[0;32mTrue\u001b[0m\u001b[0;34m)\u001b[0m\u001b[0;34m\u001b[0m\u001b[0;34m\u001b[0m\u001b[0m\n\u001b[0m\u001b[1;32m     26\u001b[0m         \u001b[0mapp\u001b[0m\u001b[0;34m.\u001b[0m\u001b[0mpredict_corrections\u001b[0m\u001b[0;34m(\u001b[0m\u001b[0md\u001b[0m\u001b[0;34m,\u001b[0m \u001b[0mrandom_seed\u001b[0m\u001b[0;34m=\u001b[0m\u001b[0;32mNone\u001b[0m\u001b[0;34m)\u001b[0m\u001b[0;34m\u001b[0m\u001b[0;34m\u001b[0m\u001b[0m\n\u001b[1;32m     27\u001b[0m \u001b[0;34m\u001b[0m\u001b[0m\n",
      "\u001b[0;32m~/code/raha/raha/correction.py\u001b[0m in \u001b[0;36mgenerate_features\u001b[0;34m(self, d, synchronous)\u001b[0m\n\u001b[1;32m    646\u001b[0m             \u001b[0md\u001b[0m\u001b[0;34m.\u001b[0m\u001b[0mpair_features\u001b[0m\u001b[0;34m[\u001b[0m\u001b[0mcell\u001b[0m\u001b[0;34m]\u001b[0m \u001b[0;34m=\u001b[0m \u001b[0;34m{\u001b[0m\u001b[0;34m}\u001b[0m\u001b[0;34m\u001b[0m\u001b[0;34m\u001b[0m\u001b[0m\n\u001b[1;32m    647\u001b[0m             \u001b[0;32mfor\u001b[0m \u001b[0mcorrection\u001b[0m \u001b[0;32min\u001b[0m \u001b[0mcorrections_features\u001b[0m\u001b[0;34m:\u001b[0m\u001b[0;34m\u001b[0m\u001b[0;34m\u001b[0m\u001b[0m\n\u001b[0;32m--> 648\u001b[0;31m                 \u001b[0md\u001b[0m\u001b[0;34m.\u001b[0m\u001b[0mpair_features\u001b[0m\u001b[0;34m[\u001b[0m\u001b[0mcell\u001b[0m\u001b[0;34m]\u001b[0m\u001b[0;34m[\u001b[0m\u001b[0mcorrection\u001b[0m\u001b[0;34m]\u001b[0m \u001b[0;34m=\u001b[0m \u001b[0mcorrections_features\u001b[0m\u001b[0;34m[\u001b[0m\u001b[0mcorrection\u001b[0m\u001b[0;34m]\u001b[0m\u001b[0;34m\u001b[0m\u001b[0;34m\u001b[0m\u001b[0m\n\u001b[0m\u001b[1;32m    649\u001b[0m                 \u001b[0mpairs_counter\u001b[0m \u001b[0;34m+=\u001b[0m \u001b[0;36m1\u001b[0m\u001b[0;34m\u001b[0m\u001b[0;34m\u001b[0m\u001b[0m\n\u001b[1;32m    650\u001b[0m \u001b[0;34m\u001b[0m\u001b[0m\n",
      "\u001b[0;31mKeyboardInterrupt\u001b[0m: "
     ]
    }
   ],
   "source": [
    "rsk.run(experiment=run_baran)"
   ]
  },
  {
   "cell_type": "code",
   "execution_count": null,
   "metadata": {},
   "outputs": [],
   "source": [
    "rsk_naive = Ruska(name='2022-06-04-adult-corrected-jenga-naive',\n",
    "             description='''Ich wiederhole die Messung auf dem Datensatz mit\n",
    "             korrigierten Jenga-Corruptions.''',\n",
    "             commit='67a7297aa37d923159417ca04b2a5d7228081096',\n",
    "             config={'dataset': 'adult',\n",
    "                     'sampling': 'MCAR',\n",
    "                     'error_fraction': .1,\n",
    "                     'labeling_budget': 20,\n",
    "                     'feature_generators': ['value', 'domain', 'vicinity'],\n",
    "                     'classification_model': 'ABC',\n",
    "                     'vicinity_orders': [1],\n",
    "                     'vicinity_feature_generator': 'naive',\n",
    "                     'n_best_pdeps': 5,\n",
    "                     'score_strategy': 'multiply',\n",
    "                     },\n",
    "             ranges={\n",
    "                     'error_fraction': [.1, .2, .3, .4, .5, .6, .7, .8, .9, .99],\n",
    "                     },\n",
    "             runs=3,\n",
    "             save_path='/Users/philipp/code/experimente/2022W22-Konsolidierung/'\n",
    "            )"
   ]
  },
  {
   "cell_type": "code",
   "execution_count": null,
   "metadata": {},
   "outputs": [],
   "source": [
    "rsk.run(experiment=run_baran)"
   ]
  },
  {
   "cell_type": "code",
   "execution_count": null,
   "metadata": {},
   "outputs": [],
   "source": []
  }
 ],
 "metadata": {
  "kernelspec": {
   "display_name": "Python 3 (ipykernel)",
   "language": "python",
   "name": "python3"
  },
  "language_info": {
   "codemirror_mode": {
    "name": "ipython",
    "version": 3
   },
   "file_extension": ".py",
   "mimetype": "text/x-python",
   "name": "python",
   "nbconvert_exporter": "python",
   "pygments_lexer": "ipython3",
   "version": "3.7.10"
  }
 },
 "nbformat": 4,
 "nbformat_minor": 4
}
