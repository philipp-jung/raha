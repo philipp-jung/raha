{
 "cells": [
  {
   "cell_type": "markdown",
   "metadata": {},
   "source": [
    "# Baran Experiment"
   ]
  },
  {
   "cell_type": "code",
   "execution_count": 1,
   "metadata": {},
   "outputs": [],
   "source": [
    "%load_ext autoreload\n",
    "%autoreload 2"
   ]
  },
  {
   "cell_type": "code",
   "execution_count": 2,
   "metadata": {},
   "outputs": [],
   "source": [
    "import pandas\n",
    "import IPython.display\n",
    "\n",
    "import raha\n",
    "import datetime"
   ]
  },
  {
   "cell_type": "code",
   "execution_count": 3,
   "metadata": {
    "jupyter": {
     "source_hidden": true
    },
    "tags": []
   },
   "outputs": [],
   "source": [
    "def format_delta(delta: datetime.timedelta):\n",
    "    hours, remainder = divmod(delta.total_seconds(), 3600)\n",
    "    minutes, seconds = divmod(remainder, 60)\n",
    "    \n",
    "    h = f'{int(hours)}h ' if hours > 0 else ''\n",
    "    m = f'{int(minutes)}m ' if minutes > 0 else ''\n",
    "    s = f'{int(seconds)}s'\n",
    "    \n",
    "    return h+m+s\n",
    "\n",
    "def estimate_time_to_finish(times: list, current_run_i: int, total_runs: int):\n",
    "    deltas = []\n",
    "    i = 1\n",
    "    \n",
    "    while i+1 <= len(times):\n",
    "        deltas.append(times[i] - times[i-1])\n",
    "        i += 1\n",
    "        \n",
    "    avg = sum(deltas, datetime.timedelta())/len(deltas)\n",
    "    return f'Run {current_run_i}/{total_runs}. {format_delta(avg)} per run, estimate {format_delta(avg*(total_runs - current_run_i))} to finish'"
   ]
  },
  {
   "cell_type": "code",
   "execution_count": 4,
   "metadata": {},
   "outputs": [],
   "source": [
    "adult = {\n",
    "    \"name\": \"adult\",\n",
    "    \"path\": \"../datasets/adult/adult_dirty.csv\",\n",
    "    \"clean_path\": \"../datasets/adult/adult.csv\"\n",
    "}\n",
    "beers = {\n",
    "    \"name\": \"beers\",\n",
    "    \"path\": \"../datasets/beers/dirty.csv\",\n",
    "    \"clean_path\": \"../datasets/beers/clean.csv\"\n",
    "}\n",
    "flights = {\n",
    "    \"name\": \"flights\",\n",
    "    \"path\": \"../datasets/flights/dirty.csv\",\n",
    "    \"clean_path\": \"../datasets/flights/clean.csv\"\n",
    "}\n",
    "movies = {\n",
    "    \"name\": \"movies\",\n",
    "    \"path\": \"../datasets/movies_1/dirty.csv\",\n",
    "    \"clean_path\": \"../datasets/movies_1/clean.csv\"\n",
    "}\n",
    "rayyan = {\n",
    "    \"name\": \"rayyan\",\n",
    "    \"path\": \"../datasets/rayyan/dirty.csv\",\n",
    "    \"clean_path\": \"../datasets/rayyan/clean.csv\"\n",
    "}\n",
    "tax = {\n",
    "    \"name\": \"tax\",\n",
    "    \"path\": \"../datasets/tax/dirty.csv\",\n",
    "    \"clean_path\": \"../datasets/tax/clean.csv\"\n",
    "}\n",
    "toy = {\n",
    "    \"name\": \"toy\",\n",
    "    \"path\": \"../datasets/toy/dirty.csv\",\n",
    "    \"clean_path\": \"../datasets/toy/clean.csv\"\n",
    "}\n",
    "hospital = {\n",
    "    \"name\": \"hospital\",\n",
    "    \"path\": \"../datasets/hospital/dirty.csv\",\n",
    "    \"clean_path\": \"../datasets/hospital/clean.csv\"\n",
    "}"
   ]
  },
  {
   "cell_type": "code",
   "execution_count": 5,
   "metadata": {
    "tags": []
   },
   "outputs": [
    {
     "name": "stdout",
     "output_type": "stream",
     "text": [
      "Failed to train an imputer model for column 0\n",
      "<class 'datawig.autogluon_imputer.TargetColumnException'>\n",
      "Failed to train an imputer model for column 1\n",
      "<class 'datawig.autogluon_imputer.TargetColumnException'>\n",
      "Failed to train an imputer model for column 2\n",
      "<class 'datawig.autogluon_imputer.TargetColumnException'>\n",
      "Failed to train an imputer model for column 4\n",
      "<class 'datawig.autogluon_imputer.TargetColumnException'>\n",
      "{'dataset': 'beers', 'precision': 0.0, 'recall': 0.0, 'f1': 0.0}\n",
      "Failed to train an imputer model for column 0\n",
      "<class 'datawig.autogluon_imputer.TargetColumnException'>\n",
      "Failed to train an imputer model for column 2\n",
      "<class 'datawig.autogluon_imputer.TargetColumnException'>\n",
      "{'dataset': 'flights', 'precision': 0.0, 'recall': 0.0, 'f1': 0.0}\n",
      "Failed to train an imputer model for column 0\n",
      "<class 'datawig.autogluon_imputer.TargetColumnException'>\n",
      "Failed to train an imputer model for column 1\n",
      "<class 'datawig.autogluon_imputer.TargetColumnException'>\n",
      "{'dataset': 'rayyan', 'precision': 0.0, 'recall': 0.0, 'f1': 0.0}\n",
      "Failed to train an imputer model for column 0\n",
      "<class 'datawig.autogluon_imputer.TargetColumnException'>\n"
     ]
    },
    {
     "name": "stderr",
     "output_type": "stream",
     "text": [
      "\tWarning: Exception caused RandomForestGini to fail during training... Skipping this model.\n",
      "\t\tUnknown y_pred_proba format for `problem_type=\"multiclass\"`.\n",
      "\tWarning: Exception caused RandomForestEntr to fail during training... Skipping this model.\n",
      "\t\tUnknown y_pred_proba format for `problem_type=\"multiclass\"`.\n",
      "\tWarning: Exception caused ExtraTreesGini to fail during training... Skipping this model.\n",
      "\t\tUnknown y_pred_proba format for `problem_type=\"multiclass\"`.\n",
      "\tWarning: Exception caused ExtraTreesEntr to fail during training... Skipping this model.\n",
      "\t\tUnknown y_pred_proba format for `problem_type=\"multiclass\"`.\n",
      "\tWarning: Exception caused WeightedEnsemble_L2 to fail during training... Skipping this model.\n",
      "\t\t\"None of [Index(['NeuralNetFastAI_0_0'], dtype='object')] are in the [columns]\"\n",
      "\tWarning: Exception caused RandomForestGini to fail during training... Skipping this model.\n",
      "\t\tUnknown y_pred_proba format for `problem_type=\"multiclass\"`.\n",
      "\tWarning: Exception caused RandomForestEntr to fail during training... Skipping this model.\n",
      "\t\tUnknown y_pred_proba format for `problem_type=\"multiclass\"`.\n",
      "\tWarning: Exception caused ExtraTreesGini to fail during training... Skipping this model.\n",
      "\t\tUnknown y_pred_proba format for `problem_type=\"multiclass\"`.\n",
      "\tWarning: Exception caused ExtraTreesEntr to fail during training... Skipping this model.\n",
      "\t\tUnknown y_pred_proba format for `problem_type=\"multiclass\"`.\n",
      "\tWarning: Exception caused WeightedEnsemble_L2 to fail during training... Skipping this model.\n",
      "\t\t\"None of [Index(['NeuralNetFastAI_0_0'], dtype='object')] are in the [columns]\"\n"
     ]
    },
    {
     "name": "stdout",
     "output_type": "stream",
     "text": [
      "{'dataset': 'hospital', 'precision': 0.0, 'recall': 0.0, 'f1': 0.0}\n"
     ]
    }
   ],
   "source": [
    "datasets = [adult]\n",
    "results_no_update = []\n",
    "\n",
    "data = raha.Dataset(beers)\n",
    "n_pdep = 1\n",
    "\n",
    "for dataset_dictionary in datasets:\n",
    "    data = raha.Dataset(dataset_dictionary)\n",
    "    data.detected_cells = dict(data.get_actual_errors_dictionary())\n",
    "    n_pdep = 0\n",
    "    while n_pdep < data.dataframe.shape[1]:\n",
    "        app_2 = raha.Correction()\n",
    "        app_2.LABELING_BUDGET = 20\n",
    "        app_2.VERBOSE = False\n",
    "        app_2.CLASSIFICATION_MODEL = \"ABC\"\n",
    "        app_2.VICINITY_ONLY = True\n",
    "        app_2.VICINITY_ORDER = 2\n",
    "        app_2.HIGHER_ORDER_FEATURE_GENERATOR = 'pdep'\n",
    "        app_2.N_BEST_PDEPS = n_pdep\n",
    "\n",
    "        d = app_2.initialize_dataset(data)\n",
    "        app_2.initialize_models(d)\n",
    "\n",
    "        while len(d.labeled_tuples) < app_2.LABELING_BUDGET:\n",
    "            app_2.sample_tuple(d, random_seed=0)\n",
    "            if d.has_ground_truth:\n",
    "                app_2.label_with_ground_truth(d)\n",
    "        app_2.update_models(d)\n",
    "        app_2.generate_features(d, synchronous=False)\n",
    "        app_2.predict_corrections(d, random_seed=0)\n",
    "\n",
    "        p, r, f = d.get_data_cleaning_evaluation(d.corrected_cells)[-3:]\n",
    "        results_no_update.append({'dataset': d.name, 'n_pdep': n_pdep, 'precision': p, 'recall': r, 'f1': f})\n",
    "        print({'dataset': d.name, 'n_pdep': n_pdep, 'precision': p, 'recall': r, 'f1': f})\n",
    "        \n",
    "        n_pdep += 1"
   ]
  },
  {
   "cell_type": "code",
   "execution_count": null,
   "metadata": {},
   "outputs": [
    {
     "name": "stdout",
     "output_type": "stream",
     "text": [
      "[{'dataset': 'beers', 'n_pdep': 0, 'precision': 0.0, 'recall': 0.0, 'f1': 0.0}, {'dataset': 'beers', 'n_pdep': 1, 'precision': 0.7, 'recall': 0.15887207702888584, 'f1': 0.2589686098654709}, {'dataset': 'beers', 'n_pdep': 2, 'precision': 0.5340030911901081, 'recall': 0.1584135717560752, 'f1': 0.24434229137199434}, {'dataset': 'beers', 'n_pdep': 3, 'precision': 0.4732770745428973, 'recall': 0.15428702430077945, 'f1': 0.23271092669432916}, {'dataset': 'beers', 'n_pdep': 4, 'precision': 0.4800824175824176, 'recall': 0.16024759284731774, 'f1': 0.2402887590237195}, {'dataset': 'beers', 'n_pdep': 5, 'precision': 0.4562334217506631, 'recall': 0.15772581384685924, 'f1': 0.23441226575809201}, {'dataset': 'beers', 'n_pdep': 6, 'precision': 0.44671052631578945, 'recall': 0.15566254011921138, 'f1': 0.23087385243114586}, {'dataset': 'beers', 'n_pdep': 7, 'precision': 0.4547231270358306, 'recall': 0.16001834021091244, 'f1': 0.23673054095302698}, {'dataset': 'beers', 'n_pdep': 8, 'precision': 0.44572158365261816, 'recall': 0.16001834021091244, 'f1': 0.23549257759784079}, {'dataset': 'beers', 'n_pdep': 9, 'precision': 0.4362714013950539, 'recall': 0.15772581384685924, 'f1': 0.23168883650446206}, {'dataset': 'beers', 'n_pdep': 10, 'precision': 0.4303717706364209, 'recall': 0.15657955066483265, 'f1': 0.22961842326441417}, {'dataset': 'flights', 'n_pdep': 0, 'precision': 0.0, 'recall': 0.0, 'f1': 0.0}, {'dataset': 'flights', 'n_pdep': 1, 'precision': 0.9863251573692208, 'recall': 0.9235772357723577, 'f1': 0.953920436653721}, {'dataset': 'flights', 'n_pdep': 2, 'precision': 0.9715650097677447, 'recall': 0.9097560975609756, 'f1': 0.9396452188516847}, {'dataset': 'flights', 'n_pdep': 3, 'precision': 0.9917516822227046, 'recall': 0.9286585365853659, 'f1': 0.9591686784927049}, {'dataset': 'flights', 'n_pdep': 4, 'precision': 0.9917516822227046, 'recall': 0.9286585365853659, 'f1': 0.9591686784927049}, {'dataset': 'flights', 'n_pdep': 5, 'precision': 0.9917516822227046, 'recall': 0.9286585365853659, 'f1': 0.9591686784927049}, {'dataset': 'flights', 'n_pdep': 6, 'precision': 0.9917516822227046, 'recall': 0.9286585365853659, 'f1': 0.9591686784927049}, {'dataset': 'rayyan', 'n_pdep': 0, 'precision': 0.0, 'recall': 0.0, 'f1': 0.0}, {'dataset': 'rayyan', 'n_pdep': 1, 'precision': 0.9166666666666666, 'recall': 0.06962025316455696, 'f1': 0.12941176470588234}, {'dataset': 'rayyan', 'n_pdep': 2, 'precision': 0.9230769230769231, 'recall': 0.0759493670886076, 'f1': 0.14035087719298248}, {'dataset': 'rayyan', 'n_pdep': 3, 'precision': 0.9240506329113924, 'recall': 0.0770042194092827, 'f1': 0.1421616358325219}, {'dataset': 'rayyan', 'n_pdep': 4, 'precision': 0.9012345679012346, 'recall': 0.0770042194092827, 'f1': 0.14188532555879493}, {'dataset': 'rayyan', 'n_pdep': 5, 'precision': 0.9012345679012346, 'recall': 0.0770042194092827, 'f1': 0.14188532555879493}, {'dataset': 'rayyan', 'n_pdep': 6, 'precision': 0.9012345679012346, 'recall': 0.0770042194092827, 'f1': 0.14188532555879493}, {'dataset': 'rayyan', 'n_pdep': 7, 'precision': 0.9012345679012346, 'recall': 0.0770042194092827, 'f1': 0.14188532555879493}, {'dataset': 'rayyan', 'n_pdep': 8, 'precision': 0.9012345679012346, 'recall': 0.0770042194092827, 'f1': 0.14188532555879493}, {'dataset': 'rayyan', 'n_pdep': 9, 'precision': 0.9012345679012346, 'recall': 0.0770042194092827, 'f1': 0.14188532555879493}, {'dataset': 'rayyan', 'n_pdep': 10, 'precision': 0.9012345679012346, 'recall': 0.0770042194092827, 'f1': 0.14188532555879493}, {'dataset': 'hospital', 'n_pdep': 0, 'precision': 0.0, 'recall': 0.0, 'f1': 0.0}, {'dataset': 'hospital', 'n_pdep': 1, 'precision': 1.0, 'recall': 0.8467583497053045, 'f1': 0.9170212765957446}, {'dataset': 'hospital', 'n_pdep': 2, 'precision': 0.9907834101382489, 'recall': 0.8447937131630648, 'f1': 0.9119830328738069}, {'dataset': 'hospital', 'n_pdep': 3, 'precision': 0.9908045977011494, 'recall': 0.8467583497053045, 'f1': 0.913135593220339}, {'dataset': 'hospital', 'n_pdep': 4, 'precision': 0.9839816933638444, 'recall': 0.8447937131630648, 'f1': 0.9090909090909091}, {'dataset': 'hospital', 'n_pdep': 5, 'precision': 0.9372197309417041, 'recall': 0.8212180746561886, 'f1': 0.8753926701570681}, {'dataset': 'hospital', 'n_pdep': 6, 'precision': 0.9573991031390134, 'recall': 0.8388998035363457, 'f1': 0.8942408376963351}, {'dataset': 'hospital', 'n_pdep': 7, 'precision': 0.9708520179372198, 'recall': 0.8506876227897839, 'f1': 0.9068062827225132}, {'dataset': 'hospital', 'n_pdep': 8, 'precision': 0.9551569506726457, 'recall': 0.8369351669941061, 'f1': 0.8921465968586387}, {'dataset': 'hospital', 'n_pdep': 9, 'precision': 0.9641255605381166, 'recall': 0.8447937131630648, 'f1': 0.9005235602094241}, {'dataset': 'hospital', 'n_pdep': 10, 'precision': 0.9708520179372198, 'recall': 0.8506876227897839, 'f1': 0.9068062827225132}, {'dataset': 'hospital', 'n_pdep': 11, 'precision': 0.9708520179372198, 'recall': 0.8506876227897839, 'f1': 0.9068062827225132}, {'dataset': 'hospital', 'n_pdep': 12, 'precision': 0.9665178571428571, 'recall': 0.8506876227897839, 'f1': 0.9049111807732497}, {'dataset': 'hospital', 'n_pdep': 13, 'precision': 0.9361233480176211, 'recall': 0.8349705304518664, 'f1': 0.8826583592938734}, {'dataset': 'hospital', 'n_pdep': 14, 'precision': 0.9432314410480349, 'recall': 0.8487229862475442, 'f1': 0.8934850051706308}, {'dataset': 'hospital', 'n_pdep': 15, 'precision': 0.9432314410480349, 'recall': 0.8487229862475442, 'f1': 0.8934850051706308}, {'dataset': 'hospital', 'n_pdep': 16, 'precision': 0.935064935064935, 'recall': 0.8487229862475442, 'f1': 0.8898043254376931}, {'dataset': 'hospital', 'n_pdep': 17, 'precision': 0.935064935064935, 'recall': 0.8487229862475442, 'f1': 0.8898043254376931}, {'dataset': 'hospital', 'n_pdep': 18, 'precision': 0.935064935064935, 'recall': 0.8487229862475442, 'f1': 0.8898043254376931}, {'dataset': 'hospital', 'n_pdep': 19, 'precision': 0.935064935064935, 'recall': 0.8487229862475442, 'f1': 0.8898043254376931}]\n"
     ]
    }
   ],
   "source": [
    "print(results_no_update)"
   ]
  }
 ],
 "metadata": {
  "kernelspec": {
   "display_name": "Python 3 (ipykernel)",
   "language": "python",
   "name": "python3"
  },
  "language_info": {
   "codemirror_mode": {
    "name": "ipython",
    "version": 3
   },
   "file_extension": ".py",
   "mimetype": "text/x-python",
   "name": "python",
   "nbconvert_exporter": "python",
   "pygments_lexer": "ipython3",
   "version": "3.7.10"
  }
 },
 "nbformat": 4,
 "nbformat_minor": 4
}
