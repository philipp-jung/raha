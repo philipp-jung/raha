{
 "cells": [
  {
   "cell_type": "markdown",
   "metadata": {},
   "source": [
    "# Baran Experiment"
   ]
  },
  {
   "cell_type": "code",
   "execution_count": 1,
   "metadata": {},
   "outputs": [],
   "source": [
    "%load_ext autoreload\n",
    "%autoreload 2"
   ]
  },
  {
   "cell_type": "code",
   "execution_count": 2,
   "metadata": {},
   "outputs": [],
   "source": [
    "import pandas\n",
    "import IPython.display\n",
    "\n",
    "import raha\n",
    "import datetime"
   ]
  },
  {
   "cell_type": "code",
   "execution_count": 3,
   "metadata": {
    "tags": []
   },
   "outputs": [],
   "source": [
    "def format_delta(delta: datetime.timedelta):\n",
    "    hours, remainder = divmod(delta.total_seconds(), 3600)\n",
    "    minutes, seconds = divmod(remainder, 60)\n",
    "    \n",
    "    h = f'{int(hours)}h ' if hours > 0 else ''\n",
    "    m = f'{int(minutes)}m ' if minutes > 0 else ''\n",
    "    s = f'{int(seconds)}s'\n",
    "    \n",
    "    return h+m+s\n",
    "\n",
    "def estimate_time_to_finish(times: list, current_run_i: int, total_runs: int):\n",
    "    deltas = []\n",
    "    i = 1\n",
    "    \n",
    "    while i+1 <= len(times):\n",
    "        deltas.append(times[i] - times[i-1])\n",
    "        i += 1\n",
    "        \n",
    "    avg = sum(deltas, datetime.timedelta())/len(deltas)\n",
    "    return f'Run {current_run_i}/{total_runs}. {format_delta(avg)} per run, estimate {format_delta(avg*(total_runs - current_run_i))} to finish'"
   ]
  },
  {
   "cell_type": "code",
   "execution_count": 8,
   "metadata": {},
   "outputs": [
    {
     "name": "stdout",
     "output_type": "stream",
     "text": [
      "Run 1/25. 4m 4s per run, estimate 1h 37m 59s to finish\n",
      "Run 2/25. 4m 3s per run, estimate 1h 33m 19s to finish\n",
      "Run 3/25. 4m 2s per run, estimate 1h 29m 4s to finish\n",
      "Run 4/25. 4m 2s per run, estimate 1h 24m 52s to finish\n",
      "Run 5/25. 4m 2s per run, estimate 1h 20m 48s to finish\n",
      "Run 6/25. 4m 2s per run, estimate 1h 16m 45s to finish\n",
      "Run 7/25. 4m 1s per run, estimate 1h 12m 31s to finish\n",
      "Run 8/25. 4m 1s per run, estimate 1h 8m 17s to finish\n",
      "Run 9/25. 4m 0s per run, estimate 1h 4m 9s to finish\n",
      "Run 10/25. 4m 0s per run, estimate 1h 7s to finish\n",
      "Run 11/25. 4m 0s per run, estimate 56m 4s to finish\n",
      "Run 12/25. 4m 0s per run, estimate 52m 1s to finish\n",
      "Run 13/25. 3m 59s per run, estimate 47m 58s to finish\n",
      "Run 14/25. 3m 59s per run, estimate 43m 57s to finish\n",
      "Run 15/25. 3m 59s per run, estimate 39m 56s to finish\n",
      "Run 16/25. 3m 59s per run, estimate 35m 56s to finish\n",
      "Run 17/25. 3m 59s per run, estimate 31m 56s to finish\n",
      "Run 18/25. 3m 59s per run, estimate 27m 56s to finish\n",
      "Run 19/25. 3m 59s per run, estimate 23m 56s to finish\n",
      "Run 20/25. 3m 59s per run, estimate 19m 57s to finish\n",
      "Run 21/25. 3m 59s per run, estimate 15m 57s to finish\n",
      "Run 22/25. 3m 59s per run, estimate 11m 57s to finish\n",
      "Run 23/25. 3m 59s per run, estimate 7m 58s to finish\n",
      "Run 24/25. 3m 59s per run, estimate 3m 59s to finish\n",
      "Run 25/25. 3m 59s per run, estimate 0s to finish\n"
     ]
    }
   ],
   "source": [
    "results = []\n",
    "\n",
    "error_rates = range(1,6)\n",
    "versions = range(1,6)\n",
    "datasets = ['bridges']\n",
    "\n",
    "duration_experiment = len(datasets) * len(error_rates) * len(versions)\n",
    "times = [datetime.datetime.now()]\n",
    "i = 1\n",
    "\n",
    "\n",
    "for dataset in datasets:\n",
    "    for error_rate_pct in error_rates:\n",
    "        for version in versions:\n",
    "            data_dict = {\"name\": dataset,\n",
    "                         \"path\": \"../datasets/renuver/{0}/{0}_{1}_{2}.csv\".format(dataset, error_rate_pct, version),\n",
    "                         \"clean_path\": \"../datasets/renuver/{0}/clean.csv\".format(dataset)}\n",
    "\n",
    "            data = raha.Dataset(data_dict)\n",
    "            data.detected_cells = dict(data.get_actual_errors_dictionary())\n",
    "            app = raha.Correction()\n",
    "            app.LABELING_BUDGET = 20\n",
    "            app.VERBOSE = False\n",
    "            app.FEATURE_GENERATORS = ['domain', 'value', 'vicinity']\n",
    "            app.CLASSIFICATION_MODEL = \"ABC\"\n",
    "            app.VICINITY_ORDERS = [1, 2, 3, 4, 5]\n",
    "            app.VICINITY_FEATURE_GENERATOR = 'pdep'\n",
    "            app.N_BEST_PDEPS = 5\n",
    "            app.GPDEP_CORRECTION_SCORE_THRESHOLD = 0\n",
    "\n",
    "\n",
    "            d = app.initialize_dataset(data)\n",
    "            app.initialize_models(d)\n",
    "            while len(d.labeled_tuples) < app.LABELING_BUDGET:\n",
    "                app.sample_tuple(d, random_seed=None)\n",
    "                app.label_with_ground_truth(d)\n",
    "                app.update_models(d)\n",
    "                app.generate_features(d, synchronous=True)\n",
    "                app.predict_corrections(d, random_seed=None)\n",
    "\n",
    "                p, r, f = d.get_data_cleaning_evaluation(d.corrected_cells)[-3:]\n",
    "                result = {'dataset': dataset, \n",
    "                          'error_rate_pct': error_rate_pct,\n",
    "                          'dataset_version': version,\n",
    "                          'n_sample': len(d.labeled_tuples),\n",
    "                          'precision': p, 'recall': r, 'f1': f}                    \n",
    "                results.append(result)\n",
    "            \n",
    "            # time estimates for the measurement\n",
    "            times.append(datetime.datetime.now())\n",
    "            print(estimate_time_to_finish(times, i, duration_experiment))\n",
    "            i += 1"
   ]
  },
  {
   "cell_type": "code",
   "execution_count": null,
   "metadata": {},
   "outputs": [],
   "source": []
  }
 ],
 "metadata": {
  "kernelspec": {
   "display_name": "Python 3 (ipykernel)",
   "language": "python",
   "name": "python3"
  },
  "language_info": {
   "codemirror_mode": {
    "name": "ipython",
    "version": 3
   },
   "file_extension": ".py",
   "mimetype": "text/x-python",
   "name": "python",
   "nbconvert_exporter": "python",
   "pygments_lexer": "ipython3",
   "version": "3.7.10"
  }
 },
 "nbformat": 4,
 "nbformat_minor": 4
}
