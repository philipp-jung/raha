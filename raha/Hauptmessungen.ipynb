{
 "cells": [
  {
   "cell_type": "markdown",
   "metadata": {},
   "source": [
    "# Baran Experiment"
   ]
  },
  {
   "cell_type": "code",
   "execution_count": 9,
   "metadata": {},
   "outputs": [],
   "source": [
    "%load_ext autoreload\n",
    "%autoreload 2"
   ]
  },
  {
   "cell_type": "code",
   "execution_count": 10,
   "metadata": {},
   "outputs": [],
   "source": [
    "import pandas\n",
    "import IPython.display\n",
    "\n",
    "import raha\n",
    "import datetime"
   ]
  },
  {
   "cell_type": "code",
   "execution_count": 11,
   "metadata": {
    "tags": []
   },
   "outputs": [],
   "source": [
    "def format_delta(delta: datetime.timedelta):\n",
    "    hours, remainder = divmod(delta.total_seconds(), 3600)\n",
    "    minutes, seconds = divmod(remainder, 60)\n",
    "    \n",
    "    h = f'{int(hours)}h ' if hours > 0 else ''\n",
    "    m = f'{int(minutes)}m ' if minutes > 0 else ''\n",
    "    s = f'{int(seconds)}s'\n",
    "    \n",
    "    return h+m+s\n",
    "\n",
    "def estimate_time_to_finish(times: list, current_run_i: int, total_runs: int):\n",
    "    deltas = []\n",
    "    i = 1\n",
    "    \n",
    "    while i+1 <= len(times):\n",
    "        deltas.append(times[i] - times[i-1])\n",
    "        i += 1\n",
    "        \n",
    "    avg = sum(deltas, datetime.timedelta())/len(deltas)\n",
    "    return f'Run {current_run_i}/{total_runs}. {format_delta(avg)} per run, estimate {format_delta(avg*(total_runs - current_run_i))} to finish'"
   ]
  },
  {
   "cell_type": "code",
   "execution_count": 12,
   "metadata": {
    "tags": []
   },
   "outputs": [],
   "source": [
    "cars_1 = {\"name\": \"cars_1\",\n",
    "         \"path\": \"../datasets/cars_1/dirty.csv\",\n",
    "         \"clean_path\": \"../datasets/cars_1/clean.csv\"}\n",
    "\n",
    "cars_2 = {\"name\": \"cars_2\",\n",
    "         \"path\": \"../datasets/cars_2/dirty.csv\",\n",
    "         \"clean_path\": \"../datasets/cars_2/clean.csv\"}\n",
    "\n",
    "cars_3 = {\"name\": \"cars_3\",\n",
    "         \"path\": \"../datasets/cars_3/dirty.csv\",\n",
    "         \"clean_path\": \"../datasets/cars_3/clean.csv\"}\n",
    "\n",
    "cars_4 = {\"name\": \"cars_4\",\n",
    "         \"path\": \"../datasets/cars_4/dirty.csv\",\n",
    "         \"clean_path\": \"../datasets/cars_4/clean.csv\"}\n",
    "\n",
    "cars_5 = {\"name\": \"cars_5\",\n",
    "         \"path\": \"../datasets/cars_5/dirty.csv\",\n",
    "         \"clean_path\": \"../datasets/cars_5/clean.csv\"}"
   ]
  },
  {
   "cell_type": "code",
   "execution_count": 19,
   "metadata": {
    "tags": []
   },
   "outputs": [
    {
     "name": "stdout",
     "output_type": "stream",
     "text": [
      "{'dataset': 'cars_1_1', 'run': 1, 'precision': 0.9568627450980393, 'recall': 0.9568627450980393, 'f1': 0.9568627450980393}\n",
      "Run 1/25. 16s per run, estimate 6m 35s to finish\n",
      "{'dataset': 'cars_1_2', 'run': 1, 'precision': 0.9619921363040629, 'recall': 0.9619921363040629, 'f1': 0.9619921363040629}\n",
      "Run 2/25. 14s per run, estimate 5m 43s to finish\n",
      "{'dataset': 'cars_1_3', 'run': 1, 'precision': 0.9698162729658792, 'recall': 0.9698162729658792, 'f1': 0.9698162729658792}\n",
      "Run 3/25. 15s per run, estimate 5m 36s to finish\n",
      "{'dataset': 'cars_1_4', 'run': 1, 'precision': 0.9622395833333334, 'recall': 0.9622395833333334, 'f1': 0.9622395833333334}\n",
      "Run 4/25. 14s per run, estimate 5m 3s to finish\n",
      "{'dataset': 'cars_1_5', 'run': 1, 'precision': 0.9380764163372859, 'recall': 0.9380764163372859, 'f1': 0.9380764163372859}\n",
      "Run 5/25. 14s per run, estimate 4m 46s to finish\n",
      "{'dataset': 'cars_2_1', 'run': 2, 'precision': 0.9296482412060302, 'recall': 0.9296482412060302, 'f1': 0.9296482412060302}\n",
      "Run 6/25. 15s per run, estimate 4m 46s to finish\n",
      "{'dataset': 'cars_2_2', 'run': 2, 'precision': 0.864010989010989, 'recall': 0.7931904161412359, 'f1': 0.827087442472058}\n",
      "Run 7/25. 15s per run, estimate 4m 45s to finish\n",
      "{'dataset': 'cars_2_3', 'run': 2, 'precision': 0.935031847133758, 'recall': 0.9267676767676768, 'f1': 0.9308814204185162}\n",
      "Run 8/25. 16s per run, estimate 4m 33s to finish\n",
      "{'dataset': 'cars_2_4', 'run': 2, 'precision': 0.9313850063532402, 'recall': 0.9313850063532402, 'f1': 0.9313850063532402}\n",
      "Run 9/25. 16s per run, estimate 4m 22s to finish\n",
      "{'dataset': 'cars_2_5', 'run': 2, 'precision': 0.47029077117572693, 'recall': 0.47029077117572693, 'f1': 0.47029077117572693}\n",
      "Run 10/25. 16s per run, estimate 4m 6s to finish\n",
      "{'dataset': 'cars_3_1', 'run': 3, 'precision': 0.8878048780487805, 'recall': 0.8878048780487805, 'f1': 0.8878048780487805}\n",
      "Run 11/25. 16s per run, estimate 3m 54s to finish\n",
      "{'dataset': 'cars_3_2', 'run': 3, 'precision': 0.901840490797546, 'recall': 0.901840490797546, 'f1': 0.901840490797546}\n",
      "Run 12/25. 16s per run, estimate 3m 36s to finish\n",
      "{'dataset': 'cars_3_3', 'run': 3, 'precision': 0.8903743315508021, 'recall': 0.8112058465286236, 'f1': 0.8489483747609943}\n",
      "Run 13/25. 16s per run, estimate 3m 22s to finish\n",
      "{'dataset': 'cars_3_4', 'run': 3, 'precision': 0.4619164619164619, 'recall': 0.4619164619164619, 'f1': 0.4619164619164619}\n",
      "Run 14/25. 16s per run, estimate 3m 6s to finish\n",
      "{'dataset': 'cars_3_5', 'run': 3, 'precision': 0.38235294117647056, 'recall': 0.38235294117647056, 'f1': 0.3823529411764706}\n",
      "Run 15/25. 17s per run, estimate 2m 51s to finish\n",
      "{'dataset': 'cars_4_1', 'run': 4, 'precision': 0.44258373205741625, 'recall': 0.4389086595492289, 'f1': 0.4407385348421679}\n",
      "Run 16/25. 17s per run, estimate 2m 36s to finish\n",
      "{'dataset': 'cars_4_2', 'run': 4, 'precision': 0.267688679245283, 'recall': 0.267688679245283, 'f1': 0.267688679245283}\n",
      "Run 17/25. 17s per run, estimate 2m 21s to finish\n",
      "{'dataset': 'cars_4_3', 'run': 4, 'precision': 0.7671394799054374, 'recall': 0.7671394799054374, 'f1': 0.7671394799054374}\n",
      "Run 18/25. 17s per run, estimate 2m 2s to finish\n",
      "{'dataset': 'cars_4_4', 'run': 4, 'precision': 0.8836662749706228, 'recall': 0.8815943728018757, 'f1': 0.8826291079812206}\n",
      "Run 19/25. 17s per run, estimate 1m 46s to finish\n",
      "{'dataset': 'cars_4_5', 'run': 4, 'precision': 0.8891509433962265, 'recall': 0.8891509433962265, 'f1': 0.8891509433962265}\n",
      "Run 20/25. 17s per run, estimate 1m 29s to finish\n",
      "{'dataset': 'cars_5_1', 'run': 5, 'precision': 0.8313953488372093, 'recall': 0.8265895953757225, 'f1': 0.8289855072463768}\n",
      "Run 21/25. 18s per run, estimate 1m 12s to finish\n",
      "{'dataset': 'cars_5_2', 'run': 5, 'precision': 0.861271676300578, 'recall': 0.8514285714285714, 'f1': 0.8563218390804598}\n",
      "Run 22/25. 18s per run, estimate 54s to finish\n",
      "{'dataset': 'cars_5_3', 'run': 5, 'precision': 0.3951219512195122, 'recall': 0.3694412770809578, 'f1': 0.3818503241013554}\n",
      "Run 23/25. 18s per run, estimate 36s to finish\n",
      "{'dataset': 'cars_5_4', 'run': 5, 'precision': 0.8292079207920792, 'recall': 0.7674684994272624, 'f1': 0.7971445568114218}\n",
      "Run 24/25. 18s per run, estimate 18s to finish\n",
      "{'dataset': 'cars_5_5', 'run': 5, 'precision': 0.8640552995391705, 'recall': 0.8542141230068337, 'f1': 0.8591065292096219}\n",
      "Run 25/25. 18s per run, estimate 0s to finish\n"
     ]
    }
   ],
   "source": [
    "results = []\n",
    "\n",
    "datasets = range(1,6)\n",
    "runs = range(1,6)\n",
    "\n",
    "duration_experiment = len(datasets) * len(runs)\n",
    "times = [datetime.datetime.now()]\n",
    "i = 1\n",
    "\n",
    "for run in runs:\n",
    "    for dataset in datasets:\n",
    "        data_dict = {\"name\": \"cars_{0}_{1}\".format(run, dataset),\n",
    "                     \"path\": \"../datasets/renuver/cars/cars_{0}_{1}.csv\".format(run, dataset),\n",
    "                     \"clean_path\": \"../datasets/renuver/cars/clean.csv\"\n",
    "                    }\n",
    "\n",
    "        data = raha.Dataset(data_dict)\n",
    "        data.detected_cells = dict(data.get_actual_errors_dictionary())\n",
    "        app = raha.Correction()\n",
    "        app.LABELING_BUDGET = 20\n",
    "        app.VERBOSE = False\n",
    "        app.FEATURE_GENERATORS = ['value', 'domain', 'vicinity']\n",
    "        app.CLASSIFICATION_MODEL = \"ABC\"\n",
    "        app.VICINITY_ORDERS = [1]\n",
    "        app.VICINITY_FEATURE_GENERATOR = 'pdep'\n",
    "        app.N_BEST_PDEPS = 5\n",
    "        app.GPDEP_CORRECTION_SCORE_THRESHOLD = 0\n",
    "\n",
    "\n",
    "        d = app.initialize_dataset(data)\n",
    "        app.initialize_models(d)\n",
    "\n",
    "        while len(d.labeled_tuples) < app.LABELING_BUDGET:\n",
    "            app.sample_tuple(d, random_seed=None)\n",
    "            app.label_with_ground_truth(d)\n",
    "            app.update_models(d)\n",
    "            app.generate_features(d, synchronous=True)\n",
    "            app.predict_corrections(d, random_seed=None)\n",
    "\n",
    "        p, r, f = d.get_data_cleaning_evaluation(d.corrected_cells)[-3:]\n",
    "        result = {'dataset': d.name, \n",
    "                  'run': run,\n",
    "                  'precision': p, 'recall': r, 'f1': f}                    \n",
    "        results.append(result)\n",
    "        print(result)\n",
    "\n",
    "        # time estimates for the measurement\n",
    "        times.append(datetime.datetime.now())\n",
    "        print(estimate_time_to_finish(times, i, duration_experiment))\n",
    "        i += 1"
   ]
  }
 ],
 "metadata": {
  "kernelspec": {
   "display_name": "Python 3 (ipykernel)",
   "language": "python",
   "name": "python3"
  },
  "language_info": {
   "codemirror_mode": {
    "name": "ipython",
    "version": 3
   },
   "file_extension": ".py",
   "mimetype": "text/x-python",
   "name": "python",
   "nbconvert_exporter": "python",
   "pygments_lexer": "ipython3",
   "version": "3.7.10"
  }
 },
 "nbformat": 4,
 "nbformat_minor": 4
}
