{
 "cells": [
  {
   "cell_type": "markdown",
   "metadata": {},
   "source": [
    "# Validierung von Messungen mit Baran\n",
    "In dieser Branch habe ich nichts angefasst, außer, dass ich die Messungen auf die Vicinity-Modelle beschränke. Das hier ist die Baseline für Vicnity-Modelle. Was hier nicht läuft, kann ich mit Baran nicht reproduzieren."
   ]
  },
  {
   "cell_type": "code",
   "execution_count": 1,
   "metadata": {},
   "outputs": [],
   "source": [
    "import pandas\n",
    "import IPython.display\n",
    "\n",
    "import raha\n",
    "import os"
   ]
  },
  {
   "cell_type": "code",
   "execution_count": 2,
   "metadata": {},
   "outputs": [],
   "source": [
    "letter = {\n",
    "    \"name\": \"letter\",\n",
    "    \"path\": \"../datasets/letter/dirty.csv\",\n",
    "    \"clean_path\": \"../datasets/letter/clean.csv\"\n",
    "}\n",
    "adult = {\n",
    "    \"name\": \"adult\",\n",
    "    \"path\": \"../datasets/adult/dirty.csv\",\n",
    "    \"clean_path\": \"../datasets/adult/clean.csv\"\n",
    "}\n",
    "beers = {\n",
    "    \"name\": \"beers\",\n",
    "    \"path\": \"../datasets/beers/dirty.csv\",\n",
    "    \"clean_path\": \"../datasets/beers/clean.csv\"\n",
    "}\n",
    "flights = {\n",
    "    \"name\": \"flights\",\n",
    "    \"path\": \"../datasets/flights/dirty.csv\",\n",
    "    \"clean_path\": \"../datasets/flights/clean.csv\"\n",
    "}\n",
    "movies = {\n",
    "    \"name\": \"movies\",\n",
    "    \"path\": \"../datasets/movies_1/dirty.csv\",\n",
    "    \"clean_path\": \"../datasets/movies_1/clean.csv\"\n",
    "}\n",
    "rayyan = {\n",
    "    \"name\": \"rayyan\",\n",
    "    \"path\": \"../datasets/rayyan/dirty.csv\",\n",
    "    \"clean_path\": \"../datasets/rayyan/clean.csv\"\n",
    "}\n",
    "tax = {\n",
    "    \"name\": \"tax\",\n",
    "    \"path\": \"../datasets/tax/dirty.csv\",\n",
    "    \"clean_path\": \"../datasets/tax/clean.csv\"\n",
    "}\n",
    "toy = {\n",
    "    \"name\": \"toy\",\n",
    "    \"path\": \"../datasets/toy/dirty.csv\",\n",
    "    \"clean_path\": \"../datasets/toy/clean.csv\"\n",
    "}\n",
    "hospital = {\n",
    "    \"name\": \"hospital\",\n",
    "    \"path\": \"../datasets/hospital/dirty.csv\",\n",
    "    \"clean_path\": \"../datasets/hospital/clean.csv\"\n",
    "}"
   ]
  },
  {
   "cell_type": "markdown",
   "metadata": {},
   "source": [
    "## Exact replicate of `correction.py`"
   ]
  },
  {
   "cell_type": "code",
   "execution_count": 1,
   "metadata": {},
   "outputs": [
    {
     "ename": "TypeError",
     "evalue": "sample_tuple() missing 1 required positional argument: 'random_seed'",
     "output_type": "error",
     "traceback": [
      "\u001b[0;31m---------------------------------------------------------------------------\u001b[0m",
      "\u001b[0;31mTypeError\u001b[0m                                 Traceback (most recent call last)",
      "\u001b[0;32m/var/folders/hf/v_gw8jb14hl89x0x8g88y9pr0000gn/T/ipykernel_24065/2114914111.py\u001b[0m in \u001b[0;36m<module>\u001b[0;34m\u001b[0m\n\u001b[1;32m     18\u001b[0m     \u001b[0mapp\u001b[0m\u001b[0;34m.\u001b[0m\u001b[0minitialize_models\u001b[0m\u001b[0;34m(\u001b[0m\u001b[0md\u001b[0m\u001b[0;34m)\u001b[0m\u001b[0;34m\u001b[0m\u001b[0;34m\u001b[0m\u001b[0m\n\u001b[1;32m     19\u001b[0m     \u001b[0;32mwhile\u001b[0m \u001b[0mlen\u001b[0m\u001b[0;34m(\u001b[0m\u001b[0md\u001b[0m\u001b[0;34m.\u001b[0m\u001b[0mlabeled_tuples\u001b[0m\u001b[0;34m)\u001b[0m \u001b[0;34m<\u001b[0m \u001b[0mapp\u001b[0m\u001b[0;34m.\u001b[0m\u001b[0mLABELING_BUDGET\u001b[0m\u001b[0;34m:\u001b[0m\u001b[0;34m\u001b[0m\u001b[0;34m\u001b[0m\u001b[0m\n\u001b[0;32m---> 20\u001b[0;31m         \u001b[0mapp\u001b[0m\u001b[0;34m.\u001b[0m\u001b[0msample_tuple\u001b[0m\u001b[0;34m(\u001b[0m\u001b[0md\u001b[0m\u001b[0;34m)\u001b[0m\u001b[0;34m\u001b[0m\u001b[0;34m\u001b[0m\u001b[0m\n\u001b[0m\u001b[1;32m     21\u001b[0m         \u001b[0;32mif\u001b[0m \u001b[0md\u001b[0m\u001b[0;34m.\u001b[0m\u001b[0mhas_ground_truth\u001b[0m\u001b[0;34m:\u001b[0m\u001b[0;34m\u001b[0m\u001b[0;34m\u001b[0m\u001b[0m\n\u001b[1;32m     22\u001b[0m             \u001b[0mapp\u001b[0m\u001b[0;34m.\u001b[0m\u001b[0mlabel_with_ground_truth\u001b[0m\u001b[0;34m(\u001b[0m\u001b[0md\u001b[0m\u001b[0;34m)\u001b[0m\u001b[0;34m\u001b[0m\u001b[0;34m\u001b[0m\u001b[0m\n",
      "\u001b[0;31mTypeError\u001b[0m: sample_tuple() missing 1 required positional argument: 'random_seed'"
     ]
    }
   ],
   "source": [
    "for run in range(5):\n",
    "    import pandas\n",
    "    import IPython.display\n",
    "    import raha\n",
    "    import os\n",
    "    \n",
    "    dataset_name = 'hospital'\n",
    "    \n",
    "    dataset_dictionary = {\n",
    "        \"name\": dataset_name,\n",
    "        \"path\": f\"../datasets/{dataset_name}/dirty.csv\",\n",
    "        \"clean_path\": f\"../datasets/{dataset_name}/clean.csv\",\n",
    "    }\n",
    "    d = raha.dataset.Dataset(dataset_dictionary)\n",
    "    d.detected_cells = dict(d.get_actual_errors_dictionary())\n",
    "    app = raha.Correction()\n",
    "    d = app.initialize_dataset(d)\n",
    "    app.initialize_models(d)\n",
    "    while len(d.labeled_tuples) < app.LABELING_BUDGET:\n",
    "        app.sample_tuple(d)\n",
    "        if d.has_ground_truth:\n",
    "            app.label_with_ground_truth(d)\n",
    "        app.update_models(d)\n",
    "        app.generate_features(d)\n",
    "        app.predict_corrections(d)\n",
    "    p, r, f = d.get_data_cleaning_evaluation(d.corrected_cells)[-3:]\n",
    "    print({'dataset': d.name, 'precision': p, 'recall': r, 'f1': f})\n",
    "    # delete all state after each run.\n",
    "    %reset -f"
   ]
  },
  {
   "cell_type": "markdown",
   "metadata": {},
   "source": [
    "## jezt mit random_seed"
   ]
  },
  {
   "cell_type": "code",
   "execution_count": 3,
   "metadata": {},
   "outputs": [
    {
     "name": "stdout",
     "output_type": "stream",
     "text": [
      "[532]\n",
      "[386]\n",
      "[157]\n",
      "[238]\n",
      "[256]\n",
      "[213]\n",
      "[264]\n",
      "[654]\n",
      "[555]\n",
      "[842]\n",
      "[673]\n",
      "[956]\n",
      "[120]\n",
      "[506]\n",
      "[411]\n",
      "[698]\n",
      "[334]\n",
      "[158 237]\n",
      "[158]\n",
      "[736]\n",
      "{'dataset': 'hospital', 'precision': 0.7757731958762887, 'recall': 0.5913555992141454, 'f1': 0.6711259754738016}\n",
      "[532]\n",
      "[386]\n",
      "[157]\n",
      "[256]\n",
      "[411]\n",
      "[213]\n",
      "[384]\n",
      "[578 590 895]\n",
      "[580 673]\n",
      "[922]\n",
      "[921]\n",
      "[710]\n",
      "[956]\n",
      "[654]\n",
      "[730]\n",
      "[163 208 378 426 718 888]\n",
      "[208 378 888]\n",
      "[120 158 237 238 336 698]\n",
      "[158 237 238 698]\n",
      "[158 237]\n",
      "{'dataset': 'hospital', 'precision': 0.9550102249488752, 'recall': 0.9174852652259332, 'f1': 0.9358717434869739}\n"
     ]
    }
   ],
   "source": [
    "for run in [2,4]:\n",
    "    import pandas\n",
    "    import IPython.display\n",
    "    import raha\n",
    "    import os\n",
    "    \n",
    "    dataset_name = 'hospital'\n",
    "    \n",
    "    dataset_dictionary = {\n",
    "        \"name\": dataset_name,\n",
    "        \"path\": f\"../datasets/{dataset_name}/dirty.csv\",\n",
    "        \"clean_path\": f\"../datasets/{dataset_name}/clean.csv\",\n",
    "    }\n",
    "    d = raha.dataset.Dataset(dataset_dictionary)\n",
    "    d.detected_cells = dict(d.get_actual_errors_dictionary())\n",
    "    app = raha.Correction()\n",
    "    self.LABELING_BUDGET = 4\n",
    "\n",
    "        \n",
    "    d = app.initialize_dataset(d)\n",
    "    app.initialize_models(d)\n",
    "    while len(d.labeled_tuples) < app.LABELING_BUDGET:\n",
    "        app.sample_tuple(d, random_seed=run)\n",
    "        if d.has_ground_truth:\n",
    "            app.label_with_ground_truth(d)\n",
    "        app.update_models(d)\n",
    "        app.generate_features(d)\n",
    "        app.predict_corrections(d, random_seed=run)\n",
    "    p, r, f = d.get_data_cleaning_evaluation(d.corrected_cells)[-3:]\n",
    "    print({'dataset': d.name, 'precision': p, 'recall': r, 'f1': f})\n",
    "    # delete all state after each run.\n",
    "    %reset -f"
   ]
  },
  {
   "cell_type": "code",
   "execution_count": 4,
   "metadata": {},
   "outputs": [
    {
     "name": "stdout",
     "output_type": "stream",
     "text": [
      "{'dataset': 'flights', 'precision': 1.0, 'recall': 1.0, 'f1': 1.0}\n",
      "{'dataset': 'beers', 'precision': 0.988404452690167, 'recall': 0.9770747363594682, 'f1': 0.9827069402813003}\n",
      "{'dataset': 'rayyan', 'precision': 0.3726235741444867, 'recall': 0.310126582278481, 'f1': 0.33851468048359246}\n",
      "{'dataset': 'hospital', 'precision': 0.8804780876494024, 'recall': 0.8683693516699411, 'f1': 0.8743818001978239}\n"
     ]
    }
   ],
   "source": [
    "for dataset_name in [\"flights\", 'beers', 'rayyan', 'hospital']:\n",
    "    import pandas\n",
    "    import IPython.display\n",
    "    import raha\n",
    "    import os\n",
    "    \n",
    "    dataset_dictionary = {\n",
    "        \"name\": dataset_name,\n",
    "        \"path\": f\"../datasets/{dataset_name}/dirty.csv\",\n",
    "        \"clean_path\": f\"../datasets/{dataset_name}/clean.csv\",\n",
    "    }\n",
    "    d = raha.dataset.Dataset(dataset_dictionary)\n",
    "    d.detected_cells = dict(d.get_actual_errors_dictionary())\n",
    "    app = raha.Correction()\n",
    "    d = app.initialize_dataset(d)\n",
    "    app.initialize_models(d)\n",
    "    while len(d.labeled_tuples) < app.LABELING_BUDGET:\n",
    "        app.sample_tuple(d)\n",
    "        if d.has_ground_truth:\n",
    "            app.label_with_ground_truth(d)\n",
    "        app.update_models(d)\n",
    "        app.generate_features(d)\n",
    "        app.predict_corrections(d)\n",
    "    p, r, f = d.get_data_cleaning_evaluation(d.corrected_cells)[-3:]\n",
    "    print({'dataset': d.name, 'precision': p, 'recall': r, 'f1': f})\n",
    "    # delete all state after each run.\n",
    "    %reset -f"
   ]
  },
  {
   "cell_type": "markdown",
   "metadata": {},
   "source": [
    "### Das schwankt ganz mächtig."
   ]
  }
 ],
 "metadata": {
  "kernelspec": {
   "display_name": "Python 3 (ipykernel)",
   "language": "python",
   "name": "python3"
  },
  "language_info": {
   "codemirror_mode": {
    "name": "ipython",
    "version": 3
   },
   "file_extension": ".py",
   "mimetype": "text/x-python",
   "name": "python",
   "nbconvert_exporter": "python",
   "pygments_lexer": "ipython3",
   "version": "3.7.10"
  }
 },
 "nbformat": 4,
 "nbformat_minor": 4
}
