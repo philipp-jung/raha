{
 "cells": [
  {
   "cell_type": "markdown",
   "metadata": {},
   "source": [
    "# Validierung von Messungen mit Baran\n",
    "In dieser Branch habe ich nichts angefasst, außer, dass ich die Messungen auf die Vicinity-Modelle beschränke. Das hier ist die Baseline für Vicnity-Modelle. Was hier nicht läuft, kann ich mit Baran nicht reproduzieren."
   ]
  },
  {
   "cell_type": "markdown",
   "metadata": {},
   "source": [
    "## Exact replicate of `correction.py` with` random_seed`"
   ]
  },
  {
   "cell_type": "code",
   "execution_count": 1,
   "metadata": {},
   "outputs": [
    {
     "name": "stdout",
     "output_type": "stream",
     "text": [
      "{'dataset': 'beers', 'run': 0, 'precision': 0.6721047794117647, 'recall': 0.6705639614855571, 'f1': 0.6713334863438145}\n",
      "{'dataset': 'beers', 'run': 1, 'precision': 0.6466559226430298, 'recall': 0.36795048143053644, 'f1': 0.4690239625949737}\n",
      "{'dataset': 'beers', 'run': 2, 'precision': 0.6320386118133763, 'recall': 0.6304447501146263, 'f1': 0.6312406748536669}\n",
      "{'dataset': 'beers', 'run': 3, 'precision': 0.6509544215037009, 'recall': 0.38308115543328747, 'f1': 0.4823206811949777}\n",
      "{'dataset': 'beers', 'run': 4, 'precision': 0.7852519648636154, 'recall': 0.7787712058688675, 'f1': 0.7819981583793738}\n",
      "{'dataset': 'beers', 'run': 5, 'precision': 0.5920957215373459, 'recall': 0.37436955524988536, 'f1': 0.45870786516853934}\n",
      "{'dataset': 'beers', 'run': 6, 'precision': 0.6466559226430298, 'recall': 0.36795048143053644, 'f1': 0.4690239625949737}\n",
      "{'dataset': 'beers', 'run': 7, 'precision': 0.8510587102983638, 'recall': 0.8108665749656121, 'f1': 0.8304766377083822}\n",
      "{'dataset': 'beers', 'run': 8, 'precision': 0.6176129779837776, 'recall': 0.36657496561210456, 'f1': 0.4600776866637894}\n",
      "{'dataset': 'beers', 'run': 9, 'precision': 0.6466559226430298, 'recall': 0.36795048143053644, 'f1': 0.4690239625949737}\n",
      "{'dataset': 'hospital', 'run': 0, 'precision': 0.9136125654450262, 'recall': 0.6856581532416502, 'f1': 0.7833894500561166}\n",
      "{'dataset': 'hospital', 'run': 1, 'precision': 0.9812834224598931, 'recall': 0.7210216110019646, 'f1': 0.8312570781426953}\n",
      "{'dataset': 'hospital', 'run': 2, 'precision': 0.7757731958762887, 'recall': 0.5913555992141454, 'f1': 0.6711259754738016}\n",
      "{'dataset': 'hospital', 'run': 3, 'precision': 0.9172413793103448, 'recall': 0.7838899803536346, 'f1': 0.8453389830508474}\n",
      "{'dataset': 'hospital', 'run': 4, 'precision': 0.9550102249488752, 'recall': 0.9174852652259332, 'f1': 0.9358717434869739}\n",
      "{'dataset': 'hospital', 'run': 5, 'precision': 0.9795918367346939, 'recall': 0.2829076620825147, 'f1': 0.43902439024390244}\n",
      "{'dataset': 'hospital', 'run': 6, 'precision': 0.7587131367292225, 'recall': 0.555992141453831, 'f1': 0.6417233560090703}\n",
      "{'dataset': 'hospital', 'run': 7, 'precision': 0.9908675799086758, 'recall': 0.4263261296660118, 'f1': 0.5961538461538461}\n",
      "{'dataset': 'hospital', 'run': 8, 'precision': 0.5298804780876494, 'recall': 0.26129666011787817, 'f1': 0.35000000000000003}\n",
      "{'dataset': 'hospital', 'run': 9, 'precision': 0.9036144578313253, 'recall': 0.29469548133595286, 'f1': 0.4444444444444445}\n",
      "{'dataset': 'rayyan', 'run': 0, 'precision': 0.7951612903225806, 'recall': 0.520042194092827, 'f1': 0.6288265306122449}\n",
      "{'dataset': 'rayyan', 'run': 1, 'precision': 1.0, 'recall': 0.06434599156118144, 'f1': 0.12091179385530229}\n",
      "{'dataset': 'rayyan', 'run': 2, 'precision': 0.18542199488491048, 'recall': 0.1529535864978903, 'f1': 0.1676300578034682}\n",
      "{'dataset': 'rayyan', 'run': 3, 'precision': 0.27472527472527475, 'recall': 0.10548523206751055, 'f1': 0.15243902439024393}\n",
      "{'dataset': 'rayyan', 'run': 4, 'precision': 0.735144312393888, 'recall': 0.45675105485232065, 'f1': 0.5634352635003252}\n",
      "{'dataset': 'rayyan', 'run': 5, 'precision': 0.2554112554112554, 'recall': 0.06223628691983123, 'f1': 0.10008481764206954}\n",
      "{'dataset': 'rayyan', 'run': 6, 'precision': 0.9393939393939394, 'recall': 0.06540084388185655, 'f1': 0.12228796844181461}\n",
      "{'dataset': 'rayyan', 'run': 7, 'precision': 0.09056603773584905, 'recall': 0.0759493670886076, 'f1': 0.08261617900172116}\n",
      "{'dataset': 'rayyan', 'run': 8, 'precision': 0.9689922480620154, 'recall': 0.13185654008438819, 'f1': 0.2321262766945218}\n",
      "{'dataset': 'rayyan', 'run': 9, 'precision': 1.0, 'recall': 0.06434599156118144, 'f1': 0.12091179385530229}\n",
      "{'dataset': 'flights', 'run': 0, 'precision': 1.0, 'recall': 0.2628048780487805, 'f1': 0.41622404635441823}\n",
      "{'dataset': 'flights', 'run': 1, 'precision': 0.3053864168618267, 'recall': 0.26504065040650404, 'f1': 0.2837867247007617}\n",
      "{'dataset': 'flights', 'run': 2, 'precision': 0.09769094138543517, 'recall': 0.022357723577235773, 'f1': 0.03638769434336752}\n",
      "{'dataset': 'flights', 'run': 3, 'precision': 1.0, 'recall': 0.016260162601626018, 'f1': 0.032}\n",
      "{'dataset': 'flights', 'run': 4, 'precision': 1.0, 'recall': 1.0, 'f1': 1.0}\n",
      "{'dataset': 'flights', 'run': 5, 'precision': 1.0, 'recall': 0.8189024390243902, 'f1': 0.9004358028830036}\n",
      "{'dataset': 'flights', 'run': 6, 'precision': 1.0, 'recall': 1.0, 'f1': 1.0}\n",
      "{'dataset': 'flights', 'run': 7, 'precision': 0.8181818181818182, 'recall': 0.04207317073170732, 'f1': 0.08003092982795285}\n",
      "{'dataset': 'flights', 'run': 8, 'precision': 1.0, 'recall': 1.0, 'f1': 1.0}\n",
      "{'dataset': 'flights', 'run': 9, 'precision': 1.0, 'recall': 0.016260162601626018, 'f1': 0.032}\n"
     ]
    }
   ],
   "source": [
    "import pandas\n",
    "import IPython.display\n",
    "import raha\n",
    "import os\n",
    "\n",
    "results = []\n",
    "for dataset_name in ['beers', 'hospital', 'rayyan', 'flights']:\n",
    "    for run in range(10):\n",
    "        dataset_dictionary = {\n",
    "            \"name\": dataset_name,\n",
    "            \"path\": f\"../datasets/{dataset_name}/dirty.csv\",\n",
    "            \"clean_path\": f\"../datasets/{dataset_name}/clean.csv\",\n",
    "        }\n",
    "        d = raha.dataset.Dataset(dataset_dictionary)\n",
    "        d.detected_cells = dict(d.get_actual_errors_dictionary())\n",
    "        app = raha.Correction()\n",
    "        app.LABELING_BUDGET = 20\n",
    "        d = app.initialize_dataset(d)\n",
    "        app.initialize_models(d)\n",
    "        while len(d.labeled_tuples) < app.LABELING_BUDGET:\n",
    "            app.sample_tuple(d, random_seed=run)\n",
    "            app.label_with_ground_truth(d)\n",
    "            app.update_models(d)\n",
    "            app.generate_features(d)\n",
    "            app.predict_corrections(d, random_seed=run)\n",
    "        p, r, f = d.get_data_cleaning_evaluation(d.corrected_cells)[-3:]\n",
    "        result = {'dataset': d.name, 'run': run, 'precision': p, 'recall': r, 'f1': f}\n",
    "        print(result)\n",
    "        results.append(result)"
   ]
  },
  {
   "cell_type": "code",
   "execution_count": 2,
   "metadata": {},
   "outputs": [
    {
     "name": "stdout",
     "output_type": "stream",
     "text": [
      "[{'dataset': 'beers', 'run': 0, 'precision': 0.6721047794117647, 'recall': 0.6705639614855571, 'f1': 0.6713334863438145}, {'dataset': 'beers', 'run': 1, 'precision': 0.6466559226430298, 'recall': 0.36795048143053644, 'f1': 0.4690239625949737}, {'dataset': 'beers', 'run': 2, 'precision': 0.6320386118133763, 'recall': 0.6304447501146263, 'f1': 0.6312406748536669}, {'dataset': 'beers', 'run': 3, 'precision': 0.6509544215037009, 'recall': 0.38308115543328747, 'f1': 0.4823206811949777}, {'dataset': 'beers', 'run': 4, 'precision': 0.7852519648636154, 'recall': 0.7787712058688675, 'f1': 0.7819981583793738}, {'dataset': 'beers', 'run': 5, 'precision': 0.5920957215373459, 'recall': 0.37436955524988536, 'f1': 0.45870786516853934}, {'dataset': 'beers', 'run': 6, 'precision': 0.6466559226430298, 'recall': 0.36795048143053644, 'f1': 0.4690239625949737}, {'dataset': 'beers', 'run': 7, 'precision': 0.8510587102983638, 'recall': 0.8108665749656121, 'f1': 0.8304766377083822}, {'dataset': 'beers', 'run': 8, 'precision': 0.6176129779837776, 'recall': 0.36657496561210456, 'f1': 0.4600776866637894}, {'dataset': 'beers', 'run': 9, 'precision': 0.6466559226430298, 'recall': 0.36795048143053644, 'f1': 0.4690239625949737}, {'dataset': 'hospital', 'run': 0, 'precision': 0.9136125654450262, 'recall': 0.6856581532416502, 'f1': 0.7833894500561166}, {'dataset': 'hospital', 'run': 1, 'precision': 0.9812834224598931, 'recall': 0.7210216110019646, 'f1': 0.8312570781426953}, {'dataset': 'hospital', 'run': 2, 'precision': 0.7757731958762887, 'recall': 0.5913555992141454, 'f1': 0.6711259754738016}, {'dataset': 'hospital', 'run': 3, 'precision': 0.9172413793103448, 'recall': 0.7838899803536346, 'f1': 0.8453389830508474}, {'dataset': 'hospital', 'run': 4, 'precision': 0.9550102249488752, 'recall': 0.9174852652259332, 'f1': 0.9358717434869739}, {'dataset': 'hospital', 'run': 5, 'precision': 0.9795918367346939, 'recall': 0.2829076620825147, 'f1': 0.43902439024390244}, {'dataset': 'hospital', 'run': 6, 'precision': 0.7587131367292225, 'recall': 0.555992141453831, 'f1': 0.6417233560090703}, {'dataset': 'hospital', 'run': 7, 'precision': 0.9908675799086758, 'recall': 0.4263261296660118, 'f1': 0.5961538461538461}, {'dataset': 'hospital', 'run': 8, 'precision': 0.5298804780876494, 'recall': 0.26129666011787817, 'f1': 0.35000000000000003}, {'dataset': 'hospital', 'run': 9, 'precision': 0.9036144578313253, 'recall': 0.29469548133595286, 'f1': 0.4444444444444445}, {'dataset': 'rayyan', 'run': 0, 'precision': 0.7951612903225806, 'recall': 0.520042194092827, 'f1': 0.6288265306122449}, {'dataset': 'rayyan', 'run': 1, 'precision': 1.0, 'recall': 0.06434599156118144, 'f1': 0.12091179385530229}, {'dataset': 'rayyan', 'run': 2, 'precision': 0.18542199488491048, 'recall': 0.1529535864978903, 'f1': 0.1676300578034682}, {'dataset': 'rayyan', 'run': 3, 'precision': 0.27472527472527475, 'recall': 0.10548523206751055, 'f1': 0.15243902439024393}, {'dataset': 'rayyan', 'run': 4, 'precision': 0.735144312393888, 'recall': 0.45675105485232065, 'f1': 0.5634352635003252}, {'dataset': 'rayyan', 'run': 5, 'precision': 0.2554112554112554, 'recall': 0.06223628691983123, 'f1': 0.10008481764206954}, {'dataset': 'rayyan', 'run': 6, 'precision': 0.9393939393939394, 'recall': 0.06540084388185655, 'f1': 0.12228796844181461}, {'dataset': 'rayyan', 'run': 7, 'precision': 0.09056603773584905, 'recall': 0.0759493670886076, 'f1': 0.08261617900172116}, {'dataset': 'rayyan', 'run': 8, 'precision': 0.9689922480620154, 'recall': 0.13185654008438819, 'f1': 0.2321262766945218}, {'dataset': 'rayyan', 'run': 9, 'precision': 1.0, 'recall': 0.06434599156118144, 'f1': 0.12091179385530229}, {'dataset': 'flights', 'run': 0, 'precision': 1.0, 'recall': 0.2628048780487805, 'f1': 0.41622404635441823}, {'dataset': 'flights', 'run': 1, 'precision': 0.3053864168618267, 'recall': 0.26504065040650404, 'f1': 0.2837867247007617}, {'dataset': 'flights', 'run': 2, 'precision': 0.09769094138543517, 'recall': 0.022357723577235773, 'f1': 0.03638769434336752}, {'dataset': 'flights', 'run': 3, 'precision': 1.0, 'recall': 0.016260162601626018, 'f1': 0.032}, {'dataset': 'flights', 'run': 4, 'precision': 1.0, 'recall': 1.0, 'f1': 1.0}, {'dataset': 'flights', 'run': 5, 'precision': 1.0, 'recall': 0.8189024390243902, 'f1': 0.9004358028830036}, {'dataset': 'flights', 'run': 6, 'precision': 1.0, 'recall': 1.0, 'f1': 1.0}, {'dataset': 'flights', 'run': 7, 'precision': 0.8181818181818182, 'recall': 0.04207317073170732, 'f1': 0.08003092982795285}, {'dataset': 'flights', 'run': 8, 'precision': 1.0, 'recall': 1.0, 'f1': 1.0}, {'dataset': 'flights', 'run': 9, 'precision': 1.0, 'recall': 0.016260162601626018, 'f1': 0.032}]\n"
     ]
    }
   ],
   "source": [
    "print(results)"
   ]
  },
  {
   "cell_type": "code",
   "execution_count": null,
   "metadata": {},
   "outputs": [],
   "source": []
  }
 ],
 "metadata": {
  "kernelspec": {
   "display_name": "Python 3 (ipykernel)",
   "language": "python",
   "name": "python3"
  },
  "language_info": {
   "codemirror_mode": {
    "name": "ipython",
    "version": 3
   },
   "file_extension": ".py",
   "mimetype": "text/x-python",
   "name": "python",
   "nbconvert_exporter": "python",
   "pygments_lexer": "ipython3",
   "version": "3.7.10"
  }
 },
 "nbformat": 4,
 "nbformat_minor": 4
}
