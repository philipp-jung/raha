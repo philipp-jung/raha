{
 "cells": [
  {
   "cell_type": "markdown",
   "metadata": {},
   "source": [
    "# Validierung von Messungen mit Baran\n",
    "In dieser Branch habe ich nichts angefasst, außer, dass ich die Messungen auf die Vicinity-Modelle beschränke. Das hier ist die Baseline für Vicnity-Modelle. Was hier nicht läuft, kann ich mit Baran nicht reproduzieren."
   ]
  },
  {
   "cell_type": "markdown",
   "metadata": {},
   "source": [
    "## Exact replicate of `correction.py`"
   ]
  },
  {
   "cell_type": "code",
   "execution_count": 1,
   "metadata": {},
   "outputs": [
    {
     "name": "stdout",
     "output_type": "stream",
     "text": [
      "{'dataset': 'beers', 'run': 0, 'precision': 0.9617213504517356, 'recall': 0.927326914259514, 'f1': 0.9442110177404294}\n",
      "{'dataset': 'beers', 'run': 1, 'precision': 0.8546538285190279, 'recall': 0.8546538285190279, 'f1': 0.8546538285190279}\n",
      "{'dataset': 'beers', 'run': 2, 'precision': 0.9803439803439803, 'recall': 0.9147180192572214, 'f1': 0.9463946869070209}\n",
      "{'dataset': 'beers', 'run': 3, 'precision': 0.8732232920678588, 'recall': 0.8732232920678588, 'f1': 0.8732232920678588}\n",
      "{'dataset': 'beers', 'run': 4, 'precision': 0.9936476911800636, 'recall': 0.932370472260431, 'f1': 0.9620342992312243}\n",
      "{'dataset': 'beers', 'run': 5, 'precision': 0.9793762575452716, 'recall': 0.8927097661623109, 'f1': 0.9340369393139842}\n",
      "{'dataset': 'beers', 'run': 6, 'precision': 0.8719889883000688, 'recall': 0.8713892709766162, 'f1': 0.8716890264877881}\n",
      "{'dataset': 'beers', 'run': 7, 'precision': 0.8884268884268884, 'recall': 0.8817056396148556, 'f1': 0.8850535036244392}\n",
      "{'dataset': 'beers', 'run': 8, 'precision': 0.9933316868362558, 'recall': 0.9220541036221916, 'f1': 0.9563666627036024}\n",
      "{'dataset': 'beers', 'run': 9, 'precision': 0.9575518262586377, 'recall': 0.8895002292526364, 'f1': 0.9222724031376278}\n",
      "{'dataset': 'hospital', 'run': 0, 'precision': 0.920892494929006, 'recall': 0.8919449901768173, 'f1': 0.906187624750499}\n",
      "{'dataset': 'hospital', 'run': 1, 'precision': 0.8356435643564356, 'recall': 0.8290766208251473, 'f1': 0.8323471400394478}\n",
      "{'dataset': 'hospital', 'run': 2, 'precision': 0.9032921810699589, 'recall': 0.862475442043222, 'f1': 0.8824120603015075}\n",
      "{'dataset': 'hospital', 'run': 3, 'precision': 0.8094302554027505, 'recall': 0.8094302554027505, 'f1': 0.8094302554027506}\n",
      "{'dataset': 'hospital', 'run': 4, 'precision': 0.8167330677290837, 'recall': 0.8055009823182712, 'f1': 0.811078140454995}\n",
      "{'dataset': 'hospital', 'run': 5, 'precision': 0.9176706827309237, 'recall': 0.8978388998035364, 'f1': 0.9076464746772592}\n",
      "{'dataset': 'hospital', 'run': 6, 'precision': 0.9121756487025948, 'recall': 0.8978388998035364, 'f1': 0.904950495049505}\n",
      "{'dataset': 'hospital', 'run': 7, 'precision': 0.894, 'recall': 0.8781925343811395, 'f1': 0.886025768087215}\n",
      "{'dataset': 'hospital', 'run': 8, 'precision': 0.93, 'recall': 0.9135559921414538, 'f1': 0.9217046580773044}\n",
      "{'dataset': 'hospital', 'run': 9, 'precision': 0.8192534381139489, 'recall': 0.8192534381139489, 'f1': 0.8192534381139489}\n",
      "{'dataset': 'rayyan', 'run': 0, 'precision': 0.9123173277661796, 'recall': 0.4609704641350211, 'f1': 0.6124737210932025}\n",
      "{'dataset': 'rayyan', 'run': 1, 'precision': 0.2632821723730815, 'recall': 0.23523206751054854, 'f1': 0.24846796657381617}\n",
      "{'dataset': 'rayyan', 'run': 2, 'precision': 0.755859375, 'recall': 0.40822784810126583, 'f1': 0.5301369863013699}\n",
      "{'dataset': 'rayyan', 'run': 3, 'precision': 0.2665876777251185, 'recall': 0.23734177215189872, 'f1': 0.2511160714285714}\n",
      "{'dataset': 'rayyan', 'run': 4, 'precision': 0.7409523809523809, 'recall': 0.410337552742616, 'f1': 0.528173794976239}\n",
      "{'dataset': 'rayyan', 'run': 5, 'precision': 0.8184873949579832, 'recall': 0.5137130801687764, 'f1': 0.6312378483473753}\n",
      "{'dataset': 'rayyan', 'run': 6, 'precision': 0.43742098609355246, 'recall': 0.3649789029535865, 'f1': 0.3979298447383554}\n",
      "{'dataset': 'rayyan', 'run': 7, 'precision': 0.28994845360824745, 'recall': 0.23734177215189872, 'f1': 0.2610208816705336}\n",
      "{'dataset': 'rayyan', 'run': 8, 'precision': 0.34465408805031444, 'recall': 0.2890295358649789, 'f1': 0.3144004589787722}\n",
      "{'dataset': 'rayyan', 'run': 9, 'precision': 0.31650246305418717, 'recall': 0.27109704641350213, 'f1': 0.2920454545454545}\n",
      "{'dataset': 'flights', 'run': 0, 'precision': 1.0, 'recall': 1.0, 'f1': 1.0}\n",
      "{'dataset': 'flights', 'run': 1, 'precision': 1.0, 'recall': 1.0, 'f1': 1.0}\n",
      "{'dataset': 'flights', 'run': 2, 'precision': 1.0, 'recall': 1.0, 'f1': 1.0}\n",
      "{'dataset': 'flights', 'run': 3, 'precision': 1.0, 'recall': 1.0, 'f1': 1.0}\n",
      "{'dataset': 'flights', 'run': 4, 'precision': 1.0, 'recall': 1.0, 'f1': 1.0}\n",
      "{'dataset': 'flights', 'run': 5, 'precision': 1.0, 'recall': 1.0, 'f1': 1.0}\n",
      "{'dataset': 'flights', 'run': 6, 'precision': 1.0, 'recall': 1.0, 'f1': 1.0}\n",
      "{'dataset': 'flights', 'run': 7, 'precision': 1.0, 'recall': 1.0, 'f1': 1.0}\n",
      "{'dataset': 'flights', 'run': 8, 'precision': 1.0, 'recall': 1.0, 'f1': 1.0}\n",
      "{'dataset': 'flights', 'run': 9, 'precision': 1.0, 'recall': 1.0, 'f1': 1.0}\n"
     ]
    }
   ],
   "source": [
    "import pandas\n",
    "import IPython.display\n",
    "import raha\n",
    "import os\n",
    "\n",
    "results = []\n",
    "for dataset_name in ['beers', 'hospital', 'rayyan', 'flights']:\n",
    "    for run in range(10):\n",
    "        dataset_dictionary = {\n",
    "            \"name\": dataset_name,\n",
    "            \"path\": f\"../datasets/{dataset_name}/dirty.csv\",\n",
    "            \"clean_path\": f\"../datasets/{dataset_name}/clean.csv\",\n",
    "        }\n",
    "        d = raha.dataset.Dataset(dataset_dictionary)\n",
    "        d.detected_cells = dict(d.get_actual_errors_dictionary())\n",
    "        app = raha.Correction()\n",
    "        d = app.initialize_dataset(d)\n",
    "        app.initialize_models(d)\n",
    "        while len(d.labeled_tuples) < app.LABELING_BUDGET:\n",
    "            app.sample_tuple(d)\n",
    "            if d.has_ground_truth:\n",
    "                app.label_with_ground_truth(d)\n",
    "            app.update_models(d)\n",
    "            app.generate_features(d)\n",
    "            app.predict_corrections(d)\n",
    "        p, r, f = d.get_data_cleaning_evaluation(d.corrected_cells)[-3:]\n",
    "        result = {'dataset': d.name, 'run': run, 'precision': p, 'recall': r, 'f1': f}\n",
    "        print(result)\n",
    "        results.append(result)"
   ]
  },
  {
   "cell_type": "code",
   "execution_count": 4,
   "metadata": {},
   "outputs": [
    {
     "name": "stdout",
     "output_type": "stream",
     "text": [
      "{'dataset': 'flights', 'precision': 1.0, 'recall': 1.0, 'f1': 1.0}\n",
      "{'dataset': 'beers', 'precision': 0.988404452690167, 'recall': 0.9770747363594682, 'f1': 0.9827069402813003}\n",
      "{'dataset': 'rayyan', 'precision': 0.3726235741444867, 'recall': 0.310126582278481, 'f1': 0.33851468048359246}\n",
      "{'dataset': 'hospital', 'precision': 0.8804780876494024, 'recall': 0.8683693516699411, 'f1': 0.8743818001978239}\n"
     ]
    }
   ],
   "source": [
    "for dataset_name in [\"flights\", 'beers', 'rayyan', 'hospital']:\n",
    "    import pandas\n",
    "    import IPython.display\n",
    "    import raha\n",
    "    import os\n",
    "    \n",
    "    dataset_dictionary = {\n",
    "        \"name\": dataset_name,\n",
    "        \"path\": f\"../datasets/{dataset_name}/dirty.csv\",\n",
    "        \"clean_path\": f\"../datasets/{dataset_name}/clean.csv\",\n",
    "    }\n",
    "    d = raha.dataset.Dataset(dataset_dictionary)\n",
    "    d.detected_cells = dict(d.get_actual_errors_dictionary())\n",
    "    app = raha.Correction()\n",
    "    d = app.initialize_dataset(d)\n",
    "    app.initialize_models(d)\n",
    "    while len(d.labeled_tuples) < app.LABELING_BUDGET:\n",
    "        app.sample_tuple(d)\n",
    "        if d.has_ground_truth:\n",
    "            app.label_with_ground_truth(d)\n",
    "        app.update_models(d)\n",
    "        app.generate_features(d)\n",
    "        app.predict_corrections(d)\n",
    "    p, r, f = d.get_data_cleaning_evaluation(d.corrected_cells)[-3:]\n",
    "    print({'dataset': d.name, 'precision': p, 'recall': r, 'f1': f})\n",
    "    # delete all state after each run.\n",
    "    %reset -f"
   ]
  },
  {
   "cell_type": "markdown",
   "metadata": {},
   "source": [
    "### Das schwankt ganz mächtig."
   ]
  }
 ],
 "metadata": {
  "kernelspec": {
   "display_name": "Python 3 (ipykernel)",
   "language": "python",
   "name": "python3"
  },
  "language_info": {
   "codemirror_mode": {
    "name": "ipython",
    "version": 3
   },
   "file_extension": ".py",
   "mimetype": "text/x-python",
   "name": "python",
   "nbconvert_exporter": "python",
   "pygments_lexer": "ipython3",
   "version": "3.7.10"
  }
 },
 "nbformat": 4,
 "nbformat_minor": 4
}
