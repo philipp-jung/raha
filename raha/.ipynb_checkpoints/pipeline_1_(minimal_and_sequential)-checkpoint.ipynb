{
 "cells": [
  {
   "cell_type": "markdown",
   "metadata": {},
   "source": [
    "# End-to-End Data Cleaning Pipeline with Raha and Baran (Minimal and Sequential)\n",
    "We build an end-to-end data cleaning pipeline with our configuration-free error detection and correction systems, Raha and Baran."
   ]
  },
  {
   "cell_type": "code",
   "execution_count": 1,
   "metadata": {},
   "outputs": [],
   "source": [
    "%load_ext autoreload\n",
    "%autoreload 2"
   ]
  },
  {
   "cell_type": "code",
   "execution_count": 32,
   "metadata": {},
   "outputs": [],
   "source": [
    "import pandas\n",
    "import IPython.display\n",
    "\n",
    "from detection import Detection\n",
    "from correction import Correction"
   ]
  },
  {
   "cell_type": "markdown",
   "metadata": {},
   "source": [
    "## Error Detection with Raha"
   ]
  },
  {
   "cell_type": "markdown",
   "metadata": {},
   "source": [
    "### 1. Instantiating the Data set via the detection class\n",
    "We first instantiate the `Detection` class. Das muss so gemacht werden."
   ]
  },
  {
   "cell_type": "markdown",
   "metadata": {},
   "source": [
    "## Weird dataset setup with Raha"
   ]
  },
  {
   "cell_type": "code",
   "execution_count": 42,
   "metadata": {},
   "outputs": [],
   "source": [
    "app_1 = Detection()\n",
    "app_1.VERBOSE = True\n",
    "\n",
    "beer = {\n",
    "    \"name\": \"beer\",\n",
    "    \"path\": \"../datasets/beer/dirty.csv\",\n",
    "    \"clean_path\": \"../datasets/beer/clean.csv\"\n",
    "}\n",
    "flights = {\n",
    "    \"name\": \"flights\",\n",
    "    \"path\": \"../datasets/flights/dirty.csv\",\n",
    "    \"clean_path\": \"../datasets/flights/clean.csv\"\n",
    "}\n",
    "movies = {\n",
    "    \"name\": \"movies\",\n",
    "    \"path\": \"../datasets/movies/dirty.csv\",\n",
    "    \"clean_path\": \"../datasets/movies/clean.csv\"\n",
    "}\n",
    "rayyan = {\n",
    "    \"name\": \"rayyan\",\n",
    "    \"path\": \"../datasets/rayyan/dirty.csv\",\n",
    "    \"clean_path\": \"../datasets/rayyan/clean.csv\"\n",
    "}\n",
    "tox = {\n",
    "    \"name\": \"tox\",\n",
    "    \"path\": \"../datasets/tox/dirty.csv\",\n",
    "    \"clean_path\": \"../datasets/tox/clean.csv\"\n",
    "}\n",
    "toy = {\n",
    "    \"name\": \"toy\",\n",
    "    \"path\": \"../datasets/toy/dirty.csv\",\n",
    "    \"clean_path\": \"../datasets/toy/clean.csv\"\n",
    "}\n",
    "hospital = {\n",
    "    \"name\": \"hospital\",\n",
    "    \"path\": \"../datasets/hospital/dirty.csv\",\n",
    "    \"clean_path\": \"../datasets/hospital/clean.csv\"\n",
    "}\n",
    "\n",
    "datasets = [beer, flights, movies, rayyan, tox, toy, hospital]\n",
    "\n",
    "d = app_1.initialize_dataset(dataset_dictionary)"
   ]
  },
  {
   "cell_type": "markdown",
   "metadata": {},
   "source": [
    "## Error correction with Baran"
   ]
  },
  {
   "cell_type": "code",
   "execution_count": 43,
   "metadata": {},
   "outputs": [],
   "source": [
    "app_2 = Correction()\n",
    "\n",
    "# How many tuples would you label?\n",
    "app_2.LABELING_BUDGET = 20\n",
    "app_2.VERBOSE = True"
   ]
  },
  {
   "cell_type": "markdown",
   "metadata": {},
   "source": [
    "### 2. Initializing the Dataset Object\n",
    "We next initialize the dataset object."
   ]
  },
  {
   "cell_type": "code",
   "execution_count": 44,
   "metadata": {},
   "outputs": [],
   "source": [
    "d.detected_cells = dict(d.get_actual_errors_dictionary())\n",
    "d = app_2.initialize_dataset(d)\n",
    "#d.dataframe.head()"
   ]
  },
  {
   "cell_type": "code",
   "execution_count": 45,
   "metadata": {},
   "outputs": [
    {
     "name": "stdout",
     "output_type": "stream",
     "text": [
      "The error corrector models are initialized.\n"
     ]
    }
   ],
   "source": [
    "app_2.initialize_models(d)"
   ]
  },
  {
   "cell_type": "code",
   "execution_count": 46,
   "metadata": {},
   "outputs": [
    {
     "name": "stdout",
     "output_type": "stream",
     "text": [
      "Tuple 532 is sampled.\n",
      "Tuple 532 is labeled.\n",
      "The error corrector models are updated with new labeled tuple 532.\n",
      "24040 pairs of (a data error, a potential correction) are featurized.\n",
      "7% (35 / 509) of data errors are corrected.\n",
      "Tuple 386 is sampled.\n",
      "Tuple 386 is labeled.\n",
      "The error corrector models are updated with new labeled tuple 386.\n",
      "24059 pairs of (a data error, a potential correction) are featurized.\n",
      "16% (81 / 509) of data errors are corrected.\n",
      "Tuple 157 is sampled.\n",
      "Tuple 157 is labeled.\n",
      "The error corrector models are updated with new labeled tuple 157.\n",
      "24083 pairs of (a data error, a potential correction) are featurized.\n",
      "21% (106 / 509) of data errors are corrected.\n",
      "Tuple 256 is sampled.\n",
      "Tuple 256 is labeled.\n",
      "The error corrector models are updated with new labeled tuple 256.\n",
      "24115 pairs of (a data error, a potential correction) are featurized.\n",
      "22% (110 / 509) of data errors are corrected.\n",
      "Tuple 238 is sampled.\n",
      "Tuple 238 is labeled.\n",
      "The error corrector models are updated with new labeled tuple 238.\n",
      "24118 pairs of (a data error, a potential correction) are featurized.\n",
      "24% (120 / 509) of data errors are corrected.\n",
      "Tuple 213 is sampled.\n",
      "Tuple 213 is labeled.\n",
      "The error corrector models are updated with new labeled tuple 213.\n",
      "24128 pairs of (a data error, a potential correction) are featurized.\n",
      "29% (150 / 509) of data errors are corrected.\n",
      "Tuple 411 is sampled.\n",
      "Tuple 411 is labeled.\n",
      "The error corrector models are updated with new labeled tuple 411.\n",
      "24128 pairs of (a data error, a potential correction) are featurized.\n",
      "31% (156 / 509) of data errors are corrected.\n",
      "Tuple 639 is sampled.\n",
      "Tuple 639 is labeled.\n",
      "The error corrector models are updated with new labeled tuple 639.\n",
      "24136 pairs of (a data error, a potential correction) are featurized.\n",
      "35% (177 / 509) of data errors are corrected.\n",
      "Tuple 654 is sampled.\n",
      "Tuple 654 is labeled.\n",
      "The error corrector models are updated with new labeled tuple 654.\n",
      "24157 pairs of (a data error, a potential correction) are featurized.\n",
      "38% (194 / 509) of data errors are corrected.\n",
      "Tuple 736 is sampled.\n",
      "Tuple 736 is labeled.\n",
      "The error corrector models are updated with new labeled tuple 736.\n",
      "24169 pairs of (a data error, a potential correction) are featurized.\n",
      "39% (196 / 509) of data errors are corrected.\n",
      "Tuple 57 is sampled.\n",
      "Tuple 57 is labeled.\n",
      "The error corrector models are updated with new labeled tuple 57.\n",
      "24169 pairs of (a data error, a potential correction) are featurized.\n",
      "39% (199 / 509) of data errors are corrected.\n",
      "Tuple 956 is sampled.\n",
      "Tuple 956 is labeled.\n",
      "The error corrector models are updated with new labeled tuple 956.\n",
      "24170 pairs of (a data error, a potential correction) are featurized.\n",
      "40% (202 / 509) of data errors are corrected.\n",
      "Tuple 228 is sampled.\n",
      "Tuple 228 is labeled.\n",
      "The error corrector models are updated with new labeled tuple 228.\n",
      "24188 pairs of (a data error, a potential correction) are featurized.\n",
      "40% (204 / 509) of data errors are corrected.\n",
      "Tuple 56 is sampled.\n",
      "Tuple 56 is labeled.\n",
      "The error corrector models are updated with new labeled tuple 56.\n",
      "24189 pairs of (a data error, a potential correction) are featurized.\n",
      "40% (206 / 509) of data errors are corrected.\n",
      "Tuple 94 is sampled.\n",
      "Tuple 94 is labeled.\n",
      "The error corrector models are updated with new labeled tuple 94.\n",
      "24192 pairs of (a data error, a potential correction) are featurized.\n",
      "41% (211 / 509) of data errors are corrected.\n",
      "Tuple 855 is sampled.\n",
      "Tuple 855 is labeled.\n",
      "The error corrector models are updated with new labeled tuple 855.\n",
      "24210 pairs of (a data error, a potential correction) are featurized.\n",
      "42% (213 / 509) of data errors are corrected.\n",
      "Tuple 865 is sampled.\n",
      "Tuple 865 is labeled.\n",
      "The error corrector models are updated with new labeled tuple 865.\n",
      "24215 pairs of (a data error, a potential correction) are featurized.\n",
      "45% (227 / 509) of data errors are corrected.\n",
      "Tuple 93 is sampled.\n",
      "Tuple 93 is labeled.\n",
      "The error corrector models are updated with new labeled tuple 93.\n",
      "24240 pairs of (a data error, a potential correction) are featurized.\n",
      "46% (233 / 509) of data errors are corrected.\n",
      "Tuple 334 is sampled.\n",
      "Tuple 334 is labeled.\n",
      "The error corrector models are updated with new labeled tuple 334.\n",
      "24240 pairs of (a data error, a potential correction) are featurized.\n",
      "47% (238 / 509) of data errors are corrected.\n",
      "Tuple 915 is sampled.\n",
      "Tuple 915 is labeled.\n",
      "The error corrector models are updated with new labeled tuple 915.\n",
      "24242 pairs of (a data error, a potential correction) are featurized.\n",
      "47% (241 / 509) of data errors are corrected.\n"
     ]
    }
   ],
   "source": [
    "while len(d.labeled_tuples) < app_2.LABELING_BUDGET:\n",
    "    app_2.sample_tuple(d)\n",
    "    if not d.has_ground_truth:\n",
    "        raise ValueError('Wir arbeiten nur mit maschinell gesampelten Labels')\n",
    "    app_2.label_with_ground_truth(d)\n",
    "    app_2.update_models(d)\n",
    "    app_2.generate_features_synchronously(d)\n",
    "    app_2.predict_corrections(d)\n",
    "\n",
    "#for si in d.labeled_tuples:\n",
    "#    d.sampled_tuple = si\n",
    "#    app_2.update_models(d)\n",
    "#    app_2.generate_features(d)\n",
    "#    app_2.predict_corrections(d)"
   ]
  },
  {
   "cell_type": "markdown",
   "metadata": {},
   "source": [
    "### 5. Storing Results\n",
    "Baran can also store the error correction results."
   ]
  },
  {
   "cell_type": "code",
   "execution_count": null,
   "metadata": {},
   "outputs": [],
   "source": [
    "app_2.store_results(d)"
   ]
  },
  {
   "cell_type": "markdown",
   "metadata": {},
   "source": [
    "### 6. Evaluating the Error Correction Task\n",
    "We can finally evaluate our error correction task."
   ]
  },
  {
   "cell_type": "code",
   "execution_count": 22,
   "metadata": {},
   "outputs": [
    {
     "name": "stdout",
     "output_type": "stream",
     "text": [
      "Baran's performance on hospital:\n",
      "Precision = 0.92\n",
      "Recall = 0.89\n",
      "F1 = 0.91\n"
     ]
    }
   ],
   "source": [
    "p, r, f = d.get_data_cleaning_evaluation(d.corrected_cells)[-3:]\n",
    "print(\"Baran's performance on {}:\\nPrecision = {:.2f}\\nRecall = {:.2f}\\nF1 = {:.2f}\".format(d.name, p, r, f))"
   ]
  },
  {
   "cell_type": "code",
   "execution_count": 39,
   "metadata": {},
   "outputs": [
    {
     "name": "stdout",
     "output_type": "stream",
     "text": [
      "Baran's performance on hospital:\n",
      "Precision = 0.56\n",
      "Recall = 0.27\n",
      "F1 = 0.37\n"
     ]
    }
   ],
   "source": [
    "p, r, f = d.get_data_cleaning_evaluation(d.corrected_cells)[-3:]\n",
    "print(\"Baran's performance on {}:\\nPrecision = {:.2f}\\nRecall = {:.2f}\\nF1 = {:.2f}\".format(d.name, p, r, f))"
   ]
  }
 ],
 "metadata": {
  "kernelspec": {
   "display_name": "Python 3 (ipykernel)",
   "language": "python",
   "name": "python3"
  },
  "language_info": {
   "codemirror_mode": {
    "name": "ipython",
    "version": 3
   },
   "file_extension": ".py",
   "mimetype": "text/x-python",
   "name": "python",
   "nbconvert_exporter": "python",
   "pygments_lexer": "ipython3",
   "version": "3.8.12"
  }
 },
 "nbformat": 4,
 "nbformat_minor": 4
}
