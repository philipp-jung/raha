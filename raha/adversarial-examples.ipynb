{
 "cells": [
  {
   "cell_type": "code",
   "execution_count": 1,
   "id": "8924f28f-75e6-4381-9498-5fba6e33a698",
   "metadata": {},
   "outputs": [],
   "source": [
    "%load_ext autoreload\n",
    "%autoreload 2"
   ]
  },
  {
   "cell_type": "code",
   "execution_count": 2,
   "id": "25e38c9e-27b3-47bb-93cb-57a544f43619",
   "metadata": {},
   "outputs": [],
   "source": [
    "import pandas\n",
    "import IPython.display\n",
    "\n",
    "import raha\n",
    "import datetime"
   ]
  },
  {
   "cell_type": "code",
   "execution_count": 3,
   "id": "2303eb5d-16be-47c8-9c15-44fc7d1cd7d7",
   "metadata": {},
   "outputs": [],
   "source": [
    "unary_fd_example = {\n",
    "    \"name\": \"binary_fd_example\",\n",
    "    \"path\": \"../datasets/unary-fd-example/dirty.csv\",\n",
    "    \"clean_path\": \"../datasets/unary-fd-example/clean.csv\"\n",
    "}\n",
    "\n",
    "binary_fd_example = {\n",
    "    \"name\": \"binary_fd_example\",\n",
    "    \"path\": \"../datasets/binary-fd-example/dirty.csv\",\n",
    "    \"clean_path\": \"../datasets/binary-fd-example/clean.csv\"\n",
    "}"
   ]
  },
  {
   "cell_type": "markdown",
   "id": "5c323cd4-f21b-487c-aa78-6823e3ee2775",
   "metadata": {},
   "source": [
    "# Unary FDs\n",
    "Im folgenden Beispiel zeige ich, wie die unary FD - Implementierung in Baran funktioniert. Dazu stelle ich alle anderen Featuregeneratoren mittels `VICINITY_ONLY = True` aus. Der Metalearner ist ein Decision Tree Classifier, und das labeling-budget limitiere ich auf 1 -- damit zwinge ich den Metalearner, mit einem test-set von einem Tupel auszukommen. Somit ist es zwingend notwendig, dass für eine korrekte Datensäuberung die Features eine hohe Qualität haben."
   ]
  },
  {
   "cell_type": "code",
   "execution_count": 9,
   "id": "bee87ff7-17ad-41fe-a855-8ebd15a56b43",
   "metadata": {
    "tags": []
   },
   "outputs": [
    {
     "name": "stdout",
     "output_type": "stream",
     "text": [
      "The error corrector models are initialized.\n",
      "Tuple 3 is sampled.\n",
      "Tuple 3 is labeled.\n",
      "The error corrector models are updated with new labeled tuple 3.\n",
      "3 pairs of (a data error, a potential correction) are featurized.\n",
      "100% (3 / 3) of data errors are corrected.\n",
      "{'dataset': 'binary_fd_example', 'experiment': 'adder', 'precision': 1.0, 'recall': 1.0, 'f1': 1.0}\n"
     ]
    }
   ],
   "source": [
    "datasets = [unary_fd_example]\n",
    "\n",
    "for dataset_dictionary in datasets:\n",
    "    app_2 = raha.Correction()\n",
    "\n",
    "    app_2.LABELING_BUDGET = 1\n",
    "    app_2.VERBOSE = True\n",
    "    app_2.CLASSIFICATION_MODEL = \"DTC\"\n",
    "    app_2.EXPERIMENT = 'adder'\n",
    "    app_2.VICINITY_ONLY = True\n",
    "    app_2.HIGHER_ORDER_FEATURE_GENERATOR = ''  # disable\n",
    "\n",
    "    d = raha.dataset.Dataset(dataset_dictionary)\n",
    "    d.detected_cells = dict(d.get_actual_errors_dictionary())\n",
    "    d = app_2.initialize_dataset(d)\n",
    "\n",
    "    app_2.initialize_models(d)\n",
    "    while len(d.labeled_tuples) < app_2.LABELING_BUDGET:\n",
    "        app_2.sample_tuple(d, random_seed=0)\n",
    "        if d.has_ground_truth:\n",
    "            app_2.label_with_ground_truth(d)\n",
    "        app_2.update_models(d)\n",
    "        app_2.generate_features_synchronously(d)\n",
    "        app_2.predict_corrections(d, random_seed=0)\n",
    "\n",
    "    p, r, f = d.get_data_cleaning_evaluation(d.corrected_cells)[-3:]\n",
    "    print({'dataset': d.name, 'experiment': app_2.EXPERIMENT, 'precision': p, 'recall': r, 'f1': f})"
   ]
  },
  {
   "cell_type": "markdown",
   "id": "0d232f1b-9598-4fe1-a4a4-5810779daf87",
   "metadata": {},
   "source": [
    "Mit nur einem korrekten Beispiel in den ungesäuberten Daten und einem Label ist Baran in der Lage, zwei falsche ZIP-Codes für St. Petersburg zu reinigen."
   ]
  },
  {
   "cell_type": "code",
   "execution_count": 5,
   "id": "c7af7139-a852-4d4c-b345-e6e9f59dad9f",
   "metadata": {},
   "outputs": [
    {
     "data": {
      "text/html": [
       "<div>\n",
       "<style scoped>\n",
       "    .dataframe tbody tr th:only-of-type {\n",
       "        vertical-align: middle;\n",
       "    }\n",
       "\n",
       "    .dataframe tbody tr th {\n",
       "        vertical-align: top;\n",
       "    }\n",
       "\n",
       "    .dataframe thead th {\n",
       "        text-align: right;\n",
       "    }\n",
       "</style>\n",
       "<table border=\"1\" class=\"dataframe\">\n",
       "  <thead>\n",
       "    <tr style=\"text-align: right;\">\n",
       "      <th></th>\n",
       "      <th>Unnamed: 0</th>\n",
       "      <th>name</th>\n",
       "      <th>zip</th>\n",
       "      <th>country</th>\n",
       "      <th>city</th>\n",
       "    </tr>\n",
       "  </thead>\n",
       "  <tbody>\n",
       "    <tr>\n",
       "      <th>0</th>\n",
       "      <td>0</td>\n",
       "      <td>A</td>\n",
       "      <td>1</td>\n",
       "      <td>Russia</td>\n",
       "      <td>St. Petersburg</td>\n",
       "    </tr>\n",
       "    <tr>\n",
       "      <th>1</th>\n",
       "      <td>1</td>\n",
       "      <td>B</td>\n",
       "      <td>123456</td>\n",
       "      <td>Russia</td>\n",
       "      <td>St. Petersburg</td>\n",
       "    </tr>\n",
       "    <tr>\n",
       "      <th>2</th>\n",
       "      <td>2</td>\n",
       "      <td>C</td>\n",
       "      <td>123456</td>\n",
       "      <td>Russia</td>\n",
       "      <td>St. Petersburg</td>\n",
       "    </tr>\n",
       "    <tr>\n",
       "      <th>3</th>\n",
       "      <td>3</td>\n",
       "      <td>D</td>\n",
       "      <td>123456</td>\n",
       "      <td>Russia</td>\n",
       "      <td>St. Petersburg</td>\n",
       "    </tr>\n",
       "    <tr>\n",
       "      <th>4</th>\n",
       "      <td>4</td>\n",
       "      <td>E</td>\n",
       "      <td>2</td>\n",
       "      <td>Russia</td>\n",
       "      <td>Moscow</td>\n",
       "    </tr>\n",
       "    <tr>\n",
       "      <th>5</th>\n",
       "      <td>5</td>\n",
       "      <td>F</td>\n",
       "      <td>3</td>\n",
       "      <td>Russia</td>\n",
       "      <td>Vladivostok</td>\n",
       "    </tr>\n",
       "    <tr>\n",
       "      <th>6</th>\n",
       "      <td>6</td>\n",
       "      <td>G</td>\n",
       "      <td>10</td>\n",
       "      <td>USA</td>\n",
       "      <td>Miami</td>\n",
       "    </tr>\n",
       "    <tr>\n",
       "      <th>7</th>\n",
       "      <td>7</td>\n",
       "      <td>H</td>\n",
       "      <td>10</td>\n",
       "      <td>USA</td>\n",
       "      <td>Miami</td>\n",
       "    </tr>\n",
       "    <tr>\n",
       "      <th>8</th>\n",
       "      <td>8</td>\n",
       "      <td>I</td>\n",
       "      <td>10</td>\n",
       "      <td>USA</td>\n",
       "      <td>Miami</td>\n",
       "    </tr>\n",
       "    <tr>\n",
       "      <th>9</th>\n",
       "      <td>9</td>\n",
       "      <td>J</td>\n",
       "      <td>100</td>\n",
       "      <td>Germany</td>\n",
       "      <td>Potsdam</td>\n",
       "    </tr>\n",
       "    <tr>\n",
       "      <th>10</th>\n",
       "      <td>10</td>\n",
       "      <td>K</td>\n",
       "      <td>101</td>\n",
       "      <td>Germany</td>\n",
       "      <td>Berlin</td>\n",
       "    </tr>\n",
       "  </tbody>\n",
       "</table>\n",
       "</div>"
      ],
      "text/plain": [
       "   Unnamed: 0 name     zip  country            city\n",
       "0           0    A       1   Russia  St. Petersburg\n",
       "1           1    B  123456   Russia  St. Petersburg\n",
       "2           2    C  123456   Russia  St. Petersburg\n",
       "3           3    D  123456   Russia  St. Petersburg\n",
       "4           4    E       2   Russia          Moscow\n",
       "5           5    F       3   Russia     Vladivostok\n",
       "6           6    G      10      USA           Miami\n",
       "7           7    H      10      USA           Miami\n",
       "8           8    I      10      USA           Miami\n",
       "9           9    J     100  Germany         Potsdam\n",
       "10         10    K     101  Germany          Berlin"
      ]
     },
     "execution_count": 5,
     "metadata": {},
     "output_type": "execute_result"
    }
   ],
   "source": [
    "d.dataframe"
   ]
  },
  {
   "cell_type": "markdown",
   "id": "20ebbcfe-64be-453f-881f-58bfd079efb2",
   "metadata": {},
   "source": [
    "Erkannt wird, dass `city -> zip` gilt. Diese unäre Dependency muss sich intern durchsetzen gegen anderen Features. Schauen wir uns das an:"
   ]
  },
  {
   "cell_type": "code",
   "execution_count": 11,
   "id": "ce95fc25-8e14-4325-902d-d469df19219e",
   "metadata": {},
   "outputs": [
    {
     "data": {
      "text/plain": [
       "{(1, 2): {'1': array([0., 0., 0., 0., 1.])},\n",
       " (2, 2): {'1': array([0., 0., 0., 0., 1.])},\n",
       " (3, 2): {'1': array([0., 0., 0., 0., 1.])}}"
      ]
     },
     "execution_count": 11,
     "metadata": {},
     "output_type": "execute_result"
    }
   ],
   "source": [
    "d.pair_features"
   ]
  },
  {
   "cell_type": "code",
   "execution_count": 7,
   "id": "29614947-d338-4991-90f4-6773832e33fb",
   "metadata": {},
   "outputs": [
    {
     "data": {
      "text/plain": [
       "{(1, 2): {'1': array([0. , 0. , 0. , 0.5, 1. ]),\n",
       "  '2': array([0.  , 0.  , 0.  , 0.25, 0.  ]),\n",
       "  '3': array([0.  , 0.  , 0.  , 0.25, 0.  ])},\n",
       " (2, 2): {'1': array([0. , 0. , 0. , 0.5, 1. ]),\n",
       "  '2': array([0.  , 0.  , 0.  , 0.25, 0.  ]),\n",
       "  '3': array([0.  , 0.  , 0.  , 0.25, 0.  ])},\n",
       " (3, 2): {'1': array([1. , 1. , 0. , 0.5, 1. ]),\n",
       "  '2': array([0.  , 0.  , 0.  , 0.25, 0.  ]),\n",
       "  '3': array([0.  , 0.  , 0.  , 0.25, 0.  ])}}"
      ]
     },
     "execution_count": 7,
     "metadata": {},
     "output_type": "execute_result"
    }
   ],
   "source": [
    "d.pair_features"
   ]
  },
  {
   "cell_type": "markdown",
   "id": "50f4a17f-2310-4a93-84a5-2cabe34c3f33",
   "metadata": {},
   "source": [
    "Hier setzt sich `city -> zip` gegen `country -> zip` durch. Das geschieht nur, wenn es genügend Beispiele für diese Beziehung gibt. Löscht man die Zeile mit `city = Vladivostok` aus der Tablle, funktioniert die das Adversarial Example nicht mehr. Das demonstriere ich an dieser Stelle aber nicht."
   ]
  },
  {
   "cell_type": "markdown",
   "id": "03e6a6a7-8c77-4976-b332-98e2e354941a",
   "metadata": {},
   "source": [
    "## Binary FDs"
   ]
  },
  {
   "cell_type": "markdown",
   "id": "ad9348a3-ef8f-465b-93d5-b92200ea2198",
   "metadata": {},
   "source": [
    "Im Folgenden beißt sich Barans FD-Implementierung die Zähne aus."
   ]
  },
  {
   "cell_type": "code",
   "execution_count": 45,
   "id": "3fd1ce8c-dba4-4950-9d0e-79d968f0a56d",
   "metadata": {},
   "outputs": [
    {
     "name": "stdout",
     "output_type": "stream",
     "text": [
      "The error corrector models are initialized.\n",
      "Tuple 3 is sampled.\n",
      "Tuple 3 is labeled.\n",
      "The error corrector models are updated with new labeled tuple 3.\n",
      "18 pairs of (a data error, a potential correction) are featurized.\n",
      "100% (5 / 5) of data errors are corrected.\n",
      "Tuple 6 is sampled.\n",
      "Tuple 6 is labeled.\n",
      "The error corrector models are updated with new labeled tuple 6.\n",
      "18 pairs of (a data error, a potential correction) are featurized.\n",
      "100% (5 / 5) of data errors are corrected.\n",
      "{'dataset': 'binary_fd_example', 'experiment': 'adder', 'precision': 0.6, 'recall': 0.6, 'f1': 0.6}\n"
     ]
    }
   ],
   "source": [
    "datasets = [binary_fd_example]\n",
    "\n",
    "for dataset_dictionary in datasets:\n",
    "    app_2 = raha.Correction()\n",
    "\n",
    "    app_2.LABELING_BUDGET = 2\n",
    "    app_2.VERBOSE = True\n",
    "    app_2.CLASSIFICATION_MODEL = \"DTC\"\n",
    "    app_2.EXPERIMENT = 'adder'\n",
    "    app_2.VICINITY_ONLY = True\n",
    "    app_2.HIGHER_ORDER_FEATURE_GENERATOR = ''  # disable\n",
    "\n",
    "    d = raha.dataset.Dataset(dataset_dictionary)\n",
    "    d.detected_cells = dict(d.get_actual_errors_dictionary())\n",
    "    d = app_2.initialize_dataset(d)\n",
    "\n",
    "    app_2.initialize_models(d)\n",
    "    while len(d.labeled_tuples) < app_2.LABELING_BUDGET:\n",
    "        app_2.sample_tuple(d, random_seed=1)\n",
    "        if d.has_ground_truth:\n",
    "            app_2.label_with_ground_truth(d)\n",
    "        app_2.update_models(d)\n",
    "        app_2.generate_features(d)\n",
    "        app_2.predict_corrections(d, random_seed=0)\n",
    "\n",
    "    p, r, f = d.get_data_cleaning_evaluation(d.corrected_cells)[-3:]\n",
    "    print({'dataset': d.name, 'experiment': app_2.EXPERIMENT, 'precision': p, 'recall': r, 'f1': f})"
   ]
  },
  {
   "cell_type": "code",
   "execution_count": 46,
   "id": "654fd3a4-6d87-4346-b9c1-bec1809b8450",
   "metadata": {},
   "outputs": [
    {
     "data": {
      "text/html": [
       "<div>\n",
       "<style scoped>\n",
       "    .dataframe tbody tr th:only-of-type {\n",
       "        vertical-align: middle;\n",
       "    }\n",
       "\n",
       "    .dataframe tbody tr th {\n",
       "        vertical-align: top;\n",
       "    }\n",
       "\n",
       "    .dataframe thead th {\n",
       "        text-align: right;\n",
       "    }\n",
       "</style>\n",
       "<table border=\"1\" class=\"dataframe\">\n",
       "  <thead>\n",
       "    <tr style=\"text-align: right;\">\n",
       "      <th></th>\n",
       "      <th>Unnamed: 0</th>\n",
       "      <th>name</th>\n",
       "      <th>zip</th>\n",
       "      <th>country</th>\n",
       "      <th>city</th>\n",
       "    </tr>\n",
       "  </thead>\n",
       "  <tbody>\n",
       "    <tr>\n",
       "      <th>0</th>\n",
       "      <td>0</td>\n",
       "      <td>A</td>\n",
       "      <td>1</td>\n",
       "      <td>Russia</td>\n",
       "      <td>St. Petersburg</td>\n",
       "    </tr>\n",
       "    <tr>\n",
       "      <th>1</th>\n",
       "      <td>1</td>\n",
       "      <td>B</td>\n",
       "      <td>123456</td>\n",
       "      <td>Russia</td>\n",
       "      <td>St. Petersburg</td>\n",
       "    </tr>\n",
       "    <tr>\n",
       "      <th>2</th>\n",
       "      <td>2</td>\n",
       "      <td>C</td>\n",
       "      <td>123456</td>\n",
       "      <td>Russia</td>\n",
       "      <td>St. Petersburg</td>\n",
       "    </tr>\n",
       "    <tr>\n",
       "      <th>3</th>\n",
       "      <td>3</td>\n",
       "      <td>D</td>\n",
       "      <td>123456</td>\n",
       "      <td>Russia</td>\n",
       "      <td>St. Petersburg</td>\n",
       "    </tr>\n",
       "    <tr>\n",
       "      <th>4</th>\n",
       "      <td>4</td>\n",
       "      <td>E</td>\n",
       "      <td>2</td>\n",
       "      <td>Russia</td>\n",
       "      <td>Moscow</td>\n",
       "    </tr>\n",
       "    <tr>\n",
       "      <th>5</th>\n",
       "      <td>5</td>\n",
       "      <td>F</td>\n",
       "      <td>3</td>\n",
       "      <td>Russia</td>\n",
       "      <td>Vladivostok</td>\n",
       "    </tr>\n",
       "    <tr>\n",
       "      <th>6</th>\n",
       "      <td>6</td>\n",
       "      <td>G</td>\n",
       "      <td>10</td>\n",
       "      <td>USA</td>\n",
       "      <td>St. Petersburg</td>\n",
       "    </tr>\n",
       "    <tr>\n",
       "      <th>7</th>\n",
       "      <td>7</td>\n",
       "      <td>H</td>\n",
       "      <td>123456</td>\n",
       "      <td>USA</td>\n",
       "      <td>St. Petersburg</td>\n",
       "    </tr>\n",
       "    <tr>\n",
       "      <th>8</th>\n",
       "      <td>8</td>\n",
       "      <td>I</td>\n",
       "      <td>123456</td>\n",
       "      <td>USA</td>\n",
       "      <td>St. Petersburg</td>\n",
       "    </tr>\n",
       "    <tr>\n",
       "      <th>9</th>\n",
       "      <td>9</td>\n",
       "      <td>J</td>\n",
       "      <td>100</td>\n",
       "      <td>Germany</td>\n",
       "      <td>Potsdam</td>\n",
       "    </tr>\n",
       "    <tr>\n",
       "      <th>10</th>\n",
       "      <td>10</td>\n",
       "      <td>K</td>\n",
       "      <td>101</td>\n",
       "      <td>Germany</td>\n",
       "      <td>Berlin</td>\n",
       "    </tr>\n",
       "    <tr>\n",
       "      <th>11</th>\n",
       "      <td>11</td>\n",
       "      <td>L</td>\n",
       "      <td>11</td>\n",
       "      <td>USA</td>\n",
       "      <td>Miami</td>\n",
       "    </tr>\n",
       "    <tr>\n",
       "      <th>12</th>\n",
       "      <td>12</td>\n",
       "      <td>M</td>\n",
       "      <td>11</td>\n",
       "      <td>USA</td>\n",
       "      <td>Miami</td>\n",
       "    </tr>\n",
       "  </tbody>\n",
       "</table>\n",
       "</div>"
      ],
      "text/plain": [
       "   Unnamed: 0 name     zip  country            city\n",
       "0           0    A       1   Russia  St. Petersburg\n",
       "1           1    B  123456   Russia  St. Petersburg\n",
       "2           2    C  123456   Russia  St. Petersburg\n",
       "3           3    D  123456   Russia  St. Petersburg\n",
       "4           4    E       2   Russia          Moscow\n",
       "5           5    F       3   Russia     Vladivostok\n",
       "6           6    G      10      USA  St. Petersburg\n",
       "7           7    H  123456      USA  St. Petersburg\n",
       "8           8    I  123456      USA  St. Petersburg\n",
       "9           9    J     100  Germany         Potsdam\n",
       "10         10    K     101  Germany          Berlin\n",
       "11         11    L      11      USA           Miami\n",
       "12         12    M      11      USA           Miami"
      ]
     },
     "execution_count": 46,
     "metadata": {},
     "output_type": "execute_result"
    }
   ],
   "source": [
    "d.dataframe"
   ]
  },
  {
   "cell_type": "code",
   "execution_count": 47,
   "id": "8367fb21-709f-46c0-90f1-138d5e59604f",
   "metadata": {},
   "outputs": [
    {
     "data": {
      "text/html": [
       "<div>\n",
       "<style scoped>\n",
       "    .dataframe tbody tr th:only-of-type {\n",
       "        vertical-align: middle;\n",
       "    }\n",
       "\n",
       "    .dataframe tbody tr th {\n",
       "        vertical-align: top;\n",
       "    }\n",
       "\n",
       "    .dataframe thead th {\n",
       "        text-align: right;\n",
       "    }\n",
       "</style>\n",
       "<table border=\"1\" class=\"dataframe\">\n",
       "  <thead>\n",
       "    <tr style=\"text-align: right;\">\n",
       "      <th></th>\n",
       "      <th>Unnamed: 0</th>\n",
       "      <th>name</th>\n",
       "      <th>zip</th>\n",
       "      <th>country</th>\n",
       "      <th>city</th>\n",
       "    </tr>\n",
       "  </thead>\n",
       "  <tbody>\n",
       "    <tr>\n",
       "      <th>0</th>\n",
       "      <td>0</td>\n",
       "      <td>A</td>\n",
       "      <td>1</td>\n",
       "      <td>Russia</td>\n",
       "      <td>St. Petersburg</td>\n",
       "    </tr>\n",
       "    <tr>\n",
       "      <th>1</th>\n",
       "      <td>1</td>\n",
       "      <td>B</td>\n",
       "      <td>1</td>\n",
       "      <td>Russia</td>\n",
       "      <td>St. Petersburg</td>\n",
       "    </tr>\n",
       "    <tr>\n",
       "      <th>2</th>\n",
       "      <td>2</td>\n",
       "      <td>C</td>\n",
       "      <td>1</td>\n",
       "      <td>Russia</td>\n",
       "      <td>St. Petersburg</td>\n",
       "    </tr>\n",
       "    <tr>\n",
       "      <th>3</th>\n",
       "      <td>3</td>\n",
       "      <td>D</td>\n",
       "      <td>1</td>\n",
       "      <td>Russia</td>\n",
       "      <td>St. Petersburg</td>\n",
       "    </tr>\n",
       "    <tr>\n",
       "      <th>4</th>\n",
       "      <td>4</td>\n",
       "      <td>E</td>\n",
       "      <td>2</td>\n",
       "      <td>Russia</td>\n",
       "      <td>Moscow</td>\n",
       "    </tr>\n",
       "    <tr>\n",
       "      <th>5</th>\n",
       "      <td>5</td>\n",
       "      <td>F</td>\n",
       "      <td>3</td>\n",
       "      <td>Russia</td>\n",
       "      <td>Vladivostok</td>\n",
       "    </tr>\n",
       "    <tr>\n",
       "      <th>6</th>\n",
       "      <td>6</td>\n",
       "      <td>G</td>\n",
       "      <td>10</td>\n",
       "      <td>USA</td>\n",
       "      <td>St. Petersburg</td>\n",
       "    </tr>\n",
       "    <tr>\n",
       "      <th>7</th>\n",
       "      <td>7</td>\n",
       "      <td>H</td>\n",
       "      <td>11</td>\n",
       "      <td>USA</td>\n",
       "      <td>St. Petersburg</td>\n",
       "    </tr>\n",
       "    <tr>\n",
       "      <th>8</th>\n",
       "      <td>8</td>\n",
       "      <td>I</td>\n",
       "      <td>11</td>\n",
       "      <td>USA</td>\n",
       "      <td>St. Petersburg</td>\n",
       "    </tr>\n",
       "    <tr>\n",
       "      <th>9</th>\n",
       "      <td>9</td>\n",
       "      <td>J</td>\n",
       "      <td>100</td>\n",
       "      <td>Germany</td>\n",
       "      <td>Potsdam</td>\n",
       "    </tr>\n",
       "    <tr>\n",
       "      <th>10</th>\n",
       "      <td>10</td>\n",
       "      <td>K</td>\n",
       "      <td>101</td>\n",
       "      <td>Germany</td>\n",
       "      <td>Berlin</td>\n",
       "    </tr>\n",
       "    <tr>\n",
       "      <th>11</th>\n",
       "      <td>11</td>\n",
       "      <td>L</td>\n",
       "      <td>11</td>\n",
       "      <td>USA</td>\n",
       "      <td>Miami</td>\n",
       "    </tr>\n",
       "    <tr>\n",
       "      <th>12</th>\n",
       "      <td>12</td>\n",
       "      <td>M</td>\n",
       "      <td>11</td>\n",
       "      <td>USA</td>\n",
       "      <td>Miami</td>\n",
       "    </tr>\n",
       "  </tbody>\n",
       "</table>\n",
       "</div>"
      ],
      "text/plain": [
       "   Unnamed: 0 name  zip  country            city\n",
       "0           0    A    1   Russia  St. Petersburg\n",
       "1           1    B    1   Russia  St. Petersburg\n",
       "2           2    C    1   Russia  St. Petersburg\n",
       "3           3    D    1   Russia  St. Petersburg\n",
       "4           4    E    2   Russia          Moscow\n",
       "5           5    F    3   Russia     Vladivostok\n",
       "6           6    G   10      USA  St. Petersburg\n",
       "7           7    H   11      USA  St. Petersburg\n",
       "8           8    I   11      USA  St. Petersburg\n",
       "9           9    J  100  Germany         Potsdam\n",
       "10         10    K  101  Germany          Berlin\n",
       "11         11    L   11      USA           Miami\n",
       "12         12    M   11      USA           Miami"
      ]
     },
     "execution_count": 47,
     "metadata": {},
     "output_type": "execute_result"
    }
   ],
   "source": [
    "d.create_repaired_dataset(d.corrected_cells)\n",
    "d.repaired_dataframe"
   ]
  },
  {
   "cell_type": "markdown",
   "id": "cce55658-71b5-49ff-b33e-309c4b8070b7",
   "metadata": {},
   "source": [
    "Der Zip-Code `1` für St. Petersburg, Russland, wurde korrekt gereinigt. Hingegen ist der Zip-Code für St. Petersburg, USA, inkorrekt mit dem Wert `11` korrigiert wurden. Die Korrektur entstammt dem ZIP Miamis. Intern haben zu dieser Korrektur die falschen FDs `country -> zip` und `city -> zip` beigetragen:"
   ]
  },
  {
   "cell_type": "code",
   "execution_count": 53,
   "id": "df43a862-db14-4ede-a811-e5efacd10b7a",
   "metadata": {},
   "outputs": [
    {
     "data": {
      "text/plain": [
       "{'10': array([0.        , 0.        , 0.        , 0.33333333, 0.33333333]),\n",
       " '11': array([0.        , 0.        , 0.        , 0.66666667, 0.        ]),\n",
       " '1': array([0.        , 0.        , 0.        , 0.        , 0.66666667])}"
      ]
     },
     "execution_count": 53,
     "metadata": {},
     "output_type": "execute_result"
    }
   ],
   "source": [
    "d.pair_features[(7,2)]"
   ]
  },
  {
   "cell_type": "markdown",
   "id": "a08ed783-1ddd-4068-bc44-94440e71746c",
   "metadata": {},
   "source": [
    "Abschließend kann man mit dem `random_seed` des tuple-sampling experimentieren. Ist diese 0, werden die beiden St. Petersburgs, USA, gesampelt und korrekt gesäubert. Die Information reicht aber nicht aus, um St. Petersburg, Russia korrekt zu reinigen. Mit `random_seed=1` erhält man eine Auswahl, bei dem die beiden St. Petersburgs, Russia, gelabelt werden. Diese Information reicht dann im Weiteren nicht aus, um die St. Petersburgs, USA zu reinigen."
   ]
  },
  {
   "cell_type": "markdown",
   "id": "96d5114f-8272-400a-b5dc-9d2be9e43cc1",
   "metadata": {},
   "source": [
    "## Binäre FDs\n",
    "Das Ergebnis sieht erheblich anders aus, wenn ich FDs 2. Ordnung benutze beim Feature-Sampling."
   ]
  },
  {
   "cell_type": "code",
   "execution_count": 43,
   "id": "e56c2667-4073-413e-95e9-5d25498cf9cd",
   "metadata": {},
   "outputs": [
    {
     "name": "stdout",
     "output_type": "stream",
     "text": [
      "The error corrector models are initialized.\n",
      "Tuple 8 is sampled.\n",
      "Tuple 8 is labeled.\n",
      "The error corrector models are updated with new labeled tuple 8.\n",
      "18 pairs of (a data error, a potential correction) are featurized.\n",
      "100% (5 / 5) of data errors are corrected.\n",
      "{'dataset': 'binary_fd_example', 'experiment': 'adder', 'precision': 1.0, 'recall': 1.0, 'f1': 1.0}\n"
     ]
    }
   ],
   "source": [
    "datasets = [binary_fd_example]\n",
    "\n",
    "for dataset_dictionary in datasets:\n",
    "    app_2 = raha.Correction()\n",
    "\n",
    "    app_2.LABELING_BUDGET = 1\n",
    "    app_2.VERBOSE = True\n",
    "    app_2.CLASSIFICATION_MODEL = \"DTC\"\n",
    "    app_2.EXPERIMENT = 'adder'\n",
    "    app_2.VICINITY_ONLY = True\n",
    "    app_2.VICINITY_ORDER = 2\n",
    "    app_2.HIGHER_ORDER_FEATURE_GENERATOR = 'naive'\n",
    "\n",
    "    d = raha.dataset.Dataset(dataset_dictionary)\n",
    "    d.detected_cells = dict(d.get_actual_errors_dictionary())\n",
    "    d = app_2.initialize_dataset(d)\n",
    "\n",
    "    app_2.initialize_models(d)\n",
    "    while len(d.labeled_tuples) < app_2.LABELING_BUDGET:\n",
    "        app_2.sample_tuple(d, random_seed=0)\n",
    "        if d.has_ground_truth:\n",
    "            app_2.label_with_ground_truth(d)\n",
    "        app_2.update_models(d)\n",
    "        app_2.generate_features_synchronously(d)\n",
    "        app_2.predict_corrections(d, random_seed=0)\n",
    "\n",
    "    p, r, f = d.get_data_cleaning_evaluation(d.corrected_cells)[-3:]\n",
    "    print({'dataset': d.name, 'experiment': app_2.EXPERIMENT, 'precision': p, 'recall': r, 'f1': f})"
   ]
  },
  {
   "cell_type": "code",
   "execution_count": 22,
   "id": "c792190a-6a9c-4630-951c-d1321544d710",
   "metadata": {
    "tags": []
   },
   "outputs": [
    {
     "data": {
      "text/plain": [
       "{('Russia', 'St. Petersburg'): {'1': 1.0},\n",
       " ('Russia', 'Moscow'): {'2': 1.0},\n",
       " ('Russia', 'Vladivostok'): {'3': 1.0},\n",
       " ('USA', 'St. Petersburg'): {'10': 2.0},\n",
       " ('Germany', 'Potsdam'): {'100': 1.0},\n",
       " ('Germany', 'Berlin'): {'101': 1.0},\n",
       " ('USA', 'Miami'): {'11': 2.0}}"
      ]
     },
     "execution_count": 22,
     "metadata": {},
     "output_type": "execute_result"
    }
   ],
   "source": [
    "d.pdep_counts_dict[(3,4)][2]"
   ]
  },
  {
   "cell_type": "code",
   "execution_count": 23,
   "id": "711316fd-961e-4033-92da-e3ec0003721c",
   "metadata": {},
   "outputs": [
    {
     "data": {
      "text/html": [
       "<div>\n",
       "<style scoped>\n",
       "    .dataframe tbody tr th:only-of-type {\n",
       "        vertical-align: middle;\n",
       "    }\n",
       "\n",
       "    .dataframe tbody tr th {\n",
       "        vertical-align: top;\n",
       "    }\n",
       "\n",
       "    .dataframe thead th {\n",
       "        text-align: right;\n",
       "    }\n",
       "</style>\n",
       "<table border=\"1\" class=\"dataframe\">\n",
       "  <thead>\n",
       "    <tr style=\"text-align: right;\">\n",
       "      <th></th>\n",
       "      <th>Unnamed: 0</th>\n",
       "      <th>name</th>\n",
       "      <th>zip</th>\n",
       "      <th>country</th>\n",
       "      <th>city</th>\n",
       "    </tr>\n",
       "  </thead>\n",
       "  <tbody>\n",
       "    <tr>\n",
       "      <th>0</th>\n",
       "      <td>0</td>\n",
       "      <td>A</td>\n",
       "      <td>1</td>\n",
       "      <td>Russia</td>\n",
       "      <td>St. Petersburg</td>\n",
       "    </tr>\n",
       "    <tr>\n",
       "      <th>1</th>\n",
       "      <td>1</td>\n",
       "      <td>B</td>\n",
       "      <td>1</td>\n",
       "      <td>Russia</td>\n",
       "      <td>St. Petersburg</td>\n",
       "    </tr>\n",
       "    <tr>\n",
       "      <th>2</th>\n",
       "      <td>2</td>\n",
       "      <td>C</td>\n",
       "      <td>1</td>\n",
       "      <td>Russia</td>\n",
       "      <td>St. Petersburg</td>\n",
       "    </tr>\n",
       "    <tr>\n",
       "      <th>3</th>\n",
       "      <td>3</td>\n",
       "      <td>D</td>\n",
       "      <td>1</td>\n",
       "      <td>Russia</td>\n",
       "      <td>St. Petersburg</td>\n",
       "    </tr>\n",
       "    <tr>\n",
       "      <th>4</th>\n",
       "      <td>4</td>\n",
       "      <td>E</td>\n",
       "      <td>2</td>\n",
       "      <td>Russia</td>\n",
       "      <td>Moscow</td>\n",
       "    </tr>\n",
       "    <tr>\n",
       "      <th>5</th>\n",
       "      <td>5</td>\n",
       "      <td>F</td>\n",
       "      <td>3</td>\n",
       "      <td>Russia</td>\n",
       "      <td>Vladivostok</td>\n",
       "    </tr>\n",
       "    <tr>\n",
       "      <th>6</th>\n",
       "      <td>6</td>\n",
       "      <td>G</td>\n",
       "      <td>10</td>\n",
       "      <td>USA</td>\n",
       "      <td>St. Petersburg</td>\n",
       "    </tr>\n",
       "    <tr>\n",
       "      <th>7</th>\n",
       "      <td>7</td>\n",
       "      <td>H</td>\n",
       "      <td>10</td>\n",
       "      <td>USA</td>\n",
       "      <td>St. Petersburg</td>\n",
       "    </tr>\n",
       "    <tr>\n",
       "      <th>8</th>\n",
       "      <td>8</td>\n",
       "      <td>I</td>\n",
       "      <td>10</td>\n",
       "      <td>USA</td>\n",
       "      <td>St. Petersburg</td>\n",
       "    </tr>\n",
       "    <tr>\n",
       "      <th>9</th>\n",
       "      <td>9</td>\n",
       "      <td>J</td>\n",
       "      <td>100</td>\n",
       "      <td>Germany</td>\n",
       "      <td>Potsdam</td>\n",
       "    </tr>\n",
       "    <tr>\n",
       "      <th>10</th>\n",
       "      <td>10</td>\n",
       "      <td>K</td>\n",
       "      <td>101</td>\n",
       "      <td>Germany</td>\n",
       "      <td>Berlin</td>\n",
       "    </tr>\n",
       "    <tr>\n",
       "      <th>11</th>\n",
       "      <td>11</td>\n",
       "      <td>L</td>\n",
       "      <td>11</td>\n",
       "      <td>USA</td>\n",
       "      <td>Miami</td>\n",
       "    </tr>\n",
       "    <tr>\n",
       "      <th>12</th>\n",
       "      <td>12</td>\n",
       "      <td>M</td>\n",
       "      <td>11</td>\n",
       "      <td>USA</td>\n",
       "      <td>Miami</td>\n",
       "    </tr>\n",
       "  </tbody>\n",
       "</table>\n",
       "</div>"
      ],
      "text/plain": [
       "   Unnamed: 0 name  zip  country            city\n",
       "0           0    A    1   Russia  St. Petersburg\n",
       "1           1    B    1   Russia  St. Petersburg\n",
       "2           2    C    1   Russia  St. Petersburg\n",
       "3           3    D    1   Russia  St. Petersburg\n",
       "4           4    E    2   Russia          Moscow\n",
       "5           5    F    3   Russia     Vladivostok\n",
       "6           6    G   10      USA  St. Petersburg\n",
       "7           7    H   10      USA  St. Petersburg\n",
       "8           8    I   10      USA  St. Petersburg\n",
       "9           9    J  100  Germany         Potsdam\n",
       "10         10    K  101  Germany          Berlin\n",
       "11         11    L   11      USA           Miami\n",
       "12         12    M   11      USA           Miami"
      ]
     },
     "execution_count": 23,
     "metadata": {},
     "output_type": "execute_result"
    }
   ],
   "source": [
    "d.create_repaired_dataset(d.corrected_cells)\n",
    "d.repaired_dataframe"
   ]
  },
  {
   "cell_type": "markdown",
   "id": "b4e6b370-1a13-4afc-abd9-d9f44b728b37",
   "metadata": {},
   "source": [
    "It's a beauty! Die Anzahl an Features skaliert mit $\\frac{(n-1)^2}{2}$, wenn $n$ die Anzahl an Spalten der Tabelle ist:"
   ]
  },
  {
   "cell_type": "code",
   "execution_count": 24,
   "id": "d580cd6d-0b44-4160-a3b3-474c74b4e327",
   "metadata": {
    "tags": []
   },
   "outputs": [
    {
     "data": {
      "text/plain": [
       "{'1': array([0.        , 0.        , 0.        , 0.33333333, 0.33333333,\n",
       "        0.        , 0.        , 0.        , 0.        , 0.        ,\n",
       "        0.        , 0.        , 0.        , 0.        , 1.        ]),\n",
       " '2': array([0.        , 0.        , 0.        , 0.33333333, 0.        ,\n",
       "        0.        , 0.        , 0.        , 0.        , 0.        ,\n",
       "        0.        , 0.        , 0.        , 0.        , 0.        ]),\n",
       " '3': array([0.        , 0.        , 0.        , 0.33333333, 0.        ,\n",
       "        0.        , 0.        , 0.        , 0.        , 0.        ,\n",
       "        0.        , 0.        , 0.        , 0.        , 0.        ]),\n",
       " '10': array([0.        , 0.        , 0.        , 0.        , 0.66666667,\n",
       "        0.        , 0.        , 0.        , 0.        , 0.        ,\n",
       "        0.        , 0.        , 0.        , 0.        , 0.        ])}"
      ]
     },
     "execution_count": 24,
     "metadata": {},
     "output_type": "execute_result"
    }
   ],
   "source": [
    "d.pair_features[(1,2)]"
   ]
  },
  {
   "cell_type": "code",
   "execution_count": 25,
   "id": "16a371a6-4acf-4e06-99e8-6645e0ec65d0",
   "metadata": {},
   "outputs": [
    {
     "data": {
      "text/plain": [
       "15"
      ]
     },
     "execution_count": 25,
     "metadata": {},
     "output_type": "execute_result"
    }
   ],
   "source": [
    "len(d.pair_features[(1,2)]['1'])"
   ]
  },
  {
   "cell_type": "markdown",
   "id": "23a7435d-b9c7-4540-81fd-37ba3cc51d41",
   "metadata": {},
   "source": [
    "## GPDEP - basiertes Ranking"
   ]
  },
  {
   "cell_type": "markdown",
   "id": "f50518aa-c96e-4232-93a9-8c09bdf90798",
   "metadata": {},
   "source": [
    "Die $gpdep$-Werte können negativ sein, generell gilt, dass, wenn $gpdep(A,B) > gpdep(A,C)$, dann ist die Abhängigkeit zwischen $A,B$ größer als zwischen $A,C$."
   ]
  },
  {
   "cell_type": "code",
   "execution_count": 66,
   "id": "e06343c6-58b3-4166-aa74-369c7cb98033",
   "metadata": {},
   "outputs": [
    {
     "name": "stdout",
     "output_type": "stream",
     "text": [
      "{'dataset': 'binary_fd_example', 'experiment': 'adder', 'precision': 1.0, 'recall': 0.4, 'f1': 0.5714285714285715}\n"
     ]
    }
   ],
   "source": [
    "datasets = [binary_fd_example]\n",
    "\n",
    "for dataset_dictionary in datasets:\n",
    "    app_2 = raha.Correction()\n",
    "\n",
    "    app_2.LABELING_BUDGET = 2\n",
    "    app_2.VERBOSE = False\n",
    "    app_2.CLASSIFICATION_MODEL = \"ABC\"\n",
    "    app_2.EXPERIMENT = 'adder'\n",
    "    app_2.VICINITY_ONLY = True\n",
    "    app_2.VICINITY_ORDER = 2\n",
    "    app_2.HIGHER_ORDER_FEATURE_GENERATOR = 'pdep'\n",
    "    app_2.N_BEST_PDEPDS = 1\n",
    "\n",
    "    d = raha.dataset.Dataset(dataset_dictionary)\n",
    "    d.detected_cells = dict(d.get_actual_errors_dictionary())\n",
    "    d = app_2.initialize_dataset(d)\n",
    "\n",
    "    app_2.initialize_models(d)\n",
    "    while len(d.labeled_tuples) < app_2.LABELING_BUDGET:\n",
    "        app_2.sample_tuple(d, random_seed=0)\n",
    "        if d.has_ground_truth:\n",
    "            app_2.label_with_ground_truth(d)\n",
    "        app_2.update_models(d)\n",
    "        app_2.generate_features_synchronously(d)\n",
    "        app_2.predict_corrections(d, random_seed=0)\n",
    "\n",
    "    p, r, f = d.get_data_cleaning_evaluation(d.corrected_cells)[-3:]\n",
    "    print({'dataset': d.name, 'experiment': app_2.EXPERIMENT, 'precision': p, 'recall': r, 'f1': f})"
   ]
  },
  {
   "cell_type": "markdown",
   "id": "95e7a88f-a888-4a02-b0e0-4b35bd9e8761",
   "metadata": {},
   "source": [
    "Schaut man in die generierten Features, so ist zu beobachten, dass 14 statt 25 Features im letzten Durchlauf generiert werden. Das Ergebnis ist leider noch nicht gut, was verwunderlich ist, da die Features den Features aus dem letzten Durchlauf sehr ähneln."
   ]
  },
  {
   "cell_type": "markdown",
   "id": "c1630c3e-8a1b-4e72-b0f0-62c0e1dcef96",
   "metadata": {},
   "source": [
    "Betrachtet man die Features, so stellt man fest, dass ein `softmax()` immer zur richtigen Korrektur führen würde. Das pdep-Feature liegt immer richtig. "
   ]
  },
  {
   "cell_type": "code",
   "execution_count": 72,
   "id": "d6e9b635-6977-4de8-8270-112358df308e",
   "metadata": {},
   "outputs": [
    {
     "data": {
      "text/plain": [
       "{'1': array([0.        , 0.        , 0.        , 0.33333333, 0.25      ,\n",
       "        1.        ]),\n",
       " '2': array([0.        , 0.        , 0.        , 0.33333333, 0.        ,\n",
       "        0.        ]),\n",
       " '3': array([0.        , 0.        , 0.        , 0.33333333, 0.        ,\n",
       "        0.        ]),\n",
       " '10': array([0.  , 0.  , 0.  , 0.  , 0.75, 0.  ])}"
      ]
     },
     "execution_count": 72,
     "metadata": {},
     "output_type": "execute_result"
    }
   ],
   "source": [
    "d.pair_features[(2,2)]"
   ]
  },
  {
   "cell_type": "code",
   "execution_count": 73,
   "id": "f215255d-7a51-4317-af64-e8c4152c2d3a",
   "metadata": {},
   "outputs": [
    {
     "data": {
      "text/plain": [
       "{'1': array([0.        , 0.        , 0.        , 0.33333333, 0.25      ,\n",
       "        1.        ]),\n",
       " '2': array([0.        , 0.        , 0.        , 0.33333333, 0.        ,\n",
       "        0.        ]),\n",
       " '3': array([0.        , 0.        , 0.        , 0.33333333, 0.        ,\n",
       "        0.        ]),\n",
       " '10': array([0.  , 0.  , 0.  , 0.  , 0.75, 0.  ])}"
      ]
     },
     "execution_count": 73,
     "metadata": {},
     "output_type": "execute_result"
    }
   ],
   "source": [
    "d.pair_features[(3,2)]"
   ]
  },
  {
   "cell_type": "code",
   "execution_count": 69,
   "id": "f0318c7e-ee50-492f-931f-1eb89dbb7600",
   "metadata": {},
   "outputs": [
    {
     "data": {
      "text/plain": [
       "{'10': array([1.  , 1.  , 0.  , 0.6 , 0.75, 1.  ]),\n",
       " '11': array([0. , 0. , 0. , 0.4, 0. , 0. ]),\n",
       " '1': array([0.  , 0.  , 0.  , 0.  , 0.25, 0.  ])}"
      ]
     },
     "execution_count": 69,
     "metadata": {},
     "output_type": "execute_result"
    }
   ],
   "source": [
    "d.pair_features[(8,2)]"
   ]
  },
  {
   "cell_type": "code",
   "execution_count": 70,
   "id": "3989624d-9b4e-475d-9e5b-96c91b41618b",
   "metadata": {},
   "outputs": [
    {
     "data": {
      "text/plain": [
       "6"
      ]
     },
     "execution_count": 70,
     "metadata": {},
     "output_type": "execute_result"
    }
   ],
   "source": [
    "len(d.pair_features[(1,2)]['1'])"
   ]
  },
  {
   "cell_type": "code",
   "execution_count": 71,
   "id": "03a5357c-74fd-4ec6-bb86-bfb14d963945",
   "metadata": {},
   "outputs": [
    {
     "data": {
      "text/html": [
       "<div>\n",
       "<style scoped>\n",
       "    .dataframe tbody tr th:only-of-type {\n",
       "        vertical-align: middle;\n",
       "    }\n",
       "\n",
       "    .dataframe tbody tr th {\n",
       "        vertical-align: top;\n",
       "    }\n",
       "\n",
       "    .dataframe thead th {\n",
       "        text-align: right;\n",
       "    }\n",
       "</style>\n",
       "<table border=\"1\" class=\"dataframe\">\n",
       "  <thead>\n",
       "    <tr style=\"text-align: right;\">\n",
       "      <th></th>\n",
       "      <th>Unnamed: 0</th>\n",
       "      <th>name</th>\n",
       "      <th>zip</th>\n",
       "      <th>country</th>\n",
       "      <th>city</th>\n",
       "    </tr>\n",
       "  </thead>\n",
       "  <tbody>\n",
       "    <tr>\n",
       "      <th>0</th>\n",
       "      <td>0</td>\n",
       "      <td>A</td>\n",
       "      <td>1</td>\n",
       "      <td>Russia</td>\n",
       "      <td>St. Petersburg</td>\n",
       "    </tr>\n",
       "    <tr>\n",
       "      <th>1</th>\n",
       "      <td>1</td>\n",
       "      <td>B</td>\n",
       "      <td>123456</td>\n",
       "      <td>Russia</td>\n",
       "      <td>St. Petersburg</td>\n",
       "    </tr>\n",
       "    <tr>\n",
       "      <th>2</th>\n",
       "      <td>2</td>\n",
       "      <td>C</td>\n",
       "      <td>123456</td>\n",
       "      <td>Russia</td>\n",
       "      <td>St. Petersburg</td>\n",
       "    </tr>\n",
       "    <tr>\n",
       "      <th>3</th>\n",
       "      <td>3</td>\n",
       "      <td>D</td>\n",
       "      <td>123456</td>\n",
       "      <td>Russia</td>\n",
       "      <td>St. Petersburg</td>\n",
       "    </tr>\n",
       "    <tr>\n",
       "      <th>4</th>\n",
       "      <td>4</td>\n",
       "      <td>E</td>\n",
       "      <td>2</td>\n",
       "      <td>Russia</td>\n",
       "      <td>Moscow</td>\n",
       "    </tr>\n",
       "    <tr>\n",
       "      <th>5</th>\n",
       "      <td>5</td>\n",
       "      <td>F</td>\n",
       "      <td>3</td>\n",
       "      <td>Russia</td>\n",
       "      <td>Vladivostok</td>\n",
       "    </tr>\n",
       "    <tr>\n",
       "      <th>6</th>\n",
       "      <td>6</td>\n",
       "      <td>G</td>\n",
       "      <td>10</td>\n",
       "      <td>USA</td>\n",
       "      <td>St. Petersburg</td>\n",
       "    </tr>\n",
       "    <tr>\n",
       "      <th>7</th>\n",
       "      <td>7</td>\n",
       "      <td>H</td>\n",
       "      <td>10</td>\n",
       "      <td>USA</td>\n",
       "      <td>St. Petersburg</td>\n",
       "    </tr>\n",
       "    <tr>\n",
       "      <th>8</th>\n",
       "      <td>8</td>\n",
       "      <td>I</td>\n",
       "      <td>10</td>\n",
       "      <td>USA</td>\n",
       "      <td>St. Petersburg</td>\n",
       "    </tr>\n",
       "    <tr>\n",
       "      <th>9</th>\n",
       "      <td>9</td>\n",
       "      <td>J</td>\n",
       "      <td>100</td>\n",
       "      <td>Germany</td>\n",
       "      <td>Potsdam</td>\n",
       "    </tr>\n",
       "    <tr>\n",
       "      <th>10</th>\n",
       "      <td>10</td>\n",
       "      <td>K</td>\n",
       "      <td>101</td>\n",
       "      <td>Germany</td>\n",
       "      <td>Berlin</td>\n",
       "    </tr>\n",
       "    <tr>\n",
       "      <th>11</th>\n",
       "      <td>11</td>\n",
       "      <td>L</td>\n",
       "      <td>11</td>\n",
       "      <td>USA</td>\n",
       "      <td>Miami</td>\n",
       "    </tr>\n",
       "    <tr>\n",
       "      <th>12</th>\n",
       "      <td>12</td>\n",
       "      <td>M</td>\n",
       "      <td>11</td>\n",
       "      <td>USA</td>\n",
       "      <td>Miami</td>\n",
       "    </tr>\n",
       "  </tbody>\n",
       "</table>\n",
       "</div>"
      ],
      "text/plain": [
       "   Unnamed: 0 name     zip  country            city\n",
       "0           0    A       1   Russia  St. Petersburg\n",
       "1           1    B  123456   Russia  St. Petersburg\n",
       "2           2    C  123456   Russia  St. Petersburg\n",
       "3           3    D  123456   Russia  St. Petersburg\n",
       "4           4    E       2   Russia          Moscow\n",
       "5           5    F       3   Russia     Vladivostok\n",
       "6           6    G      10      USA  St. Petersburg\n",
       "7           7    H      10      USA  St. Petersburg\n",
       "8           8    I      10      USA  St. Petersburg\n",
       "9           9    J     100  Germany         Potsdam\n",
       "10         10    K     101  Germany          Berlin\n",
       "11         11    L      11      USA           Miami\n",
       "12         12    M      11      USA           Miami"
      ]
     },
     "execution_count": 71,
     "metadata": {},
     "output_type": "execute_result"
    }
   ],
   "source": [
    "d.create_repaired_dataset(d.corrected_cells)\n",
    "d.repaired_dataframe"
   ]
  },
  {
   "cell_type": "code",
   "execution_count": null,
   "id": "4f662c6b-9d21-499a-beb6-aecf46f63c77",
   "metadata": {},
   "outputs": [],
   "source": []
  }
 ],
 "metadata": {
  "kernelspec": {
   "display_name": "Python 3 (ipykernel)",
   "language": "python",
   "name": "python3"
  },
  "language_info": {
   "codemirror_mode": {
    "name": "ipython",
    "version": 3
   },
   "file_extension": ".py",
   "mimetype": "text/x-python",
   "name": "python",
   "nbconvert_exporter": "python",
   "pygments_lexer": "ipython3",
   "version": "3.7.10"
  }
 },
 "nbformat": 4,
 "nbformat_minor": 5
}
