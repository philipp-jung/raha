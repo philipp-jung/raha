{
 "cells": [
  {
   "cell_type": "markdown",
   "metadata": {},
   "source": [
    "# End-to-End Data Cleaning Pipeline with Raha and Baran (Minimal and Sequential)\n",
    "We build an end-to-end data cleaning pipeline with our configuration-free error detection and correction systems, Raha and Baran."
   ]
  },
  {
   "cell_type": "code",
   "execution_count": 1,
   "metadata": {},
   "outputs": [],
   "source": [
    "%load_ext autoreload\n",
    "%autoreload 2"
   ]
  },
  {
   "cell_type": "code",
   "execution_count": 2,
   "metadata": {},
   "outputs": [],
   "source": [
    "import pandas\n",
    "import IPython.display\n",
    "\n",
    "import raha"
   ]
  },
  {
   "cell_type": "markdown",
   "metadata": {},
   "source": [
    "## Error Detection with Raha"
   ]
  },
  {
   "cell_type": "markdown",
   "metadata": {},
   "source": [
    "### 1. Instantiating the Detection Class\n",
    "We first instantiate the `Detection` class."
   ]
  },
  {
   "cell_type": "code",
   "execution_count": 3,
   "metadata": {},
   "outputs": [],
   "source": [
    "app_1 = raha.Detection()\n",
    "\n",
    "# How many tuples would you label?\n",
    "app_1.LABELING_BUDGET = 20\n",
    "\n",
    "# Would you like to see the logs?\n",
    "app_1.VERBOSE = True"
   ]
  },
  {
   "cell_type": "markdown",
   "metadata": {},
   "source": [
    "### 2. Instantiating the Dataset\n",
    "We next load and instantiate the dataset object."
   ]
  },
  {
   "cell_type": "code",
   "execution_count": 6,
   "metadata": {},
   "outputs": [
    {
     "data": {
      "text/html": [
       "<div>\n",
       "<style scoped>\n",
       "    .dataframe tbody tr th:only-of-type {\n",
       "        vertical-align: middle;\n",
       "    }\n",
       "\n",
       "    .dataframe tbody tr th {\n",
       "        vertical-align: top;\n",
       "    }\n",
       "\n",
       "    .dataframe thead th {\n",
       "        text-align: right;\n",
       "    }\n",
       "</style>\n",
       "<table border=\"1\" class=\"dataframe\">\n",
       "  <thead>\n",
       "    <tr style=\"text-align: right;\">\n",
       "      <th></th>\n",
       "      <th>index</th>\n",
       "      <th>provider_number</th>\n",
       "      <th>name</th>\n",
       "      <th>address_1</th>\n",
       "      <th>address_2</th>\n",
       "      <th>address_3</th>\n",
       "      <th>city</th>\n",
       "      <th>state</th>\n",
       "      <th>zip</th>\n",
       "      <th>county</th>\n",
       "      <th>phone</th>\n",
       "      <th>type</th>\n",
       "      <th>owner</th>\n",
       "      <th>emergency_service</th>\n",
       "      <th>condition</th>\n",
       "      <th>measure_code</th>\n",
       "      <th>measure_name</th>\n",
       "      <th>score</th>\n",
       "      <th>sample</th>\n",
       "      <th>state_average</th>\n",
       "    </tr>\n",
       "  </thead>\n",
       "  <tbody>\n",
       "    <tr>\n",
       "      <th>0</th>\n",
       "      <td>1</td>\n",
       "      <td>10018</td>\n",
       "      <td>callahan eye foundation hospital</td>\n",
       "      <td>1720 university blvd</td>\n",
       "      <td>empty</td>\n",
       "      <td>empty</td>\n",
       "      <td>birmingham</td>\n",
       "      <td>al</td>\n",
       "      <td>35233</td>\n",
       "      <td>jefferson</td>\n",
       "      <td>2053258100</td>\n",
       "      <td>acute care hospitals</td>\n",
       "      <td>voluntary non-profit - private</td>\n",
       "      <td>yes</td>\n",
       "      <td>surgical infection prevention</td>\n",
       "      <td>scip-card-2</td>\n",
       "      <td>surgery patients who were taking heart drugs c...</td>\n",
       "      <td>empty</td>\n",
       "      <td>empty</td>\n",
       "      <td>al_scip-card-2</td>\n",
       "    </tr>\n",
       "    <tr>\n",
       "      <th>1</th>\n",
       "      <td>2</td>\n",
       "      <td>10018</td>\n",
       "      <td>callahan eye foundation hospital</td>\n",
       "      <td>1720 university blvd</td>\n",
       "      <td>empty</td>\n",
       "      <td>empty</td>\n",
       "      <td>birmingham</td>\n",
       "      <td>al</td>\n",
       "      <td>35233</td>\n",
       "      <td>jefferson</td>\n",
       "      <td>2053258100</td>\n",
       "      <td>acute care hospitals</td>\n",
       "      <td>voluntary non-profit - private</td>\n",
       "      <td>yes</td>\n",
       "      <td>surgical infection prevention</td>\n",
       "      <td>scip-inf-1</td>\n",
       "      <td>surgery patients who were given an antibiotic ...</td>\n",
       "      <td>empty</td>\n",
       "      <td>empty</td>\n",
       "      <td>al_scip-inf-1</td>\n",
       "    </tr>\n",
       "    <tr>\n",
       "      <th>2</th>\n",
       "      <td>3</td>\n",
       "      <td>10018</td>\n",
       "      <td>callahan eye foundation hospital</td>\n",
       "      <td>1720 university blvd</td>\n",
       "      <td>empty</td>\n",
       "      <td>empty</td>\n",
       "      <td>birmingham</td>\n",
       "      <td>al</td>\n",
       "      <td>35233</td>\n",
       "      <td>jefferson</td>\n",
       "      <td>2053258100</td>\n",
       "      <td>acute care hospitals</td>\n",
       "      <td>voluntary non-profit - private</td>\n",
       "      <td>yes</td>\n",
       "      <td>surgical infection prevention</td>\n",
       "      <td>scip-inf-2</td>\n",
       "      <td>surgery patients who were given the right kind...</td>\n",
       "      <td>empty</td>\n",
       "      <td>empty</td>\n",
       "      <td>al_scip-inf-2</td>\n",
       "    </tr>\n",
       "    <tr>\n",
       "      <th>3</th>\n",
       "      <td>4</td>\n",
       "      <td>10018</td>\n",
       "      <td>callahan eye foundation hospital</td>\n",
       "      <td>1720 university blvd</td>\n",
       "      <td>empty</td>\n",
       "      <td>empty</td>\n",
       "      <td>birminghxm</td>\n",
       "      <td>al</td>\n",
       "      <td>35233</td>\n",
       "      <td>jefferson</td>\n",
       "      <td>2053258100</td>\n",
       "      <td>acute care hospitals</td>\n",
       "      <td>voluntary non-profit - private</td>\n",
       "      <td>yes</td>\n",
       "      <td>surgical infection prevention</td>\n",
       "      <td>scip-inf-3</td>\n",
       "      <td>surgery patients whose preventive antibiotics ...</td>\n",
       "      <td>empty</td>\n",
       "      <td>empty</td>\n",
       "      <td>al_scip-inf-3</td>\n",
       "    </tr>\n",
       "    <tr>\n",
       "      <th>4</th>\n",
       "      <td>5</td>\n",
       "      <td>10018</td>\n",
       "      <td>callahan eye foundation hospital</td>\n",
       "      <td>1720 university blvd</td>\n",
       "      <td>empty</td>\n",
       "      <td>empty</td>\n",
       "      <td>birmingham</td>\n",
       "      <td>al</td>\n",
       "      <td>35233</td>\n",
       "      <td>jefferson</td>\n",
       "      <td>2053258100</td>\n",
       "      <td>acute care hospitals</td>\n",
       "      <td>voluntary non-profit - private</td>\n",
       "      <td>yes</td>\n",
       "      <td>surgical infection prevention</td>\n",
       "      <td>scip-inf-4</td>\n",
       "      <td>all heart surgery patients whose blood sugar (...</td>\n",
       "      <td>empty</td>\n",
       "      <td>empty</td>\n",
       "      <td>al_scip-inf-4</td>\n",
       "    </tr>\n",
       "  </tbody>\n",
       "</table>\n",
       "</div>"
      ],
      "text/plain": [
       "  index provider_number                              name  \\\n",
       "0     1           10018  callahan eye foundation hospital   \n",
       "1     2           10018  callahan eye foundation hospital   \n",
       "2     3           10018  callahan eye foundation hospital   \n",
       "3     4           10018  callahan eye foundation hospital   \n",
       "4     5           10018  callahan eye foundation hospital   \n",
       "\n",
       "              address_1 address_2 address_3        city state    zip  \\\n",
       "0  1720 university blvd     empty     empty  birmingham    al  35233   \n",
       "1  1720 university blvd     empty     empty  birmingham    al  35233   \n",
       "2  1720 university blvd     empty     empty  birmingham    al  35233   \n",
       "3  1720 university blvd     empty     empty  birminghxm    al  35233   \n",
       "4  1720 university blvd     empty     empty  birmingham    al  35233   \n",
       "\n",
       "      county       phone                  type  \\\n",
       "0  jefferson  2053258100  acute care hospitals   \n",
       "1  jefferson  2053258100  acute care hospitals   \n",
       "2  jefferson  2053258100  acute care hospitals   \n",
       "3  jefferson  2053258100  acute care hospitals   \n",
       "4  jefferson  2053258100  acute care hospitals   \n",
       "\n",
       "                            owner emergency_service  \\\n",
       "0  voluntary non-profit - private               yes   \n",
       "1  voluntary non-profit - private               yes   \n",
       "2  voluntary non-profit - private               yes   \n",
       "3  voluntary non-profit - private               yes   \n",
       "4  voluntary non-profit - private               yes   \n",
       "\n",
       "                       condition measure_code  \\\n",
       "0  surgical infection prevention  scip-card-2   \n",
       "1  surgical infection prevention   scip-inf-1   \n",
       "2  surgical infection prevention   scip-inf-2   \n",
       "3  surgical infection prevention   scip-inf-3   \n",
       "4  surgical infection prevention   scip-inf-4   \n",
       "\n",
       "                                        measure_name  score sample  \\\n",
       "0  surgery patients who were taking heart drugs c...  empty  empty   \n",
       "1  surgery patients who were given an antibiotic ...  empty  empty   \n",
       "2  surgery patients who were given the right kind...  empty  empty   \n",
       "3  surgery patients whose preventive antibiotics ...  empty  empty   \n",
       "4  all heart surgery patients whose blood sugar (...  empty  empty   \n",
       "\n",
       "    state_average  \n",
       "0  al_scip-card-2  \n",
       "1   al_scip-inf-1  \n",
       "2   al_scip-inf-2  \n",
       "3   al_scip-inf-3  \n",
       "4   al_scip-inf-4  "
      ]
     },
     "execution_count": 6,
     "metadata": {},
     "output_type": "execute_result"
    }
   ],
   "source": [
    "dataset_dictionary = {\n",
    "    \"name\": \"flights\",\n",
    "    \"path\": \"../datasets/hospital/dirty.csv\",\n",
    "    \"clean_path\": \"../datasets/hospital/clean.csv\"\n",
    "}\n",
    "d = app_1.initialize_dataset(dataset_dictionary)\n",
    "d.dataframe.head()"
   ]
  },
  {
   "cell_type": "markdown",
   "metadata": {},
   "source": [
    "# Error Correction with Baran"
   ]
  },
  {
   "cell_type": "markdown",
   "metadata": {},
   "source": [
    "### 1. Instantiating the Correction Class\n",
    "We first instantiate the `Correction` class."
   ]
  },
  {
   "cell_type": "code",
   "execution_count": 7,
   "metadata": {},
   "outputs": [],
   "source": [
    "app_2 = raha.Correction()\n",
    "\n",
    "# How many tuples would you label?\n",
    "app_2.LABELING_BUDGET = 20\n",
    "\n",
    "# Would you like to see the logs?\n",
    "app_2.VERBOSE = True"
   ]
  },
  {
   "cell_type": "markdown",
   "metadata": {},
   "source": [
    "### 2. Initializing the Dataset Object\n",
    "We next initialize the dataset object."
   ]
  },
  {
   "cell_type": "code",
   "execution_count": 8,
   "metadata": {},
   "outputs": [
    {
     "data": {
      "text/html": [
       "<div>\n",
       "<style scoped>\n",
       "    .dataframe tbody tr th:only-of-type {\n",
       "        vertical-align: middle;\n",
       "    }\n",
       "\n",
       "    .dataframe tbody tr th {\n",
       "        vertical-align: top;\n",
       "    }\n",
       "\n",
       "    .dataframe thead th {\n",
       "        text-align: right;\n",
       "    }\n",
       "</style>\n",
       "<table border=\"1\" class=\"dataframe\">\n",
       "  <thead>\n",
       "    <tr style=\"text-align: right;\">\n",
       "      <th></th>\n",
       "      <th>index</th>\n",
       "      <th>provider_number</th>\n",
       "      <th>name</th>\n",
       "      <th>address_1</th>\n",
       "      <th>address_2</th>\n",
       "      <th>address_3</th>\n",
       "      <th>city</th>\n",
       "      <th>state</th>\n",
       "      <th>zip</th>\n",
       "      <th>county</th>\n",
       "      <th>phone</th>\n",
       "      <th>type</th>\n",
       "      <th>owner</th>\n",
       "      <th>emergency_service</th>\n",
       "      <th>condition</th>\n",
       "      <th>measure_code</th>\n",
       "      <th>measure_name</th>\n",
       "      <th>score</th>\n",
       "      <th>sample</th>\n",
       "      <th>state_average</th>\n",
       "    </tr>\n",
       "  </thead>\n",
       "  <tbody>\n",
       "    <tr>\n",
       "      <th>0</th>\n",
       "      <td>1</td>\n",
       "      <td>10018</td>\n",
       "      <td>callahan eye foundation hospital</td>\n",
       "      <td>1720 university blvd</td>\n",
       "      <td>empty</td>\n",
       "      <td>empty</td>\n",
       "      <td>birmingham</td>\n",
       "      <td>al</td>\n",
       "      <td>35233</td>\n",
       "      <td>jefferson</td>\n",
       "      <td>2053258100</td>\n",
       "      <td>acute care hospitals</td>\n",
       "      <td>voluntary non-profit - private</td>\n",
       "      <td>yes</td>\n",
       "      <td>surgical infection prevention</td>\n",
       "      <td>scip-card-2</td>\n",
       "      <td>surgery patients who were taking heart drugs c...</td>\n",
       "      <td>empty</td>\n",
       "      <td>empty</td>\n",
       "      <td>al_scip-card-2</td>\n",
       "    </tr>\n",
       "    <tr>\n",
       "      <th>1</th>\n",
       "      <td>2</td>\n",
       "      <td>10018</td>\n",
       "      <td>callahan eye foundation hospital</td>\n",
       "      <td>1720 university blvd</td>\n",
       "      <td>empty</td>\n",
       "      <td>empty</td>\n",
       "      <td>birmingham</td>\n",
       "      <td>al</td>\n",
       "      <td>35233</td>\n",
       "      <td>jefferson</td>\n",
       "      <td>2053258100</td>\n",
       "      <td>acute care hospitals</td>\n",
       "      <td>voluntary non-profit - private</td>\n",
       "      <td>yes</td>\n",
       "      <td>surgical infection prevention</td>\n",
       "      <td>scip-inf-1</td>\n",
       "      <td>surgery patients who were given an antibiotic ...</td>\n",
       "      <td>empty</td>\n",
       "      <td>empty</td>\n",
       "      <td>al_scip-inf-1</td>\n",
       "    </tr>\n",
       "    <tr>\n",
       "      <th>2</th>\n",
       "      <td>3</td>\n",
       "      <td>10018</td>\n",
       "      <td>callahan eye foundation hospital</td>\n",
       "      <td>1720 university blvd</td>\n",
       "      <td>empty</td>\n",
       "      <td>empty</td>\n",
       "      <td>birmingham</td>\n",
       "      <td>al</td>\n",
       "      <td>35233</td>\n",
       "      <td>jefferson</td>\n",
       "      <td>2053258100</td>\n",
       "      <td>acute care hospitals</td>\n",
       "      <td>voluntary non-profit - private</td>\n",
       "      <td>yes</td>\n",
       "      <td>surgical infection prevention</td>\n",
       "      <td>scip-inf-2</td>\n",
       "      <td>surgery patients who were given the right kind...</td>\n",
       "      <td>empty</td>\n",
       "      <td>empty</td>\n",
       "      <td>al_scip-inf-2</td>\n",
       "    </tr>\n",
       "    <tr>\n",
       "      <th>3</th>\n",
       "      <td>4</td>\n",
       "      <td>10018</td>\n",
       "      <td>callahan eye foundation hospital</td>\n",
       "      <td>1720 university blvd</td>\n",
       "      <td>empty</td>\n",
       "      <td>empty</td>\n",
       "      <td>birminghxm</td>\n",
       "      <td>al</td>\n",
       "      <td>35233</td>\n",
       "      <td>jefferson</td>\n",
       "      <td>2053258100</td>\n",
       "      <td>acute care hospitals</td>\n",
       "      <td>voluntary non-profit - private</td>\n",
       "      <td>yes</td>\n",
       "      <td>surgical infection prevention</td>\n",
       "      <td>scip-inf-3</td>\n",
       "      <td>surgery patients whose preventive antibiotics ...</td>\n",
       "      <td>empty</td>\n",
       "      <td>empty</td>\n",
       "      <td>al_scip-inf-3</td>\n",
       "    </tr>\n",
       "    <tr>\n",
       "      <th>4</th>\n",
       "      <td>5</td>\n",
       "      <td>10018</td>\n",
       "      <td>callahan eye foundation hospital</td>\n",
       "      <td>1720 university blvd</td>\n",
       "      <td>empty</td>\n",
       "      <td>empty</td>\n",
       "      <td>birmingham</td>\n",
       "      <td>al</td>\n",
       "      <td>35233</td>\n",
       "      <td>jefferson</td>\n",
       "      <td>2053258100</td>\n",
       "      <td>acute care hospitals</td>\n",
       "      <td>voluntary non-profit - private</td>\n",
       "      <td>yes</td>\n",
       "      <td>surgical infection prevention</td>\n",
       "      <td>scip-inf-4</td>\n",
       "      <td>all heart surgery patients whose blood sugar (...</td>\n",
       "      <td>empty</td>\n",
       "      <td>empty</td>\n",
       "      <td>al_scip-inf-4</td>\n",
       "    </tr>\n",
       "  </tbody>\n",
       "</table>\n",
       "</div>"
      ],
      "text/plain": [
       "  index provider_number                              name  \\\n",
       "0     1           10018  callahan eye foundation hospital   \n",
       "1     2           10018  callahan eye foundation hospital   \n",
       "2     3           10018  callahan eye foundation hospital   \n",
       "3     4           10018  callahan eye foundation hospital   \n",
       "4     5           10018  callahan eye foundation hospital   \n",
       "\n",
       "              address_1 address_2 address_3        city state    zip  \\\n",
       "0  1720 university blvd     empty     empty  birmingham    al  35233   \n",
       "1  1720 university blvd     empty     empty  birmingham    al  35233   \n",
       "2  1720 university blvd     empty     empty  birmingham    al  35233   \n",
       "3  1720 university blvd     empty     empty  birminghxm    al  35233   \n",
       "4  1720 university blvd     empty     empty  birmingham    al  35233   \n",
       "\n",
       "      county       phone                  type  \\\n",
       "0  jefferson  2053258100  acute care hospitals   \n",
       "1  jefferson  2053258100  acute care hospitals   \n",
       "2  jefferson  2053258100  acute care hospitals   \n",
       "3  jefferson  2053258100  acute care hospitals   \n",
       "4  jefferson  2053258100  acute care hospitals   \n",
       "\n",
       "                            owner emergency_service  \\\n",
       "0  voluntary non-profit - private               yes   \n",
       "1  voluntary non-profit - private               yes   \n",
       "2  voluntary non-profit - private               yes   \n",
       "3  voluntary non-profit - private               yes   \n",
       "4  voluntary non-profit - private               yes   \n",
       "\n",
       "                       condition measure_code  \\\n",
       "0  surgical infection prevention  scip-card-2   \n",
       "1  surgical infection prevention   scip-inf-1   \n",
       "2  surgical infection prevention   scip-inf-2   \n",
       "3  surgical infection prevention   scip-inf-3   \n",
       "4  surgical infection prevention   scip-inf-4   \n",
       "\n",
       "                                        measure_name  score sample  \\\n",
       "0  surgery patients who were taking heart drugs c...  empty  empty   \n",
       "1  surgery patients who were given an antibiotic ...  empty  empty   \n",
       "2  surgery patients who were given the right kind...  empty  empty   \n",
       "3  surgery patients whose preventive antibiotics ...  empty  empty   \n",
       "4  all heart surgery patients whose blood sugar (...  empty  empty   \n",
       "\n",
       "    state_average  \n",
       "0  al_scip-card-2  \n",
       "1   al_scip-inf-1  \n",
       "2   al_scip-inf-2  \n",
       "3   al_scip-inf-3  \n",
       "4   al_scip-inf-4  "
      ]
     },
     "execution_count": 8,
     "metadata": {},
     "output_type": "execute_result"
    }
   ],
   "source": [
    "d = app_2.initialize_dataset(d)\n",
    "d.detected_cells = dict(d.get_actual_errors_dictionary())\n",
    "d.dataframe.head()"
   ]
  },
  {
   "cell_type": "markdown",
   "metadata": {},
   "source": [
    "### 3. Initializing the Error Corrector Models\n",
    "Baran initializes the error corrector models."
   ]
  },
  {
   "cell_type": "code",
   "execution_count": null,
   "metadata": {},
   "outputs": [
    {
     "name": "stdout",
     "output_type": "stream",
     "text": [
      "> \u001b[0;32m/home/philipp/code/raha/raha/correction.py\u001b[0m(403)\u001b[0;36minitialize_models\u001b[0;34m()\u001b[0m\n",
      "\u001b[0;32m    401 \u001b[0;31m            \u001b[0mvicinity_list\u001b[0m \u001b[0;34m=\u001b[0m \u001b[0;34m[\u001b[0m\u001b[0mcv\u001b[0m \u001b[0;32mif\u001b[0m \u001b[0;34m(\u001b[0m\u001b[0mi\u001b[0m\u001b[0;34m,\u001b[0m \u001b[0mcj\u001b[0m\u001b[0;34m)\u001b[0m \u001b[0;32mnot\u001b[0m \u001b[0;32min\u001b[0m \u001b[0md\u001b[0m\u001b[0;34m.\u001b[0m\u001b[0mdetected_cells\u001b[0m \u001b[0;32melse\u001b[0m \u001b[0mself\u001b[0m\u001b[0;34m.\u001b[0m\u001b[0mIGNORE_SIGN\u001b[0m \u001b[0;32mfor\u001b[0m \u001b[0mcj\u001b[0m\u001b[0;34m,\u001b[0m \u001b[0mcv\u001b[0m \u001b[0;32min\u001b[0m \u001b[0menumerate\u001b[0m\u001b[0;34m(\u001b[0m\u001b[0mrow\u001b[0m\u001b[0;34m)\u001b[0m\u001b[0;34m]\u001b[0m\u001b[0;34m\u001b[0m\u001b[0;34m\u001b[0m\u001b[0m\n",
      "\u001b[0m\u001b[0;32m    402 \u001b[0;31m            \u001b[0mset_trace\u001b[0m\u001b[0;34m(\u001b[0m\u001b[0;34m)\u001b[0m\u001b[0;34m\u001b[0m\u001b[0;34m\u001b[0m\u001b[0m\n",
      "\u001b[0m\u001b[0;32m--> 403 \u001b[0;31m            \u001b[0;32mfor\u001b[0m \u001b[0mj\u001b[0m\u001b[0;34m,\u001b[0m \u001b[0mvalue\u001b[0m \u001b[0;32min\u001b[0m \u001b[0menumerate\u001b[0m\u001b[0;34m(\u001b[0m\u001b[0mrow\u001b[0m\u001b[0;34m)\u001b[0m\u001b[0;34m:\u001b[0m\u001b[0;34m\u001b[0m\u001b[0;34m\u001b[0m\u001b[0m\n",
      "\u001b[0m\u001b[0;32m    404 \u001b[0;31m                \u001b[0;32mif\u001b[0m \u001b[0;34m(\u001b[0m\u001b[0mi\u001b[0m\u001b[0;34m,\u001b[0m \u001b[0mj\u001b[0m\u001b[0;34m)\u001b[0m \u001b[0;32mnot\u001b[0m \u001b[0;32min\u001b[0m \u001b[0md\u001b[0m\u001b[0;34m.\u001b[0m\u001b[0mdetected_cells\u001b[0m\u001b[0;34m:\u001b[0m\u001b[0;34m\u001b[0m\u001b[0;34m\u001b[0m\u001b[0m\n",
      "\u001b[0m\u001b[0;32m    405 \u001b[0;31m                    \u001b[0mtemp_vicinity_list\u001b[0m \u001b[0;34m=\u001b[0m \u001b[0mlist\u001b[0m\u001b[0;34m(\u001b[0m\u001b[0mvicinity_list\u001b[0m\u001b[0;34m)\u001b[0m\u001b[0;34m\u001b[0m\u001b[0;34m\u001b[0m\u001b[0m\n",
      "\u001b[0m\n"
     ]
    },
    {
     "name": "stdin",
     "output_type": "stream",
     "text": [
      "ipdb>  print(r)\n"
     ]
    },
    {
     "name": "stdout",
     "output_type": "stream",
     "text": [
      "Pandas(Index=0, index='1', provider_number='10018', name='callahan eye foundation hospital', address_1='1720 university blvd', address_2='empty', address_3='empty', city='birmingham', state='al', zip='35233', county='jefferson', phone='2053258100', type='acute care hospitals', owner='voluntary non-profit - private', emergency_service='yes', condition='surgical infection prevention', measure_code='scip-card-2', measure_name='surgery patients who were taking heart drugs caxxed beta bxockers before coming to the hospitax who were kept on the beta bxockers during the period just before and after their surgery', score='empty', sample='empty', state_average='al_scip-card-2')\n"
     ]
    },
    {
     "name": "stdin",
     "output_type": "stream",
     "text": [
      "ipdb>  print(r[0])\n"
     ]
    },
    {
     "name": "stdout",
     "output_type": "stream",
     "text": [
      "0\n"
     ]
    },
    {
     "name": "stdin",
     "output_type": "stream",
     "text": [
      "ipdb>  print(r[1:])\n"
     ]
    },
    {
     "name": "stdout",
     "output_type": "stream",
     "text": [
      "('1', '10018', 'callahan eye foundation hospital', '1720 university blvd', 'empty', 'empty', 'birmingham', 'al', '35233', 'jefferson', '2053258100', 'acute care hospitals', 'voluntary non-profit - private', 'yes', 'surgical infection prevention', 'scip-card-2', 'surgery patients who were taking heart drugs caxxed beta bxockers before coming to the hospitax who were kept on the beta bxockers during the period just before and after their surgery', 'empty', 'empty', 'al_scip-card-2')\n"
     ]
    },
    {
     "name": "stdin",
     "output_type": "stream",
     "text": [
      "ipdb>  print(detected_cells)\n"
     ]
    },
    {
     "name": "stdout",
     "output_type": "stream",
     "text": [
      "*** NameError: name 'detected_cells' is not defined\n"
     ]
    },
    {
     "name": "stdin",
     "output_type": "stream",
     "text": [
      "ipdb>  print(d.detected_cells)\n"
     ]
    },
    {
     "name": "stdout",
     "output_type": "stream",
     "text": [
      "{(13, 1): '10019', (45, 1): '10005', (81, 1): '10006', (213, 1): '10011', (244, 1): '10015', (253, 1): '10015', (273, 1): '10016', (314, 1): '10038', (360, 1): '10086', (408, 1): '10108', (559, 1): '10024', (608, 1): '10027', (627, 1): '10029', (639, 1): '10029', (645, 1): '10032', (655, 1): '10032', (704, 1): '10034', (721, 1): '10035', (724, 1): '10035', (755, 1): '10036', (780, 1): '10039', (789, 1): '10039', (793, 1): '10039', (859, 1): '10044', (878, 1): '10045', (888, 1): '10045', (933, 1): '10047', (955, 1): '10049', (26, 2): 'southeast alabama medical center', (131, 2): 'crenshaw community hospital', (171, 2): 'marshall medical center north', (243, 2): 'dekalb regional medical center', (337, 2): 'flowers hospital', (384, 2): 'univ of south alabama medical center', (385, 2): 'univ of south alabama medical center', (448, 2): 'alaska regional hospital', (532, 2): 'baptist medical center south', (560, 2): 'jackson hospital & clinic inc', (654, 2): 'wedowee hospital', (697, 2): 'community hospital inc', (710, 2): 'community hospital inc', (730, 2): 'cullman regional medical center', (758, 2): 'andalusia regional hospital', (765, 2): 'andalusia regional hospital', (777, 2): 'huntsville hospital', (903, 2): 'riverview regional medical center', (921, 2): 'riverview regional medical center', (922, 2): 'riverview regional medical center', (938, 2): 'georgiana hospital', (956, 2): 'medical center enterprise', (962, 2): 'medical center enterprise', (987, 2): 'st vincents blount', (57, 3): '2505 u s highway 431 north', (94, 3): '702 n main st', (106, 3): '702 n main st', (161, 3): '201 pine street northwest', (175, 3): '8000 alabama highway 69', (260, 3): '33700 highway 43', (264, 3): '33700 highway 43', (275, 3): '1000 first street north', (295, 3): '1720 university blvd', (316, 3): '301 east 18th st', (334, 3): '4370 west main street', (350, 3): '810 st vincents drive', (363, 3): '1530 u s highway 43', (393, 3): '124 s memorial dr', (411, 3): '124 s memorial dr', (415, 3): '315 w hickory st', (431, 3): '315 w hickory st', (451, 3): 'po box 287', (472, 3): '126 hospital ave', (484, 3): '126 hospital ave', (652, 3): '209 north main street', (736, 3): '1912 alabama highway 157', (767, 3): '301 east 18th st', (849, 3): '1010 lay dam road', (857, 3): '1256 military street south', (915, 3): '600 south third street', (934, 3): '515 miranda st', (935, 3): '515 miranda st', (945, 3): '515 miranda st', (956, 3): '400 n edwards street', (986, 3): '150 gilbreath drive', (3, 6): 'birmingham', (7, 6): 'birmingham', (10, 6): 'sheffield', (56, 6): 'boaz', (79, 6): 'florence', (88, 6): 'florence', (93, 6): 'florence', (180, 6): 'guntersville', (207, 6): 'birmingham', (212, 6): 'birmingham', (228, 6): 'fort payne', (311, 6): 'anniston', (367, 6): 'winfield', (437, 6): 'anchorage', (474, 6): 'ozark', (485, 6): 'ozark', (517, 6): 'montgomery', (578, 6): 'valley', (590, 6): 'valley', (601, 6): 'elba', (654, 6): 'wedowee', (690, 6): 'birmingham', (696, 6): 'tallassee', (736, 6): 'cullman', (756, 6): 'andalusia', (772, 6): 'anniston', (821, 6): 'gadsden', (855, 6): 'hamilton', (895, 6): 'fayette', (949, 6): 'georgiana', (960, 6): 'enterprise', (968, 6): 'enterprise', (985, 6): 'oneonta', (42, 7): 'al', (46, 7): 'al', (50, 7): 'al', (83, 7): 'al', (98, 7): 'al', (119, 7): 'al', (140, 7): 'al', (165, 7): 'al', (182, 7): 'al', (228, 7): 'al', (278, 7): 'al', (356, 7): 'al', (386, 7): 'al', (402, 7): 'al', (477, 7): 'al', (483, 7): 'al', (504, 7): 'al', (559, 7): 'al', (572, 7): 'al', (592, 7): 'al', (701, 7): 'al', (764, 7): 'al', (791, 7): 'al', (884, 7): 'al', (886, 7): 'al', (922, 7): 'al', (44, 8): '35957', (63, 8): '35957', (70, 8): '35631', (93, 8): '35631', (137, 8): '36049', (139, 8): '36049', (149, 8): '35640', (157, 8): '35640', (196, 8): '35235', (232, 8): '35968', (267, 8): '36784', (283, 8): '35007', (290, 8): '35007', (325, 8): '36201', (332, 8): '36305', (340, 8): '36305', (366, 8): '35594', (375, 8): '35594', (406, 8): '36067', (420, 8): '35150', (428, 8): '35150', (490, 8): '36360', (499, 8): '35960', (544, 8): '36106', (679, 8): '35233', (685, 8): '35233', (710, 8): '36078', (750, 8): '36420', (815, 8): '35903', (923, 8): '35901', (67, 9): 'marshall', (72, 9): 'lauderdale', (77, 9): 'lauderdale', (136, 9): 'crenshaw', (216, 9): 'jefferson', (221, 9): 'de kalb', (223, 9): 'de kalb', (227, 9): 'de kalb', (238, 9): 'de kalb', (252, 9): 'clarke', (312, 9): 'calhoun', (324, 9): 'calhoun', (346, 9): 'houston', (415, 9): 'talladega', (456, 9): 'jefferson', (457, 9): 'jefferson', (465, 9): 'jefferson', (502, 9): 'cherokee', (513, 9): 'cherokee', (527, 9): 'montgomery', (540, 9): 'montgomery', (551, 9): 'montgomery', (578, 9): 'chambers', (590, 9): 'chambers', (602, 9): 'coffee', (633, 9): 'lee', (672, 9): 'jefferson', (689, 9): 'jefferson', (692, 9): 'elmore', (698, 9): 'elmore', (722, 9): 'cullman', (730, 9): 'cullman', (752, 9): 'covington', (785, 9): 'madison', (798, 9): 'madison', (895, 9): 'fayette', (917, 9): 'etowah', (943, 9): 'butler', (966, 9): 'coffee', (24, 10): '3347938701', (36, 10): '3347938701', (57, 10): '2565938310', (60, 10): '2565938310', (65, 10): '2565938310', (101, 10): '3344933541', (217, 10): '2058383122', (228, 10): '2568453150', (247, 10): '3346366221', (261, 10): '3346366221', (321, 10): '2562358900', (342, 10): '3347935000', (381, 10): '2514717110', (384, 10): '2514717110', (386, 10): '2514717110', (393, 10): '3343614267', (471, 10): '3347742601', (516, 10): '3342882100', (548, 10): '3342938000', (561, 10): '3342938000', (562, 10): '3342938000', (572, 10): '3347561400', (593, 10): '3348972257', (666, 10): '2059344011', (699, 10): '3342836541', (713, 10): '3342836541', (751, 10): '3342228466', (763, 10): '3342228466', (824, 10): '2564944000', (855, 10): '2059216200', (865, 10): '2059216200', (881, 10): '2059325966', (883, 10): '2059325966', (916, 10): '2565435200', (16, 11): 'acute care hospitals', (39, 11): 'acute care hospitals', (98, 11): 'acute care hospitals', (199, 11): 'acute care hospitals', (213, 11): 'acute care hospitals', (266, 11): 'acute care hospitals', (280, 11): 'acute care hospitals', (293, 11): 'acute care hospitals', (411, 11): 'acute care hospitals', (413, 11): 'acute care hospitals', (453, 11): 'acute care hospitals', (490, 11): 'acute care hospitals', (493, 11): 'acute care hospitals', (497, 11): 'acute care hospitals', (511, 11): 'acute care hospitals', (532, 11): 'acute care hospitals', (588, 11): 'acute care hospitals', (634, 11): 'acute care hospitals', (695, 11): 'acute care hospitals', (705, 11): 'acute care hospitals', (729, 11): 'acute care hospitals', (779, 11): 'acute care hospitals', (782, 11): 'acute care hospitals', (814, 11): 'acute care hospitals', (848, 11): 'acute care hospitals', (877, 11): 'acute care hospitals', (902, 11): 'acute care hospitals', (926, 11): 'acute care hospitals', (949, 11): 'acute care hospitals', (956, 11): 'acute care hospitals', (964, 11): 'acute care hospitals', (976, 11): 'acute care hospitals', (22, 12): 'government - hospital district or authority', (27, 12): 'government - hospital district or authority', (31, 12): 'government - hospital district or authority', (42, 12): 'government - hospital district or authority', (113, 12): 'voluntary non-profit - private', (157, 12): 'proprietary', (159, 12): 'proprietary', (162, 12): 'proprietary', (164, 12): 'proprietary', (216, 12): 'voluntary non-profit - private', (218, 12): 'voluntary non-profit - private', (221, 12): 'voluntary non-profit - church', (238, 12): 'voluntary non-profit - church', (247, 12): 'government - federal', (313, 12): 'proprietary', (332, 12): 'proprietary', (356, 12): 'proprietary', (449, 12): 'proprietary', (456, 12): 'government - hospital district or authority', (493, 12): 'voluntary non-profit - private', (526, 12): 'voluntary non-profit - church', (572, 12): 'voluntary non-profit - other', (744, 12): 'proprietary', (784, 12): 'government - hospital district or authority', (846, 12): 'voluntary non-profit - private', (868, 12): 'voluntary non-profit - private', (872, 12): 'voluntary non-profit - private', (24, 13): 'yes', (43, 13): 'yes', (51, 13): 'yes', (157, 13): 'yes', (318, 13): 'yes', (327, 13): 'yes', (332, 13): 'yes', (350, 13): 'yes', (374, 13): 'yes', (389, 13): 'yes', (410, 13): 'yes', (418, 13): 'no', (492, 13): 'yes', (521, 13): 'yes', (536, 13): 'yes', (564, 13): 'yes', (579, 13): 'yes', (587, 13): 'yes', (628, 13): 'yes', (653, 13): 'no', (674, 13): 'yes', (797, 13): 'yes', (809, 13): 'yes', (866, 13): 'yes', (889, 13): 'yes', (919, 13): 'yes', (921, 13): 'yes', (21, 14): 'heart attack', (22, 14): 'heart attack', (73, 14): 'heart attack', (127, 14): 'heart failure', (199, 14): 'heart attack', (225, 14): 'heart attack', (229, 14): 'heart failure', (236, 14): 'surgical infection prevention', (239, 14): 'surgical infection prevention', (256, 14): 'pneumonia', (279, 14): 'heart failure', (366, 14): 'pneumonia', (369, 14): 'pneumonia', (386, 14): 'heart failure', (400, 14): 'heart failure', (467, 14): 'heart attack', (506, 14): 'pneumonia', (555, 14): 'pneumonia', (599, 14): 'heart failure', (608, 14): 'surgical infection prevention', (631, 14): 'pneumonia', (679, 14): 'pneumonia', (695, 14): 'heart attack', (698, 14): 'heart failure', (712, 14): 'surgical infection prevention', (716, 14): 'heart attack', (733, 14): 'surgical infection prevention', (780, 14): 'heart attack', (851, 14): 'surgical infection prevention', (869, 14): 'surgical infection prevention', (955, 14): 'heart attack', (974, 14): 'surgical infection prevention', (97, 15): 'ami-4', (101, 15): 'hf-1', (108, 15): 'pn-5c', (120, 15): 'ami-2', (177, 15): 'hf-2', (190, 15): 'scip-inf-4', (264, 15): 'scip-inf-3', (349, 15): 'ami-2', (391, 15): 'pn-3b', (398, 15): 'hf-1', (409, 15): 'scip-inf-1', (464, 15): 'scip-vte-1', (495, 15): 'ami-5', (580, 15): 'pn-5c', (639, 15): 'scip-vte-1', (648, 15): 'hf-1', (673, 15): 'hf-1', (676, 15): 'hf-4', (691, 15): 'ami-1', (694, 15): 'ami-4', (718, 15): 'ami-3', (729, 15): 'pn-4', (735, 15): 'scip-inf-2', (749, 15): 'hf-2', (774, 15): 'cac-1', (788, 15): 'pn-2', (842, 15): 'pn-6', (865, 15): 'pn-4', (930, 15): 'ami-1', (0, 16): 'surgery patients who were taking heart drugs called beta blockers before coming to the hospital who were kept on the beta blockers during the period just before and after their surgery', (94, 16): 'heart attack patients given aspirin at arrival', (111, 16): 'surgery patients who were taking heart drugs called beta blockers before coming to the hospital who were kept on the beta blockers during the period just before and after their surgery', (119, 16): 'heart attack patients given aspirin at arrival', (145, 16): 'heart attack patients given aspirin at discharge', (210, 16): 'pneumonia patients assessed and given influenza vaccination', (219, 16): 'heart attack patients given aspirin at arrival', (256, 16): 'pneumonia patients whose initial emergency room blood culture was performed prior to the administration of the first hospital dose of antibiotics', (281, 16): 'pneumonia patients whose initial emergency room blood culture was performed prior to the administration of the first hospital dose of antibiotics', (290, 16): 'all heart surgery patients whose blood sugar (blood glucose) is kept under good control in the days right after surgery', (346, 16): 'surgery patients whose doctors ordered treatments to prevent blood clots after certain types of surgeries', (380, 16): 'heart attack patients given aspirin at discharge', (389, 16): 'heart failure patients given smoking cessation advice/counseling', (434, 16): 'heart failure patients given ace inhibitor or arb for left ventricular systolic dysfunction (lvsd)', (447, 16): 'surgery patients needing hair removed from the surgical area before surgery who had hair removed using a safer method (electric clippers or hair removal cream c not a razor)', (473, 16): 'heart failure patients given discharge instructions', (493, 16): 'heart attack patients given ace inhibitor or arb for left ventricular systolic dysfunction (lvsd)', (507, 16): 'pneumonia patients assessed and given influenza vaccination', (532, 16): 'pneumonia patients assessed and given influenza vaccination', (541, 16): 'heart attack patients given aspirin at arrival', (545, 16): 'heart attack patients given beta blocker at discharge', (562, 16): 'all heart surgery patients whose blood sugar (blood glucose) is kept under good control in the days right after surgery', (612, 16): 'all heart surgery patients whose blood sugar (blood glucose) is kept under good control in the days right after surgery', (650, 16): 'heart failure patients given ace inhibitor or arb for left ventricular systolic dysfunction (lvsd)', (651, 16): 'heart failure patients given smoking cessation advice/counseling', (672, 16): 'heart attack patients given pci within 90 minutes of arrival', (705, 16): 'pneumonia patients given initial antibiotic(s) within 6 hours after arrival', (706, 16): 'pneumonia patients given the most appropriate initial antibiotic(s)', (713, 16): 'surgery patients needing hair removed from the surgical area before surgery who had hair removed using a safer method (electric clippers or hair removal cream c not a razor)', (785, 16): 'heart failure patients given an evaluation of left ventricular systolic (lvs) function', (802, 16): 'heart attack patients given aspirin at arrival', (816, 16): 'pneumonia patients given initial antibiotic(s) within 6 hours after arrival', (893, 16): 'pneumonia patients assessed and given influenza vaccination', (902, 16): 'children who received reliever medication while hospitalized for asthma', (915, 16): 'heart failure patients given smoking cessation advice/counseling', (997, 16): 'surgery patients who were taking heart drugs called beta blockers before coming to the hospital who were kept on the beta blockers during the period just before and after their surgery', (120, 17): '100%', (158, 17): '98%', (163, 17): '57%', (187, 17): '95%', (208, 17): '95%', (237, 17): '97%', (238, 17): '99%', (252, 17): '89%', (256, 17): '96%', (336, 17): '100%', (378, 17): '95%', (405, 17): '94%', (411, 17): '100%', (426, 17): '97%', (488, 17): '100%', (506, 17): '93%', (514, 17): '100%', (698, 17): '88%', (711, 17): '100%', (718, 17): '67%', (769, 17): '93%', (860, 17): '80%', (888, 17): '85%', (17, 18): '37 patients', (91, 18): '619 patients', (115, 18): '0 patients', (133, 18): '21 patients', (166, 18): '11 patients', (170, 18): '6 patients', (224, 18): '1 patients', (234, 18): '82 patients', (316, 18): '29 patients', (354, 18): '10 patients', (413, 18): '125 patients', (418, 18): '4 patients', (444, 18): '521 patients', (462, 18): '0 patients', (482, 18): '62 patients', (496, 18): '0 patients', (502, 18): '44 patients', (523, 18): '257 patients', (532, 18): '87 patients', (546, 18): '0 patients', (554, 18): '74 patients', (580, 18): '50 patients', (588, 18): '172 patients', (668, 18): '87 patients', (673, 18): '618 patients', (776, 18): '193 patients', (845, 18): '4 patients', (866, 18): '121 patients', (872, 18): '15 patients', (905, 18): '126 patients', (972, 18): '27 patients', (56, 19): 'al_pn-3b', (69, 19): 'al_ami-1', (193, 19): 'al_scip-vte-2', (213, 19): 'al_scip-inf-2', (244, 19): 'al_ami-1', (248, 19): 'al_ami-5', (269, 19): 'al_ami-1', (334, 19): 'al_pn-2', (347, 19): 'al_scip-vte-2', (370, 19): 'al_pn-7', (373, 19): 'al_scip-inf-2', (387, 19): 'al_hf-2', (477, 19): 'al_pn-2', (555, 19): 'al_pn-5c', (564, 19): 'al_scip-vte-1', (567, 19): 'al_ami-2', (622, 19): 'al_ami-8a', (646, 19): 'al_ami-7a', (678, 19): 'al_pn-3b', (721, 19): 'al_ami-7a', (760, 19): 'al_scip-inf-2', (764, 19): 'al_scip-vte-1', (787, 19): 'al_hf-4', (796, 19): 'al_scip-inf-2', (827, 19): 'al_ami-1', (842, 19): 'al_pn-6', (920, 19): 'al_pn-6'}\n"
     ]
    },
    {
     "name": "stdin",
     "output_type": "stream",
     "text": [
      "ipdb>  print(vicinity_list)\n"
     ]
    },
    {
     "name": "stdout",
     "output_type": "stream",
     "text": [
      "['1', '10018', 'callahan eye foundation hospital', '1720 university blvd', 'empty', 'empty', 'birmingham', 'al', '35233', 'jefferson', '2053258100', 'acute care hospitals', 'voluntary non-profit - private', 'yes', 'surgical infection prevention', 'scip-card-2', '<<<IGNORE_THIS_VALUE>>>', 'empty', 'empty', 'al_scip-card-2']\n"
     ]
    },
    {
     "name": "stdin",
     "output_type": "stream",
     "text": [
      "ipdb>  continue\n"
     ]
    },
    {
     "name": "stdout",
     "output_type": "stream",
     "text": [
      "> \u001b[0;32m/home/philipp/code/raha/raha/correction.py\u001b[0m(413)\u001b[0;36minitialize_models\u001b[0;34m()\u001b[0m\n",
      "\u001b[0;32m    411 \u001b[0;31m                    }\n",
      "\u001b[0m\u001b[0;32m    412 \u001b[0;31m                    \u001b[0mset_trace\u001b[0m\u001b[0;34m(\u001b[0m\u001b[0;34m)\u001b[0m\u001b[0;34m\u001b[0m\u001b[0;34m\u001b[0m\u001b[0m\n",
      "\u001b[0m\u001b[0;32m--> 413 \u001b[0;31m                    \u001b[0mself\u001b[0m\u001b[0;34m.\u001b[0m\u001b[0m_vicinity_based_models_updater\u001b[0m\u001b[0;34m(\u001b[0m\u001b[0md\u001b[0m\u001b[0;34m.\u001b[0m\u001b[0mvicinity_models\u001b[0m\u001b[0;34m,\u001b[0m \u001b[0mupdate_dictionary\u001b[0m\u001b[0;34m)\u001b[0m\u001b[0;34m\u001b[0m\u001b[0;34m\u001b[0m\u001b[0m\n",
      "\u001b[0m\u001b[0;32m    414 \u001b[0;31m                    \u001b[0mself\u001b[0m\u001b[0;34m.\u001b[0m\u001b[0m_domain_based_model_updater\u001b[0m\u001b[0;34m(\u001b[0m\u001b[0md\u001b[0m\u001b[0;34m.\u001b[0m\u001b[0mdomain_models\u001b[0m\u001b[0;34m,\u001b[0m \u001b[0mupdate_dictionary\u001b[0m\u001b[0;34m)\u001b[0m\u001b[0;34m\u001b[0m\u001b[0;34m\u001b[0m\u001b[0m\n",
      "\u001b[0m\u001b[0;32m    415 \u001b[0;31m        \u001b[0;32mif\u001b[0m \u001b[0mself\u001b[0m\u001b[0;34m.\u001b[0m\u001b[0mVERBOSE\u001b[0m\u001b[0;34m:\u001b[0m\u001b[0;34m\u001b[0m\u001b[0;34m\u001b[0m\u001b[0m\n",
      "\u001b[0m\n"
     ]
    },
    {
     "name": "stdin",
     "output_type": "stream",
     "text": [
      "ipdb>  print(temp_vicinity_list)\n"
     ]
    },
    {
     "name": "stdout",
     "output_type": "stream",
     "text": [
      "['<<<IGNORE_THIS_VALUE>>>', '10018', 'callahan eye foundation hospital', '1720 university blvd', 'empty', 'empty', 'birmingham', 'al', '35233', 'jefferson', '2053258100', 'acute care hospitals', 'voluntary non-profit - private', 'yes', 'surgical infection prevention', 'scip-card-2', '<<<IGNORE_THIS_VALUE>>>', 'empty', 'empty', 'al_scip-card-2']\n"
     ]
    },
    {
     "name": "stdin",
     "output_type": "stream",
     "text": [
      "ipdb>  continue\n"
     ]
    },
    {
     "name": "stdout",
     "output_type": "stream",
     "text": [
      "> \u001b[0;32m/home/philipp/code/raha/raha/correction.py\u001b[0m(412)\u001b[0;36minitialize_models\u001b[0;34m()\u001b[0m\n",
      "\u001b[0;32m    410 \u001b[0;31m                        \u001b[0;34m\"vicinity\"\u001b[0m\u001b[0;34m:\u001b[0m \u001b[0mtemp_vicinity_list\u001b[0m\u001b[0;34m\u001b[0m\u001b[0;34m\u001b[0m\u001b[0m\n",
      "\u001b[0m\u001b[0;32m    411 \u001b[0;31m                    }\n",
      "\u001b[0m\u001b[0;32m--> 412 \u001b[0;31m                    \u001b[0mset_trace\u001b[0m\u001b[0;34m(\u001b[0m\u001b[0;34m)\u001b[0m\u001b[0;34m\u001b[0m\u001b[0;34m\u001b[0m\u001b[0m\n",
      "\u001b[0m\u001b[0;32m    413 \u001b[0;31m                    \u001b[0mself\u001b[0m\u001b[0;34m.\u001b[0m\u001b[0m_vicinity_based_models_updater\u001b[0m\u001b[0;34m(\u001b[0m\u001b[0md\u001b[0m\u001b[0;34m.\u001b[0m\u001b[0mvicinity_models\u001b[0m\u001b[0;34m,\u001b[0m \u001b[0mupdate_dictionary\u001b[0m\u001b[0;34m)\u001b[0m\u001b[0;34m\u001b[0m\u001b[0;34m\u001b[0m\u001b[0m\n",
      "\u001b[0m\u001b[0;32m    414 \u001b[0;31m                    \u001b[0mself\u001b[0m\u001b[0;34m.\u001b[0m\u001b[0m_domain_based_model_updater\u001b[0m\u001b[0;34m(\u001b[0m\u001b[0md\u001b[0m\u001b[0;34m.\u001b[0m\u001b[0mdomain_models\u001b[0m\u001b[0;34m,\u001b[0m \u001b[0mupdate_dictionary\u001b[0m\u001b[0;34m)\u001b[0m\u001b[0;34m\u001b[0m\u001b[0;34m\u001b[0m\u001b[0m\n",
      "\u001b[0m\n"
     ]
    },
    {
     "name": "stdin",
     "output_type": "stream",
     "text": [
      "ipdb>  print(temp_vicinity_list)\n"
     ]
    },
    {
     "name": "stdout",
     "output_type": "stream",
     "text": [
      "['1', '<<<IGNORE_THIS_VALUE>>>', 'callahan eye foundation hospital', '1720 university blvd', 'empty', 'empty', 'birmingham', 'al', '35233', 'jefferson', '2053258100', 'acute care hospitals', 'voluntary non-profit - private', 'yes', 'surgical infection prevention', 'scip-card-2', '<<<IGNORE_THIS_VALUE>>>', 'empty', 'empty', 'al_scip-card-2']\n"
     ]
    },
    {
     "name": "stdin",
     "output_type": "stream",
     "text": [
      "ipdb>  continue\n"
     ]
    },
    {
     "name": "stdout",
     "output_type": "stream",
     "text": [
      "> \u001b[0;32m/home/philipp/code/raha/raha/correction.py\u001b[0m(413)\u001b[0;36minitialize_models\u001b[0;34m()\u001b[0m\n",
      "\u001b[0;32m    411 \u001b[0;31m                    }\n",
      "\u001b[0m\u001b[0;32m    412 \u001b[0;31m                    \u001b[0mset_trace\u001b[0m\u001b[0;34m(\u001b[0m\u001b[0;34m)\u001b[0m\u001b[0;34m\u001b[0m\u001b[0;34m\u001b[0m\u001b[0m\n",
      "\u001b[0m\u001b[0;32m--> 413 \u001b[0;31m                    \u001b[0mself\u001b[0m\u001b[0;34m.\u001b[0m\u001b[0m_vicinity_based_models_updater\u001b[0m\u001b[0;34m(\u001b[0m\u001b[0md\u001b[0m\u001b[0;34m.\u001b[0m\u001b[0mvicinity_models\u001b[0m\u001b[0;34m,\u001b[0m \u001b[0mupdate_dictionary\u001b[0m\u001b[0;34m)\u001b[0m\u001b[0;34m\u001b[0m\u001b[0;34m\u001b[0m\u001b[0m\n",
      "\u001b[0m\u001b[0;32m    414 \u001b[0;31m                    \u001b[0mself\u001b[0m\u001b[0;34m.\u001b[0m\u001b[0m_domain_based_model_updater\u001b[0m\u001b[0;34m(\u001b[0m\u001b[0md\u001b[0m\u001b[0;34m.\u001b[0m\u001b[0mdomain_models\u001b[0m\u001b[0;34m,\u001b[0m \u001b[0mupdate_dictionary\u001b[0m\u001b[0;34m)\u001b[0m\u001b[0;34m\u001b[0m\u001b[0;34m\u001b[0m\u001b[0m\n",
      "\u001b[0m\u001b[0;32m    415 \u001b[0;31m        \u001b[0;32mif\u001b[0m \u001b[0mself\u001b[0m\u001b[0;34m.\u001b[0m\u001b[0mVERBOSE\u001b[0m\u001b[0;34m:\u001b[0m\u001b[0;34m\u001b[0m\u001b[0;34m\u001b[0m\u001b[0m\n",
      "\u001b[0m\n"
     ]
    },
    {
     "name": "stdin",
     "output_type": "stream",
     "text": [
      "ipdb>  print(temp_vicinity_list)\n"
     ]
    },
    {
     "name": "stdout",
     "output_type": "stream",
     "text": [
      "['1', '10018', '<<<IGNORE_THIS_VALUE>>>', '1720 university blvd', 'empty', 'empty', 'birmingham', 'al', '35233', 'jefferson', '2053258100', 'acute care hospitals', 'voluntary non-profit - private', 'yes', 'surgical infection prevention', 'scip-card-2', '<<<IGNORE_THIS_VALUE>>>', 'empty', 'empty', 'al_scip-card-2']\n"
     ]
    },
    {
     "name": "stdin",
     "output_type": "stream",
     "text": [
      "ipdb>  continue\n"
     ]
    },
    {
     "name": "stdout",
     "output_type": "stream",
     "text": [
      "> \u001b[0;32m/home/philipp/code/raha/raha/correction.py\u001b[0m(412)\u001b[0;36minitialize_models\u001b[0;34m()\u001b[0m\n",
      "\u001b[0;32m    410 \u001b[0;31m                        \u001b[0;34m\"vicinity\"\u001b[0m\u001b[0;34m:\u001b[0m \u001b[0mtemp_vicinity_list\u001b[0m\u001b[0;34m\u001b[0m\u001b[0;34m\u001b[0m\u001b[0m\n",
      "\u001b[0m\u001b[0;32m    411 \u001b[0;31m                    }\n",
      "\u001b[0m\u001b[0;32m--> 412 \u001b[0;31m                    \u001b[0mset_trace\u001b[0m\u001b[0;34m(\u001b[0m\u001b[0;34m)\u001b[0m\u001b[0;34m\u001b[0m\u001b[0;34m\u001b[0m\u001b[0m\n",
      "\u001b[0m\u001b[0;32m    413 \u001b[0;31m                    \u001b[0mself\u001b[0m\u001b[0;34m.\u001b[0m\u001b[0m_vicinity_based_models_updater\u001b[0m\u001b[0;34m(\u001b[0m\u001b[0md\u001b[0m\u001b[0;34m.\u001b[0m\u001b[0mvicinity_models\u001b[0m\u001b[0;34m,\u001b[0m \u001b[0mupdate_dictionary\u001b[0m\u001b[0;34m)\u001b[0m\u001b[0;34m\u001b[0m\u001b[0;34m\u001b[0m\u001b[0m\n",
      "\u001b[0m\u001b[0;32m    414 \u001b[0;31m                    \u001b[0mself\u001b[0m\u001b[0;34m.\u001b[0m\u001b[0m_domain_based_model_updater\u001b[0m\u001b[0;34m(\u001b[0m\u001b[0md\u001b[0m\u001b[0;34m.\u001b[0m\u001b[0mdomain_models\u001b[0m\u001b[0;34m,\u001b[0m \u001b[0mupdate_dictionary\u001b[0m\u001b[0;34m)\u001b[0m\u001b[0;34m\u001b[0m\u001b[0;34m\u001b[0m\u001b[0m\n",
      "\u001b[0m\n"
     ]
    }
   ],
   "source": [
    "app_2.initialize_models(d)"
   ]
  },
  {
   "cell_type": "markdown",
   "metadata": {},
   "source": [
    "### 4. Interactive Tuple Sampling, Labeling, Model updating, Feature Generation, and Correction Prediction\n",
    "Baran then iteratively samples a tuple. We should label data cells of each sampled tuple. It then udpates the models accordingly and generates a feature vector for each pair of a data error and a correction candidate. Finally, it trains and applies a classifier to each data column to predict the final correction of each data error. Since we already labeled tuples for Raha, we use the same labeled tuples and do not label new tuples here."
   ]
  },
  {
   "cell_type": "code",
   "execution_count": null,
   "metadata": {},
   "outputs": [],
   "source": [
    "#while len(d.labeled_tuples) < app_2.LABELING_BUDGET:\n",
    "while len(d.labeled_tuples) < 2:e\n",
    "    app_2.sample_tuple(d)\n",
    "    if d.has_ground_truth:\n",
    "        app_2.label_with_ground_truth(d)\n",
    "    else:\n",
    "        print(\"Label the dirty cells in the following sampled tuple.\")\n",
    "        sampled_tuple = pandas.DataFrame(data=[d.dataframe.iloc[d.sampled_tuple, :]], columns=d.dataframe.columns)\n",
    "        IPython.display.display(sampled_tuple)\n",
    "        for j in range(d.dataframe.shape[1]):\n",
    "            cell = (d.sampled_tuple, j)\n",
    "            value = d.dataframe.iloc[cell]\n",
    "            correction = input(\"What is the correction for value '{}'? Type in the same value if it is not erronous.\\n\".format(value))\n",
    "            user_label = 1 if value != correction else 0\n",
    "            d.labeled_cells[cell] = [user_label, correction]\n",
    "        d.labeled_tuples[d.sampled_tuple] = 1\n",
    "    app_2.update_models(d)\n",
    "    app_2.generate_features_synchronously(d)\n",
    "    app_2.predict_corrections(d)\n",
    "\n",
    "for si in d.labeled_tuples:\n",
    "    d.sampled_tuple = si\n",
    "    app_2.update_models(d)\n",
    "    app_2.generate_features(d)\n",
    "    app_2.predict_corrections(d)"
   ]
  },
  {
   "cell_type": "markdown",
   "metadata": {},
   "source": [
    "### 5. Storing Results\n",
    "Baran can also store the error correction results."
   ]
  },
  {
   "cell_type": "code",
   "execution_count": null,
   "metadata": {},
   "outputs": [],
   "source": [
    "app_2.store_results(d)"
   ]
  },
  {
   "cell_type": "markdown",
   "metadata": {},
   "source": [
    "### 6. Evaluating the Error Correction Task\n",
    "We can finally evaluate our error correction task."
   ]
  },
  {
   "cell_type": "code",
   "execution_count": null,
   "metadata": {},
   "outputs": [],
   "source": [
    "p, r, f = d.get_data_cleaning_evaluation(d.corrected_cells)[-3:]\n",
    "print(\"Baran's performance on {}:\\nPrecision = {:.2f}\\nRecall = {:.2f}\\nF1 = {:.2f}\".format(d.name, p, r, f))"
   ]
  }
 ],
 "metadata": {
  "kernelspec": {
   "display_name": "Python 3 (ipykernel)",
   "language": "python",
   "name": "python3"
  },
  "language_info": {
   "codemirror_mode": {
    "name": "ipython",
    "version": 3
   },
   "file_extension": ".py",
   "mimetype": "text/x-python",
   "name": "python",
   "nbconvert_exporter": "python",
   "pygments_lexer": "ipython3",
   "version": "3.8.12"
  }
 },
 "nbformat": 4,
 "nbformat_minor": 4
}
