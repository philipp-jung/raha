{
 "cells": [
  {
   "cell_type": "markdown",
   "metadata": {},
   "source": [
    "# Baran Experiment"
   ]
  },
  {
   "cell_type": "code",
   "execution_count": 1,
   "metadata": {},
   "outputs": [],
   "source": [
    "%load_ext autoreload\n",
    "%autoreload 2"
   ]
  },
  {
   "cell_type": "code",
   "execution_count": 2,
   "metadata": {},
   "outputs": [],
   "source": [
    "import pandas\n",
    "import IPython.display\n",
    "\n",
    "import raha\n",
    "import datetime"
   ]
  },
  {
   "cell_type": "code",
   "execution_count": 3,
   "metadata": {
    "jupyter": {
     "source_hidden": true
    },
    "tags": []
   },
   "outputs": [],
   "source": [
    "def format_delta(delta: datetime.timedelta):\n",
    "    hours, remainder = divmod(delta.total_seconds(), 3600)\n",
    "    minutes, seconds = divmod(remainder, 60)\n",
    "    \n",
    "    h = f'{int(hours)}h ' if hours > 0 else ''\n",
    "    m = f'{int(minutes)}m ' if minutes > 0 else ''\n",
    "    s = f'{int(seconds)}s'\n",
    "    \n",
    "    return h+m+s\n",
    "\n",
    "def estimate_time_to_finish(times: list, current_run_i: int, total_runs: int):\n",
    "    deltas = []\n",
    "    i = 1\n",
    "    \n",
    "    while i+1 <= len(times):\n",
    "        deltas.append(times[i] - times[i-1])\n",
    "        i += 1\n",
    "        \n",
    "    avg = sum(deltas, datetime.timedelta())/len(deltas)\n",
    "    return f'Run {current_run_i}/{total_runs}. {format_delta(avg)} per run, estimate {format_delta(avg*(total_runs - current_run_i))} to finish'"
   ]
  },
  {
   "cell_type": "code",
   "execution_count": 4,
   "metadata": {},
   "outputs": [],
   "source": [
    "beers = {\n",
    "    \"name\": \"beers\",\n",
    "    \"path\": \"../datasets/beers/dirty.csv\",\n",
    "    \"clean_path\": \"../datasets/beers/clean.csv\"\n",
    "}\n",
    "flights = {\n",
    "    \"name\": \"flights\",\n",
    "    \"path\": \"../datasets/flights/dirty.csv\",\n",
    "    \"clean_path\": \"../datasets/flights/clean.csv\"\n",
    "}\n",
    "movies = {\n",
    "    \"name\": \"movies\",\n",
    "    \"path\": \"../datasets/movies_1/dirty.csv\",\n",
    "    \"clean_path\": \"../datasets/movies_1/clean.csv\"\n",
    "}\n",
    "rayyan = {\n",
    "    \"name\": \"rayyan\",\n",
    "    \"path\": \"../datasets/rayyan/dirty.csv\",\n",
    "    \"clean_path\": \"../datasets/rayyan/clean.csv\"\n",
    "}\n",
    "tax = {\n",
    "    \"name\": \"tax\",\n",
    "    \"path\": \"../datasets/tax/dirty.csv\",\n",
    "    \"clean_path\": \"../datasets/tax/clean.csv\"\n",
    "}\n",
    "toy = {\n",
    "    \"name\": \"toy\",\n",
    "    \"path\": \"../datasets/toy/dirty.csv\",\n",
    "    \"clean_path\": \"../datasets/toy/clean.csv\"\n",
    "}\n",
    "hospital = {\n",
    "    \"name\": \"hospital\",\n",
    "    \"path\": \"../datasets/hospital/dirty.csv\",\n",
    "    \"clean_path\": \"../datasets/hospital/clean.csv\"\n",
    "}"
   ]
  },
  {
   "cell_type": "code",
   "execution_count": 7,
   "metadata": {
    "tags": []
   },
   "outputs": [
    {
     "name": "stdout",
     "output_type": "stream",
     "text": [
      "Starting run 1/10.\n",
      "Failed to train an imputer model for column 0\n",
      "<class 'datawig.autogluon_imputer.TargetColumnException'>\n"
     ]
    },
    {
     "name": "stderr",
     "output_type": "stream",
     "text": [
      "\tWarning: Exception caused RandomForestGini to fail during training... Skipping this model.\n",
      "\t\tUnknown y_pred_proba format for `problem_type=\"multiclass\"`.\n",
      "\tWarning: Exception caused RandomForestEntr to fail during training... Skipping this model.\n",
      "\t\tUnknown y_pred_proba format for `problem_type=\"multiclass\"`.\n",
      "\tWarning: Exception caused ExtraTreesGini to fail during training... Skipping this model.\n",
      "\t\tUnknown y_pred_proba format for `problem_type=\"multiclass\"`.\n",
      "\tWarning: Exception caused ExtraTreesEntr to fail during training... Skipping this model.\n",
      "\t\tUnknown y_pred_proba format for `problem_type=\"multiclass\"`.\n",
      "\tWarning: Exception caused WeightedEnsemble_L2 to fail during training... Skipping this model.\n",
      "\t\t\"None of [Index(['NeuralNetFastAI_0_0'], dtype='object')] are in the [columns]\"\n",
      "\tWarning: Exception caused RandomForestGini to fail during training... Skipping this model.\n",
      "\t\tUnknown y_pred_proba format for `problem_type=\"multiclass\"`.\n",
      "\tWarning: Exception caused RandomForestEntr to fail during training... Skipping this model.\n",
      "\t\tUnknown y_pred_proba format for `problem_type=\"multiclass\"`.\n",
      "\tWarning: Exception caused ExtraTreesGini to fail during training... Skipping this model.\n",
      "\t\tUnknown y_pred_proba format for `problem_type=\"multiclass\"`.\n",
      "\tWarning: Exception caused ExtraTreesEntr to fail during training... Skipping this model.\n",
      "\t\tUnknown y_pred_proba format for `problem_type=\"multiclass\"`.\n",
      "\tWarning: Exception caused WeightedEnsemble_L2 to fail during training... Skipping this model.\n",
      "\t\t\"None of [Index(['NeuralNetFastAI_0_0'], dtype='object')] are in the [columns]\"\n"
     ]
    },
    {
     "name": "stdout",
     "output_type": "stream",
     "text": [
      "Run 1/10. 10m 40s per run, estimate 1h 36m 0s to finish\n",
      "Starting run 2/10.\n",
      "Failed to train an imputer model for column 0\n",
      "<class 'datawig.autogluon_imputer.TargetColumnException'>\n"
     ]
    },
    {
     "name": "stderr",
     "output_type": "stream",
     "text": [
      "\tWarning: Exception caused RandomForestGini to fail during training... Skipping this model.\n",
      "\t\tUnknown y_pred_proba format for `problem_type=\"multiclass\"`.\n",
      "\tWarning: Exception caused RandomForestEntr to fail during training... Skipping this model.\n",
      "\t\tUnknown y_pred_proba format for `problem_type=\"multiclass\"`.\n",
      "\tWarning: Exception caused ExtraTreesGini to fail during training... Skipping this model.\n",
      "\t\tUnknown y_pred_proba format for `problem_type=\"multiclass\"`.\n",
      "\tWarning: Exception caused ExtraTreesEntr to fail during training... Skipping this model.\n",
      "\t\tUnknown y_pred_proba format for `problem_type=\"multiclass\"`.\n",
      "\tWarning: Exception caused WeightedEnsemble_L2 to fail during training... Skipping this model.\n",
      "\t\t\"None of [Index(['NeuralNetFastAI_0_0'], dtype='object')] are in the [columns]\"\n",
      "\tWarning: Exception caused RandomForestGini to fail during training... Skipping this model.\n",
      "\t\tUnknown y_pred_proba format for `problem_type=\"multiclass\"`.\n",
      "\tWarning: Exception caused RandomForestEntr to fail during training... Skipping this model.\n",
      "\t\tUnknown y_pred_proba format for `problem_type=\"multiclass\"`.\n",
      "\tWarning: Exception caused ExtraTreesGini to fail during training... Skipping this model.\n",
      "\t\tUnknown y_pred_proba format for `problem_type=\"multiclass\"`.\n",
      "\tWarning: Exception caused ExtraTreesEntr to fail during training... Skipping this model.\n",
      "\t\tUnknown y_pred_proba format for `problem_type=\"multiclass\"`.\n",
      "\tWarning: Exception caused WeightedEnsemble_L2 to fail during training... Skipping this model.\n",
      "\t\t\"None of [Index(['NeuralNetFastAI_0_0'], dtype='object')] are in the [columns]\"\n"
     ]
    },
    {
     "name": "stdout",
     "output_type": "stream",
     "text": [
      "Run 2/10. 10m 0s per run, estimate 1h 20m 4s to finish\n",
      "Starting run 3/10.\n",
      "Failed to train an imputer model for column 0\n",
      "<class 'datawig.autogluon_imputer.TargetColumnException'>\n"
     ]
    },
    {
     "name": "stderr",
     "output_type": "stream",
     "text": [
      "\tWarning: Exception caused RandomForestGini to fail during training... Skipping this model.\n",
      "\t\tUnknown y_pred_proba format for `problem_type=\"multiclass\"`.\n",
      "\tWarning: Exception caused RandomForestEntr to fail during training... Skipping this model.\n",
      "\t\tUnknown y_pred_proba format for `problem_type=\"multiclass\"`.\n",
      "\tWarning: Exception caused ExtraTreesGini to fail during training... Skipping this model.\n",
      "\t\tUnknown y_pred_proba format for `problem_type=\"multiclass\"`.\n",
      "\tWarning: Exception caused ExtraTreesEntr to fail during training... Skipping this model.\n",
      "\t\tUnknown y_pred_proba format for `problem_type=\"multiclass\"`.\n",
      "\tWarning: Exception caused WeightedEnsemble_L2 to fail during training... Skipping this model.\n",
      "\t\t\"None of [Index(['NeuralNetFastAI_0_0'], dtype='object')] are in the [columns]\"\n",
      "\tWarning: Exception caused RandomForestGini to fail during training... Skipping this model.\n",
      "\t\tUnknown y_pred_proba format for `problem_type=\"multiclass\"`.\n",
      "\tWarning: Exception caused RandomForestEntr to fail during training... Skipping this model.\n",
      "\t\tUnknown y_pred_proba format for `problem_type=\"multiclass\"`.\n",
      "\tWarning: Exception caused ExtraTreesGini to fail during training... Skipping this model.\n",
      "\t\tUnknown y_pred_proba format for `problem_type=\"multiclass\"`.\n",
      "\tWarning: Exception caused ExtraTreesEntr to fail during training... Skipping this model.\n",
      "\t\tUnknown y_pred_proba format for `problem_type=\"multiclass\"`.\n",
      "\tWarning: Exception caused WeightedEnsemble_L2 to fail during training... Skipping this model.\n",
      "\t\t\"None of [Index(['NeuralNetFastAI_0_0'], dtype='object')] are in the [columns]\"\n"
     ]
    },
    {
     "name": "stdout",
     "output_type": "stream",
     "text": [
      "Run 3/10. 9m 44s per run, estimate 1h 8m 11s to finish\n",
      "Starting run 4/10.\n",
      "Failed to train an imputer model for column 0\n",
      "<class 'datawig.autogluon_imputer.TargetColumnException'>\n"
     ]
    },
    {
     "name": "stderr",
     "output_type": "stream",
     "text": [
      "\tWarning: Exception caused RandomForestGini to fail during training... Skipping this model.\n",
      "\t\tUnknown y_pred_proba format for `problem_type=\"multiclass\"`.\n",
      "\tWarning: Exception caused RandomForestEntr to fail during training... Skipping this model.\n",
      "\t\tUnknown y_pred_proba format for `problem_type=\"multiclass\"`.\n",
      "\tWarning: Exception caused ExtraTreesGini to fail during training... Skipping this model.\n",
      "\t\tUnknown y_pred_proba format for `problem_type=\"multiclass\"`.\n",
      "\tWarning: Exception caused ExtraTreesEntr to fail during training... Skipping this model.\n",
      "\t\tUnknown y_pred_proba format for `problem_type=\"multiclass\"`.\n",
      "\tWarning: Exception caused WeightedEnsemble_L2 to fail during training... Skipping this model.\n",
      "\t\t\"None of [Index(['NeuralNetFastAI_0_0'], dtype='object')] are in the [columns]\"\n",
      "\tWarning: Exception caused RandomForestGini to fail during training... Skipping this model.\n",
      "\t\tUnknown y_pred_proba format for `problem_type=\"multiclass\"`.\n",
      "\tWarning: Exception caused RandomForestEntr to fail during training... Skipping this model.\n",
      "\t\tUnknown y_pred_proba format for `problem_type=\"multiclass\"`.\n",
      "\tWarning: Exception caused ExtraTreesGini to fail during training... Skipping this model.\n",
      "\t\tUnknown y_pred_proba format for `problem_type=\"multiclass\"`.\n",
      "\tWarning: Exception caused ExtraTreesEntr to fail during training... Skipping this model.\n",
      "\t\tUnknown y_pred_proba format for `problem_type=\"multiclass\"`.\n",
      "\tWarning: Exception caused WeightedEnsemble_L2 to fail during training... Skipping this model.\n",
      "\t\t\"None of [Index(['NeuralNetFastAI_0_0'], dtype='object')] are in the [columns]\"\n"
     ]
    },
    {
     "name": "stdout",
     "output_type": "stream",
     "text": [
      "Run 4/10. 9m 35s per run, estimate 57m 31s to finish\n",
      "Starting run 5/10.\n",
      "Failed to train an imputer model for column 0\n",
      "<class 'datawig.autogluon_imputer.TargetColumnException'>\n"
     ]
    },
    {
     "name": "stderr",
     "output_type": "stream",
     "text": [
      "\tWarning: Exception caused RandomForestGini to fail during training... Skipping this model.\n",
      "\t\tUnknown y_pred_proba format for `problem_type=\"multiclass\"`.\n",
      "\tWarning: Exception caused RandomForestEntr to fail during training... Skipping this model.\n",
      "\t\tUnknown y_pred_proba format for `problem_type=\"multiclass\"`.\n",
      "\tWarning: Exception caused ExtraTreesGini to fail during training... Skipping this model.\n",
      "\t\tUnknown y_pred_proba format for `problem_type=\"multiclass\"`.\n",
      "\tWarning: Exception caused ExtraTreesEntr to fail during training... Skipping this model.\n",
      "\t\tUnknown y_pred_proba format for `problem_type=\"multiclass\"`.\n",
      "\tWarning: Exception caused WeightedEnsemble_L2 to fail during training... Skipping this model.\n",
      "\t\t\"None of [Index(['NeuralNetFastAI_0_0'], dtype='object')] are in the [columns]\"\n",
      "\tWarning: Exception caused RandomForestGini to fail during training... Skipping this model.\n",
      "\t\tUnknown y_pred_proba format for `problem_type=\"multiclass\"`.\n",
      "\tWarning: Exception caused RandomForestEntr to fail during training... Skipping this model.\n",
      "\t\tUnknown y_pred_proba format for `problem_type=\"multiclass\"`.\n",
      "\tWarning: Exception caused ExtraTreesGini to fail during training... Skipping this model.\n",
      "\t\tUnknown y_pred_proba format for `problem_type=\"multiclass\"`.\n",
      "\tWarning: Exception caused ExtraTreesEntr to fail during training... Skipping this model.\n",
      "\t\tUnknown y_pred_proba format for `problem_type=\"multiclass\"`.\n",
      "\tWarning: Exception caused WeightedEnsemble_L2 to fail during training... Skipping this model.\n",
      "\t\t\"None of [Index(['NeuralNetFastAI_0_0'], dtype='object')] are in the [columns]\"\n"
     ]
    },
    {
     "name": "stdout",
     "output_type": "stream",
     "text": [
      "Run 5/10. 9m 30s per run, estimate 47m 32s to finish\n",
      "Starting run 6/10.\n",
      "Failed to train an imputer model for column 0\n",
      "<class 'datawig.autogluon_imputer.TargetColumnException'>\n"
     ]
    },
    {
     "name": "stderr",
     "output_type": "stream",
     "text": [
      "\tWarning: Exception caused RandomForestGini to fail during training... Skipping this model.\n",
      "\t\tUnknown y_pred_proba format for `problem_type=\"multiclass\"`.\n",
      "\tWarning: Exception caused RandomForestEntr to fail during training... Skipping this model.\n",
      "\t\tUnknown y_pred_proba format for `problem_type=\"multiclass\"`.\n",
      "\tWarning: Exception caused ExtraTreesGini to fail during training... Skipping this model.\n",
      "\t\tUnknown y_pred_proba format for `problem_type=\"multiclass\"`.\n",
      "\tWarning: Exception caused ExtraTreesEntr to fail during training... Skipping this model.\n",
      "\t\tUnknown y_pred_proba format for `problem_type=\"multiclass\"`.\n",
      "\tWarning: Exception caused WeightedEnsemble_L2 to fail during training... Skipping this model.\n",
      "\t\t\"None of [Index(['NeuralNetFastAI_0_0'], dtype='object')] are in the [columns]\"\n",
      "\tWarning: Exception caused RandomForestGini to fail during training... Skipping this model.\n",
      "\t\tUnknown y_pred_proba format for `problem_type=\"multiclass\"`.\n",
      "\tWarning: Exception caused RandomForestEntr to fail during training... Skipping this model.\n",
      "\t\tUnknown y_pred_proba format for `problem_type=\"multiclass\"`.\n",
      "\tWarning: Exception caused ExtraTreesGini to fail during training... Skipping this model.\n",
      "\t\tUnknown y_pred_proba format for `problem_type=\"multiclass\"`.\n",
      "\tWarning: Exception caused ExtraTreesEntr to fail during training... Skipping this model.\n",
      "\t\tUnknown y_pred_proba format for `problem_type=\"multiclass\"`.\n",
      "\tWarning: Exception caused WeightedEnsemble_L2 to fail during training... Skipping this model.\n",
      "\t\t\"None of [Index(['NeuralNetFastAI_0_0'], dtype='object')] are in the [columns]\"\n"
     ]
    },
    {
     "name": "stdout",
     "output_type": "stream",
     "text": [
      "Run 6/10. 9m 25s per run, estimate 37m 40s to finish\n",
      "Starting run 7/10.\n",
      "Failed to train an imputer model for column 0\n",
      "<class 'datawig.autogluon_imputer.TargetColumnException'>\n"
     ]
    },
    {
     "name": "stderr",
     "output_type": "stream",
     "text": [
      "\tWarning: Exception caused RandomForestGini to fail during training... Skipping this model.\n",
      "\t\tUnknown y_pred_proba format for `problem_type=\"multiclass\"`.\n",
      "\tWarning: Exception caused RandomForestEntr to fail during training... Skipping this model.\n",
      "\t\tUnknown y_pred_proba format for `problem_type=\"multiclass\"`.\n",
      "\tWarning: Exception caused ExtraTreesGini to fail during training... Skipping this model.\n",
      "\t\tUnknown y_pred_proba format for `problem_type=\"multiclass\"`.\n",
      "\tWarning: Exception caused ExtraTreesEntr to fail during training... Skipping this model.\n",
      "\t\tUnknown y_pred_proba format for `problem_type=\"multiclass\"`.\n",
      "\tWarning: Exception caused WeightedEnsemble_L2 to fail during training... Skipping this model.\n",
      "\t\t\"None of [Index(['NeuralNetFastAI_0_0'], dtype='object')] are in the [columns]\"\n",
      "\tWarning: Exception caused RandomForestGini to fail during training... Skipping this model.\n",
      "\t\tUnknown y_pred_proba format for `problem_type=\"multiclass\"`.\n",
      "\tWarning: Exception caused RandomForestEntr to fail during training... Skipping this model.\n",
      "\t\tUnknown y_pred_proba format for `problem_type=\"multiclass\"`.\n",
      "\tWarning: Exception caused ExtraTreesGini to fail during training... Skipping this model.\n",
      "\t\tUnknown y_pred_proba format for `problem_type=\"multiclass\"`.\n",
      "\tWarning: Exception caused ExtraTreesEntr to fail during training... Skipping this model.\n",
      "\t\tUnknown y_pred_proba format for `problem_type=\"multiclass\"`.\n",
      "\tWarning: Exception caused WeightedEnsemble_L2 to fail during training... Skipping this model.\n",
      "\t\t\"None of [Index(['NeuralNetFastAI_0_0'], dtype='object')] are in the [columns]\"\n"
     ]
    },
    {
     "name": "stdout",
     "output_type": "stream",
     "text": [
      "Run 7/10. 9m 21s per run, estimate 28m 4s to finish\n",
      "Starting run 8/10.\n",
      "Failed to train an imputer model for column 0\n",
      "<class 'datawig.autogluon_imputer.TargetColumnException'>\n"
     ]
    },
    {
     "name": "stderr",
     "output_type": "stream",
     "text": [
      "\tWarning: Exception caused RandomForestGini to fail during training... Skipping this model.\n",
      "\t\tUnknown y_pred_proba format for `problem_type=\"multiclass\"`.\n",
      "\tWarning: Exception caused RandomForestEntr to fail during training... Skipping this model.\n",
      "\t\tUnknown y_pred_proba format for `problem_type=\"multiclass\"`.\n",
      "\tWarning: Exception caused ExtraTreesGini to fail during training... Skipping this model.\n",
      "\t\tUnknown y_pred_proba format for `problem_type=\"multiclass\"`.\n",
      "\tWarning: Exception caused ExtraTreesEntr to fail during training... Skipping this model.\n",
      "\t\tUnknown y_pred_proba format for `problem_type=\"multiclass\"`.\n",
      "\tWarning: Exception caused WeightedEnsemble_L2 to fail during training... Skipping this model.\n",
      "\t\t\"None of [Index(['NeuralNetFastAI_0_0'], dtype='object')] are in the [columns]\"\n",
      "\tWarning: Exception caused RandomForestGini to fail during training... Skipping this model.\n",
      "\t\tUnknown y_pred_proba format for `problem_type=\"multiclass\"`.\n",
      "\tWarning: Exception caused RandomForestEntr to fail during training... Skipping this model.\n",
      "\t\tUnknown y_pred_proba format for `problem_type=\"multiclass\"`.\n",
      "\tWarning: Exception caused ExtraTreesGini to fail during training... Skipping this model.\n",
      "\t\tUnknown y_pred_proba format for `problem_type=\"multiclass\"`.\n",
      "\tWarning: Exception caused ExtraTreesEntr to fail during training... Skipping this model.\n",
      "\t\tUnknown y_pred_proba format for `problem_type=\"multiclass\"`.\n",
      "\tWarning: Exception caused WeightedEnsemble_L2 to fail during training... Skipping this model.\n",
      "\t\t\"None of [Index(['NeuralNetFastAI_0_0'], dtype='object')] are in the [columns]\"\n"
     ]
    },
    {
     "name": "stdout",
     "output_type": "stream",
     "text": [
      "Run 8/10. 9m 18s per run, estimate 18m 37s to finish\n",
      "Starting run 9/10.\n",
      "Failed to train an imputer model for column 0\n",
      "<class 'datawig.autogluon_imputer.TargetColumnException'>\n"
     ]
    },
    {
     "name": "stderr",
     "output_type": "stream",
     "text": [
      "\tWarning: Exception caused RandomForestGini to fail during training... Skipping this model.\n",
      "\t\tUnknown y_pred_proba format for `problem_type=\"multiclass\"`.\n",
      "\tWarning: Exception caused RandomForestEntr to fail during training... Skipping this model.\n",
      "\t\tUnknown y_pred_proba format for `problem_type=\"multiclass\"`.\n",
      "\tWarning: Exception caused ExtraTreesGini to fail during training... Skipping this model.\n",
      "\t\tUnknown y_pred_proba format for `problem_type=\"multiclass\"`.\n",
      "\tWarning: Exception caused ExtraTreesEntr to fail during training... Skipping this model.\n",
      "\t\tUnknown y_pred_proba format for `problem_type=\"multiclass\"`.\n",
      "\tWarning: Exception caused WeightedEnsemble_L2 to fail during training... Skipping this model.\n",
      "\t\t\"None of [Index(['NeuralNetFastAI_0_0'], dtype='object')] are in the [columns]\"\n",
      "\tWarning: Exception caused RandomForestGini to fail during training... Skipping this model.\n",
      "\t\tUnknown y_pred_proba format for `problem_type=\"multiclass\"`.\n",
      "\tWarning: Exception caused RandomForestEntr to fail during training... Skipping this model.\n",
      "\t\tUnknown y_pred_proba format for `problem_type=\"multiclass\"`.\n",
      "\tWarning: Exception caused ExtraTreesGini to fail during training... Skipping this model.\n",
      "\t\tUnknown y_pred_proba format for `problem_type=\"multiclass\"`.\n",
      "\tWarning: Exception caused ExtraTreesEntr to fail during training... Skipping this model.\n",
      "\t\tUnknown y_pred_proba format for `problem_type=\"multiclass\"`.\n",
      "\tWarning: Exception caused WeightedEnsemble_L2 to fail during training... Skipping this model.\n",
      "\t\t\"None of [Index(['NeuralNetFastAI_0_0'], dtype='object')] are in the [columns]\"\n"
     ]
    },
    {
     "name": "stdout",
     "output_type": "stream",
     "text": [
      "Run 9/10. 9m 17s per run, estimate 9m 17s to finish\n",
      "Starting run 10/10.\n",
      "Failed to train an imputer model for column 0\n",
      "<class 'datawig.autogluon_imputer.TargetColumnException'>\n"
     ]
    },
    {
     "name": "stderr",
     "output_type": "stream",
     "text": [
      "\tWarning: Exception caused RandomForestGini to fail during training... Skipping this model.\n",
      "\t\tUnknown y_pred_proba format for `problem_type=\"multiclass\"`.\n",
      "\tWarning: Exception caused RandomForestEntr to fail during training... Skipping this model.\n",
      "\t\tUnknown y_pred_proba format for `problem_type=\"multiclass\"`.\n",
      "\tWarning: Exception caused ExtraTreesGini to fail during training... Skipping this model.\n",
      "\t\tUnknown y_pred_proba format for `problem_type=\"multiclass\"`.\n",
      "\tWarning: Exception caused ExtraTreesEntr to fail during training... Skipping this model.\n",
      "\t\tUnknown y_pred_proba format for `problem_type=\"multiclass\"`.\n",
      "\tWarning: Exception caused WeightedEnsemble_L2 to fail during training... Skipping this model.\n",
      "\t\t\"None of [Index(['NeuralNetFastAI_0_0'], dtype='object')] are in the [columns]\"\n",
      "\tWarning: Exception caused RandomForestGini to fail during training... Skipping this model.\n",
      "\t\tUnknown y_pred_proba format for `problem_type=\"multiclass\"`.\n",
      "\tWarning: Exception caused RandomForestEntr to fail during training... Skipping this model.\n",
      "\t\tUnknown y_pred_proba format for `problem_type=\"multiclass\"`.\n",
      "\tWarning: Exception caused ExtraTreesGini to fail during training... Skipping this model.\n",
      "\t\tUnknown y_pred_proba format for `problem_type=\"multiclass\"`.\n",
      "\tWarning: Exception caused ExtraTreesEntr to fail during training... Skipping this model.\n",
      "\t\tUnknown y_pred_proba format for `problem_type=\"multiclass\"`.\n",
      "\tWarning: Exception caused WeightedEnsemble_L2 to fail during training... Skipping this model.\n",
      "\t\t\"None of [Index(['NeuralNetFastAI_0_0'], dtype='object')] are in the [columns]\"\n"
     ]
    },
    {
     "name": "stdout",
     "output_type": "stream",
     "text": [
      "Run 10/10. 9m 14s per run, estimate 0s to finish\n"
     ]
    }
   ],
   "source": [
    "datasets = [hospital]\n",
    "experiments = ['adder']\n",
    "runs = range(10)\n",
    "duration_experiment = len(datasets) * len(runs) * len(experiments)\n",
    "\n",
    "results = []\n",
    "times = [datetime.datetime.now()]\n",
    "i = 1\n",
    "for dataset_dictionary in datasets:\n",
    "    for run in runs:\n",
    "        for e in experiments:            \n",
    "            app_2 = raha.Correction()\n",
    "            print(f'Starting run {i}/{duration_experiment}.')\n",
    "\n",
    "            app_2.LABELING_BUDGET = 20\n",
    "            app_2.VERBOSE = False\n",
    "            app_2.CLASSIFICATION_MODEL = \"ABC\"\n",
    "            app_2.EXPERIMENT = e\n",
    "            app_2.IMPUTER_FEATURE_GENERATOR = True\n",
    "\n",
    "            d = raha.Dataset(dataset_dictionary)\n",
    "            d.detected_cells = dict(d.get_actual_errors_dictionary())\n",
    "            d = app_2.initialize_dataset(d)\n",
    "            \n",
    "            app_2.initialize_models(d)\n",
    "            while len(d.labeled_tuples) < app_2.LABELING_BUDGET:\n",
    "                app_2.sample_tuple(d, random_seed=run)\n",
    "                if d.has_ground_truth:\n",
    "                    app_2.label_with_ground_truth(d)\n",
    "            app_2.update_models(d)\n",
    "            app_2.generate_features(d)\n",
    "            app_2.predict_corrections(d, random_seed=run)\n",
    "                \n",
    "            p, r, f = d.get_data_cleaning_evaluation(d.corrected_cells)[-3:]\n",
    "            results.append({'dataset': d.name, 'experiment': e, 'run': run, 'precision': p, 'recall': r, 'f1': f})\n",
    "            \n",
    "            # time estimates for the measurement\n",
    "            times.append(datetime.datetime.now())\n",
    "            print(estimate_time_to_finish(times, i, duration_experiment))\n",
    "            i += 1"
   ]
  },
  {
   "cell_type": "code",
   "execution_count": 11,
   "metadata": {},
   "outputs": [
    {
     "name": "stdout",
     "output_type": "stream",
     "text": [
      "[{'dataset': 'hospital', 'experiment': 'adder', 'run': 0, 'precision': 0.9613636363636363, 'recall': 0.831041257367387, 'f1': 0.8914646996838776}, {'dataset': 'hospital', 'experiment': 'adder', 'run': 1, 'precision': 0.9563218390804598, 'recall': 0.8172888015717092, 'f1': 0.8813559322033899}, {'dataset': 'hospital', 'experiment': 'adder', 'run': 2, 'precision': 0.9298642533936652, 'recall': 0.8074656188605108, 'f1': 0.8643533123028393}, {'dataset': 'hospital', 'experiment': 'adder', 'run': 3, 'precision': 0.9176201372997712, 'recall': 0.787819253438114, 'f1': 0.8477801268498943}, {'dataset': 'hospital', 'experiment': 'adder', 'run': 4, 'precision': 0.8584474885844748, 'recall': 0.7387033398821218, 'f1': 0.7940865892291445}, {'dataset': 'hospital', 'experiment': 'adder', 'run': 5, 'precision': 0.9168591224018475, 'recall': 0.7799607072691552, 'f1': 0.842887473460722}, {'dataset': 'hospital', 'experiment': 'adder', 'run': 6, 'precision': 0.9614512471655329, 'recall': 0.8330058939096268, 'f1': 0.8926315789473686}, {'dataset': 'hospital', 'experiment': 'adder', 'run': 7, 'precision': 0.9587155963302753, 'recall': 0.8212180746561886, 'f1': 0.8846560846560846}, {'dataset': 'hospital', 'experiment': 'adder', 'run': 8, 'precision': 0.9295454545454546, 'recall': 0.8035363457760314, 'f1': 0.8619599578503688}, {'dataset': 'hospital', 'experiment': 'adder', 'run': 9, 'precision': 0.9610091743119266, 'recall': 0.8231827111984283, 'f1': 0.8867724867724868}]\n"
     ]
    }
   ],
   "source": [
    "print(results)"
   ]
  },
  {
   "cell_type": "code",
   "execution_count": 10,
   "metadata": {},
   "outputs": [
    {
     "data": {
      "text/plain": [
       "0.8647948241956177"
      ]
     },
     "execution_count": 10,
     "metadata": {},
     "output_type": "execute_result"
    }
   ],
   "source": [
    "\n",
    "sum([x['f1'] for x in results])/len(results)"
   ]
  },
  {
   "cell_type": "code",
   "execution_count": 6,
   "metadata": {},
   "outputs": [
    {
     "name": "stdout",
     "output_type": "stream",
     "text": [
      "[{'dataset': 'hospital', 'experiment': 'adder', 'run': 9, 'precision': 0.9588100686498856, 'recall': 0.8231827111984283, 'f1': 0.8858350951374208}]\n"
     ]
    }
   ],
   "source": [
    "print(results)  # to be done; 90s training time"
   ]
  },
  {
   "cell_type": "code",
   "execution_count": 6,
   "metadata": {},
   "outputs": [
    {
     "name": "stdout",
     "output_type": "stream",
     "text": [
      "[{'dataset': 'hospital', 'experiment': 'adder', 'run': 9, 'precision': 0.9130434782608695, 'recall': 0.825147347740668, 'f1': 0.8668730650154799}]\n"
     ]
    }
   ],
   "source": [
    "print(results)  # 30s training time"
   ]
  },
  {
   "cell_type": "code",
   "execution_count": 22,
   "metadata": {},
   "outputs": [
    {
     "name": "stdout",
     "output_type": "stream",
     "text": [
      "[{'dataset': 'hospital', 'experiment': 'adder', 'run': 9, 'precision': 0.9551569506726457, 'recall': 0.8369351669941061, 'f1': 0.8921465968586387}]\n"
     ]
    }
   ],
   "source": [
    "print(results)   # no imputer model"
   ]
  },
  {
   "cell_type": "code",
   "execution_count": 20,
   "metadata": {},
   "outputs": [],
   "source": [
    "old_pair_features = d.pair_features"
   ]
  },
  {
   "cell_type": "code",
   "execution_count": 46,
   "metadata": {},
   "outputs": [],
   "source": [
    "app_2.predict_corrections(d, random_seed=run)\n",
    "p, r, f = d.get_data_cleaning_evaluation(d.corrected_cells)[-3:]"
   ]
  },
  {
   "cell_type": "code",
   "execution_count": 48,
   "metadata": {},
   "outputs": [
    {
     "data": {
      "text/plain": [
       "0.8898216159496327"
      ]
     },
     "execution_count": 48,
     "metadata": {},
     "output_type": "execute_result"
    }
   ],
   "source": [
    "f"
   ]
  },
  {
   "cell_type": "code",
   "execution_count": 29,
   "metadata": {
    "collapsed": true,
    "jupyter": {
     "outputs_hidden": true
    },
    "tags": []
   },
   "outputs": [
    {
     "name": "stdout",
     "output_type": "stream",
     "text": [
      "Starting run 1/60.\n"
     ]
    },
    {
     "name": "stderr",
     "output_type": "stream",
     "text": [
      "Process ForkPoolWorker-31:\n",
      "Process ForkPoolWorker-35:\n",
      "Process ForkPoolWorker-28:\n",
      "Process ForkPoolWorker-36:\n",
      "Process ForkPoolWorker-33:\n",
      "Process ForkPoolWorker-34:\n"
     ]
    },
    {
     "ename": "KeyboardInterrupt",
     "evalue": "",
     "output_type": "error",
     "traceback": [
      "\u001b[0;31m---------------------------------------------------------------------------\u001b[0m",
      "\u001b[0;31mKeyboardInterrupt\u001b[0m                         Traceback (most recent call last)",
      "\u001b[0;32m/var/folders/hf/v_gw8jb14hl89x0x8g88y9pr0000gn/T/ipykernel_15021/596622912.py\u001b[0m in \u001b[0;36m<module>\u001b[0;34m\u001b[0m\n\u001b[1;32m     31\u001b[0m                     \u001b[0mapp_2\u001b[0m\u001b[0;34m.\u001b[0m\u001b[0mlabel_with_ground_truth\u001b[0m\u001b[0;34m(\u001b[0m\u001b[0md\u001b[0m\u001b[0;34m)\u001b[0m\u001b[0;34m\u001b[0m\u001b[0;34m\u001b[0m\u001b[0m\n\u001b[1;32m     32\u001b[0m                 \u001b[0mapp_2\u001b[0m\u001b[0;34m.\u001b[0m\u001b[0mupdate_models\u001b[0m\u001b[0;34m(\u001b[0m\u001b[0md\u001b[0m\u001b[0;34m)\u001b[0m\u001b[0;34m\u001b[0m\u001b[0;34m\u001b[0m\u001b[0m\n\u001b[0;32m---> 33\u001b[0;31m                 \u001b[0mapp_2\u001b[0m\u001b[0;34m.\u001b[0m\u001b[0mgenerate_features\u001b[0m\u001b[0;34m(\u001b[0m\u001b[0md\u001b[0m\u001b[0;34m)\u001b[0m\u001b[0;34m\u001b[0m\u001b[0;34m\u001b[0m\u001b[0m\n\u001b[0m\u001b[1;32m     34\u001b[0m                 \u001b[0mapp_2\u001b[0m\u001b[0;34m.\u001b[0m\u001b[0mpredict_corrections\u001b[0m\u001b[0;34m(\u001b[0m\u001b[0md\u001b[0m\u001b[0;34m,\u001b[0m \u001b[0mrandom_seed\u001b[0m\u001b[0;34m=\u001b[0m\u001b[0mrun\u001b[0m\u001b[0;34m)\u001b[0m\u001b[0;34m\u001b[0m\u001b[0;34m\u001b[0m\u001b[0m\n\u001b[1;32m     35\u001b[0m \u001b[0;34m\u001b[0m\u001b[0m\n",
      "\u001b[0;32m~/code/raha/raha/correction.py\u001b[0m in \u001b[0;36mgenerate_features\u001b[0;34m(self, d)\u001b[0m\n\u001b[1;32m    670\u001b[0m         \u001b[0mprocess_args_list\u001b[0m \u001b[0;34m=\u001b[0m \u001b[0;34m[\u001b[0m\u001b[0;34m[\u001b[0m\u001b[0md\u001b[0m\u001b[0;34m,\u001b[0m \u001b[0mcell\u001b[0m\u001b[0;34m]\u001b[0m \u001b[0;32mfor\u001b[0m \u001b[0mcell\u001b[0m \u001b[0;32min\u001b[0m \u001b[0md\u001b[0m\u001b[0;34m.\u001b[0m\u001b[0mdetected_cells\u001b[0m\u001b[0;34m]\u001b[0m\u001b[0;34m\u001b[0m\u001b[0;34m\u001b[0m\u001b[0m\n\u001b[1;32m    671\u001b[0m         \u001b[0mpool\u001b[0m \u001b[0;34m=\u001b[0m \u001b[0mmultiprocessing\u001b[0m\u001b[0;34m.\u001b[0m\u001b[0mPool\u001b[0m\u001b[0;34m(\u001b[0m\u001b[0;34m)\u001b[0m\u001b[0;34m\u001b[0m\u001b[0;34m\u001b[0m\u001b[0m\n\u001b[0;32m--> 672\u001b[0;31m         \u001b[0mfeature_generation_results\u001b[0m \u001b[0;34m=\u001b[0m \u001b[0mpool\u001b[0m\u001b[0;34m.\u001b[0m\u001b[0mmap\u001b[0m\u001b[0;34m(\u001b[0m\u001b[0mself\u001b[0m\u001b[0;34m.\u001b[0m\u001b[0m_feature_generator_process\u001b[0m\u001b[0;34m,\u001b[0m \u001b[0mprocess_args_list\u001b[0m\u001b[0;34m)\u001b[0m\u001b[0;34m\u001b[0m\u001b[0;34m\u001b[0m\u001b[0m\n\u001b[0m\u001b[1;32m    673\u001b[0m         \u001b[0mpool\u001b[0m\u001b[0;34m.\u001b[0m\u001b[0mclose\u001b[0m\u001b[0;34m(\u001b[0m\u001b[0;34m)\u001b[0m\u001b[0;34m\u001b[0m\u001b[0;34m\u001b[0m\u001b[0m\n\u001b[1;32m    674\u001b[0m         \u001b[0;32mfor\u001b[0m \u001b[0mci\u001b[0m\u001b[0;34m,\u001b[0m \u001b[0mcorrections_features\u001b[0m \u001b[0;32min\u001b[0m \u001b[0menumerate\u001b[0m\u001b[0;34m(\u001b[0m\u001b[0mfeature_generation_results\u001b[0m\u001b[0;34m)\u001b[0m\u001b[0;34m:\u001b[0m\u001b[0;34m\u001b[0m\u001b[0;34m\u001b[0m\u001b[0m\n",
      "\u001b[0;32m~/.pyenv/versions/3.7.10/lib/python3.7/multiprocessing/pool.py\u001b[0m in \u001b[0;36mmap\u001b[0;34m(self, func, iterable, chunksize)\u001b[0m\n\u001b[1;32m    266\u001b[0m         \u001b[0;32min\u001b[0m \u001b[0ma\u001b[0m \u001b[0mlist\u001b[0m \u001b[0mthat\u001b[0m \u001b[0;32mis\u001b[0m \u001b[0mreturned\u001b[0m\u001b[0;34m.\u001b[0m\u001b[0;34m\u001b[0m\u001b[0;34m\u001b[0m\u001b[0m\n\u001b[1;32m    267\u001b[0m         '''\n\u001b[0;32m--> 268\u001b[0;31m         \u001b[0;32mreturn\u001b[0m \u001b[0mself\u001b[0m\u001b[0;34m.\u001b[0m\u001b[0m_map_async\u001b[0m\u001b[0;34m(\u001b[0m\u001b[0mfunc\u001b[0m\u001b[0;34m,\u001b[0m \u001b[0miterable\u001b[0m\u001b[0;34m,\u001b[0m \u001b[0mmapstar\u001b[0m\u001b[0;34m,\u001b[0m \u001b[0mchunksize\u001b[0m\u001b[0;34m)\u001b[0m\u001b[0;34m.\u001b[0m\u001b[0mget\u001b[0m\u001b[0;34m(\u001b[0m\u001b[0;34m)\u001b[0m\u001b[0;34m\u001b[0m\u001b[0;34m\u001b[0m\u001b[0m\n\u001b[0m\u001b[1;32m    269\u001b[0m \u001b[0;34m\u001b[0m\u001b[0m\n\u001b[1;32m    270\u001b[0m     \u001b[0;32mdef\u001b[0m \u001b[0mstarmap\u001b[0m\u001b[0;34m(\u001b[0m\u001b[0mself\u001b[0m\u001b[0;34m,\u001b[0m \u001b[0mfunc\u001b[0m\u001b[0;34m,\u001b[0m \u001b[0miterable\u001b[0m\u001b[0;34m,\u001b[0m \u001b[0mchunksize\u001b[0m\u001b[0;34m=\u001b[0m\u001b[0;32mNone\u001b[0m\u001b[0;34m)\u001b[0m\u001b[0;34m:\u001b[0m\u001b[0;34m\u001b[0m\u001b[0;34m\u001b[0m\u001b[0m\n",
      "\u001b[0;32m~/.pyenv/versions/3.7.10/lib/python3.7/multiprocessing/pool.py\u001b[0m in \u001b[0;36mget\u001b[0;34m(self, timeout)\u001b[0m\n\u001b[1;32m    649\u001b[0m \u001b[0;34m\u001b[0m\u001b[0m\n\u001b[1;32m    650\u001b[0m     \u001b[0;32mdef\u001b[0m \u001b[0mget\u001b[0m\u001b[0;34m(\u001b[0m\u001b[0mself\u001b[0m\u001b[0;34m,\u001b[0m \u001b[0mtimeout\u001b[0m\u001b[0;34m=\u001b[0m\u001b[0;32mNone\u001b[0m\u001b[0;34m)\u001b[0m\u001b[0;34m:\u001b[0m\u001b[0;34m\u001b[0m\u001b[0;34m\u001b[0m\u001b[0m\n\u001b[0;32m--> 651\u001b[0;31m         \u001b[0mself\u001b[0m\u001b[0;34m.\u001b[0m\u001b[0mwait\u001b[0m\u001b[0;34m(\u001b[0m\u001b[0mtimeout\u001b[0m\u001b[0;34m)\u001b[0m\u001b[0;34m\u001b[0m\u001b[0;34m\u001b[0m\u001b[0m\n\u001b[0m\u001b[1;32m    652\u001b[0m         \u001b[0;32mif\u001b[0m \u001b[0;32mnot\u001b[0m \u001b[0mself\u001b[0m\u001b[0;34m.\u001b[0m\u001b[0mready\u001b[0m\u001b[0;34m(\u001b[0m\u001b[0;34m)\u001b[0m\u001b[0;34m:\u001b[0m\u001b[0;34m\u001b[0m\u001b[0;34m\u001b[0m\u001b[0m\n\u001b[1;32m    653\u001b[0m             \u001b[0;32mraise\u001b[0m \u001b[0mTimeoutError\u001b[0m\u001b[0;34m\u001b[0m\u001b[0;34m\u001b[0m\u001b[0m\n",
      "\u001b[0;32m~/.pyenv/versions/3.7.10/lib/python3.7/multiprocessing/pool.py\u001b[0m in \u001b[0;36mwait\u001b[0;34m(self, timeout)\u001b[0m\n\u001b[1;32m    646\u001b[0m \u001b[0;34m\u001b[0m\u001b[0m\n\u001b[1;32m    647\u001b[0m     \u001b[0;32mdef\u001b[0m \u001b[0mwait\u001b[0m\u001b[0;34m(\u001b[0m\u001b[0mself\u001b[0m\u001b[0;34m,\u001b[0m \u001b[0mtimeout\u001b[0m\u001b[0;34m=\u001b[0m\u001b[0;32mNone\u001b[0m\u001b[0;34m)\u001b[0m\u001b[0;34m:\u001b[0m\u001b[0;34m\u001b[0m\u001b[0;34m\u001b[0m\u001b[0m\n\u001b[0;32m--> 648\u001b[0;31m         \u001b[0mself\u001b[0m\u001b[0;34m.\u001b[0m\u001b[0m_event\u001b[0m\u001b[0;34m.\u001b[0m\u001b[0mwait\u001b[0m\u001b[0;34m(\u001b[0m\u001b[0mtimeout\u001b[0m\u001b[0;34m)\u001b[0m\u001b[0;34m\u001b[0m\u001b[0;34m\u001b[0m\u001b[0m\n\u001b[0m\u001b[1;32m    649\u001b[0m \u001b[0;34m\u001b[0m\u001b[0m\n\u001b[1;32m    650\u001b[0m     \u001b[0;32mdef\u001b[0m \u001b[0mget\u001b[0m\u001b[0;34m(\u001b[0m\u001b[0mself\u001b[0m\u001b[0;34m,\u001b[0m \u001b[0mtimeout\u001b[0m\u001b[0;34m=\u001b[0m\u001b[0;32mNone\u001b[0m\u001b[0;34m)\u001b[0m\u001b[0;34m:\u001b[0m\u001b[0;34m\u001b[0m\u001b[0;34m\u001b[0m\u001b[0m\n",
      "\u001b[0;32m~/.pyenv/versions/3.7.10/lib/python3.7/threading.py\u001b[0m in \u001b[0;36mwait\u001b[0;34m(self, timeout)\u001b[0m\n\u001b[1;32m    550\u001b[0m             \u001b[0msignaled\u001b[0m \u001b[0;34m=\u001b[0m \u001b[0mself\u001b[0m\u001b[0;34m.\u001b[0m\u001b[0m_flag\u001b[0m\u001b[0;34m\u001b[0m\u001b[0;34m\u001b[0m\u001b[0m\n\u001b[1;32m    551\u001b[0m             \u001b[0;32mif\u001b[0m \u001b[0;32mnot\u001b[0m \u001b[0msignaled\u001b[0m\u001b[0;34m:\u001b[0m\u001b[0;34m\u001b[0m\u001b[0;34m\u001b[0m\u001b[0m\n\u001b[0;32m--> 552\u001b[0;31m                 \u001b[0msignaled\u001b[0m \u001b[0;34m=\u001b[0m \u001b[0mself\u001b[0m\u001b[0;34m.\u001b[0m\u001b[0m_cond\u001b[0m\u001b[0;34m.\u001b[0m\u001b[0mwait\u001b[0m\u001b[0;34m(\u001b[0m\u001b[0mtimeout\u001b[0m\u001b[0;34m)\u001b[0m\u001b[0;34m\u001b[0m\u001b[0;34m\u001b[0m\u001b[0m\n\u001b[0m\u001b[1;32m    553\u001b[0m             \u001b[0;32mreturn\u001b[0m \u001b[0msignaled\u001b[0m\u001b[0;34m\u001b[0m\u001b[0;34m\u001b[0m\u001b[0m\n\u001b[1;32m    554\u001b[0m \u001b[0;34m\u001b[0m\u001b[0m\n",
      "\u001b[0;32m~/.pyenv/versions/3.7.10/lib/python3.7/threading.py\u001b[0m in \u001b[0;36mwait\u001b[0;34m(self, timeout)\u001b[0m\n\u001b[1;32m    294\u001b[0m         \u001b[0;32mtry\u001b[0m\u001b[0;34m:\u001b[0m    \u001b[0;31m# restore state no matter what (e.g., KeyboardInterrupt)\u001b[0m\u001b[0;34m\u001b[0m\u001b[0;34m\u001b[0m\u001b[0m\n\u001b[1;32m    295\u001b[0m             \u001b[0;32mif\u001b[0m \u001b[0mtimeout\u001b[0m \u001b[0;32mis\u001b[0m \u001b[0;32mNone\u001b[0m\u001b[0;34m:\u001b[0m\u001b[0;34m\u001b[0m\u001b[0;34m\u001b[0m\u001b[0m\n\u001b[0;32m--> 296\u001b[0;31m                 \u001b[0mwaiter\u001b[0m\u001b[0;34m.\u001b[0m\u001b[0macquire\u001b[0m\u001b[0;34m(\u001b[0m\u001b[0;34m)\u001b[0m\u001b[0;34m\u001b[0m\u001b[0;34m\u001b[0m\u001b[0m\n\u001b[0m\u001b[1;32m    297\u001b[0m                 \u001b[0mgotit\u001b[0m \u001b[0;34m=\u001b[0m \u001b[0;32mTrue\u001b[0m\u001b[0;34m\u001b[0m\u001b[0;34m\u001b[0m\u001b[0m\n\u001b[1;32m    298\u001b[0m             \u001b[0;32melse\u001b[0m\u001b[0;34m:\u001b[0m\u001b[0;34m\u001b[0m\u001b[0;34m\u001b[0m\u001b[0m\n",
      "\u001b[0;31mKeyboardInterrupt\u001b[0m: "
     ]
    },
    {
     "name": "stderr",
     "output_type": "stream",
     "text": [
      "Process ForkPoolWorker-29:\n",
      "Process ForkPoolWorker-27:\n",
      "Process ForkPoolWorker-32:\n",
      "Process ForkPoolWorker-26:\n",
      "Process ForkPoolWorker-25:\n",
      "Traceback (most recent call last):\n",
      "Traceback (most recent call last):\n",
      "Traceback (most recent call last):\n",
      "Traceback (most recent call last):\n",
      "Traceback (most recent call last):\n",
      "Traceback (most recent call last):\n",
      "Traceback (most recent call last):\n",
      "Traceback (most recent call last):\n",
      "Traceback (most recent call last):\n",
      "Traceback (most recent call last):\n",
      "Traceback (most recent call last):\n",
      "  File \"/Users/philipp/.pyenv/versions/3.7.10/lib/python3.7/multiprocessing/process.py\", line 297, in _bootstrap\n",
      "    self.run()\n",
      "  File \"/Users/philipp/.pyenv/versions/3.7.10/lib/python3.7/multiprocessing/process.py\", line 297, in _bootstrap\n",
      "    self.run()\n",
      "  File \"/Users/philipp/.pyenv/versions/3.7.10/lib/python3.7/multiprocessing/process.py\", line 297, in _bootstrap\n",
      "    self.run()\n",
      "  File \"/Users/philipp/.pyenv/versions/3.7.10/lib/python3.7/multiprocessing/process.py\", line 297, in _bootstrap\n",
      "    self.run()\n",
      "  File \"/Users/philipp/.pyenv/versions/3.7.10/lib/python3.7/multiprocessing/process.py\", line 297, in _bootstrap\n",
      "    self.run()\n",
      "  File \"/Users/philipp/.pyenv/versions/3.7.10/lib/python3.7/multiprocessing/process.py\", line 297, in _bootstrap\n",
      "    self.run()\n",
      "  File \"/Users/philipp/.pyenv/versions/3.7.10/lib/python3.7/multiprocessing/process.py\", line 297, in _bootstrap\n",
      "    self.run()\n",
      "  File \"/Users/philipp/.pyenv/versions/3.7.10/lib/python3.7/multiprocessing/process.py\", line 297, in _bootstrap\n",
      "    self.run()\n",
      "  File \"/Users/philipp/.pyenv/versions/3.7.10/lib/python3.7/multiprocessing/process.py\", line 297, in _bootstrap\n",
      "    self.run()\n",
      "  File \"/Users/philipp/.pyenv/versions/3.7.10/lib/python3.7/multiprocessing/process.py\", line 297, in _bootstrap\n",
      "    self.run()\n",
      "  File \"/Users/philipp/.pyenv/versions/3.7.10/lib/python3.7/multiprocessing/process.py\", line 297, in _bootstrap\n",
      "    self.run()\n",
      "  File \"/Users/philipp/.pyenv/versions/3.7.10/lib/python3.7/multiprocessing/process.py\", line 99, in run\n",
      "    self._target(*self._args, **self._kwargs)\n",
      "  File \"/Users/philipp/.pyenv/versions/3.7.10/lib/python3.7/multiprocessing/process.py\", line 99, in run\n",
      "    self._target(*self._args, **self._kwargs)\n",
      "  File \"/Users/philipp/.pyenv/versions/3.7.10/lib/python3.7/multiprocessing/process.py\", line 99, in run\n",
      "    self._target(*self._args, **self._kwargs)\n",
      "  File \"/Users/philipp/.pyenv/versions/3.7.10/lib/python3.7/multiprocessing/process.py\", line 99, in run\n",
      "    self._target(*self._args, **self._kwargs)\n",
      "  File \"/Users/philipp/.pyenv/versions/3.7.10/lib/python3.7/multiprocessing/process.py\", line 99, in run\n",
      "    self._target(*self._args, **self._kwargs)\n",
      "  File \"/Users/philipp/.pyenv/versions/3.7.10/lib/python3.7/multiprocessing/process.py\", line 99, in run\n",
      "    self._target(*self._args, **self._kwargs)\n",
      "  File \"/Users/philipp/.pyenv/versions/3.7.10/lib/python3.7/multiprocessing/process.py\", line 99, in run\n",
      "    self._target(*self._args, **self._kwargs)\n",
      "  File \"/Users/philipp/.pyenv/versions/3.7.10/lib/python3.7/multiprocessing/process.py\", line 99, in run\n",
      "    self._target(*self._args, **self._kwargs)\n",
      "  File \"/Users/philipp/.pyenv/versions/3.7.10/lib/python3.7/multiprocessing/process.py\", line 99, in run\n",
      "    self._target(*self._args, **self._kwargs)\n",
      "  File \"/Users/philipp/.pyenv/versions/3.7.10/lib/python3.7/multiprocessing/process.py\", line 99, in run\n",
      "    self._target(*self._args, **self._kwargs)\n",
      "  File \"/Users/philipp/.pyenv/versions/3.7.10/lib/python3.7/multiprocessing/process.py\", line 99, in run\n",
      "    self._target(*self._args, **self._kwargs)\n",
      "  File \"/Users/philipp/.pyenv/versions/3.7.10/lib/python3.7/multiprocessing/pool.py\", line 110, in worker\n",
      "    task = get()\n",
      "  File \"/Users/philipp/.pyenv/versions/3.7.10/lib/python3.7/multiprocessing/pool.py\", line 110, in worker\n",
      "    task = get()\n",
      "  File \"/Users/philipp/.pyenv/versions/3.7.10/lib/python3.7/multiprocessing/pool.py\", line 110, in worker\n",
      "    task = get()\n",
      "  File \"/Users/philipp/.pyenv/versions/3.7.10/lib/python3.7/multiprocessing/pool.py\", line 110, in worker\n",
      "    task = get()\n",
      "  File \"/Users/philipp/.pyenv/versions/3.7.10/lib/python3.7/multiprocessing/pool.py\", line 110, in worker\n",
      "    task = get()\n",
      "  File \"/Users/philipp/.pyenv/versions/3.7.10/lib/python3.7/multiprocessing/pool.py\", line 110, in worker\n",
      "    task = get()\n",
      "  File \"/Users/philipp/.pyenv/versions/3.7.10/lib/python3.7/multiprocessing/pool.py\", line 110, in worker\n",
      "    task = get()\n",
      "  File \"/Users/philipp/.pyenv/versions/3.7.10/lib/python3.7/multiprocessing/pool.py\", line 110, in worker\n",
      "    task = get()\n",
      "  File \"/Users/philipp/.pyenv/versions/3.7.10/lib/python3.7/multiprocessing/pool.py\", line 110, in worker\n",
      "    task = get()\n",
      "  File \"/Users/philipp/.pyenv/versions/3.7.10/lib/python3.7/multiprocessing/pool.py\", line 110, in worker\n",
      "    task = get()\n",
      "  File \"/Users/philipp/.pyenv/versions/3.7.10/lib/python3.7/multiprocessing/pool.py\", line 110, in worker\n",
      "    task = get()\n",
      "  File \"/Users/philipp/.pyenv/versions/3.7.10/lib/python3.7/multiprocessing/queues.py\", line 351, in get\n",
      "    with self._rlock:\n",
      "  File \"/Users/philipp/.pyenv/versions/3.7.10/lib/python3.7/multiprocessing/queues.py\", line 351, in get\n",
      "    with self._rlock:\n",
      "  File \"/Users/philipp/.pyenv/versions/3.7.10/lib/python3.7/multiprocessing/queues.py\", line 351, in get\n",
      "    with self._rlock:\n",
      "  File \"/Users/philipp/.pyenv/versions/3.7.10/lib/python3.7/multiprocessing/queues.py\", line 351, in get\n",
      "    with self._rlock:\n",
      "  File \"/Users/philipp/.pyenv/versions/3.7.10/lib/python3.7/multiprocessing/queues.py\", line 352, in get\n",
      "    res = self._reader.recv_bytes()\n",
      "  File \"/Users/philipp/.pyenv/versions/3.7.10/lib/python3.7/multiprocessing/queues.py\", line 351, in get\n",
      "    with self._rlock:\n",
      "  File \"/Users/philipp/.pyenv/versions/3.7.10/lib/python3.7/multiprocessing/queues.py\", line 351, in get\n",
      "    with self._rlock:\n",
      "  File \"/Users/philipp/.pyenv/versions/3.7.10/lib/python3.7/multiprocessing/queues.py\", line 351, in get\n",
      "    with self._rlock:\n",
      "  File \"/Users/philipp/.pyenv/versions/3.7.10/lib/python3.7/multiprocessing/queues.py\", line 351, in get\n",
      "    with self._rlock:\n",
      "  File \"/Users/philipp/.pyenv/versions/3.7.10/lib/python3.7/multiprocessing/queues.py\", line 351, in get\n",
      "    with self._rlock:\n",
      "  File \"/Users/philipp/.pyenv/versions/3.7.10/lib/python3.7/multiprocessing/queues.py\", line 351, in get\n",
      "    with self._rlock:\n",
      "  File \"/Users/philipp/.pyenv/versions/3.7.10/lib/python3.7/multiprocessing/synchronize.py\", line 95, in __enter__\n",
      "    return self._semlock.__enter__()\n",
      "  File \"/Users/philipp/.pyenv/versions/3.7.10/lib/python3.7/multiprocessing/synchronize.py\", line 95, in __enter__\n",
      "    return self._semlock.__enter__()\n",
      "  File \"/Users/philipp/.pyenv/versions/3.7.10/lib/python3.7/multiprocessing/synchronize.py\", line 95, in __enter__\n",
      "    return self._semlock.__enter__()\n",
      "  File \"/Users/philipp/.pyenv/versions/3.7.10/lib/python3.7/multiprocessing/synchronize.py\", line 95, in __enter__\n",
      "    return self._semlock.__enter__()\n",
      "  File \"/Users/philipp/.pyenv/versions/3.7.10/lib/python3.7/multiprocessing/connection.py\", line 216, in recv_bytes\n",
      "    buf = self._recv_bytes(maxlength)\n",
      "  File \"/Users/philipp/.pyenv/versions/3.7.10/lib/python3.7/multiprocessing/synchronize.py\", line 95, in __enter__\n",
      "    return self._semlock.__enter__()\n",
      "  File \"/Users/philipp/.pyenv/versions/3.7.10/lib/python3.7/multiprocessing/synchronize.py\", line 95, in __enter__\n",
      "    return self._semlock.__enter__()\n",
      "  File \"/Users/philipp/.pyenv/versions/3.7.10/lib/python3.7/multiprocessing/synchronize.py\", line 95, in __enter__\n",
      "    return self._semlock.__enter__()\n",
      "  File \"/Users/philipp/.pyenv/versions/3.7.10/lib/python3.7/multiprocessing/synchronize.py\", line 95, in __enter__\n",
      "    return self._semlock.__enter__()\n",
      "  File \"/Users/philipp/.pyenv/versions/3.7.10/lib/python3.7/multiprocessing/synchronize.py\", line 95, in __enter__\n",
      "    return self._semlock.__enter__()\n",
      "  File \"/Users/philipp/.pyenv/versions/3.7.10/lib/python3.7/multiprocessing/synchronize.py\", line 95, in __enter__\n",
      "    return self._semlock.__enter__()\n",
      "KeyboardInterrupt\n",
      "KeyboardInterrupt\n",
      "KeyboardInterrupt\n",
      "KeyboardInterrupt\n",
      "  File \"/Users/philipp/.pyenv/versions/3.7.10/lib/python3.7/multiprocessing/connection.py\", line 407, in _recv_bytes\n",
      "    buf = self._recv(4)\n",
      "KeyboardInterrupt\n",
      "KeyboardInterrupt\n",
      "KeyboardInterrupt\n",
      "KeyboardInterrupt\n",
      "KeyboardInterrupt\n",
      "KeyboardInterrupt\n",
      "  File \"/Users/philipp/.pyenv/versions/3.7.10/lib/python3.7/multiprocessing/connection.py\", line 379, in _recv\n",
      "    chunk = read(handle, remaining)\n",
      "KeyboardInterrupt\n",
      "Process ForkPoolWorker-30:\n",
      "Traceback (most recent call last):\n",
      "  File \"/Users/philipp/.pyenv/versions/3.7.10/lib/python3.7/multiprocessing/process.py\", line 297, in _bootstrap\n",
      "    self.run()\n",
      "  File \"/Users/philipp/.pyenv/versions/3.7.10/lib/python3.7/multiprocessing/process.py\", line 99, in run\n",
      "    self._target(*self._args, **self._kwargs)\n",
      "  File \"/Users/philipp/.pyenv/versions/3.7.10/lib/python3.7/multiprocessing/pool.py\", line 110, in worker\n",
      "    task = get()\n",
      "  File \"/Users/philipp/.pyenv/versions/3.7.10/lib/python3.7/multiprocessing/queues.py\", line 354, in get\n",
      "    return _ForkingPickler.loads(res)\n",
      "KeyboardInterrupt\n",
      "Process ForkPoolWorker-38:\n",
      "Process ForkPoolWorker-40:\n",
      "Process ForkPoolWorker-39:\n",
      "Process ForkPoolWorker-37:\n",
      "Traceback (most recent call last):\n",
      "Traceback (most recent call last):\n",
      "Traceback (most recent call last):\n",
      "Traceback (most recent call last):\n",
      "  File \"/Users/philipp/.pyenv/versions/3.7.10/lib/python3.7/multiprocessing/process.py\", line 297, in _bootstrap\n",
      "    self.run()\n",
      "  File \"/Users/philipp/.pyenv/versions/3.7.10/lib/python3.7/multiprocessing/process.py\", line 297, in _bootstrap\n",
      "    self.run()\n",
      "  File \"/Users/philipp/.pyenv/versions/3.7.10/lib/python3.7/multiprocessing/process.py\", line 297, in _bootstrap\n",
      "    self.run()\n",
      "  File \"/Users/philipp/.pyenv/versions/3.7.10/lib/python3.7/multiprocessing/process.py\", line 297, in _bootstrap\n",
      "    self.run()\n",
      "  File \"/Users/philipp/.pyenv/versions/3.7.10/lib/python3.7/multiprocessing/process.py\", line 99, in run\n",
      "    self._target(*self._args, **self._kwargs)\n",
      "  File \"/Users/philipp/.pyenv/versions/3.7.10/lib/python3.7/multiprocessing/process.py\", line 99, in run\n",
      "    self._target(*self._args, **self._kwargs)\n",
      "  File \"/Users/philipp/.pyenv/versions/3.7.10/lib/python3.7/multiprocessing/process.py\", line 99, in run\n",
      "    self._target(*self._args, **self._kwargs)\n",
      "  File \"/Users/philipp/.pyenv/versions/3.7.10/lib/python3.7/multiprocessing/process.py\", line 99, in run\n",
      "    self._target(*self._args, **self._kwargs)\n",
      "  File \"/Users/philipp/.pyenv/versions/3.7.10/lib/python3.7/multiprocessing/pool.py\", line 110, in worker\n",
      "    task = get()\n",
      "  File \"/Users/philipp/.pyenv/versions/3.7.10/lib/python3.7/multiprocessing/pool.py\", line 110, in worker\n",
      "    task = get()\n",
      "  File \"/Users/philipp/.pyenv/versions/3.7.10/lib/python3.7/multiprocessing/pool.py\", line 110, in worker\n",
      "    task = get()\n",
      "  File \"/Users/philipp/.pyenv/versions/3.7.10/lib/python3.7/multiprocessing/pool.py\", line 110, in worker\n",
      "    task = get()\n",
      "  File \"/Users/philipp/.pyenv/versions/3.7.10/lib/python3.7/multiprocessing/queues.py\", line 351, in get\n",
      "    with self._rlock:\n",
      "  File \"/Users/philipp/.pyenv/versions/3.7.10/lib/python3.7/multiprocessing/queues.py\", line 351, in get\n",
      "    with self._rlock:\n",
      "  File \"/Users/philipp/.pyenv/versions/3.7.10/lib/python3.7/multiprocessing/queues.py\", line 351, in get\n",
      "    with self._rlock:\n",
      "  File \"/Users/philipp/.pyenv/versions/3.7.10/lib/python3.7/multiprocessing/queues.py\", line 351, in get\n",
      "    with self._rlock:\n",
      "  File \"/Users/philipp/.pyenv/versions/3.7.10/lib/python3.7/multiprocessing/synchronize.py\", line 95, in __enter__\n",
      "    return self._semlock.__enter__()\n",
      "  File \"/Users/philipp/.pyenv/versions/3.7.10/lib/python3.7/multiprocessing/synchronize.py\", line 95, in __enter__\n",
      "    return self._semlock.__enter__()\n",
      "  File \"/Users/philipp/.pyenv/versions/3.7.10/lib/python3.7/multiprocessing/synchronize.py\", line 95, in __enter__\n",
      "    return self._semlock.__enter__()\n",
      "  File \"/Users/philipp/.pyenv/versions/3.7.10/lib/python3.7/multiprocessing/synchronize.py\", line 95, in __enter__\n",
      "    return self._semlock.__enter__()\n",
      "KeyboardInterrupt\n",
      "KeyboardInterrupt\n",
      "KeyboardInterrupt\n",
      "KeyboardInterrupt\n"
     ]
    }
   ],
   "source": [
    "datasets = [beers, \n",
    "            hospital,\n",
    "            rayyan,\n",
    "            flights]\n",
    "experiments = ['pdep', 'adder', 'constant', 'ente', 'disable_vicinity']\n",
    "runs = range(3)\n",
    "duration_experiment = len(datasets) * len(runs) * len(experiments)\n",
    "\n",
    "results = []\n",
    "times = [datetime.datetime.now()]\n",
    "i = 1\n",
    "for dataset_dictionary in datasets:\n",
    "    for run in runs:\n",
    "        for e in experiments:            \n",
    "            app_2 = raha.Correction()\n",
    "            print(f'Starting run {i}/{duration_experiment}.')\n",
    "\n",
    "            app_2.LABELING_BUDGET = 20\n",
    "            app_2.VERBOSE = False\n",
    "            app_2.CLASSIFICATION_MODEL = \"DTC\"\n",
    "            app_2.EXPERIMENT = e\n",
    "\n",
    "            d = raha.dataset.Dataset(dataset_dictionary, n_rows=500)\n",
    "            d.detected_cells = dict(d.get_actual_errors_dictionary())\n",
    "            d = app_2.initialize_dataset(d)\n",
    "            \n",
    "            app_2.initialize_models(d)\n",
    "            while len(d.labeled_tuples) < app_2.LABELING_BUDGET:\n",
    "                app_2.sample_tuple(d, random_seed=run)\n",
    "                if d.has_ground_truth:\n",
    "                    app_2.label_with_ground_truth(d)\n",
    "                app_2.update_models(d)\n",
    "                app_2.generate_features(d)\n",
    "                app_2.predict_corrections(d, random_seed=run)\n",
    "                \n",
    "            p, r, f = d.get_data_cleaning_evaluation(d.corrected_cells)[-3:]\n",
    "            results.append({'dataset': d.name, 'experiment': e, 'run': run, 'precision': p, 'recall': r, 'f1': f})\n",
    "            \n",
    "            # time estimates for the measurement\n",
    "            times.append(datetime.datetime.now())\n",
    "            print(estimate_time_to_finish(times, i, duration_experiment))\n",
    "            i += 1"
   ]
  },
  {
   "cell_type": "code",
   "execution_count": 7,
   "metadata": {
    "collapsed": true,
    "jupyter": {
     "outputs_hidden": true
    },
    "tags": []
   },
   "outputs": [
    {
     "name": "stdout",
     "output_type": "stream",
     "text": [
      "[{'dataset': 'beers', 'experiment': 'pdep', 'run': 0, 'precision': 0.8536126147328783, 'recall': 0.8314993122420908, 'f1': 0.842410869817675}, {'dataset': 'beers', 'experiment': 'adder', 'run': 0, 'precision': 0.8489056248529065, 'recall': 0.8269142595139845, 'f1': 0.837765648589014}, {'dataset': 'beers', 'experiment': 'constant', 'run': 0, 'precision': 0.849105461393597, 'recall': 0.8269142595139845, 'f1': 0.8378629500580721}, {'dataset': 'beers', 'experiment': 'ente', 'run': 0, 'precision': 0.8494921514312096, 'recall': 0.8436497019715726, 'f1': 0.8465608465608465}, {'dataset': 'beers', 'experiment': 'disable_vicinity', 'run': 0, 'precision': 0.8541089566020313, 'recall': 0.848234754699679, 'f1': 0.8511617207269381}, {'dataset': 'beers', 'experiment': 'pdep', 'run': 1, 'precision': 0.84375, 'recall': 0.8356258596973866, 'f1': 0.8396682791983414}, {'dataset': 'beers', 'experiment': 'adder', 'run': 1, 'precision': 0.6898148148148148, 'recall': 0.6831728564878496, 'f1': 0.6864777700990556}, {'dataset': 'beers', 'experiment': 'constant', 'run': 1, 'precision': 0.6898148148148148, 'recall': 0.6831728564878496, 'f1': 0.6864777700990556}, {'dataset': 'beers', 'experiment': 'ente', 'run': 1, 'precision': 0.8344493188640036, 'recall': 0.8285190279688216, 'f1': 0.8314735994478315}, {'dataset': 'beers', 'experiment': 'disable_vicinity', 'run': 1, 'precision': 0.825224809776343, 'recall': 0.8204951856946355, 'f1': 0.8228532015174157}, {'dataset': 'beers', 'experiment': 'pdep', 'run': 2, 'precision': 0.8569701853344077, 'recall': 0.48762035763411277, 'f1': 0.6215663354763296}, {'dataset': 'beers', 'experiment': 'adder', 'run': 2, 'precision': 0.6462530217566479, 'recall': 0.3677212287941311, 'f1': 0.4687317358270018}, {'dataset': 'beers', 'experiment': 'constant', 'run': 2, 'precision': 0.6462530217566479, 'recall': 0.3677212287941311, 'f1': 0.4687317358270018}, {'dataset': 'beers', 'experiment': 'ente', 'run': 2, 'precision': 0.8541089566020313, 'recall': 0.848234754699679, 'f1': 0.8511617207269381}, {'dataset': 'beers', 'experiment': 'disable_vicinity', 'run': 2, 'precision': 0.8348761571178384, 'recall': 0.7650160476845483, 'f1': 0.7984208637396818}, {'dataset': 'hospital', 'experiment': 'pdep', 'run': 0, 'precision': 0.5298804780876494, 'recall': 0.26129666011787817, 'f1': 0.35000000000000003}, {'dataset': 'hospital', 'experiment': 'adder', 'run': 0, 'precision': 0.5298804780876494, 'recall': 0.26129666011787817, 'f1': 0.35000000000000003}, {'dataset': 'hospital', 'experiment': 'constant', 'run': 0, 'precision': 0.5298804780876494, 'recall': 0.26129666011787817, 'f1': 0.35000000000000003}, {'dataset': 'hospital', 'experiment': 'ente', 'run': 0, 'precision': 0.4980237154150198, 'recall': 0.2475442043222004, 'f1': 0.33070866141732286}, {'dataset': 'hospital', 'experiment': 'disable_vicinity', 'run': 0, 'precision': 0.5298804780876494, 'recall': 0.26129666011787817, 'f1': 0.35000000000000003}, {'dataset': 'hospital', 'experiment': 'pdep', 'run': 1, 'precision': 0.8816964285714286, 'recall': 0.7760314341846758, 'f1': 0.825496342737722}, {'dataset': 'hospital', 'experiment': 'adder', 'run': 1, 'precision': 0.8816964285714286, 'recall': 0.7760314341846758, 'f1': 0.825496342737722}, {'dataset': 'hospital', 'experiment': 'constant', 'run': 1, 'precision': 0.9130434782608695, 'recall': 0.7426326129666012, 'f1': 0.819068255687974}, {'dataset': 'hospital', 'experiment': 'ente', 'run': 1, 'precision': 0.676923076923077, 'recall': 0.2593320235756385, 'f1': 0.37500000000000006}, {'dataset': 'hospital', 'experiment': 'disable_vicinity', 'run': 1, 'precision': 0.993103448275862, 'recall': 0.2829076620825147, 'f1': 0.44036697247706424}, {'dataset': 'hospital', 'experiment': 'pdep', 'run': 2, 'precision': 0.8060836501901141, 'recall': 0.4165029469548134, 'f1': 0.5492227979274612}, {'dataset': 'hospital', 'experiment': 'adder', 'run': 2, 'precision': 0.803030303030303, 'recall': 0.4165029469548134, 'f1': 0.5485122897800776}, {'dataset': 'hospital', 'experiment': 'constant', 'run': 2, 'precision': 0.7838983050847458, 'recall': 0.36345776031434185, 'f1': 0.4966442953020134}, {'dataset': 'hospital', 'experiment': 'ente', 'run': 2, 'precision': 0.8304093567251462, 'recall': 0.27897838899803534, 'f1': 0.41764705882352937}, {'dataset': 'hospital', 'experiment': 'disable_vicinity', 'run': 2, 'precision': 0.993103448275862, 'recall': 0.2829076620825147, 'f1': 0.44036697247706424}, {'dataset': 'rayyan', 'experiment': 'pdep', 'run': 0, 'precision': 0.9516483516483516, 'recall': 0.45675105485232065, 'f1': 0.6172487526728438}, {'dataset': 'rayyan', 'experiment': 'adder', 'run': 0, 'precision': 0.9516483516483516, 'recall': 0.45675105485232065, 'f1': 0.6172487526728438}, {'dataset': 'rayyan', 'experiment': 'constant', 'run': 0, 'precision': 0.9878934624697336, 'recall': 0.43037974683544306, 'f1': 0.5995591476855253}, {'dataset': 'rayyan', 'experiment': 'ente', 'run': 0, 'precision': 0.9891304347826086, 'recall': 0.479957805907173, 'f1': 0.6463068181818182}, {'dataset': 'rayyan', 'experiment': 'disable_vicinity', 'run': 0, 'precision': 0.9693877551020408, 'recall': 0.5010548523206751, 'f1': 0.6606397774687065}, {'dataset': 'rayyan', 'experiment': 'pdep', 'run': 1, 'precision': 0.18542199488491048, 'recall': 0.1529535864978903, 'f1': 0.1676300578034682}, {'dataset': 'rayyan', 'experiment': 'adder', 'run': 1, 'precision': 0.18542199488491048, 'recall': 0.1529535864978903, 'f1': 0.1676300578034682}, {'dataset': 'rayyan', 'experiment': 'constant', 'run': 1, 'precision': 0.18542199488491048, 'recall': 0.1529535864978903, 'f1': 0.1676300578034682}, {'dataset': 'rayyan', 'experiment': 'ente', 'run': 1, 'precision': 0.3320754716981132, 'recall': 0.27848101265822783, 'f1': 0.3029259896729776}, {'dataset': 'rayyan', 'experiment': 'disable_vicinity', 'run': 1, 'precision': 0.3320754716981132, 'recall': 0.27848101265822783, 'f1': 0.3029259896729776}, {'dataset': 'rayyan', 'experiment': 'pdep', 'run': 2, 'precision': 1.0, 'recall': 0.06434599156118144, 'f1': 0.12091179385530229}, {'dataset': 'rayyan', 'experiment': 'adder', 'run': 2, 'precision': 1.0, 'recall': 0.06434599156118144, 'f1': 0.12091179385530229}, {'dataset': 'rayyan', 'experiment': 'constant', 'run': 2, 'precision': 1.0, 'recall': 0.06434599156118144, 'f1': 0.12091179385530229}, {'dataset': 'rayyan', 'experiment': 'ente', 'run': 2, 'precision': 0.3320754716981132, 'recall': 0.27848101265822783, 'f1': 0.3029259896729776}, {'dataset': 'rayyan', 'experiment': 'disable_vicinity', 'run': 2, 'precision': 0.9891304347826086, 'recall': 0.479957805907173, 'f1': 0.6463068181818182}, {'dataset': 'flights', 'experiment': 'pdep', 'run': 0, 'precision': 1.0, 'recall': 1.0, 'f1': 1.0}, {'dataset': 'flights', 'experiment': 'adder', 'run': 0, 'precision': 1.0, 'recall': 1.0, 'f1': 1.0}, {'dataset': 'flights', 'experiment': 'constant', 'run': 0, 'precision': 1.0, 'recall': 1.0, 'f1': 1.0}, {'dataset': 'flights', 'experiment': 'ente', 'run': 0, 'precision': 0.08687615526802218, 'recall': 0.047764227642276426, 'f1': 0.06163934426229508}, {'dataset': 'flights', 'experiment': 'disable_vicinity', 'run': 0, 'precision': 0.05617214043035108, 'recall': 0.05040650406504065, 'f1': 0.053133369041242634}, {'dataset': 'flights', 'experiment': 'pdep', 'run': 1, 'precision': 1.0, 'recall': 1.0, 'f1': 1.0}, {'dataset': 'flights', 'experiment': 'adder', 'run': 1, 'precision': 1.0, 'recall': 1.0, 'f1': 1.0}, {'dataset': 'flights', 'experiment': 'constant', 'run': 1, 'precision': 1.0, 'recall': 1.0, 'f1': 1.0}, {'dataset': 'flights', 'experiment': 'ente', 'run': 1, 'precision': 0.05402951191827469, 'recall': 0.048373983739837395, 'f1': 0.051045576407506704}, {'dataset': 'flights', 'experiment': 'disable_vicinity', 'run': 1, 'precision': 0.05402951191827469, 'recall': 0.048373983739837395, 'f1': 0.051045576407506704}, {'dataset': 'flights', 'experiment': 'pdep', 'run': 2, 'precision': 1.0, 'recall': 1.0, 'f1': 1.0}, {'dataset': 'flights', 'experiment': 'adder', 'run': 2, 'precision': 1.0, 'recall': 1.0, 'f1': 1.0}, {'dataset': 'flights', 'experiment': 'constant', 'run': 2, 'precision': 1.0, 'recall': 1.0, 'f1': 1.0}, {'dataset': 'flights', 'experiment': 'ente', 'run': 2, 'precision': 0.05402951191827469, 'recall': 0.048373983739837395, 'f1': 0.051045576407506704}, {'dataset': 'flights', 'experiment': 'disable_vicinity', 'run': 2, 'precision': 0.05402951191827469, 'recall': 0.048373983739837395, 'f1': 0.051045576407506704}, {'dataset': 'beers', 'experiment': 'pdep', 'run': 3, 'precision': 0.8569701853344077, 'recall': 0.48762035763411277, 'f1': 0.6215663354763296}, {'dataset': 'beers', 'experiment': 'adder', 'run': 3, 'precision': 0.6462530217566479, 'recall': 0.3677212287941311, 'f1': 0.4687317358270018}, {'dataset': 'beers', 'experiment': 'constant', 'run': 3, 'precision': 0.6462530217566479, 'recall': 0.3677212287941311, 'f1': 0.4687317358270018}, {'dataset': 'beers', 'experiment': 'ente', 'run': 3, 'precision': 0.8432544242702827, 'recall': 0.8411279229711142, 'f1': 0.8421898312865834}, {'dataset': 'beers', 'experiment': 'disable_vicinity', 'run': 3, 'precision': 0.8407224958949097, 'recall': 0.8216414488766621, 'f1': 0.8310724637681159}, {'dataset': 'beers', 'experiment': 'pdep', 'run': 4, 'precision': 0.8569701853344077, 'recall': 0.48762035763411277, 'f1': 0.6215663354763296}, {'dataset': 'beers', 'experiment': 'adder', 'run': 4, 'precision': 0.6466559226430298, 'recall': 0.36795048143053644, 'f1': 0.4690239625949737}, {'dataset': 'beers', 'experiment': 'constant', 'run': 4, 'precision': 0.6466559226430298, 'recall': 0.36795048143053644, 'f1': 0.4690239625949737}, {'dataset': 'beers', 'experiment': 'ente', 'run': 4, 'precision': 0.8321050207277753, 'recall': 0.8282897753324163, 'f1': 0.8301930147058822}, {'dataset': 'beers', 'experiment': 'disable_vicinity', 'run': 4, 'precision': 0.8348761571178384, 'recall': 0.7650160476845483, 'f1': 0.7984208637396818}, {'dataset': 'beers', 'experiment': 'pdep', 'run': 5, 'precision': 0.8372787864858653, 'recall': 0.8351673544245759, 'f1': 0.8362217376334213}, {'dataset': 'beers', 'experiment': 'adder', 'run': 5, 'precision': 0.6545621696161802, 'recall': 0.6529115084823476, 'f1': 0.6537357970848158}, {'dataset': 'beers', 'experiment': 'constant', 'run': 5, 'precision': 0.6543323373937026, 'recall': 0.6526822558459422, 'f1': 0.6535062550212326}, {'dataset': 'beers', 'experiment': 'ente', 'run': 5, 'precision': 0.7516099356025759, 'recall': 0.7491976157725814, 'f1': 0.7504018369690011}, {'dataset': 'beers', 'experiment': 'disable_vicinity', 'run': 5, 'precision': 0.8524477131693864, 'recall': 0.8502980284273269, 'f1': 0.8513715138299094}, {'dataset': 'beers', 'experiment': 'pdep', 'run': 6, 'precision': 0.9612648221343874, 'recall': 0.8363136176066025, 'f1': 0.8944464876792938}, {'dataset': 'beers', 'experiment': 'adder', 'run': 6, 'precision': 0.7370223978919631, 'recall': 0.6412196240256763, 'f1': 0.6857913448571779}, {'dataset': 'beers', 'experiment': 'constant', 'run': 6, 'precision': 0.7372166578808645, 'recall': 0.6412196240256763, 'f1': 0.6858754291319274}, {'dataset': 'beers', 'experiment': 'ente', 'run': 6, 'precision': 0.8547382983629237, 'recall': 0.8498395231545163, 'f1': 0.8522818714794805}, {'dataset': 'beers', 'experiment': 'disable_vicinity', 'run': 6, 'precision': 0.9701803051317615, 'recall': 0.9621733149931224, 'f1': 0.9661602209944752}, {'dataset': 'beers', 'experiment': 'pdep', 'run': 7, 'precision': 0.8546049555867228, 'recall': 0.838147638697845, 'f1': 0.8462962962962963}, {'dataset': 'beers', 'experiment': 'adder', 'run': 7, 'precision': 0.8499298737727911, 'recall': 0.8335625859697386, 'f1': 0.8416666666666668}, {'dataset': 'beers', 'experiment': 'constant', 'run': 7, 'precision': 0.8499298737727911, 'recall': 0.8335625859697386, 'f1': 0.8416666666666668}, {'dataset': 'beers', 'experiment': 'ente', 'run': 7, 'precision': 0.8333333333333334, 'recall': 0.8138468592388812, 'f1': 0.8234748318255625}, {'dataset': 'beers', 'experiment': 'disable_vicinity', 'run': 7, 'precision': 0.8291110087517273, 'recall': 0.8253094910591472, 'f1': 0.8272058823529412}, {'dataset': 'beers', 'experiment': 'pdep', 'run': 8, 'precision': 0.8159963014331947, 'recall': 0.8092618065107748, 'f1': 0.8126151012891345}, {'dataset': 'beers', 'experiment': 'adder', 'run': 8, 'precision': 0.6548774849745723, 'recall': 0.6494727189362678, 'f1': 0.6521639042357275}, {'dataset': 'beers', 'experiment': 'constant', 'run': 8, 'precision': 0.6546463245492372, 'recall': 0.6492434662998624, 'f1': 0.6519337016574586}, {'dataset': 'beers', 'experiment': 'ente', 'run': 8, 'precision': 0.8207547169811321, 'recall': 0.8177441540577717, 'f1': 0.8192466697289849}, {'dataset': 'beers', 'experiment': 'disable_vicinity', 'run': 8, 'precision': 0.831874712114233, 'recall': 0.828060522696011, 'f1': 0.8299632352941176}, {'dataset': 'beers', 'experiment': 'pdep', 'run': 9, 'precision': 0.967138402494603, 'recall': 0.9243466299862448, 'f1': 0.945258469112648}, {'dataset': 'beers', 'experiment': 'adder', 'run': 9, 'precision': 0.9793715519309187, 'recall': 0.9360385144429161, 'f1': 0.9572148634392216}, {'dataset': 'beers', 'experiment': 'constant', 'run': 9, 'precision': 0.9793715519309187, 'recall': 0.9360385144429161, 'f1': 0.9572148634392216}, {'dataset': 'beers', 'experiment': 'ente', 'run': 9, 'precision': 0.8452547919588593, 'recall': 0.8289775332416323, 'f1': 0.837037037037037}, {'dataset': 'beers', 'experiment': 'disable_vicinity', 'run': 9, 'precision': 0.8348761571178384, 'recall': 0.7650160476845483, 'f1': 0.7984208637396818}, {'dataset': 'hospital', 'experiment': 'pdep', 'run': 3, 'precision': 0.7033639143730887, 'recall': 0.4518664047151277, 'f1': 0.5502392344497608}, {'dataset': 'hospital', 'experiment': 'adder', 'run': 3, 'precision': 0.7033639143730887, 'recall': 0.4518664047151277, 'f1': 0.5502392344497608}, {'dataset': 'hospital', 'experiment': 'constant', 'run': 3, 'precision': 0.9883720930232558, 'recall': 0.5009823182711198, 'f1': 0.6649282920469362}, {'dataset': 'hospital', 'experiment': 'ente', 'run': 3, 'precision': 0.5381526104417671, 'recall': 0.2632612966601179, 'f1': 0.3535620052770449}, {'dataset': 'hospital', 'experiment': 'disable_vicinity', 'run': 3, 'precision': 0.9795918367346939, 'recall': 0.2829076620825147, 'f1': 0.43902439024390244}, {'dataset': 'hospital', 'experiment': 'pdep', 'run': 4, 'precision': 0.8461538461538461, 'recall': 0.6915520628683693, 'f1': 0.761081081081081}, {'dataset': 'hospital', 'experiment': 'adder', 'run': 4, 'precision': 0.8461538461538461, 'recall': 0.6915520628683693, 'f1': 0.761081081081081}, {'dataset': 'hospital', 'experiment': 'constant', 'run': 4, 'precision': 0.928374655647383, 'recall': 0.6620825147347741, 'f1': 0.7729357798165137}, {'dataset': 'hospital', 'experiment': 'ente', 'run': 4, 'precision': 0.6199095022624435, 'recall': 0.2691552062868369, 'f1': 0.37534246575342467}, {'dataset': 'hospital', 'experiment': 'disable_vicinity', 'run': 4, 'precision': 0.9795918367346939, 'recall': 0.2829076620825147, 'f1': 0.43902439024390244}, {'dataset': 'hospital', 'experiment': 'pdep', 'run': 5, 'precision': 0.8340807174887892, 'recall': 0.730844793713163, 'f1': 0.7790575916230367}, {'dataset': 'hospital', 'experiment': 'adder', 'run': 5, 'precision': 0.8322147651006712, 'recall': 0.730844793713163, 'f1': 0.7782426778242677}, {'dataset': 'hospital', 'experiment': 'constant', 'run': 5, 'precision': 0.912472647702407, 'recall': 0.8192534381139489, 'f1': 0.8633540372670807}, {'dataset': 'hospital', 'experiment': 'ente', 'run': 5, 'precision': 0.78125, 'recall': 0.29469548133595286, 'f1': 0.427960057061341}, {'dataset': 'hospital', 'experiment': 'disable_vicinity', 'run': 5, 'precision': 0.993103448275862, 'recall': 0.2829076620825147, 'f1': 0.44036697247706424}, {'dataset': 'hospital', 'experiment': 'pdep', 'run': 6, 'precision': 0.9877551020408163, 'recall': 0.47544204322200395, 'f1': 0.6419098143236074}, {'dataset': 'hospital', 'experiment': 'adder', 'run': 6, 'precision': 0.9877551020408163, 'recall': 0.47544204322200395, 'f1': 0.6419098143236074}, {'dataset': 'hospital', 'experiment': 'constant', 'run': 6, 'precision': 0.9188311688311688, 'recall': 0.555992141453831, 'f1': 0.6927784577723378}, {'dataset': 'hospital', 'experiment': 'ente', 'run': 6, 'precision': 0.950920245398773, 'recall': 0.3045186640471513, 'f1': 0.46130952380952384}, {'dataset': 'hospital', 'experiment': 'disable_vicinity', 'run': 6, 'precision': 0.690566037735849, 'recall': 0.35952848722986247, 'f1': 0.4728682170542636}, {'dataset': 'hospital', 'experiment': 'pdep', 'run': 7, 'precision': 0.9164420485175202, 'recall': 0.6679764243614931, 'f1': 0.7727272727272727}, {'dataset': 'hospital', 'experiment': 'adder', 'run': 7, 'precision': 0.9139784946236559, 'recall': 0.6679764243614931, 'f1': 0.7718501702610668}, {'dataset': 'hospital', 'experiment': 'constant', 'run': 7, 'precision': 0.8943488943488943, 'recall': 0.7151277013752456, 'f1': 0.794759825327511}, {'dataset': 'hospital', 'experiment': 'ente', 'run': 7, 'precision': 0.6792452830188679, 'recall': 0.2829076620825147, 'f1': 0.3994452149791955}, {'dataset': 'hospital', 'experiment': 'disable_vicinity', 'run': 7, 'precision': 0.993103448275862, 'recall': 0.2829076620825147, 'f1': 0.44036697247706424}, {'dataset': 'hospital', 'experiment': 'pdep', 'run': 8, 'precision': 0.8681948424068768, 'recall': 0.5952848722986247, 'f1': 0.7062937062937062}, {'dataset': 'hospital', 'experiment': 'adder', 'run': 8, 'precision': 0.8681948424068768, 'recall': 0.5952848722986247, 'f1': 0.7062937062937062}, {'dataset': 'hospital', 'experiment': 'constant', 'run': 8, 'precision': 0.9642058165548099, 'recall': 0.8467583497053045, 'f1': 0.901673640167364}, {'dataset': 'hospital', 'experiment': 'ente', 'run': 8, 'precision': 0.6832579185520362, 'recall': 0.2966601178781925, 'f1': 0.4136986301369863}, {'dataset': 'hospital', 'experiment': 'disable_vicinity', 'run': 8, 'precision': 0.6972111553784861, 'recall': 0.343811394891945, 'f1': 0.46052631578947373}, {'dataset': 'hospital', 'experiment': 'pdep', 'run': 9, 'precision': 0.5094339622641509, 'recall': 0.26522593320235754, 'f1': 0.34883720930232553}, {'dataset': 'hospital', 'experiment': 'adder', 'run': 9, 'precision': 0.5094339622641509, 'recall': 0.26522593320235754, 'f1': 0.34883720930232553}, {'dataset': 'hospital', 'experiment': 'constant', 'run': 9, 'precision': 0.5094339622641509, 'recall': 0.26522593320235754, 'f1': 0.34883720930232553}, {'dataset': 'hospital', 'experiment': 'ente', 'run': 9, 'precision': 0.4980237154150198, 'recall': 0.2475442043222004, 'f1': 0.33070866141732286}, {'dataset': 'hospital', 'experiment': 'disable_vicinity', 'run': 9, 'precision': 0.5094339622641509, 'recall': 0.26522593320235754, 'f1': 0.34883720930232553}, {'dataset': 'rayyan', 'experiment': 'pdep', 'run': 3, 'precision': 1.0, 'recall': 0.06434599156118144, 'f1': 0.12091179385530229}, {'dataset': 'rayyan', 'experiment': 'adder', 'run': 3, 'precision': 1.0, 'recall': 0.06434599156118144, 'f1': 0.12091179385530229}, {'dataset': 'rayyan', 'experiment': 'constant', 'run': 3, 'precision': 1.0, 'recall': 0.06434599156118144, 'f1': 0.12091179385530229}, {'dataset': 'rayyan', 'experiment': 'ente', 'run': 3, 'precision': 0.3320754716981132, 'recall': 0.27848101265822783, 'f1': 0.3029259896729776}, {'dataset': 'rayyan', 'experiment': 'disable_vicinity', 'run': 3, 'precision': 0.9693877551020408, 'recall': 0.5010548523206751, 'f1': 0.6606397774687065}, {'dataset': 'rayyan', 'experiment': 'pdep', 'run': 4, 'precision': 0.3119266055045872, 'recall': 0.10759493670886076, 'f1': 0.16}, {'dataset': 'rayyan', 'experiment': 'adder', 'run': 4, 'precision': 0.3119266055045872, 'recall': 0.10759493670886076, 'f1': 0.16}, {'dataset': 'rayyan', 'experiment': 'constant', 'run': 4, 'precision': 0.3469387755102041, 'recall': 0.10759493670886076, 'f1': 0.1642512077294686}, {'dataset': 'rayyan', 'experiment': 'ente', 'run': 4, 'precision': 0.3320754716981132, 'recall': 0.27848101265822783, 'f1': 0.3029259896729776}, {'dataset': 'rayyan', 'experiment': 'disable_vicinity', 'run': 4, 'precision': 0.9891304347826086, 'recall': 0.479957805907173, 'f1': 0.6463068181818182}, {'dataset': 'rayyan', 'experiment': 'pdep', 'run': 5, 'precision': 0.327930174563591, 'recall': 0.27742616033755274, 'f1': 0.3005714285714286}, {'dataset': 'rayyan', 'experiment': 'adder', 'run': 5, 'precision': 0.327930174563591, 'recall': 0.27742616033755274, 'f1': 0.3005714285714286}, {'dataset': 'rayyan', 'experiment': 'constant', 'run': 5, 'precision': 0.3320754716981132, 'recall': 0.27848101265822783, 'f1': 0.3029259896729776}, {'dataset': 'rayyan', 'experiment': 'ente', 'run': 5, 'precision': 0.3320754716981132, 'recall': 0.27848101265822783, 'f1': 0.3029259896729776}, {'dataset': 'rayyan', 'experiment': 'disable_vicinity', 'run': 5, 'precision': 0.3320754716981132, 'recall': 0.27848101265822783, 'f1': 0.3029259896729776}, {'dataset': 'rayyan', 'experiment': 'pdep', 'run': 6, 'precision': 0.773497688751926, 'recall': 0.5295358649789029, 'f1': 0.6286787726988103}, {'dataset': 'rayyan', 'experiment': 'adder', 'run': 6, 'precision': 0.773497688751926, 'recall': 0.5295358649789029, 'f1': 0.6286787726988103}, {'dataset': 'rayyan', 'experiment': 'constant', 'run': 6, 'precision': 0.8243021346469622, 'recall': 0.5295358649789029, 'f1': 0.644829800899165}, {'dataset': 'rayyan', 'experiment': 'ente', 'run': 6, 'precision': 0.3320754716981132, 'recall': 0.27848101265822783, 'f1': 0.3029259896729776}, {'dataset': 'rayyan', 'experiment': 'disable_vicinity', 'run': 6, 'precision': 0.9693877551020408, 'recall': 0.5010548523206751, 'f1': 0.6606397774687065}, {'dataset': 'rayyan', 'experiment': 'pdep', 'run': 7, 'precision': 0.18831168831168832, 'recall': 0.06118143459915612, 'f1': 0.09235668789808918}, {'dataset': 'rayyan', 'experiment': 'adder', 'run': 7, 'precision': 0.18831168831168832, 'recall': 0.06118143459915612, 'f1': 0.09235668789808918}, {'dataset': 'rayyan', 'experiment': 'constant', 'run': 7, 'precision': 0.8550185873605948, 'recall': 0.24261603375527427, 'f1': 0.37797863599013976}, {'dataset': 'rayyan', 'experiment': 'ente', 'run': 7, 'precision': 0.9693877551020408, 'recall': 0.5010548523206751, 'f1': 0.6606397774687065}, {'dataset': 'rayyan', 'experiment': 'disable_vicinity', 'run': 7, 'precision': 0.3320754716981132, 'recall': 0.27848101265822783, 'f1': 0.3029259896729776}, {'dataset': 'rayyan', 'experiment': 'pdep', 'run': 8, 'precision': 0.17446270543615677, 'recall': 0.14556962025316456, 'f1': 0.15871190339275446}, {'dataset': 'rayyan', 'experiment': 'adder', 'run': 8, 'precision': 0.17446270543615677, 'recall': 0.14556962025316456, 'f1': 0.15871190339275446}, {'dataset': 'rayyan', 'experiment': 'constant', 'run': 8, 'precision': 0.18414322250639387, 'recall': 0.1518987341772152, 'f1': 0.1664739884393064}, {'dataset': 'rayyan', 'experiment': 'ente', 'run': 8, 'precision': 0.3320754716981132, 'recall': 0.27848101265822783, 'f1': 0.3029259896729776}, {'dataset': 'rayyan', 'experiment': 'disable_vicinity', 'run': 8, 'precision': 0.3320754716981132, 'recall': 0.27848101265822783, 'f1': 0.3029259896729776}, {'dataset': 'rayyan', 'experiment': 'pdep', 'run': 9, 'precision': 0.19666666666666666, 'recall': 0.06223628691983123, 'f1': 0.09455128205128205}, {'dataset': 'rayyan', 'experiment': 'adder', 'run': 9, 'precision': 0.19666666666666666, 'recall': 0.06223628691983123, 'f1': 0.09455128205128205}, {'dataset': 'rayyan', 'experiment': 'constant', 'run': 9, 'precision': 0.6666666666666666, 'recall': 0.06329113924050633, 'f1': 0.11560693641618497}, {'dataset': 'rayyan', 'experiment': 'ente', 'run': 9, 'precision': 0.9693877551020408, 'recall': 0.5010548523206751, 'f1': 0.6606397774687065}, {'dataset': 'rayyan', 'experiment': 'disable_vicinity', 'run': 9, 'precision': 0.9891304347826086, 'recall': 0.479957805907173, 'f1': 0.6463068181818182}, {'dataset': 'flights', 'experiment': 'pdep', 'run': 3, 'precision': 1.0, 'recall': 1.0, 'f1': 1.0}, {'dataset': 'flights', 'experiment': 'adder', 'run': 3, 'precision': 1.0, 'recall': 1.0, 'f1': 1.0}, {'dataset': 'flights', 'experiment': 'constant', 'run': 3, 'precision': 1.0, 'recall': 1.0, 'f1': 1.0}, {'dataset': 'flights', 'experiment': 'ente', 'run': 3, 'precision': 0.05617214043035108, 'recall': 0.05040650406504065, 'f1': 0.053133369041242634}, {'dataset': 'flights', 'experiment': 'disable_vicinity', 'run': 3, 'precision': 0.06546990496304118, 'recall': 0.05040650406504065, 'f1': 0.05695911805236565}, {'dataset': 'flights', 'experiment': 'pdep', 'run': 4, 'precision': 1.0, 'recall': 1.0, 'f1': 1.0}, {'dataset': 'flights', 'experiment': 'adder', 'run': 4, 'precision': 1.0, 'recall': 1.0, 'f1': 1.0}, {'dataset': 'flights', 'experiment': 'constant', 'run': 4, 'precision': 1.0, 'recall': 1.0, 'f1': 1.0}, {'dataset': 'flights', 'experiment': 'ente', 'run': 4, 'precision': 0.08799048751486326, 'recall': 0.045121951219512194, 'f1': 0.0596533655783958}, {'dataset': 'flights', 'experiment': 'disable_vicinity', 'run': 4, 'precision': 0.08799048751486326, 'recall': 0.045121951219512194, 'f1': 0.0596533655783958}, {'dataset': 'flights', 'experiment': 'pdep', 'run': 5, 'precision': 0.4, 'recall': 0.24552845528455283, 'f1': 0.3042821158690176}, {'dataset': 'flights', 'experiment': 'adder', 'run': 5, 'precision': 0.4, 'recall': 0.24552845528455283, 'f1': 0.3042821158690176}, {'dataset': 'flights', 'experiment': 'constant', 'run': 5, 'precision': 0.4, 'recall': 0.24552845528455283, 'f1': 0.3042821158690176}, {'dataset': 'flights', 'experiment': 'ente', 'run': 5, 'precision': 0.05418943533697632, 'recall': 0.048373983739837395, 'f1': 0.05111683848797251}, {'dataset': 'flights', 'experiment': 'disable_vicinity', 'run': 5, 'precision': 0.05418943533697632, 'recall': 0.048373983739837395, 'f1': 0.05111683848797251}, {'dataset': 'flights', 'experiment': 'pdep', 'run': 6, 'precision': 1.0, 'recall': 0.3024390243902439, 'f1': 0.4644194756554307}, {'dataset': 'flights', 'experiment': 'adder', 'run': 6, 'precision': 1.0, 'recall': 0.3024390243902439, 'f1': 0.4644194756554307}, {'dataset': 'flights', 'experiment': 'constant', 'run': 6, 'precision': 1.0, 'recall': 0.3024390243902439, 'f1': 0.4644194756554307}, {'dataset': 'flights', 'experiment': 'ente', 'run': 6, 'precision': 0.085680285600952, 'recall': 0.04390243902439024, 'f1': 0.05805671280741835}, {'dataset': 'flights', 'experiment': 'disable_vicinity', 'run': 6, 'precision': 0.05402951191827469, 'recall': 0.048373983739837395, 'f1': 0.051045576407506704}, {'dataset': 'flights', 'experiment': 'pdep', 'run': 7, 'precision': 0.40496688741721854, 'recall': 0.2485772357723577, 'f1': 0.3080604534005038}, {'dataset': 'flights', 'experiment': 'adder', 'run': 7, 'precision': 0.40496688741721854, 'recall': 0.2485772357723577, 'f1': 0.3080604534005038}, {'dataset': 'flights', 'experiment': 'constant', 'run': 7, 'precision': 0.40496688741721854, 'recall': 0.2485772357723577, 'f1': 0.3080604534005038}, {'dataset': 'flights', 'experiment': 'ente', 'run': 7, 'precision': 0.057363988162986566, 'recall': 0.05121951219512195, 'f1': 0.05411789971008268}, {'dataset': 'flights', 'experiment': 'disable_vicinity', 'run': 7, 'precision': 0.057363988162986566, 'recall': 0.05121951219512195, 'f1': 0.05411789971008268}, {'dataset': 'flights', 'experiment': 'pdep', 'run': 8, 'precision': 1.0, 'recall': 1.0, 'f1': 1.0}, {'dataset': 'flights', 'experiment': 'adder', 'run': 8, 'precision': 1.0, 'recall': 1.0, 'f1': 1.0}, {'dataset': 'flights', 'experiment': 'constant', 'run': 8, 'precision': 1.0, 'recall': 1.0, 'f1': 1.0}, {'dataset': 'flights', 'experiment': 'ente', 'run': 8, 'precision': 0.05670220004536176, 'recall': 0.0508130081300813, 'f1': 0.05359631257369493}, {'dataset': 'flights', 'experiment': 'disable_vicinity', 'run': 8, 'precision': 0.06978798586572438, 'recall': 0.048170731707317074, 'f1': 0.056998556998557}, {'dataset': 'flights', 'experiment': 'pdep', 'run': 9, 'precision': 1.0, 'recall': 1.0, 'f1': 1.0}, {'dataset': 'flights', 'experiment': 'adder', 'run': 9, 'precision': 1.0, 'recall': 1.0, 'f1': 1.0}, {'dataset': 'flights', 'experiment': 'constant', 'run': 9, 'precision': 1.0, 'recall': 1.0, 'f1': 1.0}, {'dataset': 'flights', 'experiment': 'ente', 'run': 9, 'precision': 0.085680285600952, 'recall': 0.04390243902439024, 'f1': 0.05805671280741835}, {'dataset': 'flights', 'experiment': 'disable_vicinity', 'run': 9, 'precision': 0.05373406193078324, 'recall': 0.04796747967479675, 'f1': 0.0506872852233677}]\n"
     ]
    }
   ],
   "source": [
    "print(results)"
   ]
  }
 ],
 "metadata": {
  "kernelspec": {
   "display_name": "Python 3 (ipykernel)",
   "language": "python",
   "name": "python3"
  },
  "language_info": {
   "codemirror_mode": {
    "name": "ipython",
    "version": 3
   },
   "file_extension": ".py",
   "mimetype": "text/x-python",
   "name": "python",
   "nbconvert_exporter": "python",
   "pygments_lexer": "ipython3",
   "version": "3.7.10"
  }
 },
 "nbformat": 4,
 "nbformat_minor": 4
}
